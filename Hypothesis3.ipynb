{
 "cells": [
  {
   "cell_type": "markdown",
   "metadata": {
    "collapsed": true,
    "pycharm": {
     "name": "#%% md\n"
    }
   },
   "source": [
    "# Hypothesis3：\n",
    "# We expect there is a strong positive correlation between the number of electric and plug-in hybrid vehicles sold compared to the number of public charging stations in the same region."
   ]
  },
  {
   "cell_type": "markdown",
   "source": [
    "### In Hypothesis 3, after the analysis of the previous Hypothesis 2, we want to continue to explore what factors are related to the number of electric vehicles. We first think of the number of charging piles, because the density of charging piles determines the difficulty of charging electric vehicles in this area. Therefore, we think that the number of charging piles will affect the development of electric vehicles in a region. Therefore, we use univariate linear regression to analyze the linear relationship between these two variables."
   ],
   "metadata": {
    "collapsed": false,
    "pycharm": {
     "name": "#%% md\n"
    }
   }
  },
  {
   "cell_type": "code",
   "execution_count": 1,
   "outputs": [],
   "source": [
    "import pandas as pd\n",
    "from pandas import DataFrame\n",
    "import os.path\n",
    "import matplotlib.pyplot as plt\n",
    "from pylab import *\n",
    "from sklearn.linear_model import LinearRegression\n",
    "import numpy as np\n",
    "import seaborn as sns\n",
    "import doctest"
   ],
   "metadata": {
    "collapsed": false,
    "pycharm": {
     "name": "#%%\n"
    }
   }
  },
  {
   "cell_type": "code",
   "execution_count": 2,
   "outputs": [
    {
     "data": {
      "text/plain": "<module 'datatool' from '/Users/hyc/22 Spring/2022Spring_Finals_EV/datatool.py'>"
     },
     "execution_count": 2,
     "metadata": {},
     "output_type": "execute_result"
    }
   ],
   "source": [
    "from datatool import *\n",
    "import datatool\n",
    "from imp import reload\n",
    "reload(datatool)"
   ],
   "metadata": {
    "collapsed": false,
    "pycharm": {
     "name": "#%%\n"
    }
   }
  },
  {
   "cell_type": "code",
   "execution_count": 3,
   "outputs": [],
   "source": [
    "download_file('wa_ev_registrations_public', 'https://www.atlasevhub.com/public/dmv/wa_ev_registrations_public.csv')\n",
    "download_file('ny_ev_registrations_public', 'https://www.atlasevhub.com/public/dmv/ny_ev_registrations_public.csv')\n",
    "download_file('tx_ev_registrations_public', 'https://www.atlasevhub.com/public/dmv/tx_ev_registrations_public.csv')\n",
    "download_file('ev_stations_v1', 'https://www.kaggle.com/datasets/prasertk/electric-vehicle-charging-stations-in-usa/download')\n",
    "download_file('uszips', 'https://simplemaps.com/static/data/us-zips/1.80/basic/simplemaps_uszips_basicv1.80.zip')"
   ],
   "metadata": {
    "collapsed": false,
    "pycharm": {
     "name": "#%%\n"
    }
   }
  },
  {
   "cell_type": "markdown",
   "source": [
    "## US Population in Each Zip"
   ],
   "metadata": {
    "collapsed": false,
    "pycharm": {
     "name": "#%% md\n"
    }
   }
  },
  {
   "cell_type": "code",
   "execution_count": 4,
   "outputs": [],
   "source": [
    "us_zip_df = pd.read_csv('data/uszips.csv')"
   ],
   "metadata": {
    "collapsed": false,
    "pycharm": {
     "name": "#%%\n"
    }
   }
  },
  {
   "cell_type": "code",
   "execution_count": 5,
   "outputs": [],
   "source": [
    "us_zip_df = DataFrame(us_zip_df)"
   ],
   "metadata": {
    "collapsed": false,
    "pycharm": {
     "name": "#%%\n"
    }
   }
  },
  {
   "cell_type": "code",
   "execution_count": 6,
   "outputs": [],
   "source": [
    "us_zip_df = us_zip_df[['zip','state_id','population']]"
   ],
   "metadata": {
    "collapsed": false,
    "pycharm": {
     "name": "#%%\n"
    }
   }
  },
  {
   "cell_type": "markdown",
   "source": [
    "NY Population in Each Zip"
   ],
   "metadata": {
    "collapsed": false,
    "pycharm": {
     "name": "#%% md\n"
    }
   }
  },
  {
   "cell_type": "code",
   "execution_count": 7,
   "outputs": [],
   "source": [
    "us_zip_df_ny = us_zip_df[us_zip_df['state_id'] == 'NY']"
   ],
   "metadata": {
    "collapsed": false,
    "pycharm": {
     "name": "#%%\n"
    }
   }
  },
  {
   "cell_type": "code",
   "execution_count": 8,
   "outputs": [],
   "source": [
    "us_zip_df_ny = us_zip_df_ny[['zip','population']]"
   ],
   "metadata": {
    "collapsed": false,
    "pycharm": {
     "name": "#%%\n"
    }
   }
  },
  {
   "cell_type": "code",
   "execution_count": 9,
   "outputs": [],
   "source": [
    "us_zip_df_ny = us_zip_df_ny.rename(columns={'zip':'ZIP Code'})"
   ],
   "metadata": {
    "collapsed": false,
    "pycharm": {
     "name": "#%%\n"
    }
   }
  },
  {
   "cell_type": "markdown",
   "source": [
    "TX Population in Each Zip"
   ],
   "metadata": {
    "collapsed": false,
    "pycharm": {
     "name": "#%% md\n"
    }
   }
  },
  {
   "cell_type": "code",
   "source": [
    "us_zip_df_tx = us_zip_df[us_zip_df['state_id'] == 'TX']"
   ],
   "metadata": {
    "collapsed": false,
    "pycharm": {
     "name": "#%%\n"
    }
   },
   "execution_count": 10,
   "outputs": []
  },
  {
   "cell_type": "code",
   "execution_count": 11,
   "outputs": [],
   "source": [
    "us_zip_df_tx = us_zip_df_tx[['zip', 'population']]\n",
    "us_zip_df_tx = us_zip_df_tx.rename(columns={'zip':'ZIP Code'})"
   ],
   "metadata": {
    "collapsed": false,
    "pycharm": {
     "name": "#%%\n"
    }
   }
  },
  {
   "cell_type": "code",
   "execution_count": 12,
   "outputs": [],
   "source": [
    "us_zip_df_tx = us_zip_df_tx.fillna(0)"
   ],
   "metadata": {
    "collapsed": false,
    "pycharm": {
     "name": "#%%\n"
    }
   }
  },
  {
   "cell_type": "markdown",
   "source": [
    "WA Population in Each Zip"
   ],
   "metadata": {
    "collapsed": false,
    "pycharm": {
     "name": "#%% md\n"
    }
   }
  },
  {
   "cell_type": "code",
   "source": [
    "us_zip_df_wa = us_zip_df[us_zip_df['state_id'] == 'WA']"
   ],
   "metadata": {
    "collapsed": false,
    "pycharm": {
     "name": "#%%\n"
    }
   },
   "execution_count": 13,
   "outputs": []
  },
  {
   "cell_type": "code",
   "execution_count": 14,
   "outputs": [],
   "source": [
    "us_zip_df_wa = us_zip_df_wa[['zip', 'population']]\n",
    "us_zip_df_wa = us_zip_df_wa.rename(columns={'zip':'ZIP Code'})\n"
   ],
   "metadata": {
    "collapsed": false,
    "pycharm": {
     "name": "#%%\n"
    }
   }
  },
  {
   "cell_type": "code",
   "execution_count": 15,
   "outputs": [],
   "source": [
    "us_zip_df_wa = us_zip_df_wa.fillna(0)"
   ],
   "metadata": {
    "collapsed": false,
    "pycharm": {
     "name": "#%%\n"
    }
   }
  },
  {
   "cell_type": "markdown",
   "source": [
    "## Ev Station Count in Each Zip Code"
   ],
   "metadata": {
    "collapsed": false,
    "pycharm": {
     "name": "#%% md\n"
    }
   }
  },
  {
   "cell_type": "code",
   "source": [
    "ev_station_data = pd.read_csv('data/ev_stations_v1.csv')\n",
    "ev_station_data = DataFrame(ev_station_data)"
   ],
   "metadata": {
    "collapsed": false,
    "pycharm": {
     "name": "#%%\n"
    }
   },
   "execution_count": 16,
   "outputs": [
    {
     "name": "stderr",
     "output_type": "stream",
     "text": [
      "/Users/hyc/opt/anaconda3/lib/python3.9/site-packages/IPython/core/interactiveshell.py:3444: DtypeWarning: Columns (6,20) have mixed types.Specify dtype option on import or set low_memory=False.\n",
      "  exec(code_obj, self.user_global_ns, self.user_ns)\n"
     ]
    }
   ]
  },
  {
   "cell_type": "code",
   "execution_count": 17,
   "outputs": [
    {
     "data": {
      "text/plain": "  Fuel Type Code                       Station Name         Street Address  \\\n0           ELEC           LADWP - Truesdale Center     11797 Truesdale St   \n1           ELEC    LADWP - West LA District Office  1394 S Sepulveda Blvd   \n2           ELEC      Los Angeles Convention Center     1201 S Figueroa St   \n3           ELEC      LADWP - John Ferraro Building          111 N Hope St   \n4           ELEC         LADWP - Haynes Power Plant          6801 E 2nd St   \n5           ELEC       State Capitol Parking Garage           1303 10th St   \n6           ELEC  LADWP - Harbor Generating Station       161 N Island Ave   \n7           ELEC                LADWP - Sylmar West   13201 Sepulveda Blvd   \n8           ELEC          LADWP - EV Service Center         1630 N Main St   \n9           ELEC             LADWP - Fairfax Center     2311 S Fairfax Ave   \n\n    Intersection Directions         City State    ZIP  Plus4 Station Phone  \\\n0                       NaN   Sun Valley    CA  91352    NaN           NaN   \n1                       NaN  Los Angeles    CA  90024    NaN           NaN   \n2  West hall and South hall  Los Angeles    CA  90015    NaN  213-741-1151   \n3               Across Hope  Los Angeles    CA  90012    NaN           NaN   \n4                       NaN   Long Beach    CA  90803    NaN           NaN   \n5          At 12th and N St   Sacramento    CA  95814    NaN           NaN   \n6                   At B St   Wilmington    CA  90744    NaN           NaN   \n7                       NaN       Sylmar    CA  91342    NaN           NaN   \n8                       NaN  Los Angeles    CA  90012    NaN           NaN   \n9                       NaN  Los Angeles    CA  90016    NaN           NaN   \n\n  Status Code  ... EV Pricing (French) LPG Nozzle Types Hydrogen Pressures  \\\n0           E  ...                 NaN              NaN                NaN   \n1           E  ...                 NaN              NaN                NaN   \n2           E  ...                 NaN              NaN                NaN   \n3           E  ...                 NaN              NaN                NaN   \n4           E  ...                 NaN              NaN                NaN   \n5           E  ...                 NaN              NaN                NaN   \n6           E  ...                 NaN              NaN                NaN   \n7           E  ...                 NaN              NaN                NaN   \n8           E  ...                 NaN              NaN                NaN   \n9           E  ...                 NaN              NaN                NaN   \n\n  Hydrogen Standards  CNG Fill Type Code  CNG PSI  CNG Vehicle Class  \\\n0                NaN                 NaN      NaN                NaN   \n1                NaN                 NaN      NaN                NaN   \n2                NaN                 NaN      NaN                NaN   \n3                NaN                 NaN      NaN                NaN   \n4                NaN                 NaN      NaN                NaN   \n5                NaN                 NaN      NaN                NaN   \n6                NaN                 NaN      NaN                NaN   \n7                NaN                 NaN      NaN                NaN   \n8                NaN                 NaN      NaN                NaN   \n9                NaN                 NaN      NaN                NaN   \n\n   LNG Vehicle Class  EV On-Site Renewable Source  Restricted Access  \n0                NaN                          NaN                NaN  \n1                NaN                          NaN                NaN  \n2                NaN                          NaN                NaN  \n3                NaN                          NaN                NaN  \n4                NaN                          NaN                NaN  \n5                NaN                          NaN                NaN  \n6                NaN                          NaN                NaN  \n7                NaN                          NaN                NaN  \n8                NaN                          NaN                NaN  \n9                NaN                          NaN                NaN  \n\n[10 rows x 65 columns]",
      "text/html": "<div>\n<style scoped>\n    .dataframe tbody tr th:only-of-type {\n        vertical-align: middle;\n    }\n\n    .dataframe tbody tr th {\n        vertical-align: top;\n    }\n\n    .dataframe thead th {\n        text-align: right;\n    }\n</style>\n<table border=\"1\" class=\"dataframe\">\n  <thead>\n    <tr style=\"text-align: right;\">\n      <th></th>\n      <th>Fuel Type Code</th>\n      <th>Station Name</th>\n      <th>Street Address</th>\n      <th>Intersection Directions</th>\n      <th>City</th>\n      <th>State</th>\n      <th>ZIP</th>\n      <th>Plus4</th>\n      <th>Station Phone</th>\n      <th>Status Code</th>\n      <th>...</th>\n      <th>EV Pricing (French)</th>\n      <th>LPG Nozzle Types</th>\n      <th>Hydrogen Pressures</th>\n      <th>Hydrogen Standards</th>\n      <th>CNG Fill Type Code</th>\n      <th>CNG PSI</th>\n      <th>CNG Vehicle Class</th>\n      <th>LNG Vehicle Class</th>\n      <th>EV On-Site Renewable Source</th>\n      <th>Restricted Access</th>\n    </tr>\n  </thead>\n  <tbody>\n    <tr>\n      <th>0</th>\n      <td>ELEC</td>\n      <td>LADWP - Truesdale Center</td>\n      <td>11797 Truesdale St</td>\n      <td>NaN</td>\n      <td>Sun Valley</td>\n      <td>CA</td>\n      <td>91352</td>\n      <td>NaN</td>\n      <td>NaN</td>\n      <td>E</td>\n      <td>...</td>\n      <td>NaN</td>\n      <td>NaN</td>\n      <td>NaN</td>\n      <td>NaN</td>\n      <td>NaN</td>\n      <td>NaN</td>\n      <td>NaN</td>\n      <td>NaN</td>\n      <td>NaN</td>\n      <td>NaN</td>\n    </tr>\n    <tr>\n      <th>1</th>\n      <td>ELEC</td>\n      <td>LADWP - West LA District Office</td>\n      <td>1394 S Sepulveda Blvd</td>\n      <td>NaN</td>\n      <td>Los Angeles</td>\n      <td>CA</td>\n      <td>90024</td>\n      <td>NaN</td>\n      <td>NaN</td>\n      <td>E</td>\n      <td>...</td>\n      <td>NaN</td>\n      <td>NaN</td>\n      <td>NaN</td>\n      <td>NaN</td>\n      <td>NaN</td>\n      <td>NaN</td>\n      <td>NaN</td>\n      <td>NaN</td>\n      <td>NaN</td>\n      <td>NaN</td>\n    </tr>\n    <tr>\n      <th>2</th>\n      <td>ELEC</td>\n      <td>Los Angeles Convention Center</td>\n      <td>1201 S Figueroa St</td>\n      <td>West hall and South hall</td>\n      <td>Los Angeles</td>\n      <td>CA</td>\n      <td>90015</td>\n      <td>NaN</td>\n      <td>213-741-1151</td>\n      <td>E</td>\n      <td>...</td>\n      <td>NaN</td>\n      <td>NaN</td>\n      <td>NaN</td>\n      <td>NaN</td>\n      <td>NaN</td>\n      <td>NaN</td>\n      <td>NaN</td>\n      <td>NaN</td>\n      <td>NaN</td>\n      <td>NaN</td>\n    </tr>\n    <tr>\n      <th>3</th>\n      <td>ELEC</td>\n      <td>LADWP - John Ferraro Building</td>\n      <td>111 N Hope St</td>\n      <td>Across Hope</td>\n      <td>Los Angeles</td>\n      <td>CA</td>\n      <td>90012</td>\n      <td>NaN</td>\n      <td>NaN</td>\n      <td>E</td>\n      <td>...</td>\n      <td>NaN</td>\n      <td>NaN</td>\n      <td>NaN</td>\n      <td>NaN</td>\n      <td>NaN</td>\n      <td>NaN</td>\n      <td>NaN</td>\n      <td>NaN</td>\n      <td>NaN</td>\n      <td>NaN</td>\n    </tr>\n    <tr>\n      <th>4</th>\n      <td>ELEC</td>\n      <td>LADWP - Haynes Power Plant</td>\n      <td>6801 E 2nd St</td>\n      <td>NaN</td>\n      <td>Long Beach</td>\n      <td>CA</td>\n      <td>90803</td>\n      <td>NaN</td>\n      <td>NaN</td>\n      <td>E</td>\n      <td>...</td>\n      <td>NaN</td>\n      <td>NaN</td>\n      <td>NaN</td>\n      <td>NaN</td>\n      <td>NaN</td>\n      <td>NaN</td>\n      <td>NaN</td>\n      <td>NaN</td>\n      <td>NaN</td>\n      <td>NaN</td>\n    </tr>\n    <tr>\n      <th>5</th>\n      <td>ELEC</td>\n      <td>State Capitol Parking Garage</td>\n      <td>1303 10th St</td>\n      <td>At 12th and N St</td>\n      <td>Sacramento</td>\n      <td>CA</td>\n      <td>95814</td>\n      <td>NaN</td>\n      <td>NaN</td>\n      <td>E</td>\n      <td>...</td>\n      <td>NaN</td>\n      <td>NaN</td>\n      <td>NaN</td>\n      <td>NaN</td>\n      <td>NaN</td>\n      <td>NaN</td>\n      <td>NaN</td>\n      <td>NaN</td>\n      <td>NaN</td>\n      <td>NaN</td>\n    </tr>\n    <tr>\n      <th>6</th>\n      <td>ELEC</td>\n      <td>LADWP - Harbor Generating Station</td>\n      <td>161 N Island Ave</td>\n      <td>At B St</td>\n      <td>Wilmington</td>\n      <td>CA</td>\n      <td>90744</td>\n      <td>NaN</td>\n      <td>NaN</td>\n      <td>E</td>\n      <td>...</td>\n      <td>NaN</td>\n      <td>NaN</td>\n      <td>NaN</td>\n      <td>NaN</td>\n      <td>NaN</td>\n      <td>NaN</td>\n      <td>NaN</td>\n      <td>NaN</td>\n      <td>NaN</td>\n      <td>NaN</td>\n    </tr>\n    <tr>\n      <th>7</th>\n      <td>ELEC</td>\n      <td>LADWP - Sylmar West</td>\n      <td>13201 Sepulveda Blvd</td>\n      <td>NaN</td>\n      <td>Sylmar</td>\n      <td>CA</td>\n      <td>91342</td>\n      <td>NaN</td>\n      <td>NaN</td>\n      <td>E</td>\n      <td>...</td>\n      <td>NaN</td>\n      <td>NaN</td>\n      <td>NaN</td>\n      <td>NaN</td>\n      <td>NaN</td>\n      <td>NaN</td>\n      <td>NaN</td>\n      <td>NaN</td>\n      <td>NaN</td>\n      <td>NaN</td>\n    </tr>\n    <tr>\n      <th>8</th>\n      <td>ELEC</td>\n      <td>LADWP - EV Service Center</td>\n      <td>1630 N Main St</td>\n      <td>NaN</td>\n      <td>Los Angeles</td>\n      <td>CA</td>\n      <td>90012</td>\n      <td>NaN</td>\n      <td>NaN</td>\n      <td>E</td>\n      <td>...</td>\n      <td>NaN</td>\n      <td>NaN</td>\n      <td>NaN</td>\n      <td>NaN</td>\n      <td>NaN</td>\n      <td>NaN</td>\n      <td>NaN</td>\n      <td>NaN</td>\n      <td>NaN</td>\n      <td>NaN</td>\n    </tr>\n    <tr>\n      <th>9</th>\n      <td>ELEC</td>\n      <td>LADWP - Fairfax Center</td>\n      <td>2311 S Fairfax Ave</td>\n      <td>NaN</td>\n      <td>Los Angeles</td>\n      <td>CA</td>\n      <td>90016</td>\n      <td>NaN</td>\n      <td>NaN</td>\n      <td>E</td>\n      <td>...</td>\n      <td>NaN</td>\n      <td>NaN</td>\n      <td>NaN</td>\n      <td>NaN</td>\n      <td>NaN</td>\n      <td>NaN</td>\n      <td>NaN</td>\n      <td>NaN</td>\n      <td>NaN</td>\n      <td>NaN</td>\n    </tr>\n  </tbody>\n</table>\n<p>10 rows × 65 columns</p>\n</div>"
     },
     "execution_count": 17,
     "metadata": {},
     "output_type": "execute_result"
    }
   ],
   "source": [
    "ev_station_data.head(10)"
   ],
   "metadata": {
    "collapsed": false,
    "pycharm": {
     "name": "#%%\n"
    }
   }
  },
  {
   "cell_type": "code",
   "execution_count": 18,
   "outputs": [
    {
     "data": {
      "text/plain": "CA    14651\nNY     2977\nFL     2665\nTX     2319\nMA     2198\nWA     1775\nCO     1627\nGA     1588\nMD     1263\nPA     1166\nVA     1142\nNC     1124\nIL     1068\nMO     1053\nOR      992\nOH      976\nUT      908\nAZ      890\nMI      831\nNJ      749\nTN      683\nMN      583\nCT      533\nKS      494\nWI      479\nNV      458\nSC      391\nHI      386\nIN      354\nVT      331\nOK      314\nME      302\nDC      292\nIA      284\nAL      278\nRI      257\nKY      225\nNM      191\nNE      177\nNH      166\nAR      165\nLA      158\nID      138\nDE      133\nMS      115\nWV      111\nMT       80\nWY       70\nND       61\nSD       58\nAK       53\nPR        5\nON        2\nName: State, dtype: int64"
     },
     "execution_count": 18,
     "metadata": {},
     "output_type": "execute_result"
    }
   ],
   "source": [
    "ev_station_data.loc[:,'State'].value_counts()"
   ],
   "metadata": {
    "collapsed": false,
    "pycharm": {
     "name": "#%%\n"
    }
   }
  },
  {
   "cell_type": "code",
   "execution_count": 19,
   "outputs": [
    {
     "data": {
      "text/plain": "      ZIP Code  Count\n0        94025    259\n1        95054    235\n2        92618    134\n3        94080    115\n4        94025    113\n...        ...    ...\n13576    72076      1\n13577    14530      1\n13578    22963      1\n13579    32433      1\n13580    29349      1\n\n[13581 rows x 2 columns]",
      "text/html": "<div>\n<style scoped>\n    .dataframe tbody tr th:only-of-type {\n        vertical-align: middle;\n    }\n\n    .dataframe tbody tr th {\n        vertical-align: top;\n    }\n\n    .dataframe thead th {\n        text-align: right;\n    }\n</style>\n<table border=\"1\" class=\"dataframe\">\n  <thead>\n    <tr style=\"text-align: right;\">\n      <th></th>\n      <th>ZIP Code</th>\n      <th>Count</th>\n    </tr>\n  </thead>\n  <tbody>\n    <tr>\n      <th>0</th>\n      <td>94025</td>\n      <td>259</td>\n    </tr>\n    <tr>\n      <th>1</th>\n      <td>95054</td>\n      <td>235</td>\n    </tr>\n    <tr>\n      <th>2</th>\n      <td>92618</td>\n      <td>134</td>\n    </tr>\n    <tr>\n      <th>3</th>\n      <td>94080</td>\n      <td>115</td>\n    </tr>\n    <tr>\n      <th>4</th>\n      <td>94025</td>\n      <td>113</td>\n    </tr>\n    <tr>\n      <th>...</th>\n      <td>...</td>\n      <td>...</td>\n    </tr>\n    <tr>\n      <th>13576</th>\n      <td>72076</td>\n      <td>1</td>\n    </tr>\n    <tr>\n      <th>13577</th>\n      <td>14530</td>\n      <td>1</td>\n    </tr>\n    <tr>\n      <th>13578</th>\n      <td>22963</td>\n      <td>1</td>\n    </tr>\n    <tr>\n      <th>13579</th>\n      <td>32433</td>\n      <td>1</td>\n    </tr>\n    <tr>\n      <th>13580</th>\n      <td>29349</td>\n      <td>1</td>\n    </tr>\n  </tbody>\n</table>\n<p>13581 rows × 2 columns</p>\n</div>"
     },
     "execution_count": 19,
     "metadata": {},
     "output_type": "execute_result"
    }
   ],
   "source": [
    "ev_station_count_df(ev_station_data,'All')"
   ],
   "metadata": {
    "collapsed": false,
    "pycharm": {
     "name": "#%%\n"
    }
   }
  },
  {
   "cell_type": "markdown",
   "source": [
    "New York State EV Station data"
   ],
   "metadata": {
    "collapsed": false,
    "pycharm": {
     "name": "#%% md\n"
    }
   }
  },
  {
   "cell_type": "code",
   "source": [
    "ev_station_count_df(ev_station_data,'NY')"
   ],
   "metadata": {
    "collapsed": false,
    "pycharm": {
     "name": "#%%\n"
    }
   },
   "execution_count": 20,
   "outputs": [
    {
     "data": {
      "text/plain": "    ZIP Code  Count\n0      12866     50\n1      14203     30\n2      14623     26\n3      14850     24\n4      12401     24\n..       ...    ...\n919    13339      1\n920    13669      1\n921    12043      1\n922    12165      1\n923    14009      1\n\n[924 rows x 2 columns]",
      "text/html": "<div>\n<style scoped>\n    .dataframe tbody tr th:only-of-type {\n        vertical-align: middle;\n    }\n\n    .dataframe tbody tr th {\n        vertical-align: top;\n    }\n\n    .dataframe thead th {\n        text-align: right;\n    }\n</style>\n<table border=\"1\" class=\"dataframe\">\n  <thead>\n    <tr style=\"text-align: right;\">\n      <th></th>\n      <th>ZIP Code</th>\n      <th>Count</th>\n    </tr>\n  </thead>\n  <tbody>\n    <tr>\n      <th>0</th>\n      <td>12866</td>\n      <td>50</td>\n    </tr>\n    <tr>\n      <th>1</th>\n      <td>14203</td>\n      <td>30</td>\n    </tr>\n    <tr>\n      <th>2</th>\n      <td>14623</td>\n      <td>26</td>\n    </tr>\n    <tr>\n      <th>3</th>\n      <td>14850</td>\n      <td>24</td>\n    </tr>\n    <tr>\n      <th>4</th>\n      <td>12401</td>\n      <td>24</td>\n    </tr>\n    <tr>\n      <th>...</th>\n      <td>...</td>\n      <td>...</td>\n    </tr>\n    <tr>\n      <th>919</th>\n      <td>13339</td>\n      <td>1</td>\n    </tr>\n    <tr>\n      <th>920</th>\n      <td>13669</td>\n      <td>1</td>\n    </tr>\n    <tr>\n      <th>921</th>\n      <td>12043</td>\n      <td>1</td>\n    </tr>\n    <tr>\n      <th>922</th>\n      <td>12165</td>\n      <td>1</td>\n    </tr>\n    <tr>\n      <th>923</th>\n      <td>14009</td>\n      <td>1</td>\n    </tr>\n  </tbody>\n</table>\n<p>924 rows × 2 columns</p>\n</div>"
     },
     "execution_count": 20,
     "metadata": {},
     "output_type": "execute_result"
    }
   ]
  },
  {
   "cell_type": "code",
   "execution_count": 21,
   "outputs": [],
   "source": [
    "ev_station_count_ny = ev_station_count_df(ev_station_data,'NY')"
   ],
   "metadata": {
    "collapsed": false,
    "pycharm": {
     "name": "#%%\n"
    }
   }
  },
  {
   "cell_type": "markdown",
   "source": [
    " Texas State EV Station data"
   ],
   "metadata": {
    "collapsed": false,
    "pycharm": {
     "name": "#%% md\n"
    }
   }
  },
  {
   "cell_type": "code",
   "source": [
    "ev_station_count_tx = ev_station_count_df(ev_station_data,'TX')"
   ],
   "metadata": {
    "collapsed": false,
    "pycharm": {
     "name": "#%%\n"
    }
   },
   "execution_count": 22,
   "outputs": []
  },
  {
   "cell_type": "code",
   "execution_count": 23,
   "outputs": [
    {
     "data": {
      "text/plain": "    ZIP Code  Count\n0      78701     43\n1      76155     34\n2      77002     27\n3      75201     26\n4      77004     26\n..       ...    ...\n739    75207      1\n740    75672      1\n741    78504      1\n742    77802      1\n743    76825      1\n\n[744 rows x 2 columns]",
      "text/html": "<div>\n<style scoped>\n    .dataframe tbody tr th:only-of-type {\n        vertical-align: middle;\n    }\n\n    .dataframe tbody tr th {\n        vertical-align: top;\n    }\n\n    .dataframe thead th {\n        text-align: right;\n    }\n</style>\n<table border=\"1\" class=\"dataframe\">\n  <thead>\n    <tr style=\"text-align: right;\">\n      <th></th>\n      <th>ZIP Code</th>\n      <th>Count</th>\n    </tr>\n  </thead>\n  <tbody>\n    <tr>\n      <th>0</th>\n      <td>78701</td>\n      <td>43</td>\n    </tr>\n    <tr>\n      <th>1</th>\n      <td>76155</td>\n      <td>34</td>\n    </tr>\n    <tr>\n      <th>2</th>\n      <td>77002</td>\n      <td>27</td>\n    </tr>\n    <tr>\n      <th>3</th>\n      <td>75201</td>\n      <td>26</td>\n    </tr>\n    <tr>\n      <th>4</th>\n      <td>77004</td>\n      <td>26</td>\n    </tr>\n    <tr>\n      <th>...</th>\n      <td>...</td>\n      <td>...</td>\n    </tr>\n    <tr>\n      <th>739</th>\n      <td>75207</td>\n      <td>1</td>\n    </tr>\n    <tr>\n      <th>740</th>\n      <td>75672</td>\n      <td>1</td>\n    </tr>\n    <tr>\n      <th>741</th>\n      <td>78504</td>\n      <td>1</td>\n    </tr>\n    <tr>\n      <th>742</th>\n      <td>77802</td>\n      <td>1</td>\n    </tr>\n    <tr>\n      <th>743</th>\n      <td>76825</td>\n      <td>1</td>\n    </tr>\n  </tbody>\n</table>\n<p>744 rows × 2 columns</p>\n</div>"
     },
     "execution_count": 23,
     "metadata": {},
     "output_type": "execute_result"
    }
   ],
   "source": [
    "ev_station_count_tx"
   ],
   "metadata": {
    "collapsed": false,
    "pycharm": {
     "name": "#%%\n"
    }
   }
  },
  {
   "cell_type": "markdown",
   "source": [
    "Washington State EV Station data"
   ],
   "metadata": {
    "collapsed": false,
    "pycharm": {
     "name": "#%% md\n"
    }
   }
  },
  {
   "cell_type": "code",
   "source": [
    "ev_station_count_wa = ev_station_count_df(ev_station_data,'WA')"
   ],
   "metadata": {
    "collapsed": false,
    "pycharm": {
     "name": "#%%\n"
    }
   },
   "execution_count": 24,
   "outputs": []
  },
  {
   "cell_type": "code",
   "execution_count": 25,
   "outputs": [
    {
     "data": {
      "text/plain": "    ZIP Code  Count\n0      98004     57\n1      98121     51\n2      98109     49\n3      98004     49\n4      99354     46\n..       ...    ...\n436    98642      1\n437    99403      1\n438    98037      1\n439    99204      1\n440    98022      1\n\n[441 rows x 2 columns]",
      "text/html": "<div>\n<style scoped>\n    .dataframe tbody tr th:only-of-type {\n        vertical-align: middle;\n    }\n\n    .dataframe tbody tr th {\n        vertical-align: top;\n    }\n\n    .dataframe thead th {\n        text-align: right;\n    }\n</style>\n<table border=\"1\" class=\"dataframe\">\n  <thead>\n    <tr style=\"text-align: right;\">\n      <th></th>\n      <th>ZIP Code</th>\n      <th>Count</th>\n    </tr>\n  </thead>\n  <tbody>\n    <tr>\n      <th>0</th>\n      <td>98004</td>\n      <td>57</td>\n    </tr>\n    <tr>\n      <th>1</th>\n      <td>98121</td>\n      <td>51</td>\n    </tr>\n    <tr>\n      <th>2</th>\n      <td>98109</td>\n      <td>49</td>\n    </tr>\n    <tr>\n      <th>3</th>\n      <td>98004</td>\n      <td>49</td>\n    </tr>\n    <tr>\n      <th>4</th>\n      <td>99354</td>\n      <td>46</td>\n    </tr>\n    <tr>\n      <th>...</th>\n      <td>...</td>\n      <td>...</td>\n    </tr>\n    <tr>\n      <th>436</th>\n      <td>98642</td>\n      <td>1</td>\n    </tr>\n    <tr>\n      <th>437</th>\n      <td>99403</td>\n      <td>1</td>\n    </tr>\n    <tr>\n      <th>438</th>\n      <td>98037</td>\n      <td>1</td>\n    </tr>\n    <tr>\n      <th>439</th>\n      <td>99204</td>\n      <td>1</td>\n    </tr>\n    <tr>\n      <th>440</th>\n      <td>98022</td>\n      <td>1</td>\n    </tr>\n  </tbody>\n</table>\n<p>441 rows × 2 columns</p>\n</div>"
     },
     "execution_count": 25,
     "metadata": {},
     "output_type": "execute_result"
    }
   ],
   "source": [
    "ev_station_count_wa"
   ],
   "metadata": {
    "collapsed": false,
    "pycharm": {
     "name": "#%%\n"
    }
   }
  },
  {
   "cell_type": "markdown",
   "source": [
    "## Ev Car Count in Each Zip Code"
   ],
   "metadata": {
    "collapsed": false,
    "pycharm": {
     "name": "#%% md\n"
    }
   }
  },
  {
   "cell_type": "code",
   "source": [
    "newyork_data = pd.read_csv('data/ny_ev_registrations_public.csv')\n",
    "texas_data = pd.read_csv('data/tx_ev_registrations_public.csv')\n",
    "washington_data = pd.read_csv('data/wa_ev_registrations_public.csv',low_memory = False)"
   ],
   "metadata": {
    "collapsed": false,
    "pycharm": {
     "name": "#%%\n"
    }
   },
   "execution_count": 26,
   "outputs": []
  },
  {
   "cell_type": "markdown",
   "source": [
    "Newyork State Car Count"
   ],
   "metadata": {
    "collapsed": false,
    "pycharm": {
     "name": "#%% md\n"
    }
   }
  },
  {
   "cell_type": "code",
   "execution_count": 27,
   "outputs": [
    {
     "data": {
      "text/plain": "         ZIP Code Registration Valid Date VIN Prefix  DMV ID  \\\n0           12553              2019-01-10   JTDKARFP      47   \n1           14559              2019-06-13   JTDKARFP      47   \n2           10524              2020-09-21   JTDKARFP      47   \n3           12203              2018-12-13   JTDKARFP      47   \n4           12205              2020-03-31   JTDKARFP      47   \n...           ...                     ...        ...     ...   \n3012587     10312              2019-11-01   JHMZC5F1      54   \n3012588     11559              2021-03-15   JHMZC5F1      54   \n3012589     11779              2019-07-08   JHMZC5F1      54   \n3012590     10701              2020-02-10   JHMZC5F1      54   \n3012591     10314              2020-09-22   JHMZC5F1      54   \n\n                       DMV Snapshot VIN Model Year  \\\n0        NY DATA.NY.GOV (12/2/2020)              J   \n1        NY DATA.NY.GOV (12/2/2020)              J   \n2        NY DATA.NY.GOV (12/2/2020)              J   \n3        NY DATA.NY.GOV (12/2/2020)              J   \n4        NY DATA.NY.GOV (12/2/2020)              J   \n...                             ...            ...   \n3012587   NY DATA.NY.GOV (7/1/2021)              J   \n3012588   NY DATA.NY.GOV (7/1/2021)              J   \n3012589   NY DATA.NY.GOV (7/1/2021)              J   \n3012590   NY DATA.NY.GOV (7/1/2021)              J   \n3012591   NY DATA.NY.GOV (7/1/2021)              J   \n\n        Registration Expiration Date State           Vehicle Name Technology  \n0                         2020-12-25    NY     Toyota Prius Prime       PHEV  \n1                         2021-07-06    NY     Toyota Prius Prime       PHEV  \n2                         2022-12-17    NY     Toyota Prius Prime       PHEV  \n3                         2021-01-10    NY     Toyota Prius Prime       PHEV  \n4                         2022-04-06    NY     Toyota Prius Prime       PHEV  \n...                              ...   ...                    ...        ...  \n3012587                   2021-10-26    NY  Honda Clarity Plug In       PHEV  \n3012588                   2022-10-22    NY  Honda Clarity Plug In       PHEV  \n3012589                   2021-07-02    NY  Honda Clarity Plug In       PHEV  \n3012590                   2022-03-25    NY  Honda Clarity Plug In       PHEV  \n3012591                   2022-11-08    NY  Honda Clarity Plug In       PHEV  \n\n[3012592 rows x 10 columns]",
      "text/html": "<div>\n<style scoped>\n    .dataframe tbody tr th:only-of-type {\n        vertical-align: middle;\n    }\n\n    .dataframe tbody tr th {\n        vertical-align: top;\n    }\n\n    .dataframe thead th {\n        text-align: right;\n    }\n</style>\n<table border=\"1\" class=\"dataframe\">\n  <thead>\n    <tr style=\"text-align: right;\">\n      <th></th>\n      <th>ZIP Code</th>\n      <th>Registration Valid Date</th>\n      <th>VIN Prefix</th>\n      <th>DMV ID</th>\n      <th>DMV Snapshot</th>\n      <th>VIN Model Year</th>\n      <th>Registration Expiration Date</th>\n      <th>State</th>\n      <th>Vehicle Name</th>\n      <th>Technology</th>\n    </tr>\n  </thead>\n  <tbody>\n    <tr>\n      <th>0</th>\n      <td>12553</td>\n      <td>2019-01-10</td>\n      <td>JTDKARFP</td>\n      <td>47</td>\n      <td>NY DATA.NY.GOV (12/2/2020)</td>\n      <td>J</td>\n      <td>2020-12-25</td>\n      <td>NY</td>\n      <td>Toyota Prius Prime</td>\n      <td>PHEV</td>\n    </tr>\n    <tr>\n      <th>1</th>\n      <td>14559</td>\n      <td>2019-06-13</td>\n      <td>JTDKARFP</td>\n      <td>47</td>\n      <td>NY DATA.NY.GOV (12/2/2020)</td>\n      <td>J</td>\n      <td>2021-07-06</td>\n      <td>NY</td>\n      <td>Toyota Prius Prime</td>\n      <td>PHEV</td>\n    </tr>\n    <tr>\n      <th>2</th>\n      <td>10524</td>\n      <td>2020-09-21</td>\n      <td>JTDKARFP</td>\n      <td>47</td>\n      <td>NY DATA.NY.GOV (12/2/2020)</td>\n      <td>J</td>\n      <td>2022-12-17</td>\n      <td>NY</td>\n      <td>Toyota Prius Prime</td>\n      <td>PHEV</td>\n    </tr>\n    <tr>\n      <th>3</th>\n      <td>12203</td>\n      <td>2018-12-13</td>\n      <td>JTDKARFP</td>\n      <td>47</td>\n      <td>NY DATA.NY.GOV (12/2/2020)</td>\n      <td>J</td>\n      <td>2021-01-10</td>\n      <td>NY</td>\n      <td>Toyota Prius Prime</td>\n      <td>PHEV</td>\n    </tr>\n    <tr>\n      <th>4</th>\n      <td>12205</td>\n      <td>2020-03-31</td>\n      <td>JTDKARFP</td>\n      <td>47</td>\n      <td>NY DATA.NY.GOV (12/2/2020)</td>\n      <td>J</td>\n      <td>2022-04-06</td>\n      <td>NY</td>\n      <td>Toyota Prius Prime</td>\n      <td>PHEV</td>\n    </tr>\n    <tr>\n      <th>...</th>\n      <td>...</td>\n      <td>...</td>\n      <td>...</td>\n      <td>...</td>\n      <td>...</td>\n      <td>...</td>\n      <td>...</td>\n      <td>...</td>\n      <td>...</td>\n      <td>...</td>\n    </tr>\n    <tr>\n      <th>3012587</th>\n      <td>10312</td>\n      <td>2019-11-01</td>\n      <td>JHMZC5F1</td>\n      <td>54</td>\n      <td>NY DATA.NY.GOV (7/1/2021)</td>\n      <td>J</td>\n      <td>2021-10-26</td>\n      <td>NY</td>\n      <td>Honda Clarity Plug In</td>\n      <td>PHEV</td>\n    </tr>\n    <tr>\n      <th>3012588</th>\n      <td>11559</td>\n      <td>2021-03-15</td>\n      <td>JHMZC5F1</td>\n      <td>54</td>\n      <td>NY DATA.NY.GOV (7/1/2021)</td>\n      <td>J</td>\n      <td>2022-10-22</td>\n      <td>NY</td>\n      <td>Honda Clarity Plug In</td>\n      <td>PHEV</td>\n    </tr>\n    <tr>\n      <th>3012589</th>\n      <td>11779</td>\n      <td>2019-07-08</td>\n      <td>JHMZC5F1</td>\n      <td>54</td>\n      <td>NY DATA.NY.GOV (7/1/2021)</td>\n      <td>J</td>\n      <td>2021-07-02</td>\n      <td>NY</td>\n      <td>Honda Clarity Plug In</td>\n      <td>PHEV</td>\n    </tr>\n    <tr>\n      <th>3012590</th>\n      <td>10701</td>\n      <td>2020-02-10</td>\n      <td>JHMZC5F1</td>\n      <td>54</td>\n      <td>NY DATA.NY.GOV (7/1/2021)</td>\n      <td>J</td>\n      <td>2022-03-25</td>\n      <td>NY</td>\n      <td>Honda Clarity Plug In</td>\n      <td>PHEV</td>\n    </tr>\n    <tr>\n      <th>3012591</th>\n      <td>10314</td>\n      <td>2020-09-22</td>\n      <td>JHMZC5F1</td>\n      <td>54</td>\n      <td>NY DATA.NY.GOV (7/1/2021)</td>\n      <td>J</td>\n      <td>2022-11-08</td>\n      <td>NY</td>\n      <td>Honda Clarity Plug In</td>\n      <td>PHEV</td>\n    </tr>\n  </tbody>\n</table>\n<p>3012592 rows × 10 columns</p>\n</div>"
     },
     "execution_count": 27,
     "metadata": {},
     "output_type": "execute_result"
    }
   ],
   "source": [
    "newyork_data"
   ],
   "metadata": {
    "collapsed": false,
    "pycharm": {
     "name": "#%%\n"
    }
   }
  },
  {
   "cell_type": "code",
   "execution_count": 28,
   "outputs": [],
   "source": [
    "ev_car_count_ny = ev_car_count_df(newyork_data)"
   ],
   "metadata": {
    "collapsed": false,
    "pycharm": {
     "name": "#%%\n"
    }
   }
  },
  {
   "cell_type": "code",
   "execution_count": 29,
   "outputs": [
    {
     "data": {
      "text/plain": "      ZIP Code  Count\n0        11746  32266\n1        10583  32122\n2        14850  28315\n3        11743  22350\n4        11791  22273\n...        ...    ...\n3614     34229      1\n3615     33035      1\n3616     94555      1\n3617      8039      1\n3618     85224      1\n\n[3619 rows x 2 columns]",
      "text/html": "<div>\n<style scoped>\n    .dataframe tbody tr th:only-of-type {\n        vertical-align: middle;\n    }\n\n    .dataframe tbody tr th {\n        vertical-align: top;\n    }\n\n    .dataframe thead th {\n        text-align: right;\n    }\n</style>\n<table border=\"1\" class=\"dataframe\">\n  <thead>\n    <tr style=\"text-align: right;\">\n      <th></th>\n      <th>ZIP Code</th>\n      <th>Count</th>\n    </tr>\n  </thead>\n  <tbody>\n    <tr>\n      <th>0</th>\n      <td>11746</td>\n      <td>32266</td>\n    </tr>\n    <tr>\n      <th>1</th>\n      <td>10583</td>\n      <td>32122</td>\n    </tr>\n    <tr>\n      <th>2</th>\n      <td>14850</td>\n      <td>28315</td>\n    </tr>\n    <tr>\n      <th>3</th>\n      <td>11743</td>\n      <td>22350</td>\n    </tr>\n    <tr>\n      <th>4</th>\n      <td>11791</td>\n      <td>22273</td>\n    </tr>\n    <tr>\n      <th>...</th>\n      <td>...</td>\n      <td>...</td>\n    </tr>\n    <tr>\n      <th>3614</th>\n      <td>34229</td>\n      <td>1</td>\n    </tr>\n    <tr>\n      <th>3615</th>\n      <td>33035</td>\n      <td>1</td>\n    </tr>\n    <tr>\n      <th>3616</th>\n      <td>94555</td>\n      <td>1</td>\n    </tr>\n    <tr>\n      <th>3617</th>\n      <td>8039</td>\n      <td>1</td>\n    </tr>\n    <tr>\n      <th>3618</th>\n      <td>85224</td>\n      <td>1</td>\n    </tr>\n  </tbody>\n</table>\n<p>3619 rows × 2 columns</p>\n</div>"
     },
     "execution_count": 29,
     "metadata": {},
     "output_type": "execute_result"
    }
   ],
   "source": [
    "ev_car_count_ny"
   ],
   "metadata": {
    "collapsed": false,
    "pycharm": {
     "name": "#%%\n"
    }
   }
  },
  {
   "cell_type": "markdown",
   "source": [
    "Texas State Car Count"
   ],
   "metadata": {
    "collapsed": false,
    "pycharm": {
     "name": "#%% md\n"
    }
   }
  },
  {
   "cell_type": "code",
   "source": [
    "ev_car_count_df(texas_data)"
   ],
   "metadata": {
    "collapsed": false,
    "pycharm": {
     "name": "#%%\n"
    }
   },
   "execution_count": 30,
   "outputs": [
    {
     "data": {
      "text/plain": "     ZIP Code  Count\n0       75035  12107\n1       77479  11976\n2       78746  10033\n3       78613  10013\n4       78704   9262\n...       ...    ...\n1645    76004      1\n1646    76097      1\n1647    75555      1\n1648    77548      1\n1649    79244      1\n\n[1650 rows x 2 columns]",
      "text/html": "<div>\n<style scoped>\n    .dataframe tbody tr th:only-of-type {\n        vertical-align: middle;\n    }\n\n    .dataframe tbody tr th {\n        vertical-align: top;\n    }\n\n    .dataframe thead th {\n        text-align: right;\n    }\n</style>\n<table border=\"1\" class=\"dataframe\">\n  <thead>\n    <tr style=\"text-align: right;\">\n      <th></th>\n      <th>ZIP Code</th>\n      <th>Count</th>\n    </tr>\n  </thead>\n  <tbody>\n    <tr>\n      <th>0</th>\n      <td>75035</td>\n      <td>12107</td>\n    </tr>\n    <tr>\n      <th>1</th>\n      <td>77479</td>\n      <td>11976</td>\n    </tr>\n    <tr>\n      <th>2</th>\n      <td>78746</td>\n      <td>10033</td>\n    </tr>\n    <tr>\n      <th>3</th>\n      <td>78613</td>\n      <td>10013</td>\n    </tr>\n    <tr>\n      <th>4</th>\n      <td>78704</td>\n      <td>9262</td>\n    </tr>\n    <tr>\n      <th>...</th>\n      <td>...</td>\n      <td>...</td>\n    </tr>\n    <tr>\n      <th>1645</th>\n      <td>76004</td>\n      <td>1</td>\n    </tr>\n    <tr>\n      <th>1646</th>\n      <td>76097</td>\n      <td>1</td>\n    </tr>\n    <tr>\n      <th>1647</th>\n      <td>75555</td>\n      <td>1</td>\n    </tr>\n    <tr>\n      <th>1648</th>\n      <td>77548</td>\n      <td>1</td>\n    </tr>\n    <tr>\n      <th>1649</th>\n      <td>79244</td>\n      <td>1</td>\n    </tr>\n  </tbody>\n</table>\n<p>1650 rows × 2 columns</p>\n</div>"
     },
     "execution_count": 30,
     "metadata": {},
     "output_type": "execute_result"
    }
   ]
  },
  {
   "cell_type": "code",
   "execution_count": 31,
   "outputs": [],
   "source": [
    "ev_car_count_tx = ev_car_count_df(texas_data)"
   ],
   "metadata": {
    "collapsed": false,
    "pycharm": {
     "name": "#%%\n"
    }
   }
  },
  {
   "cell_type": "markdown",
   "source": [
    "Washington State Car Count"
   ],
   "metadata": {
    "collapsed": false,
    "pycharm": {
     "name": "#%% md\n"
    }
   }
  },
  {
   "cell_type": "code",
   "source": [
    "ev_car_count_df(washington_data)"
   ],
   "metadata": {
    "collapsed": false,
    "pycharm": {
     "name": "#%%\n"
    }
   },
   "execution_count": 32,
   "outputs": [
    {
     "data": {
      "text/plain": "     ZIP Code  Count\n0       98052  71639\n1       98033  47318\n2       98115  44879\n3       98004  44564\n4       98006  42586\n...       ...    ...\n1110    37043      1\n1111     6420      1\n1112    44101      1\n1113    97035      1\n1114    90272      1\n\n[1115 rows x 2 columns]",
      "text/html": "<div>\n<style scoped>\n    .dataframe tbody tr th:only-of-type {\n        vertical-align: middle;\n    }\n\n    .dataframe tbody tr th {\n        vertical-align: top;\n    }\n\n    .dataframe thead th {\n        text-align: right;\n    }\n</style>\n<table border=\"1\" class=\"dataframe\">\n  <thead>\n    <tr style=\"text-align: right;\">\n      <th></th>\n      <th>ZIP Code</th>\n      <th>Count</th>\n    </tr>\n  </thead>\n  <tbody>\n    <tr>\n      <th>0</th>\n      <td>98052</td>\n      <td>71639</td>\n    </tr>\n    <tr>\n      <th>1</th>\n      <td>98033</td>\n      <td>47318</td>\n    </tr>\n    <tr>\n      <th>2</th>\n      <td>98115</td>\n      <td>44879</td>\n    </tr>\n    <tr>\n      <th>3</th>\n      <td>98004</td>\n      <td>44564</td>\n    </tr>\n    <tr>\n      <th>4</th>\n      <td>98006</td>\n      <td>42586</td>\n    </tr>\n    <tr>\n      <th>...</th>\n      <td>...</td>\n      <td>...</td>\n    </tr>\n    <tr>\n      <th>1110</th>\n      <td>37043</td>\n      <td>1</td>\n    </tr>\n    <tr>\n      <th>1111</th>\n      <td>6420</td>\n      <td>1</td>\n    </tr>\n    <tr>\n      <th>1112</th>\n      <td>44101</td>\n      <td>1</td>\n    </tr>\n    <tr>\n      <th>1113</th>\n      <td>97035</td>\n      <td>1</td>\n    </tr>\n    <tr>\n      <th>1114</th>\n      <td>90272</td>\n      <td>1</td>\n    </tr>\n  </tbody>\n</table>\n<p>1115 rows × 2 columns</p>\n</div>"
     },
     "execution_count": 32,
     "metadata": {},
     "output_type": "execute_result"
    }
   ]
  },
  {
   "cell_type": "code",
   "execution_count": 33,
   "outputs": [],
   "source": [
    "ev_car_count_wa = ev_car_count_df(washington_data)"
   ],
   "metadata": {
    "collapsed": false,
    "pycharm": {
     "name": "#%%\n"
    }
   }
  },
  {
   "cell_type": "markdown",
   "source": [
    "## Descriptive Statistics of car_count and ev_station count"
   ],
   "metadata": {
    "collapsed": false,
    "pycharm": {
     "name": "#%% md\n"
    }
   }
  },
  {
   "cell_type": "markdown",
   "source": [
    "Descriptive Statistics of Car Count"
   ],
   "metadata": {
    "collapsed": false,
    "pycharm": {
     "name": "#%% md\n"
    }
   }
  },
  {
   "cell_type": "code",
   "source": [
    "ev_car_count_ny_discribe = ev_car_count_ny[['Count']].describe()"
   ],
   "metadata": {
    "collapsed": false,
    "pycharm": {
     "name": "#%%\n"
    }
   },
   "execution_count": 34,
   "outputs": []
  },
  {
   "cell_type": "code",
   "execution_count": 35,
   "outputs": [],
   "source": [
    "ev_car_count_ny_discribe = ev_car_count_ny_discribe.rename(columns = {'Count':'NY_Car_Count'})"
   ],
   "metadata": {
    "collapsed": false,
    "pycharm": {
     "name": "#%%\n"
    }
   }
  },
  {
   "cell_type": "code",
   "execution_count": 36,
   "outputs": [
    {
     "data": {
      "text/plain": "       NY_Car_Count\ncount   3619.000000\nmean     832.437690\nstd     2265.887876\nmin        1.000000\n25%        1.000000\n50%       18.000000\n75%      409.500000\nmax    32266.000000",
      "text/html": "<div>\n<style scoped>\n    .dataframe tbody tr th:only-of-type {\n        vertical-align: middle;\n    }\n\n    .dataframe tbody tr th {\n        vertical-align: top;\n    }\n\n    .dataframe thead th {\n        text-align: right;\n    }\n</style>\n<table border=\"1\" class=\"dataframe\">\n  <thead>\n    <tr style=\"text-align: right;\">\n      <th></th>\n      <th>NY_Car_Count</th>\n    </tr>\n  </thead>\n  <tbody>\n    <tr>\n      <th>count</th>\n      <td>3619.000000</td>\n    </tr>\n    <tr>\n      <th>mean</th>\n      <td>832.437690</td>\n    </tr>\n    <tr>\n      <th>std</th>\n      <td>2265.887876</td>\n    </tr>\n    <tr>\n      <th>min</th>\n      <td>1.000000</td>\n    </tr>\n    <tr>\n      <th>25%</th>\n      <td>1.000000</td>\n    </tr>\n    <tr>\n      <th>50%</th>\n      <td>18.000000</td>\n    </tr>\n    <tr>\n      <th>75%</th>\n      <td>409.500000</td>\n    </tr>\n    <tr>\n      <th>max</th>\n      <td>32266.000000</td>\n    </tr>\n  </tbody>\n</table>\n</div>"
     },
     "execution_count": 36,
     "metadata": {},
     "output_type": "execute_result"
    }
   ],
   "source": [
    "ev_car_count_ny_discribe"
   ],
   "metadata": {
    "collapsed": false,
    "pycharm": {
     "name": "#%%\n"
    }
   }
  },
  {
   "cell_type": "code",
   "execution_count": 37,
   "outputs": [
    {
     "data": {
      "text/plain": "       TX_Car_Count\ncount   1650.000000\nmean     626.183030\nstd     1328.413634\nmin        1.000000\n25%       18.000000\n50%       92.000000\n75%      508.500000\nmax    12107.000000",
      "text/html": "<div>\n<style scoped>\n    .dataframe tbody tr th:only-of-type {\n        vertical-align: middle;\n    }\n\n    .dataframe tbody tr th {\n        vertical-align: top;\n    }\n\n    .dataframe thead th {\n        text-align: right;\n    }\n</style>\n<table border=\"1\" class=\"dataframe\">\n  <thead>\n    <tr style=\"text-align: right;\">\n      <th></th>\n      <th>TX_Car_Count</th>\n    </tr>\n  </thead>\n  <tbody>\n    <tr>\n      <th>count</th>\n      <td>1650.000000</td>\n    </tr>\n    <tr>\n      <th>mean</th>\n      <td>626.183030</td>\n    </tr>\n    <tr>\n      <th>std</th>\n      <td>1328.413634</td>\n    </tr>\n    <tr>\n      <th>min</th>\n      <td>1.000000</td>\n    </tr>\n    <tr>\n      <th>25%</th>\n      <td>18.000000</td>\n    </tr>\n    <tr>\n      <th>50%</th>\n      <td>92.000000</td>\n    </tr>\n    <tr>\n      <th>75%</th>\n      <td>508.500000</td>\n    </tr>\n    <tr>\n      <th>max</th>\n      <td>12107.000000</td>\n    </tr>\n  </tbody>\n</table>\n</div>"
     },
     "execution_count": 37,
     "metadata": {},
     "output_type": "execute_result"
    }
   ],
   "source": [
    "ev_car_count_tx_discribe = ev_car_count_tx[['Count']].describe()\n",
    "ev_car_count_tx_discribe = ev_car_count_tx_discribe.rename(columns={'Count': 'TX_Car_Count'})\n",
    "ev_car_count_tx_discribe"
   ],
   "metadata": {
    "collapsed": false,
    "pycharm": {
     "name": "#%%\n"
    }
   }
  },
  {
   "cell_type": "code",
   "execution_count": 38,
   "outputs": [
    {
     "data": {
      "text/plain": "       WA_Car_Count\ncount   1115.000000\nmean    2202.715695\nstd     6098.046272\nmin        1.000000\n25%        4.000000\n50%       19.000000\n75%      838.500000\nmax    71639.000000",
      "text/html": "<div>\n<style scoped>\n    .dataframe tbody tr th:only-of-type {\n        vertical-align: middle;\n    }\n\n    .dataframe tbody tr th {\n        vertical-align: top;\n    }\n\n    .dataframe thead th {\n        text-align: right;\n    }\n</style>\n<table border=\"1\" class=\"dataframe\">\n  <thead>\n    <tr style=\"text-align: right;\">\n      <th></th>\n      <th>WA_Car_Count</th>\n    </tr>\n  </thead>\n  <tbody>\n    <tr>\n      <th>count</th>\n      <td>1115.000000</td>\n    </tr>\n    <tr>\n      <th>mean</th>\n      <td>2202.715695</td>\n    </tr>\n    <tr>\n      <th>std</th>\n      <td>6098.046272</td>\n    </tr>\n    <tr>\n      <th>min</th>\n      <td>1.000000</td>\n    </tr>\n    <tr>\n      <th>25%</th>\n      <td>4.000000</td>\n    </tr>\n    <tr>\n      <th>50%</th>\n      <td>19.000000</td>\n    </tr>\n    <tr>\n      <th>75%</th>\n      <td>838.500000</td>\n    </tr>\n    <tr>\n      <th>max</th>\n      <td>71639.000000</td>\n    </tr>\n  </tbody>\n</table>\n</div>"
     },
     "execution_count": 38,
     "metadata": {},
     "output_type": "execute_result"
    }
   ],
   "source": [
    "ev_car_count_wa_discribe = ev_car_count_wa[['Count']].describe()\n",
    "ev_car_count_wa_discribe = ev_car_count_wa_discribe.rename(columns={'Count': 'WA_Car_Count'})\n",
    "ev_car_count_wa_discribe"
   ],
   "metadata": {
    "collapsed": false,
    "pycharm": {
     "name": "#%%\n"
    }
   }
  },
  {
   "cell_type": "code",
   "execution_count": 39,
   "outputs": [],
   "source": [
    "all_state_car_count_df = pd.concat([ev_car_count_ny_discribe,ev_car_count_tx_discribe,ev_car_count_wa_discribe],axis=1)"
   ],
   "metadata": {
    "collapsed": false,
    "pycharm": {
     "name": "#%%\n"
    }
   }
  },
  {
   "cell_type": "code",
   "execution_count": 40,
   "outputs": [
    {
     "data": {
      "text/plain": "       NY_Car_Count  TX_Car_Count  WA_Car_Count\ncount   3619.000000   1650.000000   1115.000000\nmean     832.437690    626.183030   2202.715695\nstd     2265.887876   1328.413634   6098.046272\nmin        1.000000      1.000000      1.000000\n25%        1.000000     18.000000      4.000000\n50%       18.000000     92.000000     19.000000\n75%      409.500000    508.500000    838.500000\nmax    32266.000000  12107.000000  71639.000000",
      "text/html": "<div>\n<style scoped>\n    .dataframe tbody tr th:only-of-type {\n        vertical-align: middle;\n    }\n\n    .dataframe tbody tr th {\n        vertical-align: top;\n    }\n\n    .dataframe thead th {\n        text-align: right;\n    }\n</style>\n<table border=\"1\" class=\"dataframe\">\n  <thead>\n    <tr style=\"text-align: right;\">\n      <th></th>\n      <th>NY_Car_Count</th>\n      <th>TX_Car_Count</th>\n      <th>WA_Car_Count</th>\n    </tr>\n  </thead>\n  <tbody>\n    <tr>\n      <th>count</th>\n      <td>3619.000000</td>\n      <td>1650.000000</td>\n      <td>1115.000000</td>\n    </tr>\n    <tr>\n      <th>mean</th>\n      <td>832.437690</td>\n      <td>626.183030</td>\n      <td>2202.715695</td>\n    </tr>\n    <tr>\n      <th>std</th>\n      <td>2265.887876</td>\n      <td>1328.413634</td>\n      <td>6098.046272</td>\n    </tr>\n    <tr>\n      <th>min</th>\n      <td>1.000000</td>\n      <td>1.000000</td>\n      <td>1.000000</td>\n    </tr>\n    <tr>\n      <th>25%</th>\n      <td>1.000000</td>\n      <td>18.000000</td>\n      <td>4.000000</td>\n    </tr>\n    <tr>\n      <th>50%</th>\n      <td>18.000000</td>\n      <td>92.000000</td>\n      <td>19.000000</td>\n    </tr>\n    <tr>\n      <th>75%</th>\n      <td>409.500000</td>\n      <td>508.500000</td>\n      <td>838.500000</td>\n    </tr>\n    <tr>\n      <th>max</th>\n      <td>32266.000000</td>\n      <td>12107.000000</td>\n      <td>71639.000000</td>\n    </tr>\n  </tbody>\n</table>\n</div>"
     },
     "execution_count": 40,
     "metadata": {},
     "output_type": "execute_result"
    }
   ],
   "source": [
    "all_state_car_count_df"
   ],
   "metadata": {
    "collapsed": false,
    "pycharm": {
     "name": "#%%\n"
    }
   }
  },
  {
   "cell_type": "markdown",
   "source": [
    "After the descriptive statistics calculation of electric vehicles in each state, we found that the largest average is Washington State, indicating that in each zip code, Washington State has a higher number of electric vehicles, but also in the calculation of the standard deviation, Washington State The degree of data dispersion is also the highest, which also shows that although the average value of Washington is high, the data is too scattered and the range of change is large."
   ],
   "metadata": {
    "collapsed": false,
    "pycharm": {
     "name": "#%% md\n"
    }
   }
  },
  {
   "cell_type": "markdown",
   "source": [
    "Descriptive Statistics of Station Count"
   ],
   "metadata": {
    "collapsed": false,
    "pycharm": {
     "name": "#%% md\n"
    }
   }
  },
  {
   "cell_type": "code",
   "source": [
    "ev_station_count_ny_discribe = ev_station_count_ny[['Count']].describe()\n",
    "ev_station_count_ny_discribe = ev_station_count_ny_discribe.rename(columns={'Count': 'NY_Station_Count'})\n",
    "ev_station_count_ny_discribe"
   ],
   "metadata": {
    "collapsed": false,
    "pycharm": {
     "name": "#%%\n"
    }
   },
   "execution_count": 41,
   "outputs": [
    {
     "data": {
      "text/plain": "       NY_Station_Count\ncount        924.000000\nmean           3.221861\nstd            4.196103\nmin            1.000000\n25%            1.000000\n50%            2.000000\n75%            4.000000\nmax           50.000000",
      "text/html": "<div>\n<style scoped>\n    .dataframe tbody tr th:only-of-type {\n        vertical-align: middle;\n    }\n\n    .dataframe tbody tr th {\n        vertical-align: top;\n    }\n\n    .dataframe thead th {\n        text-align: right;\n    }\n</style>\n<table border=\"1\" class=\"dataframe\">\n  <thead>\n    <tr style=\"text-align: right;\">\n      <th></th>\n      <th>NY_Station_Count</th>\n    </tr>\n  </thead>\n  <tbody>\n    <tr>\n      <th>count</th>\n      <td>924.000000</td>\n    </tr>\n    <tr>\n      <th>mean</th>\n      <td>3.221861</td>\n    </tr>\n    <tr>\n      <th>std</th>\n      <td>4.196103</td>\n    </tr>\n    <tr>\n      <th>min</th>\n      <td>1.000000</td>\n    </tr>\n    <tr>\n      <th>25%</th>\n      <td>1.000000</td>\n    </tr>\n    <tr>\n      <th>50%</th>\n      <td>2.000000</td>\n    </tr>\n    <tr>\n      <th>75%</th>\n      <td>4.000000</td>\n    </tr>\n    <tr>\n      <th>max</th>\n      <td>50.000000</td>\n    </tr>\n  </tbody>\n</table>\n</div>"
     },
     "execution_count": 41,
     "metadata": {},
     "output_type": "execute_result"
    }
   ]
  },
  {
   "cell_type": "code",
   "execution_count": 42,
   "outputs": [
    {
     "data": {
      "text/plain": "       TX_Station_Count\ncount        744.000000\nmean           3.116935\nstd            3.998456\nmin            1.000000\n25%            1.000000\n50%            2.000000\n75%            3.000000\nmax           43.000000",
      "text/html": "<div>\n<style scoped>\n    .dataframe tbody tr th:only-of-type {\n        vertical-align: middle;\n    }\n\n    .dataframe tbody tr th {\n        vertical-align: top;\n    }\n\n    .dataframe thead th {\n        text-align: right;\n    }\n</style>\n<table border=\"1\" class=\"dataframe\">\n  <thead>\n    <tr style=\"text-align: right;\">\n      <th></th>\n      <th>TX_Station_Count</th>\n    </tr>\n  </thead>\n  <tbody>\n    <tr>\n      <th>count</th>\n      <td>744.000000</td>\n    </tr>\n    <tr>\n      <th>mean</th>\n      <td>3.116935</td>\n    </tr>\n    <tr>\n      <th>std</th>\n      <td>3.998456</td>\n    </tr>\n    <tr>\n      <th>min</th>\n      <td>1.000000</td>\n    </tr>\n    <tr>\n      <th>25%</th>\n      <td>1.000000</td>\n    </tr>\n    <tr>\n      <th>50%</th>\n      <td>2.000000</td>\n    </tr>\n    <tr>\n      <th>75%</th>\n      <td>3.000000</td>\n    </tr>\n    <tr>\n      <th>max</th>\n      <td>43.000000</td>\n    </tr>\n  </tbody>\n</table>\n</div>"
     },
     "execution_count": 42,
     "metadata": {},
     "output_type": "execute_result"
    }
   ],
   "source": [
    "ev_station_count_tx_discribe = ev_station_count_tx[['Count']].describe()\n",
    "ev_station_count_tx_discribe = ev_station_count_tx_discribe.rename(columns={'Count': 'TX_Station_Count'})\n",
    "ev_station_count_tx_discribe"
   ],
   "metadata": {
    "collapsed": false,
    "pycharm": {
     "name": "#%%\n"
    }
   }
  },
  {
   "cell_type": "code",
   "execution_count": 43,
   "outputs": [
    {
     "data": {
      "text/plain": "       WA_Station_Count\ncount        441.000000\nmean           4.024943\nstd            6.619998\nmin            1.000000\n25%            1.000000\n50%            2.000000\n75%            4.000000\nmax           57.000000",
      "text/html": "<div>\n<style scoped>\n    .dataframe tbody tr th:only-of-type {\n        vertical-align: middle;\n    }\n\n    .dataframe tbody tr th {\n        vertical-align: top;\n    }\n\n    .dataframe thead th {\n        text-align: right;\n    }\n</style>\n<table border=\"1\" class=\"dataframe\">\n  <thead>\n    <tr style=\"text-align: right;\">\n      <th></th>\n      <th>WA_Station_Count</th>\n    </tr>\n  </thead>\n  <tbody>\n    <tr>\n      <th>count</th>\n      <td>441.000000</td>\n    </tr>\n    <tr>\n      <th>mean</th>\n      <td>4.024943</td>\n    </tr>\n    <tr>\n      <th>std</th>\n      <td>6.619998</td>\n    </tr>\n    <tr>\n      <th>min</th>\n      <td>1.000000</td>\n    </tr>\n    <tr>\n      <th>25%</th>\n      <td>1.000000</td>\n    </tr>\n    <tr>\n      <th>50%</th>\n      <td>2.000000</td>\n    </tr>\n    <tr>\n      <th>75%</th>\n      <td>4.000000</td>\n    </tr>\n    <tr>\n      <th>max</th>\n      <td>57.000000</td>\n    </tr>\n  </tbody>\n</table>\n</div>"
     },
     "execution_count": 43,
     "metadata": {},
     "output_type": "execute_result"
    }
   ],
   "source": [
    "ev_station_count_wa_discribe = ev_station_count_wa[['Count']].describe()\n",
    "ev_station_count_wa_discribe = ev_station_count_wa_discribe.rename(columns={'Count': 'WA_Station_Count'})\n",
    "ev_station_count_wa_discribe"
   ],
   "metadata": {
    "collapsed": false,
    "pycharm": {
     "name": "#%%\n"
    }
   }
  },
  {
   "cell_type": "code",
   "execution_count": 44,
   "outputs": [
    {
     "data": {
      "text/plain": "       NY_Station_Count  TX_Station_Count  WA_Station_Count\ncount        924.000000        744.000000        441.000000\nmean           3.221861          3.116935          4.024943\nstd            4.196103          3.998456          6.619998\nmin            1.000000          1.000000          1.000000\n25%            1.000000          1.000000          1.000000\n50%            2.000000          2.000000          2.000000\n75%            4.000000          3.000000          4.000000\nmax           50.000000         43.000000         57.000000",
      "text/html": "<div>\n<style scoped>\n    .dataframe tbody tr th:only-of-type {\n        vertical-align: middle;\n    }\n\n    .dataframe tbody tr th {\n        vertical-align: top;\n    }\n\n    .dataframe thead th {\n        text-align: right;\n    }\n</style>\n<table border=\"1\" class=\"dataframe\">\n  <thead>\n    <tr style=\"text-align: right;\">\n      <th></th>\n      <th>NY_Station_Count</th>\n      <th>TX_Station_Count</th>\n      <th>WA_Station_Count</th>\n    </tr>\n  </thead>\n  <tbody>\n    <tr>\n      <th>count</th>\n      <td>924.000000</td>\n      <td>744.000000</td>\n      <td>441.000000</td>\n    </tr>\n    <tr>\n      <th>mean</th>\n      <td>3.221861</td>\n      <td>3.116935</td>\n      <td>4.024943</td>\n    </tr>\n    <tr>\n      <th>std</th>\n      <td>4.196103</td>\n      <td>3.998456</td>\n      <td>6.619998</td>\n    </tr>\n    <tr>\n      <th>min</th>\n      <td>1.000000</td>\n      <td>1.000000</td>\n      <td>1.000000</td>\n    </tr>\n    <tr>\n      <th>25%</th>\n      <td>1.000000</td>\n      <td>1.000000</td>\n      <td>1.000000</td>\n    </tr>\n    <tr>\n      <th>50%</th>\n      <td>2.000000</td>\n      <td>2.000000</td>\n      <td>2.000000</td>\n    </tr>\n    <tr>\n      <th>75%</th>\n      <td>4.000000</td>\n      <td>3.000000</td>\n      <td>4.000000</td>\n    </tr>\n    <tr>\n      <th>max</th>\n      <td>50.000000</td>\n      <td>43.000000</td>\n      <td>57.000000</td>\n    </tr>\n  </tbody>\n</table>\n</div>"
     },
     "execution_count": 44,
     "metadata": {},
     "output_type": "execute_result"
    }
   ],
   "source": [
    "all_state_station_count_df = pd.concat([ev_station_count_ny_discribe, ev_station_count_tx_discribe, ev_station_count_wa_discribe],axis=1)\n",
    "all_state_station_count_df"
   ],
   "metadata": {
    "collapsed": false,
    "pycharm": {
     "name": "#%%\n"
    }
   }
  },
  {
   "cell_type": "markdown",
   "source": [
    "## Correlation analysis"
   ],
   "metadata": {
    "collapsed": false,
    "pycharm": {
     "name": "#%% md\n"
    }
   }
  },
  {
   "cell_type": "markdown",
   "source": [
    "All Three State Correlation Analysis"
   ],
   "metadata": {
    "collapsed": false,
    "pycharm": {
     "name": "#%% md\n"
    }
   }
  },
  {
   "cell_type": "code",
   "execution_count": 45,
   "outputs": [],
   "source": [
    "all_car_count_df = pd.concat([ev_car_count_wa,ev_car_count_ny,ev_car_count_tx],axis=0)"
   ],
   "metadata": {
    "collapsed": false,
    "pycharm": {
     "name": "#%%\n"
    }
   }
  },
  {
   "cell_type": "code",
   "execution_count": 46,
   "outputs": [
    {
     "data": {
      "text/plain": "     ZIP Code  Count\n0       98052  71639\n1       98033  47318\n2       98115  44879\n3       98004  44564\n4       98006  42586\n...       ...    ...\n1645    76004      1\n1646    76097      1\n1647    75555      1\n1648    77548      1\n1649    79244      1\n\n[6384 rows x 2 columns]",
      "text/html": "<div>\n<style scoped>\n    .dataframe tbody tr th:only-of-type {\n        vertical-align: middle;\n    }\n\n    .dataframe tbody tr th {\n        vertical-align: top;\n    }\n\n    .dataframe thead th {\n        text-align: right;\n    }\n</style>\n<table border=\"1\" class=\"dataframe\">\n  <thead>\n    <tr style=\"text-align: right;\">\n      <th></th>\n      <th>ZIP Code</th>\n      <th>Count</th>\n    </tr>\n  </thead>\n  <tbody>\n    <tr>\n      <th>0</th>\n      <td>98052</td>\n      <td>71639</td>\n    </tr>\n    <tr>\n      <th>1</th>\n      <td>98033</td>\n      <td>47318</td>\n    </tr>\n    <tr>\n      <th>2</th>\n      <td>98115</td>\n      <td>44879</td>\n    </tr>\n    <tr>\n      <th>3</th>\n      <td>98004</td>\n      <td>44564</td>\n    </tr>\n    <tr>\n      <th>4</th>\n      <td>98006</td>\n      <td>42586</td>\n    </tr>\n    <tr>\n      <th>...</th>\n      <td>...</td>\n      <td>...</td>\n    </tr>\n    <tr>\n      <th>1645</th>\n      <td>76004</td>\n      <td>1</td>\n    </tr>\n    <tr>\n      <th>1646</th>\n      <td>76097</td>\n      <td>1</td>\n    </tr>\n    <tr>\n      <th>1647</th>\n      <td>75555</td>\n      <td>1</td>\n    </tr>\n    <tr>\n      <th>1648</th>\n      <td>77548</td>\n      <td>1</td>\n    </tr>\n    <tr>\n      <th>1649</th>\n      <td>79244</td>\n      <td>1</td>\n    </tr>\n  </tbody>\n</table>\n<p>6384 rows × 2 columns</p>\n</div>"
     },
     "execution_count": 46,
     "metadata": {},
     "output_type": "execute_result"
    }
   ],
   "source": [
    "all_car_count_df"
   ],
   "metadata": {
    "collapsed": false,
    "pycharm": {
     "name": "#%%\n"
    }
   }
  },
  {
   "cell_type": "code",
   "execution_count": 47,
   "outputs": [],
   "source": [
    "all_station_count_df = pd.concat([ev_station_count_wa,ev_station_count_ny,ev_station_count_tx],axis=0)"
   ],
   "metadata": {
    "collapsed": false,
    "pycharm": {
     "name": "#%%\n"
    }
   }
  },
  {
   "cell_type": "code",
   "execution_count": 48,
   "outputs": [],
   "source": [
    "all_population_data = pd.concat([us_zip_df_wa,us_zip_df_ny,us_zip_df_tx],axis=0)"
   ],
   "metadata": {
    "collapsed": false,
    "pycharm": {
     "name": "#%%\n"
    }
   }
  },
  {
   "cell_type": "code",
   "execution_count": 49,
   "outputs": [],
   "source": [
    "all_population_data = all_population_data.rename(columns={'zip':'ZIP Code'})"
   ],
   "metadata": {
    "collapsed": false,
    "pycharm": {
     "name": "#%%\n"
    }
   }
  },
  {
   "cell_type": "code",
   "execution_count": 50,
   "outputs": [
    {
     "data": {
      "text/plain": "    ZIP Code  Count\n0      98004     57\n1      98121     51\n2      98109     49\n3      98004     49\n4      99354     46\n..       ...    ...\n739    75207      1\n740    75672      1\n741    78504      1\n742    77802      1\n743    76825      1\n\n[2109 rows x 2 columns]",
      "text/html": "<div>\n<style scoped>\n    .dataframe tbody tr th:only-of-type {\n        vertical-align: middle;\n    }\n\n    .dataframe tbody tr th {\n        vertical-align: top;\n    }\n\n    .dataframe thead th {\n        text-align: right;\n    }\n</style>\n<table border=\"1\" class=\"dataframe\">\n  <thead>\n    <tr style=\"text-align: right;\">\n      <th></th>\n      <th>ZIP Code</th>\n      <th>Count</th>\n    </tr>\n  </thead>\n  <tbody>\n    <tr>\n      <th>0</th>\n      <td>98004</td>\n      <td>57</td>\n    </tr>\n    <tr>\n      <th>1</th>\n      <td>98121</td>\n      <td>51</td>\n    </tr>\n    <tr>\n      <th>2</th>\n      <td>98109</td>\n      <td>49</td>\n    </tr>\n    <tr>\n      <th>3</th>\n      <td>98004</td>\n      <td>49</td>\n    </tr>\n    <tr>\n      <th>4</th>\n      <td>99354</td>\n      <td>46</td>\n    </tr>\n    <tr>\n      <th>...</th>\n      <td>...</td>\n      <td>...</td>\n    </tr>\n    <tr>\n      <th>739</th>\n      <td>75207</td>\n      <td>1</td>\n    </tr>\n    <tr>\n      <th>740</th>\n      <td>75672</td>\n      <td>1</td>\n    </tr>\n    <tr>\n      <th>741</th>\n      <td>78504</td>\n      <td>1</td>\n    </tr>\n    <tr>\n      <th>742</th>\n      <td>77802</td>\n      <td>1</td>\n    </tr>\n    <tr>\n      <th>743</th>\n      <td>76825</td>\n      <td>1</td>\n    </tr>\n  </tbody>\n</table>\n<p>2109 rows × 2 columns</p>\n</div>"
     },
     "execution_count": 50,
     "metadata": {},
     "output_type": "execute_result"
    }
   ],
   "source": [
    "all_station_count_df"
   ],
   "metadata": {
    "collapsed": false,
    "pycharm": {
     "name": "#%%\n"
    }
   }
  },
  {
   "cell_type": "markdown",
   "source": [
    "The correlation between all_car_count and all_station_count"
   ],
   "metadata": {
    "collapsed": false,
    "pycharm": {
     "name": "#%% md\n"
    }
   }
  },
  {
   "cell_type": "code",
   "execution_count": 51,
   "outputs": [],
   "source": [
    "all_merge_data_car_station = merge_count_data(all_station_count_df,all_car_count_df,'Station Count','Car Count')"
   ],
   "metadata": {
    "collapsed": false,
    "pycharm": {
     "name": "#%%\n"
    }
   }
  },
  {
   "cell_type": "code",
   "execution_count": 52,
   "outputs": [
    {
     "data": {
      "text/plain": "     ZIP Code  Station Count  Car Count\n0       98004             57    44564.0\n1       98121             51    11252.0\n2       98109             49    24625.0\n5       98101             40        1.0\n12      98104             18    18008.0\n...       ...            ...        ...\n2121    76513              1     1070.0\n2122    75211              1      528.0\n2123    75207              1      329.0\n2125    78504              1        2.0\n2126    77802              1      467.0\n\n[1115 rows x 3 columns]",
      "text/html": "<div>\n<style scoped>\n    .dataframe tbody tr th:only-of-type {\n        vertical-align: middle;\n    }\n\n    .dataframe tbody tr th {\n        vertical-align: top;\n    }\n\n    .dataframe thead th {\n        text-align: right;\n    }\n</style>\n<table border=\"1\" class=\"dataframe\">\n  <thead>\n    <tr style=\"text-align: right;\">\n      <th></th>\n      <th>ZIP Code</th>\n      <th>Station Count</th>\n      <th>Car Count</th>\n    </tr>\n  </thead>\n  <tbody>\n    <tr>\n      <th>0</th>\n      <td>98004</td>\n      <td>57</td>\n      <td>44564.0</td>\n    </tr>\n    <tr>\n      <th>1</th>\n      <td>98121</td>\n      <td>51</td>\n      <td>11252.0</td>\n    </tr>\n    <tr>\n      <th>2</th>\n      <td>98109</td>\n      <td>49</td>\n      <td>24625.0</td>\n    </tr>\n    <tr>\n      <th>5</th>\n      <td>98101</td>\n      <td>40</td>\n      <td>1.0</td>\n    </tr>\n    <tr>\n      <th>12</th>\n      <td>98104</td>\n      <td>18</td>\n      <td>18008.0</td>\n    </tr>\n    <tr>\n      <th>...</th>\n      <td>...</td>\n      <td>...</td>\n      <td>...</td>\n    </tr>\n    <tr>\n      <th>2121</th>\n      <td>76513</td>\n      <td>1</td>\n      <td>1070.0</td>\n    </tr>\n    <tr>\n      <th>2122</th>\n      <td>75211</td>\n      <td>1</td>\n      <td>528.0</td>\n    </tr>\n    <tr>\n      <th>2123</th>\n      <td>75207</td>\n      <td>1</td>\n      <td>329.0</td>\n    </tr>\n    <tr>\n      <th>2125</th>\n      <td>78504</td>\n      <td>1</td>\n      <td>2.0</td>\n    </tr>\n    <tr>\n      <th>2126</th>\n      <td>77802</td>\n      <td>1</td>\n      <td>467.0</td>\n    </tr>\n  </tbody>\n</table>\n<p>1115 rows × 3 columns</p>\n</div>"
     },
     "execution_count": 52,
     "metadata": {},
     "output_type": "execute_result"
    }
   ],
   "source": [
    "all_merge_data_car_station"
   ],
   "metadata": {
    "collapsed": false,
    "pycharm": {
     "name": "#%%\n"
    }
   }
  },
  {
   "cell_type": "code",
   "execution_count": 53,
   "outputs": [
    {
     "data": {
      "text/plain": "<Figure size 432x288 with 1 Axes>",
      "image/png": "[encoded data removed]"
     },
     "metadata": {
      "needs_background": "light"
     },
     "output_type": "display_data"
    }
   ],
   "source": [
    "%matplotlib inline\n",
    "linear_model_main(all_merge_data_car_station,'Station Count','Car Count')"
   ],
   "metadata": {
    "collapsed": false,
    "pycharm": {
     "name": "#%%\n"
    }
   }
  },
  {
   "cell_type": "code",
   "execution_count": 54,
   "outputs": [
    {
     "data": {
      "text/plain": "<AxesSubplot:>"
     },
     "execution_count": 54,
     "metadata": {},
     "output_type": "execute_result"
    },
    {
     "data": {
      "text/plain": "<Figure size 432x288 with 2 Axes>",
      "image/png": "[encoded data removed]"
     },
     "metadata": {
      "needs_background": "light"
     },
     "output_type": "display_data"
    }
   ],
   "source": [
    "corr_all = all_merge_data_car_station[['Station Count','Car Count']].corr()\n",
    "sns.heatmap(corr_all, cmap ='Blues', square = True, annot = True)"
   ],
   "metadata": {
    "collapsed": false,
    "pycharm": {
     "name": "#%%\n"
    }
   }
  },
  {
   "cell_type": "markdown",
   "source": [
    "As can be seen from the figure, the correlation coefficient is 0.27, which is not correlated. Therefore, the total number of vehicles in the three states is not related to the number of corresponding charging points."
   ],
   "metadata": {
    "collapsed": false,
    "pycharm": {
     "name": "#%% md\n"
    }
   }
  },
  {
   "cell_type": "markdown",
   "source": [
    "The correlation between all_car_count and all_population_count"
   ],
   "metadata": {
    "collapsed": false,
    "pycharm": {
     "name": "#%% md\n"
    }
   }
  },
  {
   "cell_type": "code",
   "execution_count": 55,
   "outputs": [
    {
     "data": {
      "text/plain": "       ZIP Code  population\n32938     98001     34455.0\n32939     98002     33947.0\n32940     98003     49445.0\n32941     98004     37265.0\n32942     98005     21414.0\n...         ...         ...\n28344     79932     28893.0\n28345     79934     26360.0\n28346     79935     18546.0\n28347     79936    108668.0\n28348     79938     83326.0\n\n[4421 rows x 2 columns]",
      "text/html": "<div>\n<style scoped>\n    .dataframe tbody tr th:only-of-type {\n        vertical-align: middle;\n    }\n\n    .dataframe tbody tr th {\n        vertical-align: top;\n    }\n\n    .dataframe thead th {\n        text-align: right;\n    }\n</style>\n<table border=\"1\" class=\"dataframe\">\n  <thead>\n    <tr style=\"text-align: right;\">\n      <th></th>\n      <th>ZIP Code</th>\n      <th>population</th>\n    </tr>\n  </thead>\n  <tbody>\n    <tr>\n      <th>32938</th>\n      <td>98001</td>\n      <td>34455.0</td>\n    </tr>\n    <tr>\n      <th>32939</th>\n      <td>98002</td>\n      <td>33947.0</td>\n    </tr>\n    <tr>\n      <th>32940</th>\n      <td>98003</td>\n      <td>49445.0</td>\n    </tr>\n    <tr>\n      <th>32941</th>\n      <td>98004</td>\n      <td>37265.0</td>\n    </tr>\n    <tr>\n      <th>32942</th>\n      <td>98005</td>\n      <td>21414.0</td>\n    </tr>\n    <tr>\n      <th>...</th>\n      <td>...</td>\n      <td>...</td>\n    </tr>\n    <tr>\n      <th>28344</th>\n      <td>79932</td>\n      <td>28893.0</td>\n    </tr>\n    <tr>\n      <th>28345</th>\n      <td>79934</td>\n      <td>26360.0</td>\n    </tr>\n    <tr>\n      <th>28346</th>\n      <td>79935</td>\n      <td>18546.0</td>\n    </tr>\n    <tr>\n      <th>28347</th>\n      <td>79936</td>\n      <td>108668.0</td>\n    </tr>\n    <tr>\n      <th>28348</th>\n      <td>79938</td>\n      <td>83326.0</td>\n    </tr>\n  </tbody>\n</table>\n<p>4421 rows × 2 columns</p>\n</div>"
     },
     "execution_count": 55,
     "metadata": {},
     "output_type": "execute_result"
    }
   ],
   "source": [
    "all_population_data"
   ],
   "metadata": {
    "collapsed": false,
    "pycharm": {
     "name": "#%%\n"
    }
   }
  },
  {
   "cell_type": "code",
   "execution_count": 56,
   "outputs": [],
   "source": [
    "all_merge_data_car_pop = merge_count_data(all_population_data,all_car_count_df,'Population','Car Count')"
   ],
   "metadata": {
    "collapsed": false,
    "pycharm": {
     "name": "#%%\n"
    }
   }
  },
  {
   "cell_type": "code",
   "execution_count": 57,
   "outputs": [
    {
     "data": {
      "text/plain": "      ZIP Code  Population  Car Count\n7        98008     25650.0        1.0\n19       98026     38292.0        3.0\n20       98027     30240.0        1.0\n22       98029     29956.0        1.0\n26       98033     39802.0        9.0\n...        ...         ...        ...\n4013     78738     15090.0        1.0\n4019     78746     27671.0       15.0\n4023     78750     33860.0        1.0\n4028     78756      9450.0        1.0\n4413     79927     42221.0        1.0\n\n[1777 rows x 3 columns]",
      "text/html": "<div>\n<style scoped>\n    .dataframe tbody tr th:only-of-type {\n        vertical-align: middle;\n    }\n\n    .dataframe tbody tr th {\n        vertical-align: top;\n    }\n\n    .dataframe thead th {\n        text-align: right;\n    }\n</style>\n<table border=\"1\" class=\"dataframe\">\n  <thead>\n    <tr style=\"text-align: right;\">\n      <th></th>\n      <th>ZIP Code</th>\n      <th>Population</th>\n      <th>Car Count</th>\n    </tr>\n  </thead>\n  <tbody>\n    <tr>\n      <th>7</th>\n      <td>98008</td>\n      <td>25650.0</td>\n      <td>1.0</td>\n    </tr>\n    <tr>\n      <th>19</th>\n      <td>98026</td>\n      <td>38292.0</td>\n      <td>3.0</td>\n    </tr>\n    <tr>\n      <th>20</th>\n      <td>98027</td>\n      <td>30240.0</td>\n      <td>1.0</td>\n    </tr>\n    <tr>\n      <th>22</th>\n      <td>98029</td>\n      <td>29956.0</td>\n      <td>1.0</td>\n    </tr>\n    <tr>\n      <th>26</th>\n      <td>98033</td>\n      <td>39802.0</td>\n      <td>9.0</td>\n    </tr>\n    <tr>\n      <th>...</th>\n      <td>...</td>\n      <td>...</td>\n      <td>...</td>\n    </tr>\n    <tr>\n      <th>4013</th>\n      <td>78738</td>\n      <td>15090.0</td>\n      <td>1.0</td>\n    </tr>\n    <tr>\n      <th>4019</th>\n      <td>78746</td>\n      <td>27671.0</td>\n      <td>15.0</td>\n    </tr>\n    <tr>\n      <th>4023</th>\n      <td>78750</td>\n      <td>33860.0</td>\n      <td>1.0</td>\n    </tr>\n    <tr>\n      <th>4028</th>\n      <td>78756</td>\n      <td>9450.0</td>\n      <td>1.0</td>\n    </tr>\n    <tr>\n      <th>4413</th>\n      <td>79927</td>\n      <td>42221.0</td>\n      <td>1.0</td>\n    </tr>\n  </tbody>\n</table>\n<p>1777 rows × 3 columns</p>\n</div>"
     },
     "execution_count": 57,
     "metadata": {},
     "output_type": "execute_result"
    }
   ],
   "source": [
    "all_merge_data_car_pop"
   ],
   "metadata": {
    "collapsed": false,
    "pycharm": {
     "name": "#%%\n"
    }
   }
  },
  {
   "cell_type": "code",
   "execution_count": 58,
   "outputs": [
    {
     "data": {
      "text/plain": "<Figure size 432x288 with 1 Axes>",
      "image/png": "[encoded data removed]"
     },
     "metadata": {
      "needs_background": "light"
     },
     "output_type": "display_data"
    }
   ],
   "source": [
    "linear_model_main(all_merge_data_car_pop,'Population','Car Count')"
   ],
   "metadata": {
    "collapsed": false,
    "pycharm": {
     "name": "#%%\n"
    }
   }
  },
  {
   "cell_type": "code",
   "execution_count": 59,
   "outputs": [
    {
     "data": {
      "text/plain": "<AxesSubplot:>"
     },
     "execution_count": 59,
     "metadata": {},
     "output_type": "execute_result"
    },
    {
     "data": {
      "text/plain": "<Figure size 432x288 with 2 Axes>",
      "image/png": "[encoded data removed]"
     },
     "metadata": {
      "needs_background": "light"
     },
     "output_type": "display_data"
    }
   ],
   "source": [
    "corr_all = all_merge_data_car_pop[['Population','Car Count']].corr()\n",
    "sns.heatmap(corr_all, cmap ='Blues', square = True, annot = True)"
   ],
   "metadata": {
    "collapsed": false,
    "pycharm": {
     "name": "#%%\n"
    }
   }
  },
  {
   "cell_type": "markdown",
   "source": [
    "As can be seen from the figure, the correlation coefficient is 0.45, which is not correlated. Therefore, the total number of cars in the three states is weakly correlated with their corresponding population."
   ],
   "metadata": {
    "collapsed": false,
    "pycharm": {
     "name": "#%% md\n"
    }
   }
  },
  {
   "cell_type": "markdown",
   "source": [
    "New York State Correlation analysis"
   ],
   "metadata": {
    "collapsed": false,
    "pycharm": {
     "name": "#%% md\n"
    }
   }
  },
  {
   "cell_type": "code",
   "execution_count": 60,
   "outputs": [],
   "source": [
    "merge_data_clean_ny = merge_count_data(ev_station_count_ny,ev_car_count_ny,'Station Count','Car Count')"
   ],
   "metadata": {
    "collapsed": false,
    "pycharm": {
     "name": "#%%\n"
    }
   }
  },
  {
   "cell_type": "code",
   "execution_count": 61,
   "outputs": [
    {
     "data": {
      "text/plain": "<Figure size 432x288 with 1 Axes>",
      "image/png": "[encoded data removed]"
     },
     "metadata": {
      "needs_background": "light"
     },
     "output_type": "display_data"
    }
   ],
   "source": [
    "linear_model_main(merge_data_clean_ny,'Station Count','Car Count')"
   ],
   "metadata": {
    "collapsed": false,
    "pycharm": {
     "name": "#%%\n"
    }
   }
  },
  {
   "cell_type": "code",
   "execution_count": 62,
   "outputs": [
    {
     "data": {
      "text/plain": "<AxesSubplot:>"
     },
     "execution_count": 62,
     "metadata": {},
     "output_type": "execute_result"
    },
    {
     "data": {
      "text/plain": "<Figure size 432x288 with 2 Axes>",
      "image/png": "[encoded data removed]"
     },
     "metadata": {
      "needs_background": "light"
     },
     "output_type": "display_data"
    }
   ],
   "source": [
    "corr_ny = merge_data_clean_ny[['Station Count','Car Count']].corr()\n",
    "sns.heatmap(corr_ny, cmap ='Blues', square = True, annot = True)"
   ],
   "metadata": {
    "collapsed": false,
    "pycharm": {
     "name": "#%%\n"
    }
   }
  },
  {
   "cell_type": "markdown",
   "source": [],
   "metadata": {
    "collapsed": false,
    "pycharm": {
     "name": "#%% md\n"
    }
   }
  },
  {
   "cell_type": "markdown",
   "source": [
    "As can be seen from the figure, the correlation coefficient is 0.34, which is not correlated. Therefore, the number of cars in New York State is weakly correlated with the number of corresponding charging piles."
   ],
   "metadata": {
    "collapsed": false,
    "pycharm": {
     "name": "#%% md\n"
    }
   }
  },
  {
   "cell_type": "markdown",
   "source": [
    "Texas State Correlation Analysis"
   ],
   "metadata": {
    "collapsed": false,
    "pycharm": {
     "name": "#%% md\n"
    }
   }
  },
  {
   "cell_type": "code",
   "execution_count": 63,
   "outputs": [],
   "source": [
    "merge_data_clean_tx = merge_count_data(ev_station_count_tx,ev_car_count_tx,'Station Count','Car Count')"
   ],
   "metadata": {
    "collapsed": false,
    "pycharm": {
     "name": "#%%\n"
    }
   }
  },
  {
   "cell_type": "code",
   "execution_count": 64,
   "outputs": [
    {
     "data": {
      "text/plain": "<Figure size 432x288 with 1 Axes>",
      "image/png": "[encoded data removed]"
     },
     "metadata": {
      "needs_background": "light"
     },
     "output_type": "display_data"
    }
   ],
   "source": [
    "linear_model_main(merge_data_clean_tx,'Station Count','Car Count')"
   ],
   "metadata": {
    "collapsed": false,
    "pycharm": {
     "name": "#%%\n"
    }
   }
  },
  {
   "cell_type": "code",
   "execution_count": 65,
   "outputs": [
    {
     "data": {
      "text/plain": "<AxesSubplot:>"
     },
     "execution_count": 65,
     "metadata": {},
     "output_type": "execute_result"
    },
    {
     "data": {
      "text/plain": "<Figure size 432x288 with 2 Axes>",
      "image/png": "[encoded data removed]"
     },
     "metadata": {
      "needs_background": "light"
     },
     "output_type": "display_data"
    }
   ],
   "source": [
    "corr_tx = merge_data_clean_tx[['Station Count','Car Count']].corr()\n",
    "sns.heatmap(corr_tx, cmap ='Blues', square = True, annot = True)"
   ],
   "metadata": {
    "collapsed": false,
    "pycharm": {
     "name": "#%%\n"
    }
   }
  },
  {
   "cell_type": "markdown",
   "source": [
    "As can be seen from the figure, the correlation coefficient is 0.3, which is not correlated. Therefore, the number of cars in Texas State is weakly correlated with the number of corresponding charging piles."
   ],
   "metadata": {
    "collapsed": false,
    "pycharm": {
     "name": "#%% md\n"
    }
   }
  },
  {
   "cell_type": "markdown",
   "source": [
    "Washington State Correlation Analysis"
   ],
   "metadata": {
    "collapsed": false,
    "pycharm": {
     "name": "#%% md\n"
    }
   }
  },
  {
   "cell_type": "code",
   "execution_count": 66,
   "outputs": [],
   "source": [
    "merge_data_clean_wa = merge_count_data(ev_station_count_wa,ev_car_count_wa,'Station Count','Car Count')"
   ],
   "metadata": {
    "collapsed": false,
    "pycharm": {
     "name": "#%%\n"
    }
   }
  },
  {
   "cell_type": "code",
   "execution_count": 67,
   "outputs": [
    {
     "data": {
      "text/plain": "<Figure size 432x288 with 1 Axes>",
      "image/png": "[encoded data removed]"
     },
     "metadata": {
      "needs_background": "light"
     },
     "output_type": "display_data"
    }
   ],
   "source": [
    "linear_model_main(merge_data_clean_wa,'Station Count','Car Count')"
   ],
   "metadata": {
    "collapsed": false,
    "pycharm": {
     "name": "#%%\n"
    }
   }
  },
  {
   "cell_type": "code",
   "execution_count": 68,
   "outputs": [
    {
     "data": {
      "text/plain": "<AxesSubplot:>"
     },
     "execution_count": 68,
     "metadata": {},
     "output_type": "execute_result"
    },
    {
     "data": {
      "text/plain": "<Figure size 432x288 with 2 Axes>",
      "image/png": "[encoded data removed]"
     },
     "metadata": {
      "needs_background": "light"
     },
     "output_type": "display_data"
    }
   ],
   "source": [
    "corr_wa = merge_data_clean_wa[['Station Count','Car Count']].corr()\n",
    "sns.heatmap(corr_wa, cmap ='Blues', square = True, annot = True)"
   ],
   "metadata": {
    "collapsed": false,
    "pycharm": {
     "name": "#%%\n"
    }
   }
  },
  {
   "cell_type": "markdown",
   "source": [
    "As can be seen from the figure, the correlation coefficient is 0.35, which is not correlated. Therefore, the number of cars in Washington State is weakly correlated with the number of corresponding charging piles."
   ],
   "metadata": {
    "collapsed": false,
    "pycharm": {
     "name": "#%% md\n"
    }
   }
  },
  {
   "cell_type": "markdown",
   "source": [
    "# Further Analysis (cont.)"
   ],
   "metadata": {
    "collapsed": false,
    "pycharm": {
     "name": "#%% md\n"
    }
   }
  },
  {
   "cell_type": "markdown",
   "source": [
    "### What’s more, Mr Weible suggested, considering the fact that Battery Cars always need to charge in the range of only a few hundred kilometers, the decision of PHEV or BEV by the consumer may be influenced by the Charging Station around them. So we compare the total number of EV stations and PHEV rate of all EV vehicles in those regions by zip code."
   ],
   "metadata": {
    "collapsed": false
   }
  },
  {
   "cell_type": "code",
   "execution_count": 69,
   "outputs": [],
   "source": [
    "import statsmodels.api as sm\n",
    "us_zip_df = pd.read_csv('data/uszips.csv')\n",
    "us_zip_df = us_zip_df[['zip', 'state_id', 'population', 'density']]\n",
    "us_zip_df['area'] = us_zip_df['population'] / us_zip_df['density']\n",
    "us_zip_df = us_zip_df.rename(columns={'zip': 'ZIP Code'})\n",
    "us_zip_df_ny = us_zip_df[us_zip_df['state_id'] == 'NY']\n",
    "us_zip_df_wa = us_zip_df[us_zip_df['state_id'] == 'WA']\n",
    "us_zip_df_tx = us_zip_df[us_zip_df['state_id'] == 'TX']\n",
    "us_zip_df_wa = us_zip_df_wa[['ZIP Code', 'population', 'density', 'area']]\n",
    "us_zip_df_ny = us_zip_df_ny[['ZIP Code', 'population', 'density', 'area']]\n",
    "us_zip_df_tx = us_zip_df_tx[['ZIP Code', 'population', 'density', 'area']]\n",
    "us_zip_df_ny.fillna(0, inplace=True)\n",
    "us_zip_df_tx.fillna(0, inplace=True)\n",
    "us_zip_df_wa.fillna(0, inplace=True)"
   ],
   "metadata": {
    "collapsed": false,
    "pycharm": {
     "name": "#%%\n"
    }
   }
  },
  {
   "cell_type": "code",
   "execution_count": 70,
   "outputs": [],
   "source": [
    "def ev_car_phev_count_df(data: str) -> pd.DataFrame:\n",
    "    \"\"\" Calculate the number of car and PHEV rate in each zip code\n",
    "\n",
    "    :param data:state car registration data\n",
    "    :return:the car count and phev rate of each state\n",
    "    \"\"\"\n",
    "    data_count = data.loc[:,'ZIP Code'].value_counts().sort_index(axis=0)\n",
    "    phev_count = data[data['Technology'] == 'PHEV'].loc[:,'ZIP Code'].value_counts().sort_index(axis=0)\n",
    "    file_count_df = DataFrame(data_count)\n",
    "    file_count_df = file_count_df.rename(columns={'ZIP Code': 'Count'})\n",
    "    ev_car_count = file_count_df.rename_axis('ZIP Code').reset_index()\n",
    "    phev_count_df = DataFrame(phev_count)\n",
    "    phev_rate = phev_count_df.rename(columns={'ZIP Code': 'PHEV Count'})\n",
    "    phev_rate = phev_rate.rename_axis('ZIP Code').reset_index()\n",
    "    ev_car_count = pd.merge(ev_car_count, phev_rate, how='left', on='ZIP Code')\n",
    "    ev_car_count.fillna(0, inplace=True)\n",
    "    ev_car_count['PHEV Rate'] = ev_car_count['PHEV Count'] / ev_car_count['Count']\n",
    "    return ev_car_count"
   ],
   "metadata": {
    "collapsed": false,
    "pycharm": {
     "name": "#%%\n"
    }
   }
  },
  {
   "cell_type": "code",
   "execution_count": 71,
   "outputs": [],
   "source": [
    "def filter_car_station_data(ev_station_count, state_data, us_zip_df):\n",
    "    \"\"\" filter specific columns for the linear regression model\n",
    "\n",
    "    :param ev_station_count: the dataframe for ev station count by zip code\n",
    "    :param state_data: the dataframe for specific state registration data\n",
    "    :param us_zip_df: the dataframe for the state zip code data\n",
    "    :return: the dataframe for all the merged message\n",
    "    \"\"\"\n",
    "    ev_station_count = ev_station_count.rename(columns={'Count': 'Station Count'})\n",
    "    ev_car_count = ev_car_phev_count_df(state_data)\n",
    "    ev_car_station = pd.merge(ev_car_count, ev_station_count, how='left', on='ZIP Code')\n",
    "    ev_car_station.dropna(axis=0, how='any', inplace=True)\n",
    "    ev_car_station['ZIP Code'] = ev_car_station['ZIP Code'].astype('int64')\n",
    "\n",
    "    ev_car_station_pop = pd.merge(ev_car_station, us_zip_df, how='left', on='ZIP Code')\n",
    "    ev_car_station_pop.fillna(0, inplace=True)\n",
    "    ev_car_station_pop = ev_car_station_pop[ev_car_station_pop['Count'] > 10]\n",
    "    ev_car_station_pop = ev_car_station_pop[ev_car_station_pop['Station Count'] > 2]\n",
    "    ev_car_station_pop = ev_car_station_pop[ev_car_station_pop['population'] > 500]\n",
    "    ev_car_station_pop = ev_car_station_pop[['ZIP Code', 'Station Count', 'Count', 'PHEV Rate', 'population', 'area']]\n",
    "    return ev_car_station_pop"
   ],
   "metadata": {
    "collapsed": false,
    "pycharm": {
     "name": "#%%\n"
    }
   }
  },
  {
   "cell_type": "markdown",
   "source": [
    "## New York State"
   ],
   "metadata": {
    "collapsed": false
   }
  },
  {
   "cell_type": "code",
   "execution_count": 72,
   "outputs": [
    {
     "data": {
      "text/plain": "     ZIP Code  Station Count  Count  PHEV Rate  population        area\n0       10001           10.0   3944   0.355730     25026.0    1.615696\n1       10002            5.0   3686   0.445469     74363.0    2.129726\n2       10003           12.0   6749   0.308194     54671.0    1.480443\n4       10005            3.0   1283   0.231489      8664.0    0.188727\n5       10007            5.0  15898   0.555604      7566.0    0.414128\n..        ...            ...    ...        ...         ...         ...\n556     14830            4.0   3900   0.733333     19138.0  234.822086\n560     14845            5.0   3501   0.699800     20401.0  202.591857\n561     14850           24.0  28315   0.624510     64224.0  323.220936\n562     14853            3.0    427   0.288056      2663.0    0.996669\n565     14870            3.0   1879   0.617350     10202.0  166.972177\n\n[228 rows x 6 columns]",
      "text/html": "<div>\n<style scoped>\n    .dataframe tbody tr th:only-of-type {\n        vertical-align: middle;\n    }\n\n    .dataframe tbody tr th {\n        vertical-align: top;\n    }\n\n    .dataframe thead th {\n        text-align: right;\n    }\n</style>\n<table border=\"1\" class=\"dataframe\">\n  <thead>\n    <tr style=\"text-align: right;\">\n      <th></th>\n      <th>ZIP Code</th>\n      <th>Station Count</th>\n      <th>Count</th>\n      <th>PHEV Rate</th>\n      <th>population</th>\n      <th>area</th>\n    </tr>\n  </thead>\n  <tbody>\n    <tr>\n      <th>0</th>\n      <td>10001</td>\n      <td>10.0</td>\n      <td>3944</td>\n      <td>0.355730</td>\n      <td>25026.0</td>\n      <td>1.615696</td>\n    </tr>\n    <tr>\n      <th>1</th>\n      <td>10002</td>\n      <td>5.0</td>\n      <td>3686</td>\n      <td>0.445469</td>\n      <td>74363.0</td>\n      <td>2.129726</td>\n    </tr>\n    <tr>\n      <th>2</th>\n      <td>10003</td>\n      <td>12.0</td>\n      <td>6749</td>\n      <td>0.308194</td>\n      <td>54671.0</td>\n      <td>1.480443</td>\n    </tr>\n    <tr>\n      <th>4</th>\n      <td>10005</td>\n      <td>3.0</td>\n      <td>1283</td>\n      <td>0.231489</td>\n      <td>8664.0</td>\n      <td>0.188727</td>\n    </tr>\n    <tr>\n      <th>5</th>\n      <td>10007</td>\n      <td>5.0</td>\n      <td>15898</td>\n      <td>0.555604</td>\n      <td>7566.0</td>\n      <td>0.414128</td>\n    </tr>\n    <tr>\n      <th>...</th>\n      <td>...</td>\n      <td>...</td>\n      <td>...</td>\n      <td>...</td>\n      <td>...</td>\n      <td>...</td>\n    </tr>\n    <tr>\n      <th>556</th>\n      <td>14830</td>\n      <td>4.0</td>\n      <td>3900</td>\n      <td>0.733333</td>\n      <td>19138.0</td>\n      <td>234.822086</td>\n    </tr>\n    <tr>\n      <th>560</th>\n      <td>14845</td>\n      <td>5.0</td>\n      <td>3501</td>\n      <td>0.699800</td>\n      <td>20401.0</td>\n      <td>202.591857</td>\n    </tr>\n    <tr>\n      <th>561</th>\n      <td>14850</td>\n      <td>24.0</td>\n      <td>28315</td>\n      <td>0.624510</td>\n      <td>64224.0</td>\n      <td>323.220936</td>\n    </tr>\n    <tr>\n      <th>562</th>\n      <td>14853</td>\n      <td>3.0</td>\n      <td>427</td>\n      <td>0.288056</td>\n      <td>2663.0</td>\n      <td>0.996669</td>\n    </tr>\n    <tr>\n      <th>565</th>\n      <td>14870</td>\n      <td>3.0</td>\n      <td>1879</td>\n      <td>0.617350</td>\n      <td>10202.0</td>\n      <td>166.972177</td>\n    </tr>\n  </tbody>\n</table>\n<p>228 rows × 6 columns</p>\n</div>"
     },
     "execution_count": 72,
     "metadata": {},
     "output_type": "execute_result"
    }
   ],
   "source": [
    "ev_station_count_ny = ev_station_count_df(ev_station_data, 'NY')\n",
    "ev_car_station_pop_ny = filter_car_station_data(ev_station_count_ny, newyork_data, us_zip_df_ny)\n",
    "ev_car_station_pop_ny"
   ],
   "metadata": {
    "collapsed": false,
    "pycharm": {
     "name": "#%%\n"
    }
   }
  },
  {
   "cell_type": "code",
   "execution_count": 73,
   "outputs": [
    {
     "data": {
      "text/plain": "<Figure size 432x288 with 1 Axes>",
      "image/png": "[encoded data removed]"
     },
     "metadata": {
      "needs_background": "light"
     },
     "output_type": "display_data"
    },
    {
     "data": {
      "text/plain": "<AxesSubplot:>"
     },
     "execution_count": 73,
     "metadata": {},
     "output_type": "execute_result"
    },
    {
     "data": {
      "text/plain": "<Figure size 432x288 with 2 Axes>",
      "image/png": "[encoded data removed]"
     },
     "metadata": {
      "needs_background": "light"
     },
     "output_type": "display_data"
    }
   ],
   "source": [
    "linear_model_main(ev_car_station_pop_ny, 'Station Count', 'PHEV Rate')\n",
    "corr_all = ev_car_station_pop_ny[['Station Count', 'PHEV Rate']].corr()\n",
    "sns.heatmap(corr_all, cmap='Blues', square=True, annot=True)"
   ],
   "metadata": {
    "collapsed": false,
    "pycharm": {
     "name": "#%%\n"
    }
   }
  },
  {
   "cell_type": "markdown",
   "source": [
    "As the scatter plot and heatmap show, the correlation between them is really low. EV station is not an independent variable for PHEV rate.\n"
   ],
   "metadata": {
    "collapsed": false
   }
  },
  {
   "cell_type": "code",
   "execution_count": 74,
   "outputs": [
    {
     "name": "stderr",
     "output_type": "stream",
     "text": [
      "/Users/hyc/opt/anaconda3/lib/python3.9/site-packages/statsmodels/tsa/tsatools.py:142: FutureWarning: In a future version of pandas all arguments of concat except for the argument 'objs' will be keyword-only\n",
      "  x = pd.concat(x[::order], 1)\n"
     ]
    },
    {
     "data": {
      "text/plain": "<class 'statsmodels.iolib.summary.Summary'>\n\"\"\"\n                            OLS Regression Results                            \n==============================================================================\nDep. Variable:          Station Count   R-squared:                       0.074\nModel:                            OLS   Adj. R-squared:                  0.057\nMethod:                 Least Squares   F-statistic:                     4.441\nDate:                Sun, 08 May 2022   Prob (F-statistic):            0.00179\nTime:                        02:27:50   Log-Likelihood:                -721.02\nNo. Observations:                 228   AIC:                             1452.\nDf Residuals:                     223   BIC:                             1469.\nDf Model:                           4                                         \nCovariance Type:            nonrobust                                         \n==============================================================================\n                 coef    std err          t      P>|t|      [0.025      0.975]\n------------------------------------------------------------------------------\nconst          6.2967      1.580      3.985      0.000       3.183       9.410\nCount          0.0002   8.99e-05      2.528      0.012    5.01e-05       0.000\nPHEV Rate     -2.9822      2.510     -1.188      0.236      -7.929       1.965\npopulation  3.183e-05   2.17e-05      1.468      0.143   -1.09e-05    7.45e-05\narea           0.0057      0.004      1.436      0.152      -0.002       0.014\n==============================================================================\nOmnibus:                      159.982   Durbin-Watson:                   1.713\nProb(Omnibus):                  0.000   Jarque-Bera (JB):             1576.138\nSkew:                           2.698   Prob(JB):                         0.00\nKurtosis:                      14.695   Cond. No.                     2.51e+05\n==============================================================================\n\nNotes:\n[1] Standard Errors assume that the covariance matrix of the errors is correctly specified.\n[2] The condition number is large, 2.51e+05. This might indicate that there are\nstrong multicollinearity or other numerical problems.\n\"\"\"",
      "text/html": "<table class=\"simpletable\">\n<caption>OLS Regression Results</caption>\n<tr>\n  <th>Dep. Variable:</th>      <td>Station Count</td>  <th>  R-squared:         </th> <td>   0.074</td>\n</tr>\n<tr>\n  <th>Model:</th>                   <td>OLS</td>       <th>  Adj. R-squared:    </th> <td>   0.057</td>\n</tr>\n<tr>\n  <th>Method:</th>             <td>Least Squares</td>  <th>  F-statistic:       </th> <td>   4.441</td>\n</tr>\n<tr>\n  <th>Date:</th>             <td>Sun, 08 May 2022</td> <th>  Prob (F-statistic):</th>  <td>0.00179</td>\n</tr>\n<tr>\n  <th>Time:</th>                 <td>02:27:50</td>     <th>  Log-Likelihood:    </th> <td> -721.02</td>\n</tr>\n<tr>\n  <th>No. Observations:</th>      <td>   228</td>      <th>  AIC:               </th> <td>   1452.</td>\n</tr>\n<tr>\n  <th>Df Residuals:</th>          <td>   223</td>      <th>  BIC:               </th> <td>   1469.</td>\n</tr>\n<tr>\n  <th>Df Model:</th>              <td>     4</td>      <th>                     </th>     <td> </td>   \n</tr>\n<tr>\n  <th>Covariance Type:</th>      <td>nonrobust</td>    <th>                     </th>     <td> </td>   \n</tr>\n</table>\n<table class=\"simpletable\">\n<tr>\n       <td></td>         <th>coef</th>     <th>std err</th>      <th>t</th>      <th>P>|t|</th>  <th>[0.025</th>    <th>0.975]</th>  \n</tr>\n<tr>\n  <th>const</th>      <td>    6.2967</td> <td>    1.580</td> <td>    3.985</td> <td> 0.000</td> <td>    3.183</td> <td>    9.410</td>\n</tr>\n<tr>\n  <th>Count</th>      <td>    0.0002</td> <td> 8.99e-05</td> <td>    2.528</td> <td> 0.012</td> <td> 5.01e-05</td> <td>    0.000</td>\n</tr>\n<tr>\n  <th>PHEV Rate</th>  <td>   -2.9822</td> <td>    2.510</td> <td>   -1.188</td> <td> 0.236</td> <td>   -7.929</td> <td>    1.965</td>\n</tr>\n<tr>\n  <th>population</th> <td> 3.183e-05</td> <td> 2.17e-05</td> <td>    1.468</td> <td> 0.143</td> <td>-1.09e-05</td> <td> 7.45e-05</td>\n</tr>\n<tr>\n  <th>area</th>       <td>    0.0057</td> <td>    0.004</td> <td>    1.436</td> <td> 0.152</td> <td>   -0.002</td> <td>    0.014</td>\n</tr>\n</table>\n<table class=\"simpletable\">\n<tr>\n  <th>Omnibus:</th>       <td>159.982</td> <th>  Durbin-Watson:     </th> <td>   1.713</td>\n</tr>\n<tr>\n  <th>Prob(Omnibus):</th> <td> 0.000</td>  <th>  Jarque-Bera (JB):  </th> <td>1576.138</td>\n</tr>\n<tr>\n  <th>Skew:</th>          <td> 2.698</td>  <th>  Prob(JB):          </th> <td>    0.00</td>\n</tr>\n<tr>\n  <th>Kurtosis:</th>      <td>14.695</td>  <th>  Cond. No.          </th> <td>2.51e+05</td>\n</tr>\n</table><br/><br/>Notes:<br/>[1] Standard Errors assume that the covariance matrix of the errors is correctly specified.<br/>[2] The condition number is large, 2.51e+05. This might indicate that there are<br/>strong multicollinearity or other numerical problems."
     },
     "execution_count": 74,
     "metadata": {},
     "output_type": "execute_result"
    }
   ],
   "source": [
    "x = sm.add_constant(ev_car_station_pop_ny.iloc[:, 2:])\n",
    "model = sm.OLS(ev_car_station_pop_ny['Station Count'], x)\n",
    "result = model.fit()\n",
    "result.summary()"
   ],
   "metadata": {
    "collapsed": false,
    "pycharm": {
     "name": "#%%\n"
    }
   }
  },
  {
   "cell_type": "markdown",
   "source": [
    "#### We also take EV station as the dependent variable, Using Multiple Linear Regression in python, The R-squared is 0.074 and each P-value is below 0.1. The linear regression model also cannot best explain the number of EV stations in each region.\n"
   ],
   "metadata": {
    "collapsed": false
   }
  },
  {
   "cell_type": "markdown",
   "source": [
    "## Washington State"
   ],
   "metadata": {
    "collapsed": false
   }
  },
  {
   "cell_type": "code",
   "execution_count": 75,
   "outputs": [
    {
     "data": {
      "text/plain": "     ZIP Code  Station Count  Count  PHEV Rate  population         area\n0       98001            4.0   9061   0.393334     34455.0    48.263062\n1       98002            7.0   3687   0.421481     33947.0    18.554329\n3       98004           57.0  44564   0.169509     37265.0    18.829266\n4       98005           13.0  20003   0.182573     21414.0    19.005947\n6       98007            4.0  14459   0.183208     28147.0    11.188981\n7       98011           11.0  16112   0.255400     34201.0    18.271717\n13      98027            3.0  24039   0.242939     30240.0   148.090108\n15      98029            3.0  25136   0.156270     29956.0    26.348843\n17      98032            3.0   7327   0.302170     38478.0    43.929672\n18      98033           12.0  47318   0.181538     39802.0    23.836388\n19      98036            6.0  14810   0.257326     40784.0    24.839515\n21      98040            4.0  40065   0.202646     25820.0    16.531148\n25      98052           13.0  71639   0.173313     71940.0    52.472648\n26      98055            4.0   6281   0.308709     24077.0    11.552709\n27      98056            3.0  16154   0.273864     36625.0    19.619134\n28      98057            6.0   5641   0.384329     11534.0    15.952974\n31      98065            3.0  12430   0.270877     15896.0   182.293578\n32      98072           10.0  21874   0.183826     24865.0    46.589844\n33      98075            3.0  30731   0.135043     24435.0    24.954044\n35      98101           17.0   9042   0.191882     14380.0     1.368351\n36      98102            3.0  13297   0.230127     25887.0     3.296951\n37      98103            5.0  35334   0.222986     54194.0    11.873973\n38      98104           18.0  18008   0.333241     15155.0     2.448383\n39      98105            9.0  24384   0.276001     52290.0     9.938231\n40      98107            4.0  17121   0.214765     28025.0     5.627171\n41      98108            3.0   9003   0.234700     24034.0    19.107966\n42      98109           49.0  24625   0.142416     31011.0     5.010664\n49      98121           51.0  11252   0.207963     20534.0     1.148659\n50      98122            6.0  21807   0.282753     41152.0     6.050430\n51      98125            4.0  22451   0.250234     44030.0    14.051380\n53      98133            4.0  19560   0.282055     49476.0    18.461194\n54      98134            9.0   1547   0.188106       779.0     8.588754\n59      98166            9.0  10079   0.312432     21772.0    14.960489\n61      98188            9.0   4843   0.370019     25292.0    20.892120\n65      98201            7.0   5310   0.349341     30645.0    48.565769\n66      98203            3.0   8632   0.329935     35901.0    30.627026\n67      98204            3.0   4386   0.344733     44152.0    18.604416\n70      98223            4.0   7066   0.301444     46027.0   818.985765\n71      98225            6.0  16713   0.261174     51606.0    32.556936\n72      98226            6.0  13885   0.331509     45380.0   274.033816\n76      98250            3.0   7785   0.219525      8318.0   158.438095\n81      98271            3.0   4907   0.345832     28473.0   117.366035\n82      98273            6.0   5109   0.330397     31725.0   217.443454\n90      98331            3.0    230   0.582609      6228.0  2395.384615\n94      98362            4.0   4998   0.480592     24997.0   318.433121\n100     98372            3.0   5163   0.394344     26823.0    34.543464\n102     98374            3.0   7761   0.376369     44293.0    42.422182\n107     98402            5.0   1574   0.332910      6920.0     3.055457\n110     98405            4.0   4412   0.363781     23671.0    10.615750\n114     98409            6.0   3703   0.344315     27918.0    18.494866\n115     98421            3.0    168   0.815476      1346.0    16.846058\n123     98499            3.0   3790   0.520317     32174.0    22.906165\n124     98501           13.0  27493   0.408504     43584.0    90.404480\n126     98503            3.0   8186   0.374298     42119.0    28.693371\n129     98516            4.0   8944   0.356328     25332.0    74.659593\n139     98607            3.0  19078   0.270521     32897.0   123.348331\n151     98684            3.0   6833   0.369238     31805.0    18.347274\n154     98826            6.0   3544   0.259876      7624.0  2628.965517\n158     98902            3.0   2151   0.529986     46728.0    24.102749\n174     99224            4.0   3560   0.445225     22172.0   307.517337",
      "text/html": "<div>\n<style scoped>\n    .dataframe tbody tr th:only-of-type {\n        vertical-align: middle;\n    }\n\n    .dataframe tbody tr th {\n        vertical-align: top;\n    }\n\n    .dataframe thead th {\n        text-align: right;\n    }\n</style>\n<table border=\"1\" class=\"dataframe\">\n  <thead>\n    <tr style=\"text-align: right;\">\n      <th></th>\n      <th>ZIP Code</th>\n      <th>Station Count</th>\n      <th>Count</th>\n      <th>PHEV Rate</th>\n      <th>population</th>\n      <th>area</th>\n    </tr>\n  </thead>\n  <tbody>\n    <tr>\n      <th>0</th>\n      <td>98001</td>\n      <td>4.0</td>\n      <td>9061</td>\n      <td>0.393334</td>\n      <td>34455.0</td>\n      <td>48.263062</td>\n    </tr>\n    <tr>\n      <th>1</th>\n      <td>98002</td>\n      <td>7.0</td>\n      <td>3687</td>\n      <td>0.421481</td>\n      <td>33947.0</td>\n      <td>18.554329</td>\n    </tr>\n    <tr>\n      <th>3</th>\n      <td>98004</td>\n      <td>57.0</td>\n      <td>44564</td>\n      <td>0.169509</td>\n      <td>37265.0</td>\n      <td>18.829266</td>\n    </tr>\n    <tr>\n      <th>4</th>\n      <td>98005</td>\n      <td>13.0</td>\n      <td>20003</td>\n      <td>0.182573</td>\n      <td>21414.0</td>\n      <td>19.005947</td>\n    </tr>\n    <tr>\n      <th>6</th>\n      <td>98007</td>\n      <td>4.0</td>\n      <td>14459</td>\n      <td>0.183208</td>\n      <td>28147.0</td>\n      <td>11.188981</td>\n    </tr>\n    <tr>\n      <th>7</th>\n      <td>98011</td>\n      <td>11.0</td>\n      <td>16112</td>\n      <td>0.255400</td>\n      <td>34201.0</td>\n      <td>18.271717</td>\n    </tr>\n    <tr>\n      <th>13</th>\n      <td>98027</td>\n      <td>3.0</td>\n      <td>24039</td>\n      <td>0.242939</td>\n      <td>30240.0</td>\n      <td>148.090108</td>\n    </tr>\n    <tr>\n      <th>15</th>\n      <td>98029</td>\n      <td>3.0</td>\n      <td>25136</td>\n      <td>0.156270</td>\n      <td>29956.0</td>\n      <td>26.348843</td>\n    </tr>\n    <tr>\n      <th>17</th>\n      <td>98032</td>\n      <td>3.0</td>\n      <td>7327</td>\n      <td>0.302170</td>\n      <td>38478.0</td>\n      <td>43.929672</td>\n    </tr>\n    <tr>\n      <th>18</th>\n      <td>98033</td>\n      <td>12.0</td>\n      <td>47318</td>\n      <td>0.181538</td>\n      <td>39802.0</td>\n      <td>23.836388</td>\n    </tr>\n    <tr>\n      <th>19</th>\n      <td>98036</td>\n      <td>6.0</td>\n      <td>14810</td>\n      <td>0.257326</td>\n      <td>40784.0</td>\n      <td>24.839515</td>\n    </tr>\n    <tr>\n      <th>21</th>\n      <td>98040</td>\n      <td>4.0</td>\n      <td>40065</td>\n      <td>0.202646</td>\n      <td>25820.0</td>\n      <td>16.531148</td>\n    </tr>\n    <tr>\n      <th>25</th>\n      <td>98052</td>\n      <td>13.0</td>\n      <td>71639</td>\n      <td>0.173313</td>\n      <td>71940.0</td>\n      <td>52.472648</td>\n    </tr>\n    <tr>\n      <th>26</th>\n      <td>98055</td>\n      <td>4.0</td>\n      <td>6281</td>\n      <td>0.308709</td>\n      <td>24077.0</td>\n      <td>11.552709</td>\n    </tr>\n    <tr>\n      <th>27</th>\n      <td>98056</td>\n      <td>3.0</td>\n      <td>16154</td>\n      <td>0.273864</td>\n      <td>36625.0</td>\n      <td>19.619134</td>\n    </tr>\n    <tr>\n      <th>28</th>\n      <td>98057</td>\n      <td>6.0</td>\n      <td>5641</td>\n      <td>0.384329</td>\n      <td>11534.0</td>\n      <td>15.952974</td>\n    </tr>\n    <tr>\n      <th>31</th>\n      <td>98065</td>\n      <td>3.0</td>\n      <td>12430</td>\n      <td>0.270877</td>\n      <td>15896.0</td>\n      <td>182.293578</td>\n    </tr>\n    <tr>\n      <th>32</th>\n      <td>98072</td>\n      <td>10.0</td>\n      <td>21874</td>\n      <td>0.183826</td>\n      <td>24865.0</td>\n      <td>46.589844</td>\n    </tr>\n    <tr>\n      <th>33</th>\n      <td>98075</td>\n      <td>3.0</td>\n      <td>30731</td>\n      <td>0.135043</td>\n      <td>24435.0</td>\n      <td>24.954044</td>\n    </tr>\n    <tr>\n      <th>35</th>\n      <td>98101</td>\n      <td>17.0</td>\n      <td>9042</td>\n      <td>0.191882</td>\n      <td>14380.0</td>\n      <td>1.368351</td>\n    </tr>\n    <tr>\n      <th>36</th>\n      <td>98102</td>\n      <td>3.0</td>\n      <td>13297</td>\n      <td>0.230127</td>\n      <td>25887.0</td>\n      <td>3.296951</td>\n    </tr>\n    <tr>\n      <th>37</th>\n      <td>98103</td>\n      <td>5.0</td>\n      <td>35334</td>\n      <td>0.222986</td>\n      <td>54194.0</td>\n      <td>11.873973</td>\n    </tr>\n    <tr>\n      <th>38</th>\n      <td>98104</td>\n      <td>18.0</td>\n      <td>18008</td>\n      <td>0.333241</td>\n      <td>15155.0</td>\n      <td>2.448383</td>\n    </tr>\n    <tr>\n      <th>39</th>\n      <td>98105</td>\n      <td>9.0</td>\n      <td>24384</td>\n      <td>0.276001</td>\n      <td>52290.0</td>\n      <td>9.938231</td>\n    </tr>\n    <tr>\n      <th>40</th>\n      <td>98107</td>\n      <td>4.0</td>\n      <td>17121</td>\n      <td>0.214765</td>\n      <td>28025.0</td>\n      <td>5.627171</td>\n    </tr>\n    <tr>\n      <th>41</th>\n      <td>98108</td>\n      <td>3.0</td>\n      <td>9003</td>\n      <td>0.234700</td>\n      <td>24034.0</td>\n      <td>19.107966</td>\n    </tr>\n    <tr>\n      <th>42</th>\n      <td>98109</td>\n      <td>49.0</td>\n      <td>24625</td>\n      <td>0.142416</td>\n      <td>31011.0</td>\n      <td>5.010664</td>\n    </tr>\n    <tr>\n      <th>49</th>\n      <td>98121</td>\n      <td>51.0</td>\n      <td>11252</td>\n      <td>0.207963</td>\n      <td>20534.0</td>\n      <td>1.148659</td>\n    </tr>\n    <tr>\n      <th>50</th>\n      <td>98122</td>\n      <td>6.0</td>\n      <td>21807</td>\n      <td>0.282753</td>\n      <td>41152.0</td>\n      <td>6.050430</td>\n    </tr>\n    <tr>\n      <th>51</th>\n      <td>98125</td>\n      <td>4.0</td>\n      <td>22451</td>\n      <td>0.250234</td>\n      <td>44030.0</td>\n      <td>14.051380</td>\n    </tr>\n    <tr>\n      <th>53</th>\n      <td>98133</td>\n      <td>4.0</td>\n      <td>19560</td>\n      <td>0.282055</td>\n      <td>49476.0</td>\n      <td>18.461194</td>\n    </tr>\n    <tr>\n      <th>54</th>\n      <td>98134</td>\n      <td>9.0</td>\n      <td>1547</td>\n      <td>0.188106</td>\n      <td>779.0</td>\n      <td>8.588754</td>\n    </tr>\n    <tr>\n      <th>59</th>\n      <td>98166</td>\n      <td>9.0</td>\n      <td>10079</td>\n      <td>0.312432</td>\n      <td>21772.0</td>\n      <td>14.960489</td>\n    </tr>\n    <tr>\n      <th>61</th>\n      <td>98188</td>\n      <td>9.0</td>\n      <td>4843</td>\n      <td>0.370019</td>\n      <td>25292.0</td>\n      <td>20.892120</td>\n    </tr>\n    <tr>\n      <th>65</th>\n      <td>98201</td>\n      <td>7.0</td>\n      <td>5310</td>\n      <td>0.349341</td>\n      <td>30645.0</td>\n      <td>48.565769</td>\n    </tr>\n    <tr>\n      <th>66</th>\n      <td>98203</td>\n      <td>3.0</td>\n      <td>8632</td>\n      <td>0.329935</td>\n      <td>35901.0</td>\n      <td>30.627026</td>\n    </tr>\n    <tr>\n      <th>67</th>\n      <td>98204</td>\n      <td>3.0</td>\n      <td>4386</td>\n      <td>0.344733</td>\n      <td>44152.0</td>\n      <td>18.604416</td>\n    </tr>\n    <tr>\n      <th>70</th>\n      <td>98223</td>\n      <td>4.0</td>\n      <td>7066</td>\n      <td>0.301444</td>\n      <td>46027.0</td>\n      <td>818.985765</td>\n    </tr>\n    <tr>\n      <th>71</th>\n      <td>98225</td>\n      <td>6.0</td>\n      <td>16713</td>\n      <td>0.261174</td>\n      <td>51606.0</td>\n      <td>32.556936</td>\n    </tr>\n    <tr>\n      <th>72</th>\n      <td>98226</td>\n      <td>6.0</td>\n      <td>13885</td>\n      <td>0.331509</td>\n      <td>45380.0</td>\n      <td>274.033816</td>\n    </tr>\n    <tr>\n      <th>76</th>\n      <td>98250</td>\n      <td>3.0</td>\n      <td>7785</td>\n      <td>0.219525</td>\n      <td>8318.0</td>\n      <td>158.438095</td>\n    </tr>\n    <tr>\n      <th>81</th>\n      <td>98271</td>\n      <td>3.0</td>\n      <td>4907</td>\n      <td>0.345832</td>\n      <td>28473.0</td>\n      <td>117.366035</td>\n    </tr>\n    <tr>\n      <th>82</th>\n      <td>98273</td>\n      <td>6.0</td>\n      <td>5109</td>\n      <td>0.330397</td>\n      <td>31725.0</td>\n      <td>217.443454</td>\n    </tr>\n    <tr>\n      <th>90</th>\n      <td>98331</td>\n      <td>3.0</td>\n      <td>230</td>\n      <td>0.582609</td>\n      <td>6228.0</td>\n      <td>2395.384615</td>\n    </tr>\n    <tr>\n      <th>94</th>\n      <td>98362</td>\n      <td>4.0</td>\n      <td>4998</td>\n      <td>0.480592</td>\n      <td>24997.0</td>\n      <td>318.433121</td>\n    </tr>\n    <tr>\n      <th>100</th>\n      <td>98372</td>\n      <td>3.0</td>\n      <td>5163</td>\n      <td>0.394344</td>\n      <td>26823.0</td>\n      <td>34.543464</td>\n    </tr>\n    <tr>\n      <th>102</th>\n      <td>98374</td>\n      <td>3.0</td>\n      <td>7761</td>\n      <td>0.376369</td>\n      <td>44293.0</td>\n      <td>42.422182</td>\n    </tr>\n    <tr>\n      <th>107</th>\n      <td>98402</td>\n      <td>5.0</td>\n      <td>1574</td>\n      <td>0.332910</td>\n      <td>6920.0</td>\n      <td>3.055457</td>\n    </tr>\n    <tr>\n      <th>110</th>\n      <td>98405</td>\n      <td>4.0</td>\n      <td>4412</td>\n      <td>0.363781</td>\n      <td>23671.0</td>\n      <td>10.615750</td>\n    </tr>\n    <tr>\n      <th>114</th>\n      <td>98409</td>\n      <td>6.0</td>\n      <td>3703</td>\n      <td>0.344315</td>\n      <td>27918.0</td>\n      <td>18.494866</td>\n    </tr>\n    <tr>\n      <th>115</th>\n      <td>98421</td>\n      <td>3.0</td>\n      <td>168</td>\n      <td>0.815476</td>\n      <td>1346.0</td>\n      <td>16.846058</td>\n    </tr>\n    <tr>\n      <th>123</th>\n      <td>98499</td>\n      <td>3.0</td>\n      <td>3790</td>\n      <td>0.520317</td>\n      <td>32174.0</td>\n      <td>22.906165</td>\n    </tr>\n    <tr>\n      <th>124</th>\n      <td>98501</td>\n      <td>13.0</td>\n      <td>27493</td>\n      <td>0.408504</td>\n      <td>43584.0</td>\n      <td>90.404480</td>\n    </tr>\n    <tr>\n      <th>126</th>\n      <td>98503</td>\n      <td>3.0</td>\n      <td>8186</td>\n      <td>0.374298</td>\n      <td>42119.0</td>\n      <td>28.693371</td>\n    </tr>\n    <tr>\n      <th>129</th>\n      <td>98516</td>\n      <td>4.0</td>\n      <td>8944</td>\n      <td>0.356328</td>\n      <td>25332.0</td>\n      <td>74.659593</td>\n    </tr>\n    <tr>\n      <th>139</th>\n      <td>98607</td>\n      <td>3.0</td>\n      <td>19078</td>\n      <td>0.270521</td>\n      <td>32897.0</td>\n      <td>123.348331</td>\n    </tr>\n    <tr>\n      <th>151</th>\n      <td>98684</td>\n      <td>3.0</td>\n      <td>6833</td>\n      <td>0.369238</td>\n      <td>31805.0</td>\n      <td>18.347274</td>\n    </tr>\n    <tr>\n      <th>154</th>\n      <td>98826</td>\n      <td>6.0</td>\n      <td>3544</td>\n      <td>0.259876</td>\n      <td>7624.0</td>\n      <td>2628.965517</td>\n    </tr>\n    <tr>\n      <th>158</th>\n      <td>98902</td>\n      <td>3.0</td>\n      <td>2151</td>\n      <td>0.529986</td>\n      <td>46728.0</td>\n      <td>24.102749</td>\n    </tr>\n    <tr>\n      <th>174</th>\n      <td>99224</td>\n      <td>4.0</td>\n      <td>3560</td>\n      <td>0.445225</td>\n      <td>22172.0</td>\n      <td>307.517337</td>\n    </tr>\n  </tbody>\n</table>\n</div>"
     },
     "execution_count": 75,
     "metadata": {},
     "output_type": "execute_result"
    }
   ],
   "source": [
    "ev_station_count_wa = ev_station_count_df(ev_station_data, 'WA')\n",
    "ev_car_station_pop_wa = filter_car_station_data(ev_station_count_wa, washington_data, us_zip_df_wa)\n",
    "ev_car_station_pop_wa"
   ],
   "metadata": {
    "collapsed": false,
    "pycharm": {
     "name": "#%%\n"
    }
   }
  },
  {
   "cell_type": "code",
   "execution_count": 76,
   "outputs": [
    {
     "data": {
      "text/plain": "<Figure size 432x288 with 1 Axes>",
      "image/png": "[encoded data removed]"
     },
     "metadata": {
      "needs_background": "light"
     },
     "output_type": "display_data"
    },
    {
     "data": {
      "text/plain": "<AxesSubplot:>"
     },
     "execution_count": 76,
     "metadata": {},
     "output_type": "execute_result"
    },
    {
     "data": {
      "text/plain": "<Figure size 432x288 with 2 Axes>",
      "image/png": "[encoded data removed]"
     },
     "metadata": {
      "needs_background": "light"
     },
     "output_type": "display_data"
    }
   ],
   "source": [
    "linear_model_main(ev_car_station_pop_wa, 'Station Count', 'PHEV Rate')\n",
    "corr_all_wa = ev_car_station_pop_wa[['Station Count', 'PHEV Rate']].corr()\n",
    "sns.heatmap(corr_all_wa, cmap='Blues', square=True, annot=True)"
   ],
   "metadata": {
    "collapsed": false,
    "pycharm": {
     "name": "#%%\n"
    }
   }
  },
  {
   "cell_type": "code",
   "execution_count": 77,
   "outputs": [
    {
     "name": "stderr",
     "output_type": "stream",
     "text": [
      "/Users/hyc/opt/anaconda3/lib/python3.9/site-packages/statsmodels/tsa/tsatools.py:142: FutureWarning: In a future version of pandas all arguments of concat except for the argument 'objs' will be keyword-only\n",
      "  x = pd.concat(x[::order], 1)\n"
     ]
    },
    {
     "data": {
      "text/plain": "<class 'statsmodels.iolib.summary.Summary'>\n\"\"\"\n                            OLS Regression Results                            \n==============================================================================\nDep. Variable:          Station Count   R-squared:                       0.174\nModel:                            OLS   Adj. R-squared:                  0.114\nMethod:                 Least Squares   F-statistic:                     2.901\nDate:                Sun, 08 May 2022   Prob (F-statistic):             0.0299\nTime:                        02:27:51   Log-Likelihood:                -222.12\nNo. Observations:                  60   AIC:                             454.2\nDf Residuals:                      55   BIC:                             464.7\nDf Model:                           4                                         \nCovariance Type:            nonrobust                                         \n==============================================================================\n                 coef    std err          t      P>|t|      [0.025      0.975]\n------------------------------------------------------------------------------\nconst         14.2321      5.829      2.442      0.018       2.551      25.914\nCount          0.0003      0.000      2.004      0.050   -7.03e-08       0.001\nPHEV Rate    -14.8822     13.817     -1.077      0.286     -42.572      12.807\npopulation    -0.0002      0.000     -1.544      0.128      -0.000    5.37e-05\narea          -0.0014      0.003     -0.461      0.646      -0.008       0.005\n==============================================================================\nOmnibus:                       58.618   Durbin-Watson:                   1.447\nProb(Omnibus):                  0.000   Jarque-Bera (JB):              291.668\nSkew:                           2.854   Prob(JB):                     4.63e-64\nKurtosis:                      12.170   Cond. No.                     4.12e+05\n==============================================================================\n\nNotes:\n[1] Standard Errors assume that the covariance matrix of the errors is correctly specified.\n[2] The condition number is large, 4.12e+05. This might indicate that there are\nstrong multicollinearity or other numerical problems.\n\"\"\"",
      "text/html": "<table class=\"simpletable\">\n<caption>OLS Regression Results</caption>\n<tr>\n  <th>Dep. Variable:</th>      <td>Station Count</td>  <th>  R-squared:         </th> <td>   0.174</td>\n</tr>\n<tr>\n  <th>Model:</th>                   <td>OLS</td>       <th>  Adj. R-squared:    </th> <td>   0.114</td>\n</tr>\n<tr>\n  <th>Method:</th>             <td>Least Squares</td>  <th>  F-statistic:       </th> <td>   2.901</td>\n</tr>\n<tr>\n  <th>Date:</th>             <td>Sun, 08 May 2022</td> <th>  Prob (F-statistic):</th>  <td>0.0299</td> \n</tr>\n<tr>\n  <th>Time:</th>                 <td>02:27:51</td>     <th>  Log-Likelihood:    </th> <td> -222.12</td>\n</tr>\n<tr>\n  <th>No. Observations:</th>      <td>    60</td>      <th>  AIC:               </th> <td>   454.2</td>\n</tr>\n<tr>\n  <th>Df Residuals:</th>          <td>    55</td>      <th>  BIC:               </th> <td>   464.7</td>\n</tr>\n<tr>\n  <th>Df Model:</th>              <td>     4</td>      <th>                     </th>     <td> </td>   \n</tr>\n<tr>\n  <th>Covariance Type:</th>      <td>nonrobust</td>    <th>                     </th>     <td> </td>   \n</tr>\n</table>\n<table class=\"simpletable\">\n<tr>\n       <td></td>         <th>coef</th>     <th>std err</th>      <th>t</th>      <th>P>|t|</th>  <th>[0.025</th>    <th>0.975]</th>  \n</tr>\n<tr>\n  <th>const</th>      <td>   14.2321</td> <td>    5.829</td> <td>    2.442</td> <td> 0.018</td> <td>    2.551</td> <td>   25.914</td>\n</tr>\n<tr>\n  <th>Count</th>      <td>    0.0003</td> <td>    0.000</td> <td>    2.004</td> <td> 0.050</td> <td>-7.03e-08</td> <td>    0.001</td>\n</tr>\n<tr>\n  <th>PHEV Rate</th>  <td>  -14.8822</td> <td>   13.817</td> <td>   -1.077</td> <td> 0.286</td> <td>  -42.572</td> <td>   12.807</td>\n</tr>\n<tr>\n  <th>population</th> <td>   -0.0002</td> <td>    0.000</td> <td>   -1.544</td> <td> 0.128</td> <td>   -0.000</td> <td> 5.37e-05</td>\n</tr>\n<tr>\n  <th>area</th>       <td>   -0.0014</td> <td>    0.003</td> <td>   -0.461</td> <td> 0.646</td> <td>   -0.008</td> <td>    0.005</td>\n</tr>\n</table>\n<table class=\"simpletable\">\n<tr>\n  <th>Omnibus:</th>       <td>58.618</td> <th>  Durbin-Watson:     </th> <td>   1.447</td>\n</tr>\n<tr>\n  <th>Prob(Omnibus):</th> <td> 0.000</td> <th>  Jarque-Bera (JB):  </th> <td> 291.668</td>\n</tr>\n<tr>\n  <th>Skew:</th>          <td> 2.854</td> <th>  Prob(JB):          </th> <td>4.63e-64</td>\n</tr>\n<tr>\n  <th>Kurtosis:</th>      <td>12.170</td> <th>  Cond. No.          </th> <td>4.12e+05</td>\n</tr>\n</table><br/><br/>Notes:<br/>[1] Standard Errors assume that the covariance matrix of the errors is correctly specified.<br/>[2] The condition number is large, 4.12e+05. This might indicate that there are<br/>strong multicollinearity or other numerical problems."
     },
     "execution_count": 77,
     "metadata": {},
     "output_type": "execute_result"
    }
   ],
   "source": [
    "x = sm.add_constant(ev_car_station_pop_wa.iloc[:, 2:])\n",
    "model = sm.OLS(ev_car_station_pop_wa['Station Count'], x)\n",
    "result = model.fit()\n",
    "result.summary()"
   ],
   "metadata": {
    "collapsed": false,
    "pycharm": {
     "name": "#%%\n"
    }
   }
  },
  {
   "cell_type": "markdown",
   "source": [
    "### In this way, we may assume that there is no or very small relationship between EV owner’s decision and Charging Station. EV consumers purchase specific cars for other reasons. In fact, Even the Battery Electric Vehicle, energy supports them to drive for hundreds of kilometers. So in the face of technology, the reality factor has been greatly mitigated."
   ],
   "metadata": {
    "collapsed": false,
    "pycharm": {
     "name": "#%% md\n"
    }
   }
  }
 ],
 "metadata": {
  "kernelspec": {
   "display_name": "Python 3",
   "language": "python",
   "name": "python3"
  },
  "language_info": {
   "codemirror_mode": {
    "name": "ipython",
    "version": 2
   },
   "file_extension": ".py",
   "mimetype": "text/x-python",
   "name": "python",
   "nbconvert_exporter": "python",
   "pygments_lexer": "ipython2",
   "version": "2.7.6"
  }
 },
 "nbformat": 4,
 "nbformat_minor": 0
}