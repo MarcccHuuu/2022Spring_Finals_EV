{
 "cells": [
  {
   "cell_type": "markdown",
   "metadata": {
    "collapsed": true,
    "pycharm": {
     "name": "#%% md\n"
    }
   },
   "source": [
    "# Hypothesis3：\n",
    "# We expect there is a strong positive correlation between the number of electric and plug-in hybrid vehicles sold compared to the number of public charging stations in the same region."
   ]
  },
  {
   "cell_type": "markdown",
   "source": [
    "### In Hypothesis 3, after the analysis of the previous Hypothesis 2, we want to continue to explore what factors are related to the number of electric vehicles. We first think of the number of charging piles, because the density of charging piles determines the difficulty of charging electric vehicles in this area. Therefore, we think that the number of charging piles will affect the development of electric vehicles in a region. Therefore, we use univariate linear regression to analyze the linear relationship between these two variables."
   ],
   "metadata": {
    "collapsed": false,
    "pycharm": {
     "name": "#%% md\n"
    }
   }
  },
  {
   "cell_type": "code",
   "execution_count": 3,
   "outputs": [],
   "source": [
    "import pandas as pd\n",
    "from pandas import DataFrame\n",
    "import os.path\n",
    "import matplotlib.pyplot as plt\n",
    "from pylab import *\n",
    "from sklearn.linear_model import LinearRegression\n",
    "import numpy as np\n",
    "import seaborn as sns\n",
    "import doctest"
   ],
   "metadata": {
    "collapsed": false,
    "pycharm": {
     "name": "#%%\n"
    }
   }
  },
  {
   "cell_type": "markdown",
   "source": [
    "## US Population in Each Zip"
   ],
   "metadata": {
    "collapsed": false,
    "pycharm": {
     "name": "#%% md\n"
    }
   }
  },
  {
   "cell_type": "code",
   "execution_count": 4,
   "outputs": [],
   "source": [
    "us_zip_df = pd.read_csv('data/uszips.csv')"
   ],
   "metadata": {
    "collapsed": false,
    "pycharm": {
     "name": "#%%\n"
    }
   }
  },
  {
   "cell_type": "code",
   "execution_count": 5,
   "outputs": [],
   "source": [
    "us_zip_df = DataFrame(us_zip_df)"
   ],
   "metadata": {
    "collapsed": false,
    "pycharm": {
     "name": "#%%\n"
    }
   }
  },
  {
   "cell_type": "code",
   "execution_count": 6,
   "outputs": [],
   "source": [
    "us_zip_df = us_zip_df[['zip','state_id','population']]"
   ],
   "metadata": {
    "collapsed": false,
    "pycharm": {
     "name": "#%%\n"
    }
   }
  },
  {
   "cell_type": "markdown",
   "source": [
    "NY Population in Each Zip"
   ],
   "metadata": {
    "collapsed": false,
    "pycharm": {
     "name": "#%% md\n"
    }
   }
  },
  {
   "cell_type": "code",
   "execution_count": 7,
   "outputs": [],
   "source": [
    "us_zip_df_ny = us_zip_df[us_zip_df['state_id'] == 'NY']"
   ],
   "metadata": {
    "collapsed": false,
    "pycharm": {
     "name": "#%%\n"
    }
   }
  },
  {
   "cell_type": "code",
   "execution_count": 8,
   "outputs": [],
   "source": [
    "us_zip_df_ny = us_zip_df_ny[['zip','population']]"
   ],
   "metadata": {
    "collapsed": false,
    "pycharm": {
     "name": "#%%\n"
    }
   }
  },
  {
   "cell_type": "code",
   "execution_count": 9,
   "outputs": [],
   "source": [
    "us_zip_df_ny = us_zip_df_ny.rename(columns={'zip':'ZIP Code'})"
   ],
   "metadata": {
    "collapsed": false,
    "pycharm": {
     "name": "#%%\n"
    }
   }
  },
  {
   "cell_type": "markdown",
   "source": [
    "TX Population in Each Zip"
   ],
   "metadata": {
    "collapsed": false,
    "pycharm": {
     "name": "#%% md\n"
    }
   }
  },
  {
   "cell_type": "code",
   "source": [
    "us_zip_df_tx = us_zip_df[us_zip_df['state_id'] == 'TX']"
   ],
   "metadata": {
    "collapsed": false,
    "pycharm": {
     "name": "#%%\n"
    }
   },
   "execution_count": 10,
   "outputs": []
  },
  {
   "cell_type": "code",
   "execution_count": 11,
   "outputs": [],
   "source": [
    "us_zip_df_tx = us_zip_df_tx[['zip', 'population']]\n",
    "us_zip_df_tx = us_zip_df_tx.rename(columns={'zip':'ZIP Code'})"
   ],
   "metadata": {
    "collapsed": false,
    "pycharm": {
     "name": "#%%\n"
    }
   }
  },
  {
   "cell_type": "code",
   "execution_count": 12,
   "outputs": [],
   "source": [
    "us_zip_df_tx = us_zip_df_tx.fillna(0)"
   ],
   "metadata": {
    "collapsed": false,
    "pycharm": {
     "name": "#%%\n"
    }
   }
  },
  {
   "cell_type": "markdown",
   "source": [
    "WA Population in Each Zip"
   ],
   "metadata": {
    "collapsed": false,
    "pycharm": {
     "name": "#%% md\n"
    }
   }
  },
  {
   "cell_type": "code",
   "source": [
    "us_zip_df_wa = us_zip_df[us_zip_df['state_id'] == 'WA']"
   ],
   "metadata": {
    "collapsed": false,
    "pycharm": {
     "name": "#%%\n"
    }
   },
   "execution_count": 13,
   "outputs": []
  },
  {
   "cell_type": "code",
   "execution_count": 14,
   "outputs": [],
   "source": [
    "us_zip_df_wa = us_zip_df_wa[['zip', 'population']]\n",
    "us_zip_df_wa = us_zip_df_wa.rename(columns={'zip':'ZIP Code'})\n"
   ],
   "metadata": {
    "collapsed": false,
    "pycharm": {
     "name": "#%%\n"
    }
   }
  },
  {
   "cell_type": "code",
   "execution_count": 15,
   "outputs": [],
   "source": [
    "us_zip_df_wa = us_zip_df_wa.fillna(0)"
   ],
   "metadata": {
    "collapsed": false,
    "pycharm": {
     "name": "#%%\n"
    }
   }
  },
  {
   "cell_type": "markdown",
   "source": [
    "## Ev Station Count in Each Zip Code"
   ],
   "metadata": {
    "collapsed": false,
    "pycharm": {
     "name": "#%% md\n"
    }
   }
  },
  {
   "cell_type": "code",
   "source": [
    "ev_station_data = pd.read_csv('data/ev_stations_v1.csv')\n",
    "ev_station_data = DataFrame(ev_station_data)"
   ],
   "metadata": {
    "collapsed": false,
    "pycharm": {
     "name": "#%%\n"
    }
   },
   "execution_count": 30,
   "outputs": [
    {
     "name": "stderr",
     "output_type": "stream",
     "text": [
      "/Users/hyc/opt/anaconda3/lib/python3.9/site-packages/IPython/core/interactiveshell.py:3444: DtypeWarning: Columns (6,20) have mixed types.Specify dtype option on import or set low_memory=False.\n",
      "  exec(code_obj, self.user_global_ns, self.user_ns)\n"
     ]
    }
   ]
  },
  {
   "cell_type": "code",
   "execution_count": 31,
   "outputs": [
    {
     "data": {
      "text/plain": "  Fuel Type Code                       Station Name         Street Address  \\\n0           ELEC           LADWP - Truesdale Center     11797 Truesdale St   \n1           ELEC    LADWP - West LA District Office  1394 S Sepulveda Blvd   \n2           ELEC      Los Angeles Convention Center     1201 S Figueroa St   \n3           ELEC      LADWP - John Ferraro Building          111 N Hope St   \n4           ELEC         LADWP - Haynes Power Plant          6801 E 2nd St   \n5           ELEC       State Capitol Parking Garage           1303 10th St   \n6           ELEC  LADWP - Harbor Generating Station       161 N Island Ave   \n7           ELEC                LADWP - Sylmar West   13201 Sepulveda Blvd   \n8           ELEC          LADWP - EV Service Center         1630 N Main St   \n9           ELEC             LADWP - Fairfax Center     2311 S Fairfax Ave   \n\n    Intersection Directions         City State    ZIP  Plus4 Station Phone  \\\n0                       NaN   Sun Valley    CA  91352    NaN           NaN   \n1                       NaN  Los Angeles    CA  90024    NaN           NaN   \n2  West hall and South hall  Los Angeles    CA  90015    NaN  213-741-1151   \n3               Across Hope  Los Angeles    CA  90012    NaN           NaN   \n4                       NaN   Long Beach    CA  90803    NaN           NaN   \n5          At 12th and N St   Sacramento    CA  95814    NaN           NaN   \n6                   At B St   Wilmington    CA  90744    NaN           NaN   \n7                       NaN       Sylmar    CA  91342    NaN           NaN   \n8                       NaN  Los Angeles    CA  90012    NaN           NaN   \n9                       NaN  Los Angeles    CA  90016    NaN           NaN   \n\n  Status Code  ... EV Pricing (French) LPG Nozzle Types Hydrogen Pressures  \\\n0           E  ...                 NaN              NaN                NaN   \n1           E  ...                 NaN              NaN                NaN   \n2           E  ...                 NaN              NaN                NaN   \n3           E  ...                 NaN              NaN                NaN   \n4           E  ...                 NaN              NaN                NaN   \n5           E  ...                 NaN              NaN                NaN   \n6           E  ...                 NaN              NaN                NaN   \n7           E  ...                 NaN              NaN                NaN   \n8           E  ...                 NaN              NaN                NaN   \n9           E  ...                 NaN              NaN                NaN   \n\n  Hydrogen Standards  CNG Fill Type Code  CNG PSI  CNG Vehicle Class  \\\n0                NaN                 NaN      NaN                NaN   \n1                NaN                 NaN      NaN                NaN   \n2                NaN                 NaN      NaN                NaN   \n3                NaN                 NaN      NaN                NaN   \n4                NaN                 NaN      NaN                NaN   \n5                NaN                 NaN      NaN                NaN   \n6                NaN                 NaN      NaN                NaN   \n7                NaN                 NaN      NaN                NaN   \n8                NaN                 NaN      NaN                NaN   \n9                NaN                 NaN      NaN                NaN   \n\n   LNG Vehicle Class  EV On-Site Renewable Source  Restricted Access  \n0                NaN                          NaN                NaN  \n1                NaN                          NaN                NaN  \n2                NaN                          NaN                NaN  \n3                NaN                          NaN                NaN  \n4                NaN                          NaN                NaN  \n5                NaN                          NaN                NaN  \n6                NaN                          NaN                NaN  \n7                NaN                          NaN                NaN  \n8                NaN                          NaN                NaN  \n9                NaN                          NaN                NaN  \n\n[10 rows x 65 columns]",
      "text/html": "<div>\n<style scoped>\n    .dataframe tbody tr th:only-of-type {\n        vertical-align: middle;\n    }\n\n    .dataframe tbody tr th {\n        vertical-align: top;\n    }\n\n    .dataframe thead th {\n        text-align: right;\n    }\n</style>\n<table border=\"1\" class=\"dataframe\">\n  <thead>\n    <tr style=\"text-align: right;\">\n      <th></th>\n      <th>Fuel Type Code</th>\n      <th>Station Name</th>\n      <th>Street Address</th>\n      <th>Intersection Directions</th>\n      <th>City</th>\n      <th>State</th>\n      <th>ZIP</th>\n      <th>Plus4</th>\n      <th>Station Phone</th>\n      <th>Status Code</th>\n      <th>...</th>\n      <th>EV Pricing (French)</th>\n      <th>LPG Nozzle Types</th>\n      <th>Hydrogen Pressures</th>\n      <th>Hydrogen Standards</th>\n      <th>CNG Fill Type Code</th>\n      <th>CNG PSI</th>\n      <th>CNG Vehicle Class</th>\n      <th>LNG Vehicle Class</th>\n      <th>EV On-Site Renewable Source</th>\n      <th>Restricted Access</th>\n    </tr>\n  </thead>\n  <tbody>\n    <tr>\n      <th>0</th>\n      <td>ELEC</td>\n      <td>LADWP - Truesdale Center</td>\n      <td>11797 Truesdale St</td>\n      <td>NaN</td>\n      <td>Sun Valley</td>\n      <td>CA</td>\n      <td>91352</td>\n      <td>NaN</td>\n      <td>NaN</td>\n      <td>E</td>\n      <td>...</td>\n      <td>NaN</td>\n      <td>NaN</td>\n      <td>NaN</td>\n      <td>NaN</td>\n      <td>NaN</td>\n      <td>NaN</td>\n      <td>NaN</td>\n      <td>NaN</td>\n      <td>NaN</td>\n      <td>NaN</td>\n    </tr>\n    <tr>\n      <th>1</th>\n      <td>ELEC</td>\n      <td>LADWP - West LA District Office</td>\n      <td>1394 S Sepulveda Blvd</td>\n      <td>NaN</td>\n      <td>Los Angeles</td>\n      <td>CA</td>\n      <td>90024</td>\n      <td>NaN</td>\n      <td>NaN</td>\n      <td>E</td>\n      <td>...</td>\n      <td>NaN</td>\n      <td>NaN</td>\n      <td>NaN</td>\n      <td>NaN</td>\n      <td>NaN</td>\n      <td>NaN</td>\n      <td>NaN</td>\n      <td>NaN</td>\n      <td>NaN</td>\n      <td>NaN</td>\n    </tr>\n    <tr>\n      <th>2</th>\n      <td>ELEC</td>\n      <td>Los Angeles Convention Center</td>\n      <td>1201 S Figueroa St</td>\n      <td>West hall and South hall</td>\n      <td>Los Angeles</td>\n      <td>CA</td>\n      <td>90015</td>\n      <td>NaN</td>\n      <td>213-741-1151</td>\n      <td>E</td>\n      <td>...</td>\n      <td>NaN</td>\n      <td>NaN</td>\n      <td>NaN</td>\n      <td>NaN</td>\n      <td>NaN</td>\n      <td>NaN</td>\n      <td>NaN</td>\n      <td>NaN</td>\n      <td>NaN</td>\n      <td>NaN</td>\n    </tr>\n    <tr>\n      <th>3</th>\n      <td>ELEC</td>\n      <td>LADWP - John Ferraro Building</td>\n      <td>111 N Hope St</td>\n      <td>Across Hope</td>\n      <td>Los Angeles</td>\n      <td>CA</td>\n      <td>90012</td>\n      <td>NaN</td>\n      <td>NaN</td>\n      <td>E</td>\n      <td>...</td>\n      <td>NaN</td>\n      <td>NaN</td>\n      <td>NaN</td>\n      <td>NaN</td>\n      <td>NaN</td>\n      <td>NaN</td>\n      <td>NaN</td>\n      <td>NaN</td>\n      <td>NaN</td>\n      <td>NaN</td>\n    </tr>\n    <tr>\n      <th>4</th>\n      <td>ELEC</td>\n      <td>LADWP - Haynes Power Plant</td>\n      <td>6801 E 2nd St</td>\n      <td>NaN</td>\n      <td>Long Beach</td>\n      <td>CA</td>\n      <td>90803</td>\n      <td>NaN</td>\n      <td>NaN</td>\n      <td>E</td>\n      <td>...</td>\n      <td>NaN</td>\n      <td>NaN</td>\n      <td>NaN</td>\n      <td>NaN</td>\n      <td>NaN</td>\n      <td>NaN</td>\n      <td>NaN</td>\n      <td>NaN</td>\n      <td>NaN</td>\n      <td>NaN</td>\n    </tr>\n    <tr>\n      <th>5</th>\n      <td>ELEC</td>\n      <td>State Capitol Parking Garage</td>\n      <td>1303 10th St</td>\n      <td>At 12th and N St</td>\n      <td>Sacramento</td>\n      <td>CA</td>\n      <td>95814</td>\n      <td>NaN</td>\n      <td>NaN</td>\n      <td>E</td>\n      <td>...</td>\n      <td>NaN</td>\n      <td>NaN</td>\n      <td>NaN</td>\n      <td>NaN</td>\n      <td>NaN</td>\n      <td>NaN</td>\n      <td>NaN</td>\n      <td>NaN</td>\n      <td>NaN</td>\n      <td>NaN</td>\n    </tr>\n    <tr>\n      <th>6</th>\n      <td>ELEC</td>\n      <td>LADWP - Harbor Generating Station</td>\n      <td>161 N Island Ave</td>\n      <td>At B St</td>\n      <td>Wilmington</td>\n      <td>CA</td>\n      <td>90744</td>\n      <td>NaN</td>\n      <td>NaN</td>\n      <td>E</td>\n      <td>...</td>\n      <td>NaN</td>\n      <td>NaN</td>\n      <td>NaN</td>\n      <td>NaN</td>\n      <td>NaN</td>\n      <td>NaN</td>\n      <td>NaN</td>\n      <td>NaN</td>\n      <td>NaN</td>\n      <td>NaN</td>\n    </tr>\n    <tr>\n      <th>7</th>\n      <td>ELEC</td>\n      <td>LADWP - Sylmar West</td>\n      <td>13201 Sepulveda Blvd</td>\n      <td>NaN</td>\n      <td>Sylmar</td>\n      <td>CA</td>\n      <td>91342</td>\n      <td>NaN</td>\n      <td>NaN</td>\n      <td>E</td>\n      <td>...</td>\n      <td>NaN</td>\n      <td>NaN</td>\n      <td>NaN</td>\n      <td>NaN</td>\n      <td>NaN</td>\n      <td>NaN</td>\n      <td>NaN</td>\n      <td>NaN</td>\n      <td>NaN</td>\n      <td>NaN</td>\n    </tr>\n    <tr>\n      <th>8</th>\n      <td>ELEC</td>\n      <td>LADWP - EV Service Center</td>\n      <td>1630 N Main St</td>\n      <td>NaN</td>\n      <td>Los Angeles</td>\n      <td>CA</td>\n      <td>90012</td>\n      <td>NaN</td>\n      <td>NaN</td>\n      <td>E</td>\n      <td>...</td>\n      <td>NaN</td>\n      <td>NaN</td>\n      <td>NaN</td>\n      <td>NaN</td>\n      <td>NaN</td>\n      <td>NaN</td>\n      <td>NaN</td>\n      <td>NaN</td>\n      <td>NaN</td>\n      <td>NaN</td>\n    </tr>\n    <tr>\n      <th>9</th>\n      <td>ELEC</td>\n      <td>LADWP - Fairfax Center</td>\n      <td>2311 S Fairfax Ave</td>\n      <td>NaN</td>\n      <td>Los Angeles</td>\n      <td>CA</td>\n      <td>90016</td>\n      <td>NaN</td>\n      <td>NaN</td>\n      <td>E</td>\n      <td>...</td>\n      <td>NaN</td>\n      <td>NaN</td>\n      <td>NaN</td>\n      <td>NaN</td>\n      <td>NaN</td>\n      <td>NaN</td>\n      <td>NaN</td>\n      <td>NaN</td>\n      <td>NaN</td>\n      <td>NaN</td>\n    </tr>\n  </tbody>\n</table>\n<p>10 rows × 65 columns</p>\n</div>"
     },
     "execution_count": 31,
     "metadata": {},
     "output_type": "execute_result"
    }
   ],
   "source": [
    "ev_station_data.head(10)"
   ],
   "metadata": {
    "collapsed": false,
    "pycharm": {
     "name": "#%%\n"
    }
   }
  },
  {
   "cell_type": "code",
   "execution_count": 16,
   "outputs": [
    {
     "data": {
      "text/plain": "CA    14651\nNY     2977\nFL     2665\nTX     2319\nMA     2198\nWA     1775\nCO     1627\nGA     1588\nMD     1263\nPA     1166\nVA     1142\nNC     1124\nIL     1068\nMO     1053\nOR      992\nOH      976\nUT      908\nAZ      890\nMI      831\nNJ      749\nTN      683\nMN      583\nCT      533\nKS      494\nWI      479\nNV      458\nSC      391\nHI      386\nIN      354\nVT      331\nOK      314\nME      302\nDC      292\nIA      284\nAL      278\nRI      257\nKY      225\nNM      191\nNE      177\nNH      166\nAR      165\nLA      158\nID      138\nDE      133\nMS      115\nWV      111\nMT       80\nWY       70\nND       61\nSD       58\nAK       53\nPR        5\nON        2\nName: State, dtype: int64"
     },
     "execution_count": 16,
     "metadata": {},
     "output_type": "execute_result"
    }
   ],
   "source": [
    "ev_station_data.loc[:,'State'].value_counts()"
   ],
   "metadata": {
    "collapsed": false,
    "pycharm": {
     "name": "#%%\n"
    }
   }
  },
  {
   "cell_type": "code",
   "execution_count": 29,
   "outputs": [],
   "source": [
    "def ev_station_count_df(file,state):\n",
    "    \"\"\" Count the ev station of each data and return a dataframe\n",
    "\n",
    "    :param file: ev station file\n",
    "    :param state: string for three state\n",
    "    :return: the dataframe of the count of ev station of each state\n",
    "\n",
    "    >>> a1 = DataFrame(data =[['NY','12866'],['NY','14203'],['NY','12866'],['TX','12334']] ,columns=['State', 'ZIP'])\n",
    "    >>> b1 = ev_station_count_df(a1,'NY')\n",
    "    >>> print(b1['Count'][0])\n",
    "    2\n",
    "    >>> a2 = DataFrame(data =[['NY','12866'],['NY','14203'],['NY','12866'],['TX','12334']] ,columns=['State', 'ZIP'])\n",
    "    >>> b2 = ev_station_count_df(a2,'All')\n",
    "    >>> print(b2['ZIP Code'][0])\n",
    "    12866\n",
    "    >>> print(type(b2))\n",
    "    <class 'pandas.core.frame.DataFrame'>\n",
    "    \"\"\"\n",
    "    if state == 'All':\n",
    "        file_clean = file\n",
    "    else:\n",
    "        file_clean = file[file['State']==state]\n",
    "    file_count = file_clean.loc[:,'ZIP'].value_counts()\n",
    "    file_count_df = DataFrame(file_count)\n",
    "    file_count_df = file_count_df.rename_axis('ZIP Code').reset_index()\n",
    "    ev_station_count = file_count_df.rename(columns={'ZIP': 'Count'})\n",
    "    return ev_station_count"
   ],
   "metadata": {
    "collapsed": false,
    "pycharm": {
     "name": "#%%\n"
    }
   }
  },
  {
   "cell_type": "code",
   "execution_count": 18,
   "outputs": [
    {
     "data": {
      "text/plain": "      ZIP Code  Count\n0        94025    259\n1        95054    235\n2        92618    134\n3        94080    115\n4        94025    113\n...        ...    ...\n13576    72076      1\n13577    14530      1\n13578    22963      1\n13579    32433      1\n13580    29349      1\n\n[13581 rows x 2 columns]",
      "text/html": "<div>\n<style scoped>\n    .dataframe tbody tr th:only-of-type {\n        vertical-align: middle;\n    }\n\n    .dataframe tbody tr th {\n        vertical-align: top;\n    }\n\n    .dataframe thead th {\n        text-align: right;\n    }\n</style>\n<table border=\"1\" class=\"dataframe\">\n  <thead>\n    <tr style=\"text-align: right;\">\n      <th></th>\n      <th>ZIP Code</th>\n      <th>Count</th>\n    </tr>\n  </thead>\n  <tbody>\n    <tr>\n      <th>0</th>\n      <td>94025</td>\n      <td>259</td>\n    </tr>\n    <tr>\n      <th>1</th>\n      <td>95054</td>\n      <td>235</td>\n    </tr>\n    <tr>\n      <th>2</th>\n      <td>92618</td>\n      <td>134</td>\n    </tr>\n    <tr>\n      <th>3</th>\n      <td>94080</td>\n      <td>115</td>\n    </tr>\n    <tr>\n      <th>4</th>\n      <td>94025</td>\n      <td>113</td>\n    </tr>\n    <tr>\n      <th>...</th>\n      <td>...</td>\n      <td>...</td>\n    </tr>\n    <tr>\n      <th>13576</th>\n      <td>72076</td>\n      <td>1</td>\n    </tr>\n    <tr>\n      <th>13577</th>\n      <td>14530</td>\n      <td>1</td>\n    </tr>\n    <tr>\n      <th>13578</th>\n      <td>22963</td>\n      <td>1</td>\n    </tr>\n    <tr>\n      <th>13579</th>\n      <td>32433</td>\n      <td>1</td>\n    </tr>\n    <tr>\n      <th>13580</th>\n      <td>29349</td>\n      <td>1</td>\n    </tr>\n  </tbody>\n</table>\n<p>13581 rows × 2 columns</p>\n</div>"
     },
     "execution_count": 18,
     "metadata": {},
     "output_type": "execute_result"
    }
   ],
   "source": [
    "ev_station_count_df(ev_station_data,'All')"
   ],
   "metadata": {
    "collapsed": false,
    "pycharm": {
     "name": "#%%\n"
    }
   }
  },
  {
   "cell_type": "markdown",
   "source": [
    "New York State EV Station data"
   ],
   "metadata": {
    "collapsed": false,
    "pycharm": {
     "name": "#%% md\n"
    }
   }
  },
  {
   "cell_type": "code",
   "source": [
    "ev_station_count_df(ev_station_data,'NY')"
   ],
   "metadata": {
    "collapsed": false,
    "pycharm": {
     "name": "#%%\n"
    }
   },
   "execution_count": 19,
   "outputs": [
    {
     "data": {
      "text/plain": "    ZIP Code  Count\n0      12866     50\n1      14203     30\n2      14623     26\n3      14850     24\n4      12401     24\n..       ...    ...\n919    13339      1\n920    13669      1\n921    12043      1\n922    12165      1\n923    14009      1\n\n[924 rows x 2 columns]",
      "text/html": "<div>\n<style scoped>\n    .dataframe tbody tr th:only-of-type {\n        vertical-align: middle;\n    }\n\n    .dataframe tbody tr th {\n        vertical-align: top;\n    }\n\n    .dataframe thead th {\n        text-align: right;\n    }\n</style>\n<table border=\"1\" class=\"dataframe\">\n  <thead>\n    <tr style=\"text-align: right;\">\n      <th></th>\n      <th>ZIP Code</th>\n      <th>Count</th>\n    </tr>\n  </thead>\n  <tbody>\n    <tr>\n      <th>0</th>\n      <td>12866</td>\n      <td>50</td>\n    </tr>\n    <tr>\n      <th>1</th>\n      <td>14203</td>\n      <td>30</td>\n    </tr>\n    <tr>\n      <th>2</th>\n      <td>14623</td>\n      <td>26</td>\n    </tr>\n    <tr>\n      <th>3</th>\n      <td>14850</td>\n      <td>24</td>\n    </tr>\n    <tr>\n      <th>4</th>\n      <td>12401</td>\n      <td>24</td>\n    </tr>\n    <tr>\n      <th>...</th>\n      <td>...</td>\n      <td>...</td>\n    </tr>\n    <tr>\n      <th>919</th>\n      <td>13339</td>\n      <td>1</td>\n    </tr>\n    <tr>\n      <th>920</th>\n      <td>13669</td>\n      <td>1</td>\n    </tr>\n    <tr>\n      <th>921</th>\n      <td>12043</td>\n      <td>1</td>\n    </tr>\n    <tr>\n      <th>922</th>\n      <td>12165</td>\n      <td>1</td>\n    </tr>\n    <tr>\n      <th>923</th>\n      <td>14009</td>\n      <td>1</td>\n    </tr>\n  </tbody>\n</table>\n<p>924 rows × 2 columns</p>\n</div>"
     },
     "execution_count": 19,
     "metadata": {},
     "output_type": "execute_result"
    }
   ]
  },
  {
   "cell_type": "code",
   "execution_count": 20,
   "outputs": [],
   "source": [
    "ev_station_count_ny = ev_station_count_df(ev_station_data,'NY')"
   ],
   "metadata": {
    "collapsed": false,
    "pycharm": {
     "name": "#%%\n"
    }
   }
  },
  {
   "cell_type": "markdown",
   "source": [
    " Texas State EV Station data"
   ],
   "metadata": {
    "collapsed": false,
    "pycharm": {
     "name": "#%% md\n"
    }
   }
  },
  {
   "cell_type": "code",
   "source": [
    "ev_station_count_tx = ev_station_count_df(ev_station_data,'TX')"
   ],
   "metadata": {
    "collapsed": false,
    "pycharm": {
     "name": "#%%\n"
    }
   },
   "execution_count": 21,
   "outputs": []
  },
  {
   "cell_type": "code",
   "execution_count": 22,
   "outputs": [
    {
     "data": {
      "text/plain": "    ZIP Code  Count\n0      78701     43\n1      76155     34\n2      77002     27\n3      75201     26\n4      77004     26\n..       ...    ...\n739    75207      1\n740    75672      1\n741    78504      1\n742    77802      1\n743    76825      1\n\n[744 rows x 2 columns]",
      "text/html": "<div>\n<style scoped>\n    .dataframe tbody tr th:only-of-type {\n        vertical-align: middle;\n    }\n\n    .dataframe tbody tr th {\n        vertical-align: top;\n    }\n\n    .dataframe thead th {\n        text-align: right;\n    }\n</style>\n<table border=\"1\" class=\"dataframe\">\n  <thead>\n    <tr style=\"text-align: right;\">\n      <th></th>\n      <th>ZIP Code</th>\n      <th>Count</th>\n    </tr>\n  </thead>\n  <tbody>\n    <tr>\n      <th>0</th>\n      <td>78701</td>\n      <td>43</td>\n    </tr>\n    <tr>\n      <th>1</th>\n      <td>76155</td>\n      <td>34</td>\n    </tr>\n    <tr>\n      <th>2</th>\n      <td>77002</td>\n      <td>27</td>\n    </tr>\n    <tr>\n      <th>3</th>\n      <td>75201</td>\n      <td>26</td>\n    </tr>\n    <tr>\n      <th>4</th>\n      <td>77004</td>\n      <td>26</td>\n    </tr>\n    <tr>\n      <th>...</th>\n      <td>...</td>\n      <td>...</td>\n    </tr>\n    <tr>\n      <th>739</th>\n      <td>75207</td>\n      <td>1</td>\n    </tr>\n    <tr>\n      <th>740</th>\n      <td>75672</td>\n      <td>1</td>\n    </tr>\n    <tr>\n      <th>741</th>\n      <td>78504</td>\n      <td>1</td>\n    </tr>\n    <tr>\n      <th>742</th>\n      <td>77802</td>\n      <td>1</td>\n    </tr>\n    <tr>\n      <th>743</th>\n      <td>76825</td>\n      <td>1</td>\n    </tr>\n  </tbody>\n</table>\n<p>744 rows × 2 columns</p>\n</div>"
     },
     "execution_count": 22,
     "metadata": {},
     "output_type": "execute_result"
    }
   ],
   "source": [
    "ev_station_count_tx"
   ],
   "metadata": {
    "collapsed": false,
    "pycharm": {
     "name": "#%%\n"
    }
   }
  },
  {
   "cell_type": "markdown",
   "source": [
    "Washington State EV Station data"
   ],
   "metadata": {
    "collapsed": false,
    "pycharm": {
     "name": "#%% md\n"
    }
   }
  },
  {
   "cell_type": "code",
   "source": [
    "ev_station_count_wa = ev_station_count_df(ev_station_data,'WA')"
   ],
   "metadata": {
    "collapsed": false,
    "pycharm": {
     "name": "#%%\n"
    }
   },
   "execution_count": 23,
   "outputs": []
  },
  {
   "cell_type": "code",
   "execution_count": 24,
   "outputs": [
    {
     "data": {
      "text/plain": "    ZIP Code  Count\n0      98004     57\n1      98121     51\n2      98109     49\n3      98004     49\n4      99354     46\n..       ...    ...\n436    98642      1\n437    99403      1\n438    98037      1\n439    99204      1\n440    98022      1\n\n[441 rows x 2 columns]",
      "text/html": "<div>\n<style scoped>\n    .dataframe tbody tr th:only-of-type {\n        vertical-align: middle;\n    }\n\n    .dataframe tbody tr th {\n        vertical-align: top;\n    }\n\n    .dataframe thead th {\n        text-align: right;\n    }\n</style>\n<table border=\"1\" class=\"dataframe\">\n  <thead>\n    <tr style=\"text-align: right;\">\n      <th></th>\n      <th>ZIP Code</th>\n      <th>Count</th>\n    </tr>\n  </thead>\n  <tbody>\n    <tr>\n      <th>0</th>\n      <td>98004</td>\n      <td>57</td>\n    </tr>\n    <tr>\n      <th>1</th>\n      <td>98121</td>\n      <td>51</td>\n    </tr>\n    <tr>\n      <th>2</th>\n      <td>98109</td>\n      <td>49</td>\n    </tr>\n    <tr>\n      <th>3</th>\n      <td>98004</td>\n      <td>49</td>\n    </tr>\n    <tr>\n      <th>4</th>\n      <td>99354</td>\n      <td>46</td>\n    </tr>\n    <tr>\n      <th>...</th>\n      <td>...</td>\n      <td>...</td>\n    </tr>\n    <tr>\n      <th>436</th>\n      <td>98642</td>\n      <td>1</td>\n    </tr>\n    <tr>\n      <th>437</th>\n      <td>99403</td>\n      <td>1</td>\n    </tr>\n    <tr>\n      <th>438</th>\n      <td>98037</td>\n      <td>1</td>\n    </tr>\n    <tr>\n      <th>439</th>\n      <td>99204</td>\n      <td>1</td>\n    </tr>\n    <tr>\n      <th>440</th>\n      <td>98022</td>\n      <td>1</td>\n    </tr>\n  </tbody>\n</table>\n<p>441 rows × 2 columns</p>\n</div>"
     },
     "execution_count": 24,
     "metadata": {},
     "output_type": "execute_result"
    }
   ],
   "source": [
    "ev_station_count_wa"
   ],
   "metadata": {
    "collapsed": false,
    "pycharm": {
     "name": "#%%\n"
    }
   }
  },
  {
   "cell_type": "markdown",
   "source": [
    "## Ev Car Count in Each Zip Code"
   ],
   "metadata": {
    "collapsed": false,
    "pycharm": {
     "name": "#%% md\n"
    }
   }
  },
  {
   "cell_type": "code",
   "source": [
    "newyork_data = pd.read_csv('data/ny_ev_registrations_public.csv')\n",
    "texas_data = pd.read_csv('data/tx_ev_registrations_public.csv')\n",
    "washington_data = pd.read_csv('data/wa_ev_registrations_public.csv',low_memory = False)"
   ],
   "metadata": {
    "collapsed": false,
    "pycharm": {
     "name": "#%%\n"
    }
   },
   "execution_count": 43,
   "outputs": []
  },
  {
   "cell_type": "markdown",
   "source": [
    "Newyork State Car Count"
   ],
   "metadata": {
    "collapsed": false,
    "pycharm": {
     "name": "#%% md\n"
    }
   }
  },
  {
   "cell_type": "code",
   "execution_count": 106,
   "outputs": [
    {
     "data": {
      "text/plain": "         ZIP Code Registration Valid Date VIN Prefix  DMV ID  \\\n0           11797              2020-02-21   5YJXCBE2      39   \n1           11215              2018-09-21   5YJXCBE2      39   \n2           11040              2018-12-03   5YJXCBE2      39   \n3           11215              2018-09-30   5YJXCBE2      39   \n4           11976              2018-09-11   5YJXCBE2      39   \n...           ...                     ...        ...     ...   \n2910283     10706              2021-04-28   JTDKAMFP      63   \n2910284     10708              2021-01-16   JTDKAMFP      63   \n2910285     14845              2021-04-24   JTDKAMFP      63   \n2910286     13850              2021-05-14   JTDKAMFP      63   \n2910287     14304              2022-01-24   JTDKAMFP      63   \n\n                      DMV Snapshot VIN Model Year  \\\n0        NY DATA.NY.GOV (4/2/2020)              J   \n1        NY DATA.NY.GOV (4/2/2020)              J   \n2        NY DATA.NY.GOV (4/2/2020)              J   \n3        NY DATA.NY.GOV (4/2/2020)              J   \n4        NY DATA.NY.GOV (4/2/2020)              J   \n...                            ...            ...   \n2910283  NY DATA.NY.GOV (4/1/2022)              M   \n2910284  NY DATA.NY.GOV (4/1/2022)              M   \n2910285  NY DATA.NY.GOV (4/1/2022)              M   \n2910286  NY DATA.NY.GOV (4/1/2022)              M   \n2910287  NY DATA.NY.GOV (4/1/2022)              M   \n\n        Registration Expiration Date State        Vehicle Name Technology  \n0                         2020-12-19    NY       Tesla Model X        BEV  \n1                         2020-09-20    NY       Tesla Model X        BEV  \n2                         2021-01-08    NY       Tesla Model X        BEV  \n3                         2020-09-29    NY       Tesla Model X        BEV  \n4                         2020-08-09    NY       Tesla Model X        BEV  \n...                              ...   ...                 ...        ...  \n2910283                   2023-04-27    NY  Toyota Prius Prime       PHEV  \n2910284                   2023-01-15    NY  Toyota Prius Prime       PHEV  \n2910285                   2023-04-23    NY  Toyota Prius Prime       PHEV  \n2910286                   2023-05-13    NY  Toyota Prius Prime       PHEV  \n2910287                   2023-01-11    NY  Toyota Prius Prime       PHEV  \n\n[2910288 rows x 10 columns]",
      "text/html": "<div>\n<style scoped>\n    .dataframe tbody tr th:only-of-type {\n        vertical-align: middle;\n    }\n\n    .dataframe tbody tr th {\n        vertical-align: top;\n    }\n\n    .dataframe thead th {\n        text-align: right;\n    }\n</style>\n<table border=\"1\" class=\"dataframe\">\n  <thead>\n    <tr style=\"text-align: right;\">\n      <th></th>\n      <th>ZIP Code</th>\n      <th>Registration Valid Date</th>\n      <th>VIN Prefix</th>\n      <th>DMV ID</th>\n      <th>DMV Snapshot</th>\n      <th>VIN Model Year</th>\n      <th>Registration Expiration Date</th>\n      <th>State</th>\n      <th>Vehicle Name</th>\n      <th>Technology</th>\n    </tr>\n  </thead>\n  <tbody>\n    <tr>\n      <th>0</th>\n      <td>11797</td>\n      <td>2020-02-21</td>\n      <td>5YJXCBE2</td>\n      <td>39</td>\n      <td>NY DATA.NY.GOV (4/2/2020)</td>\n      <td>J</td>\n      <td>2020-12-19</td>\n      <td>NY</td>\n      <td>Tesla Model X</td>\n      <td>BEV</td>\n    </tr>\n    <tr>\n      <th>1</th>\n      <td>11215</td>\n      <td>2018-09-21</td>\n      <td>5YJXCBE2</td>\n      <td>39</td>\n      <td>NY DATA.NY.GOV (4/2/2020)</td>\n      <td>J</td>\n      <td>2020-09-20</td>\n      <td>NY</td>\n      <td>Tesla Model X</td>\n      <td>BEV</td>\n    </tr>\n    <tr>\n      <th>2</th>\n      <td>11040</td>\n      <td>2018-12-03</td>\n      <td>5YJXCBE2</td>\n      <td>39</td>\n      <td>NY DATA.NY.GOV (4/2/2020)</td>\n      <td>J</td>\n      <td>2021-01-08</td>\n      <td>NY</td>\n      <td>Tesla Model X</td>\n      <td>BEV</td>\n    </tr>\n    <tr>\n      <th>3</th>\n      <td>11215</td>\n      <td>2018-09-30</td>\n      <td>5YJXCBE2</td>\n      <td>39</td>\n      <td>NY DATA.NY.GOV (4/2/2020)</td>\n      <td>J</td>\n      <td>2020-09-29</td>\n      <td>NY</td>\n      <td>Tesla Model X</td>\n      <td>BEV</td>\n    </tr>\n    <tr>\n      <th>4</th>\n      <td>11976</td>\n      <td>2018-09-11</td>\n      <td>5YJXCBE2</td>\n      <td>39</td>\n      <td>NY DATA.NY.GOV (4/2/2020)</td>\n      <td>J</td>\n      <td>2020-08-09</td>\n      <td>NY</td>\n      <td>Tesla Model X</td>\n      <td>BEV</td>\n    </tr>\n    <tr>\n      <th>...</th>\n      <td>...</td>\n      <td>...</td>\n      <td>...</td>\n      <td>...</td>\n      <td>...</td>\n      <td>...</td>\n      <td>...</td>\n      <td>...</td>\n      <td>...</td>\n      <td>...</td>\n    </tr>\n    <tr>\n      <th>2910283</th>\n      <td>10706</td>\n      <td>2021-04-28</td>\n      <td>JTDKAMFP</td>\n      <td>63</td>\n      <td>NY DATA.NY.GOV (4/1/2022)</td>\n      <td>M</td>\n      <td>2023-04-27</td>\n      <td>NY</td>\n      <td>Toyota Prius Prime</td>\n      <td>PHEV</td>\n    </tr>\n    <tr>\n      <th>2910284</th>\n      <td>10708</td>\n      <td>2021-01-16</td>\n      <td>JTDKAMFP</td>\n      <td>63</td>\n      <td>NY DATA.NY.GOV (4/1/2022)</td>\n      <td>M</td>\n      <td>2023-01-15</td>\n      <td>NY</td>\n      <td>Toyota Prius Prime</td>\n      <td>PHEV</td>\n    </tr>\n    <tr>\n      <th>2910285</th>\n      <td>14845</td>\n      <td>2021-04-24</td>\n      <td>JTDKAMFP</td>\n      <td>63</td>\n      <td>NY DATA.NY.GOV (4/1/2022)</td>\n      <td>M</td>\n      <td>2023-04-23</td>\n      <td>NY</td>\n      <td>Toyota Prius Prime</td>\n      <td>PHEV</td>\n    </tr>\n    <tr>\n      <th>2910286</th>\n      <td>13850</td>\n      <td>2021-05-14</td>\n      <td>JTDKAMFP</td>\n      <td>63</td>\n      <td>NY DATA.NY.GOV (4/1/2022)</td>\n      <td>M</td>\n      <td>2023-05-13</td>\n      <td>NY</td>\n      <td>Toyota Prius Prime</td>\n      <td>PHEV</td>\n    </tr>\n    <tr>\n      <th>2910287</th>\n      <td>14304</td>\n      <td>2022-01-24</td>\n      <td>JTDKAMFP</td>\n      <td>63</td>\n      <td>NY DATA.NY.GOV (4/1/2022)</td>\n      <td>M</td>\n      <td>2023-01-11</td>\n      <td>NY</td>\n      <td>Toyota Prius Prime</td>\n      <td>PHEV</td>\n    </tr>\n  </tbody>\n</table>\n<p>2910288 rows × 10 columns</p>\n</div>"
     },
     "execution_count": 106,
     "metadata": {},
     "output_type": "execute_result"
    }
   ],
   "source": [
    "newyork_data"
   ],
   "metadata": {
    "collapsed": false,
    "pycharm": {
     "name": "#%%\n"
    }
   }
  },
  {
   "cell_type": "code",
   "source": [
    "def ev_car_count_df(file):\n",
    "    \"\"\" Calculate the number of car in each zip code\n",
    "\n",
    "    :param file:state car data\n",
    "    :return:the car count of each state\n",
    "    >>> a1 = DataFrame(data =[['NY','12866'],['NY','14203'],['NY','12866']] ,columns=['State', 'ZIP'])\n",
    "    >>> b1 = ev_station_count_df(a1,'NY')\n",
    "    >>> print(b1['Count'][0])\n",
    "    2\n",
    "    >>> print(type(b1))\n",
    "    <class 'pandas.core.frame.DataFrame'>\n",
    "    \"\"\"\n",
    "    file = DataFrame(file)\n",
    "    file_count = file.loc[:,'ZIP Code'].value_counts()\n",
    "    file_count_df = DataFrame(file_count)\n",
    "    file_count_df = file_count_df.rename(columns={'ZIP Code': 'Count'})\n",
    "    ev_car_count = file_count_df.rename_axis('ZIP Code').reset_index()\n",
    "    return ev_car_count"
   ],
   "metadata": {
    "collapsed": false,
    "pycharm": {
     "name": "#%%\n"
    }
   },
   "execution_count": 27,
   "outputs": []
  },
  {
   "cell_type": "code",
   "execution_count": 27,
   "outputs": [],
   "source": [
    "ev_car_count_ny = ev_car_count_df(newyork_data)"
   ],
   "metadata": {
    "collapsed": false,
    "pycharm": {
     "name": "#%%\n"
    }
   }
  },
  {
   "cell_type": "code",
   "execution_count": 28,
   "outputs": [
    {
     "data": {
      "text/plain": "      ZIP Code  Count\n0        11746  31256\n1        10583  31051\n2        14850  27366\n3        11743  21618\n4        11791  21534\n...        ...    ...\n3570     10654      1\n3571     16693      1\n3572      6068      1\n3573     40202      1\n3574      6243      1\n\n[3575 rows x 2 columns]",
      "text/html": "<div>\n<style scoped>\n    .dataframe tbody tr th:only-of-type {\n        vertical-align: middle;\n    }\n\n    .dataframe tbody tr th {\n        vertical-align: top;\n    }\n\n    .dataframe thead th {\n        text-align: right;\n    }\n</style>\n<table border=\"1\" class=\"dataframe\">\n  <thead>\n    <tr style=\"text-align: right;\">\n      <th></th>\n      <th>ZIP Code</th>\n      <th>Count</th>\n    </tr>\n  </thead>\n  <tbody>\n    <tr>\n      <th>0</th>\n      <td>11746</td>\n      <td>31256</td>\n    </tr>\n    <tr>\n      <th>1</th>\n      <td>10583</td>\n      <td>31051</td>\n    </tr>\n    <tr>\n      <th>2</th>\n      <td>14850</td>\n      <td>27366</td>\n    </tr>\n    <tr>\n      <th>3</th>\n      <td>11743</td>\n      <td>21618</td>\n    </tr>\n    <tr>\n      <th>4</th>\n      <td>11791</td>\n      <td>21534</td>\n    </tr>\n    <tr>\n      <th>...</th>\n      <td>...</td>\n      <td>...</td>\n    </tr>\n    <tr>\n      <th>3570</th>\n      <td>10654</td>\n      <td>1</td>\n    </tr>\n    <tr>\n      <th>3571</th>\n      <td>16693</td>\n      <td>1</td>\n    </tr>\n    <tr>\n      <th>3572</th>\n      <td>6068</td>\n      <td>1</td>\n    </tr>\n    <tr>\n      <th>3573</th>\n      <td>40202</td>\n      <td>1</td>\n    </tr>\n    <tr>\n      <th>3574</th>\n      <td>6243</td>\n      <td>1</td>\n    </tr>\n  </tbody>\n</table>\n<p>3575 rows × 2 columns</p>\n</div>"
     },
     "execution_count": 28,
     "metadata": {},
     "output_type": "execute_result"
    }
   ],
   "source": [
    "ev_car_count_ny"
   ],
   "metadata": {
    "collapsed": false,
    "pycharm": {
     "name": "#%%\n"
    }
   }
  },
  {
   "cell_type": "markdown",
   "source": [
    "Texas State Car Count"
   ],
   "metadata": {
    "collapsed": false,
    "pycharm": {
     "name": "#%% md\n"
    }
   }
  },
  {
   "cell_type": "code",
   "source": [
    "ev_car_count_df(texas_data)"
   ],
   "metadata": {
    "collapsed": false,
    "pycharm": {
     "name": "#%%\n"
    }
   },
   "execution_count": 29,
   "outputs": [
    {
     "data": {
      "text/plain": "     ZIP Code  Count\n0       75035  12107\n1       77479  11976\n2       78746  10033\n3       78613  10013\n4       78704   9262\n...       ...    ...\n1645    76004      1\n1646    76097      1\n1647    75555      1\n1648    77548      1\n1649    79244      1\n\n[1650 rows x 2 columns]",
      "text/html": "<div>\n<style scoped>\n    .dataframe tbody tr th:only-of-type {\n        vertical-align: middle;\n    }\n\n    .dataframe tbody tr th {\n        vertical-align: top;\n    }\n\n    .dataframe thead th {\n        text-align: right;\n    }\n</style>\n<table border=\"1\" class=\"dataframe\">\n  <thead>\n    <tr style=\"text-align: right;\">\n      <th></th>\n      <th>ZIP Code</th>\n      <th>Count</th>\n    </tr>\n  </thead>\n  <tbody>\n    <tr>\n      <th>0</th>\n      <td>75035</td>\n      <td>12107</td>\n    </tr>\n    <tr>\n      <th>1</th>\n      <td>77479</td>\n      <td>11976</td>\n    </tr>\n    <tr>\n      <th>2</th>\n      <td>78746</td>\n      <td>10033</td>\n    </tr>\n    <tr>\n      <th>3</th>\n      <td>78613</td>\n      <td>10013</td>\n    </tr>\n    <tr>\n      <th>4</th>\n      <td>78704</td>\n      <td>9262</td>\n    </tr>\n    <tr>\n      <th>...</th>\n      <td>...</td>\n      <td>...</td>\n    </tr>\n    <tr>\n      <th>1645</th>\n      <td>76004</td>\n      <td>1</td>\n    </tr>\n    <tr>\n      <th>1646</th>\n      <td>76097</td>\n      <td>1</td>\n    </tr>\n    <tr>\n      <th>1647</th>\n      <td>75555</td>\n      <td>1</td>\n    </tr>\n    <tr>\n      <th>1648</th>\n      <td>77548</td>\n      <td>1</td>\n    </tr>\n    <tr>\n      <th>1649</th>\n      <td>79244</td>\n      <td>1</td>\n    </tr>\n  </tbody>\n</table>\n<p>1650 rows × 2 columns</p>\n</div>"
     },
     "execution_count": 29,
     "metadata": {},
     "output_type": "execute_result"
    }
   ]
  },
  {
   "cell_type": "code",
   "execution_count": 30,
   "outputs": [],
   "source": [
    "ev_car_count_tx = ev_car_count_df(texas_data)"
   ],
   "metadata": {
    "collapsed": false,
    "pycharm": {
     "name": "#%%\n"
    }
   }
  },
  {
   "cell_type": "markdown",
   "source": [
    "Washington State Car Count"
   ],
   "metadata": {
    "collapsed": false,
    "pycharm": {
     "name": "#%% md\n"
    }
   }
  },
  {
   "cell_type": "code",
   "source": [
    "ev_car_count_df(washington_data)"
   ],
   "metadata": {
    "collapsed": false,
    "pycharm": {
     "name": "#%%\n"
    }
   },
   "execution_count": 31,
   "outputs": [
    {
     "data": {
      "text/plain": "     ZIP Code  Count\n0       98052  69190\n1       98033  45620\n2       98115  43273\n3       98004  42905\n4       98006  41084\n...       ...    ...\n1099    20009      1\n1100    23801      1\n1101    21061      1\n1102    97266      1\n1103    92104      1\n\n[1104 rows x 2 columns]",
      "text/html": "<div>\n<style scoped>\n    .dataframe tbody tr th:only-of-type {\n        vertical-align: middle;\n    }\n\n    .dataframe tbody tr th {\n        vertical-align: top;\n    }\n\n    .dataframe thead th {\n        text-align: right;\n    }\n</style>\n<table border=\"1\" class=\"dataframe\">\n  <thead>\n    <tr style=\"text-align: right;\">\n      <th></th>\n      <th>ZIP Code</th>\n      <th>Count</th>\n    </tr>\n  </thead>\n  <tbody>\n    <tr>\n      <th>0</th>\n      <td>98052</td>\n      <td>69190</td>\n    </tr>\n    <tr>\n      <th>1</th>\n      <td>98033</td>\n      <td>45620</td>\n    </tr>\n    <tr>\n      <th>2</th>\n      <td>98115</td>\n      <td>43273</td>\n    </tr>\n    <tr>\n      <th>3</th>\n      <td>98004</td>\n      <td>42905</td>\n    </tr>\n    <tr>\n      <th>4</th>\n      <td>98006</td>\n      <td>41084</td>\n    </tr>\n    <tr>\n      <th>...</th>\n      <td>...</td>\n      <td>...</td>\n    </tr>\n    <tr>\n      <th>1099</th>\n      <td>20009</td>\n      <td>1</td>\n    </tr>\n    <tr>\n      <th>1100</th>\n      <td>23801</td>\n      <td>1</td>\n    </tr>\n    <tr>\n      <th>1101</th>\n      <td>21061</td>\n      <td>1</td>\n    </tr>\n    <tr>\n      <th>1102</th>\n      <td>97266</td>\n      <td>1</td>\n    </tr>\n    <tr>\n      <th>1103</th>\n      <td>92104</td>\n      <td>1</td>\n    </tr>\n  </tbody>\n</table>\n<p>1104 rows × 2 columns</p>\n</div>"
     },
     "execution_count": 31,
     "metadata": {},
     "output_type": "execute_result"
    }
   ]
  },
  {
   "cell_type": "code",
   "execution_count": 32,
   "outputs": [],
   "source": [
    "ev_car_count_wa = ev_car_count_df(washington_data)"
   ],
   "metadata": {
    "collapsed": false,
    "pycharm": {
     "name": "#%%\n"
    }
   }
  },
  {
   "cell_type": "markdown",
   "source": [
    "## Descriptive Statistics of car_count and ev_station count"
   ],
   "metadata": {
    "collapsed": false,
    "pycharm": {
     "name": "#%% md\n"
    }
   }
  },
  {
   "cell_type": "markdown",
   "source": [
    "Descriptive Statistics of Car Count"
   ],
   "metadata": {
    "collapsed": false,
    "pycharm": {
     "name": "#%% md\n"
    }
   }
  },
  {
   "cell_type": "code",
   "source": [
    "ev_car_count_ny_discribe = ev_car_count_ny[['Count']].describe()"
   ],
   "metadata": {
    "collapsed": false,
    "pycharm": {
     "name": "#%%\n"
    }
   },
   "execution_count": 33,
   "outputs": []
  },
  {
   "cell_type": "code",
   "execution_count": 34,
   "outputs": [],
   "source": [
    "ev_car_count_ny_discribe = ev_car_count_ny_discribe.rename(columns = {'Count':'NY_Car_Count'})"
   ],
   "metadata": {
    "collapsed": false,
    "pycharm": {
     "name": "#%%\n"
    }
   }
  },
  {
   "cell_type": "code",
   "execution_count": 35,
   "outputs": [
    {
     "data": {
      "text/plain": "       NY_Car_Count\ncount   3575.000000\nmean     814.066573\nstd     2203.457525\nmin        1.000000\n25%        1.000000\n50%       19.000000\n75%      409.000000\nmax    31256.000000",
      "text/html": "<div>\n<style scoped>\n    .dataframe tbody tr th:only-of-type {\n        vertical-align: middle;\n    }\n\n    .dataframe tbody tr th {\n        vertical-align: top;\n    }\n\n    .dataframe thead th {\n        text-align: right;\n    }\n</style>\n<table border=\"1\" class=\"dataframe\">\n  <thead>\n    <tr style=\"text-align: right;\">\n      <th></th>\n      <th>NY_Car_Count</th>\n    </tr>\n  </thead>\n  <tbody>\n    <tr>\n      <th>count</th>\n      <td>3575.000000</td>\n    </tr>\n    <tr>\n      <th>mean</th>\n      <td>814.066573</td>\n    </tr>\n    <tr>\n      <th>std</th>\n      <td>2203.457525</td>\n    </tr>\n    <tr>\n      <th>min</th>\n      <td>1.000000</td>\n    </tr>\n    <tr>\n      <th>25%</th>\n      <td>1.000000</td>\n    </tr>\n    <tr>\n      <th>50%</th>\n      <td>19.000000</td>\n    </tr>\n    <tr>\n      <th>75%</th>\n      <td>409.000000</td>\n    </tr>\n    <tr>\n      <th>max</th>\n      <td>31256.000000</td>\n    </tr>\n  </tbody>\n</table>\n</div>"
     },
     "execution_count": 35,
     "metadata": {},
     "output_type": "execute_result"
    }
   ],
   "source": [
    "ev_car_count_ny_discribe"
   ],
   "metadata": {
    "collapsed": false,
    "pycharm": {
     "name": "#%%\n"
    }
   }
  },
  {
   "cell_type": "code",
   "execution_count": 36,
   "outputs": [
    {
     "data": {
      "text/plain": "       TX_Car_Count\ncount   1650.000000\nmean     626.183030\nstd     1328.413634\nmin        1.000000\n25%       18.000000\n50%       92.000000\n75%      508.500000\nmax    12107.000000",
      "text/html": "<div>\n<style scoped>\n    .dataframe tbody tr th:only-of-type {\n        vertical-align: middle;\n    }\n\n    .dataframe tbody tr th {\n        vertical-align: top;\n    }\n\n    .dataframe thead th {\n        text-align: right;\n    }\n</style>\n<table border=\"1\" class=\"dataframe\">\n  <thead>\n    <tr style=\"text-align: right;\">\n      <th></th>\n      <th>TX_Car_Count</th>\n    </tr>\n  </thead>\n  <tbody>\n    <tr>\n      <th>count</th>\n      <td>1650.000000</td>\n    </tr>\n    <tr>\n      <th>mean</th>\n      <td>626.183030</td>\n    </tr>\n    <tr>\n      <th>std</th>\n      <td>1328.413634</td>\n    </tr>\n    <tr>\n      <th>min</th>\n      <td>1.000000</td>\n    </tr>\n    <tr>\n      <th>25%</th>\n      <td>18.000000</td>\n    </tr>\n    <tr>\n      <th>50%</th>\n      <td>92.000000</td>\n    </tr>\n    <tr>\n      <th>75%</th>\n      <td>508.500000</td>\n    </tr>\n    <tr>\n      <th>max</th>\n      <td>12107.000000</td>\n    </tr>\n  </tbody>\n</table>\n</div>"
     },
     "execution_count": 36,
     "metadata": {},
     "output_type": "execute_result"
    }
   ],
   "source": [
    "ev_car_count_tx_discribe = ev_car_count_tx[['Count']].describe()\n",
    "ev_car_count_tx_discribe = ev_car_count_tx_discribe.rename(columns={'Count': 'TX_Car_Count'})\n",
    "ev_car_count_tx_discribe"
   ],
   "metadata": {
    "collapsed": false,
    "pycharm": {
     "name": "#%%\n"
    }
   }
  },
  {
   "cell_type": "code",
   "execution_count": 37,
   "outputs": [
    {
     "data": {
      "text/plain": "       WA_Car_Count\ncount   1104.000000\nmean    2142.063406\nstd     5904.039509\nmin        1.000000\n25%        4.000000\n50%       18.000000\n75%      871.000000\nmax    69190.000000",
      "text/html": "<div>\n<style scoped>\n    .dataframe tbody tr th:only-of-type {\n        vertical-align: middle;\n    }\n\n    .dataframe tbody tr th {\n        vertical-align: top;\n    }\n\n    .dataframe thead th {\n        text-align: right;\n    }\n</style>\n<table border=\"1\" class=\"dataframe\">\n  <thead>\n    <tr style=\"text-align: right;\">\n      <th></th>\n      <th>WA_Car_Count</th>\n    </tr>\n  </thead>\n  <tbody>\n    <tr>\n      <th>count</th>\n      <td>1104.000000</td>\n    </tr>\n    <tr>\n      <th>mean</th>\n      <td>2142.063406</td>\n    </tr>\n    <tr>\n      <th>std</th>\n      <td>5904.039509</td>\n    </tr>\n    <tr>\n      <th>min</th>\n      <td>1.000000</td>\n    </tr>\n    <tr>\n      <th>25%</th>\n      <td>4.000000</td>\n    </tr>\n    <tr>\n      <th>50%</th>\n      <td>18.000000</td>\n    </tr>\n    <tr>\n      <th>75%</th>\n      <td>871.000000</td>\n    </tr>\n    <tr>\n      <th>max</th>\n      <td>69190.000000</td>\n    </tr>\n  </tbody>\n</table>\n</div>"
     },
     "execution_count": 37,
     "metadata": {},
     "output_type": "execute_result"
    }
   ],
   "source": [
    "ev_car_count_wa_discribe = ev_car_count_wa[['Count']].describe()\n",
    "ev_car_count_wa_discribe = ev_car_count_wa_discribe.rename(columns={'Count': 'WA_Car_Count'})\n",
    "ev_car_count_wa_discribe"
   ],
   "metadata": {
    "collapsed": false,
    "pycharm": {
     "name": "#%%\n"
    }
   }
  },
  {
   "cell_type": "code",
   "execution_count": 38,
   "outputs": [],
   "source": [
    "all_state_car_count_df = pd.concat([ev_car_count_ny_discribe,ev_car_count_tx_discribe,ev_car_count_wa_discribe],axis=1)"
   ],
   "metadata": {
    "collapsed": false,
    "pycharm": {
     "name": "#%%\n"
    }
   }
  },
  {
   "cell_type": "code",
   "execution_count": 39,
   "outputs": [
    {
     "data": {
      "text/plain": "       NY_Car_Count  TX_Car_Count  WA_Car_Count\ncount   3575.000000   1650.000000   1104.000000\nmean     814.066573    626.183030   2142.063406\nstd     2203.457525   1328.413634   5904.039509\nmin        1.000000      1.000000      1.000000\n25%        1.000000     18.000000      4.000000\n50%       19.000000     92.000000     18.000000\n75%      409.000000    508.500000    871.000000\nmax    31256.000000  12107.000000  69190.000000",
      "text/html": "<div>\n<style scoped>\n    .dataframe tbody tr th:only-of-type {\n        vertical-align: middle;\n    }\n\n    .dataframe tbody tr th {\n        vertical-align: top;\n    }\n\n    .dataframe thead th {\n        text-align: right;\n    }\n</style>\n<table border=\"1\" class=\"dataframe\">\n  <thead>\n    <tr style=\"text-align: right;\">\n      <th></th>\n      <th>NY_Car_Count</th>\n      <th>TX_Car_Count</th>\n      <th>WA_Car_Count</th>\n    </tr>\n  </thead>\n  <tbody>\n    <tr>\n      <th>count</th>\n      <td>3575.000000</td>\n      <td>1650.000000</td>\n      <td>1104.000000</td>\n    </tr>\n    <tr>\n      <th>mean</th>\n      <td>814.066573</td>\n      <td>626.183030</td>\n      <td>2142.063406</td>\n    </tr>\n    <tr>\n      <th>std</th>\n      <td>2203.457525</td>\n      <td>1328.413634</td>\n      <td>5904.039509</td>\n    </tr>\n    <tr>\n      <th>min</th>\n      <td>1.000000</td>\n      <td>1.000000</td>\n      <td>1.000000</td>\n    </tr>\n    <tr>\n      <th>25%</th>\n      <td>1.000000</td>\n      <td>18.000000</td>\n      <td>4.000000</td>\n    </tr>\n    <tr>\n      <th>50%</th>\n      <td>19.000000</td>\n      <td>92.000000</td>\n      <td>18.000000</td>\n    </tr>\n    <tr>\n      <th>75%</th>\n      <td>409.000000</td>\n      <td>508.500000</td>\n      <td>871.000000</td>\n    </tr>\n    <tr>\n      <th>max</th>\n      <td>31256.000000</td>\n      <td>12107.000000</td>\n      <td>69190.000000</td>\n    </tr>\n  </tbody>\n</table>\n</div>"
     },
     "execution_count": 39,
     "metadata": {},
     "output_type": "execute_result"
    }
   ],
   "source": [
    "all_state_car_count_df"
   ],
   "metadata": {
    "collapsed": false,
    "pycharm": {
     "name": "#%%\n"
    }
   }
  },
  {
   "cell_type": "markdown",
   "source": [
    "After the descriptive statistics calculation of electric vehicles in each state, we found that the largest average is Washington State, indicating that in each zip code, Washington State has a higher number of electric vehicles, but also in the calculation of the standard deviation, Washington State The degree of data dispersion is also the highest, which also shows that although the average value of Washington is high, the data is too scattered and the range of change is large."
   ],
   "metadata": {
    "collapsed": false,
    "pycharm": {
     "name": "#%% md\n"
    }
   }
  },
  {
   "cell_type": "markdown",
   "source": [
    "Descriptive Statistics of Station Count"
   ],
   "metadata": {
    "collapsed": false,
    "pycharm": {
     "name": "#%% md\n"
    }
   }
  },
  {
   "cell_type": "code",
   "source": [
    "ev_station_count_ny_discribe = ev_station_count_ny[['Count']].describe()\n",
    "ev_station_count_ny_discribe = ev_station_count_ny_discribe.rename(columns={'Count': 'NY_Station_Count'})\n",
    "ev_station_count_ny_discribe"
   ],
   "metadata": {
    "collapsed": false,
    "pycharm": {
     "name": "#%%\n"
    }
   },
   "execution_count": 40,
   "outputs": [
    {
     "data": {
      "text/plain": "       NY_Station_Count\ncount        924.000000\nmean           3.221861\nstd            4.196103\nmin            1.000000\n25%            1.000000\n50%            2.000000\n75%            4.000000\nmax           50.000000",
      "text/html": "<div>\n<style scoped>\n    .dataframe tbody tr th:only-of-type {\n        vertical-align: middle;\n    }\n\n    .dataframe tbody tr th {\n        vertical-align: top;\n    }\n\n    .dataframe thead th {\n        text-align: right;\n    }\n</style>\n<table border=\"1\" class=\"dataframe\">\n  <thead>\n    <tr style=\"text-align: right;\">\n      <th></th>\n      <th>NY_Station_Count</th>\n    </tr>\n  </thead>\n  <tbody>\n    <tr>\n      <th>count</th>\n      <td>924.000000</td>\n    </tr>\n    <tr>\n      <th>mean</th>\n      <td>3.221861</td>\n    </tr>\n    <tr>\n      <th>std</th>\n      <td>4.196103</td>\n    </tr>\n    <tr>\n      <th>min</th>\n      <td>1.000000</td>\n    </tr>\n    <tr>\n      <th>25%</th>\n      <td>1.000000</td>\n    </tr>\n    <tr>\n      <th>50%</th>\n      <td>2.000000</td>\n    </tr>\n    <tr>\n      <th>75%</th>\n      <td>4.000000</td>\n    </tr>\n    <tr>\n      <th>max</th>\n      <td>50.000000</td>\n    </tr>\n  </tbody>\n</table>\n</div>"
     },
     "execution_count": 40,
     "metadata": {},
     "output_type": "execute_result"
    }
   ]
  },
  {
   "cell_type": "code",
   "execution_count": 41,
   "outputs": [
    {
     "data": {
      "text/plain": "       TX_Station_Count\ncount        744.000000\nmean           3.116935\nstd            3.998456\nmin            1.000000\n25%            1.000000\n50%            2.000000\n75%            3.000000\nmax           43.000000",
      "text/html": "<div>\n<style scoped>\n    .dataframe tbody tr th:only-of-type {\n        vertical-align: middle;\n    }\n\n    .dataframe tbody tr th {\n        vertical-align: top;\n    }\n\n    .dataframe thead th {\n        text-align: right;\n    }\n</style>\n<table border=\"1\" class=\"dataframe\">\n  <thead>\n    <tr style=\"text-align: right;\">\n      <th></th>\n      <th>TX_Station_Count</th>\n    </tr>\n  </thead>\n  <tbody>\n    <tr>\n      <th>count</th>\n      <td>744.000000</td>\n    </tr>\n    <tr>\n      <th>mean</th>\n      <td>3.116935</td>\n    </tr>\n    <tr>\n      <th>std</th>\n      <td>3.998456</td>\n    </tr>\n    <tr>\n      <th>min</th>\n      <td>1.000000</td>\n    </tr>\n    <tr>\n      <th>25%</th>\n      <td>1.000000</td>\n    </tr>\n    <tr>\n      <th>50%</th>\n      <td>2.000000</td>\n    </tr>\n    <tr>\n      <th>75%</th>\n      <td>3.000000</td>\n    </tr>\n    <tr>\n      <th>max</th>\n      <td>43.000000</td>\n    </tr>\n  </tbody>\n</table>\n</div>"
     },
     "execution_count": 41,
     "metadata": {},
     "output_type": "execute_result"
    }
   ],
   "source": [
    "ev_station_count_tx_discribe = ev_station_count_tx[['Count']].describe()\n",
    "ev_station_count_tx_discribe = ev_station_count_tx_discribe.rename(columns={'Count': 'TX_Station_Count'})\n",
    "ev_station_count_tx_discribe"
   ],
   "metadata": {
    "collapsed": false,
    "pycharm": {
     "name": "#%%\n"
    }
   }
  },
  {
   "cell_type": "code",
   "execution_count": 42,
   "outputs": [
    {
     "data": {
      "text/plain": "       WA_Station_Count\ncount        441.000000\nmean           4.024943\nstd            6.619998\nmin            1.000000\n25%            1.000000\n50%            2.000000\n75%            4.000000\nmax           57.000000",
      "text/html": "<div>\n<style scoped>\n    .dataframe tbody tr th:only-of-type {\n        vertical-align: middle;\n    }\n\n    .dataframe tbody tr th {\n        vertical-align: top;\n    }\n\n    .dataframe thead th {\n        text-align: right;\n    }\n</style>\n<table border=\"1\" class=\"dataframe\">\n  <thead>\n    <tr style=\"text-align: right;\">\n      <th></th>\n      <th>WA_Station_Count</th>\n    </tr>\n  </thead>\n  <tbody>\n    <tr>\n      <th>count</th>\n      <td>441.000000</td>\n    </tr>\n    <tr>\n      <th>mean</th>\n      <td>4.024943</td>\n    </tr>\n    <tr>\n      <th>std</th>\n      <td>6.619998</td>\n    </tr>\n    <tr>\n      <th>min</th>\n      <td>1.000000</td>\n    </tr>\n    <tr>\n      <th>25%</th>\n      <td>1.000000</td>\n    </tr>\n    <tr>\n      <th>50%</th>\n      <td>2.000000</td>\n    </tr>\n    <tr>\n      <th>75%</th>\n      <td>4.000000</td>\n    </tr>\n    <tr>\n      <th>max</th>\n      <td>57.000000</td>\n    </tr>\n  </tbody>\n</table>\n</div>"
     },
     "execution_count": 42,
     "metadata": {},
     "output_type": "execute_result"
    }
   ],
   "source": [
    "ev_station_count_wa_discribe = ev_station_count_wa[['Count']].describe()\n",
    "ev_station_count_wa_discribe = ev_station_count_wa_discribe.rename(columns={'Count': 'WA_Station_Count'})\n",
    "ev_station_count_wa_discribe"
   ],
   "metadata": {
    "collapsed": false,
    "pycharm": {
     "name": "#%%\n"
    }
   }
  },
  {
   "cell_type": "code",
   "execution_count": 43,
   "outputs": [
    {
     "data": {
      "text/plain": "       NY_Station_Count  TX_Station_Count  WA_Station_Count\ncount        924.000000        744.000000        441.000000\nmean           3.221861          3.116935          4.024943\nstd            4.196103          3.998456          6.619998\nmin            1.000000          1.000000          1.000000\n25%            1.000000          1.000000          1.000000\n50%            2.000000          2.000000          2.000000\n75%            4.000000          3.000000          4.000000\nmax           50.000000         43.000000         57.000000",
      "text/html": "<div>\n<style scoped>\n    .dataframe tbody tr th:only-of-type {\n        vertical-align: middle;\n    }\n\n    .dataframe tbody tr th {\n        vertical-align: top;\n    }\n\n    .dataframe thead th {\n        text-align: right;\n    }\n</style>\n<table border=\"1\" class=\"dataframe\">\n  <thead>\n    <tr style=\"text-align: right;\">\n      <th></th>\n      <th>NY_Station_Count</th>\n      <th>TX_Station_Count</th>\n      <th>WA_Station_Count</th>\n    </tr>\n  </thead>\n  <tbody>\n    <tr>\n      <th>count</th>\n      <td>924.000000</td>\n      <td>744.000000</td>\n      <td>441.000000</td>\n    </tr>\n    <tr>\n      <th>mean</th>\n      <td>3.221861</td>\n      <td>3.116935</td>\n      <td>4.024943</td>\n    </tr>\n    <tr>\n      <th>std</th>\n      <td>4.196103</td>\n      <td>3.998456</td>\n      <td>6.619998</td>\n    </tr>\n    <tr>\n      <th>min</th>\n      <td>1.000000</td>\n      <td>1.000000</td>\n      <td>1.000000</td>\n    </tr>\n    <tr>\n      <th>25%</th>\n      <td>1.000000</td>\n      <td>1.000000</td>\n      <td>1.000000</td>\n    </tr>\n    <tr>\n      <th>50%</th>\n      <td>2.000000</td>\n      <td>2.000000</td>\n      <td>2.000000</td>\n    </tr>\n    <tr>\n      <th>75%</th>\n      <td>4.000000</td>\n      <td>3.000000</td>\n      <td>4.000000</td>\n    </tr>\n    <tr>\n      <th>max</th>\n      <td>50.000000</td>\n      <td>43.000000</td>\n      <td>57.000000</td>\n    </tr>\n  </tbody>\n</table>\n</div>"
     },
     "execution_count": 43,
     "metadata": {},
     "output_type": "execute_result"
    }
   ],
   "source": [
    "all_state_station_count_df = pd.concat([ev_station_count_ny_discribe, ev_station_count_tx_discribe, ev_station_count_wa_discribe],axis=1)\n",
    "all_state_station_count_df"
   ],
   "metadata": {
    "collapsed": false,
    "pycharm": {
     "name": "#%%\n"
    }
   }
  },
  {
   "cell_type": "markdown",
   "source": [
    "## Correlation analysis"
   ],
   "metadata": {
    "collapsed": false,
    "pycharm": {
     "name": "#%% md\n"
    }
   }
  },
  {
   "cell_type": "markdown",
   "source": [
    "All Three State Correlation Analysis"
   ],
   "metadata": {
    "collapsed": false,
    "pycharm": {
     "name": "#%% md\n"
    }
   }
  },
  {
   "cell_type": "code",
   "execution_count": 127,
   "outputs": [],
   "source": [
    "def merge_count_data(x_data, y_data, x_col_name, y_col_name):\n",
    "    \"\"\" Merge car_count_data and station_count_file\n",
    "\n",
    "    :param x_data: dataframe of x (count in each zip code)\n",
    "    :param y_data: dataframe of y (count in each zip code)\n",
    "    :param x_col_name: the column name in the dataframe x\n",
    "    :param y_col_name: the column name in the dataframe y\n",
    "    :return: a dataframe of the merging result\n",
    "\n",
    "    >>> a1 = DataFrame(data =[['98110','28280'],['98029','24224'],['12345','0']] ,columns=['ZIP Code', 'Count'])\n",
    "    >>> a2 = DataFrame(data =[['98110','3'],['98029','4'],['12345','0']] ,columns=['ZIP Code', 'Count'])\n",
    "    >>> b1 = merge_count_data(a2,a1,'Station Count','Car Count')\n",
    "    >>> print(b1['Station Count'][0])\n",
    "    3\n",
    "    >>> print(type(b1))\n",
    "    <class 'pandas.core.frame.DataFrame'>\n",
    "    \"\"\"\n",
    "    merge_data = pd.merge(x_data, y_data, how='left', on='ZIP Code')\n",
    "    x_colume= merge_data.iloc[:,[1]]\n",
    "    y_colume= merge_data.iloc[:,[2]]\n",
    "    x_list= x_colume.columns.values.tolist()\n",
    "    y_list= y_colume.columns.values.tolist()\n",
    "    merge_data = merge_data.rename(columns={x_list[0]: x_col_name, y_list[0]: y_col_name})\n",
    "    merge_data = merge_data.fillna(0)\n",
    "    #ny_merge_data = ny_merge_data[['Station Count', 'Car Count']]\n",
    "    merge_data_clean = merge_data.drop(merge_data[merge_data[y_col_name] == 0].index)\n",
    "    return merge_data_clean"
   ],
   "metadata": {
    "collapsed": false,
    "pycharm": {
     "name": "#%%\n"
    }
   }
  },
  {
   "cell_type": "code",
   "execution_count": 128,
   "outputs": [
    {
     "data": {
      "text/plain": "TestResults(failed=0, attempted=16)"
     },
     "execution_count": 128,
     "metadata": {},
     "output_type": "execute_result"
    }
   ],
   "source": [
    "doctest.testmod()"
   ],
   "metadata": {
    "collapsed": false,
    "pycharm": {
     "name": "#%%\n"
    }
   }
  },
  {
   "cell_type": "code",
   "execution_count": 131,
   "outputs": [],
   "source": [
    "def linear_model_main(data, x_str, y_str):\n",
    "    \"\"\" Show the linear regression plot of the relation of car_count and station_count in each zip code.\n",
    "\n",
    "    :param data: a dataframe of the merging file (car_count and ev-station_count)\n",
    "    :param x_str: the column name of x\n",
    "    :param y_str: the column name of y\n",
    "    :return: the linear regression plot\n",
    "    \"\"\"\n",
    "    x = data[[x_str]]\n",
    "    y = data[[y_str]]\n",
    "    x = x.values.reshape(-1, 1)\n",
    "    y = y.values.reshape(-1, 1)\n",
    "    model = LinearRegression()\n",
    "    model.fit(x, y)\n",
    "    plt.scatter(data[x_str],data[y_str])\n",
    "    y_train = model.predict(x)\n",
    "    plt.plot(x,y_train,color = 'red',label = 'line')\n",
    "    plt.ylabel(y_str)\n",
    "    plt.xlabel(x_str)\n",
    "    plt.show()"
   ],
   "metadata": {
    "collapsed": false,
    "pycharm": {
     "name": "#%%\n"
    }
   }
  },
  {
   "cell_type": "code",
   "execution_count": 46,
   "outputs": [],
   "source": [
    "all_car_count_df = pd.concat([ev_car_count_wa,ev_car_count_ny,ev_car_count_tx],axis=0)"
   ],
   "metadata": {
    "collapsed": false,
    "pycharm": {
     "name": "#%%\n"
    }
   }
  },
  {
   "cell_type": "code",
   "execution_count": 47,
   "outputs": [
    {
     "data": {
      "text/plain": "     ZIP Code  Count\n0       98052  69190\n1       98033  45620\n2       98115  43273\n3       98004  42905\n4       98006  41084\n...       ...    ...\n1645    76004      1\n1646    76097      1\n1647    75555      1\n1648    77548      1\n1649    79244      1\n\n[6329 rows x 2 columns]",
      "text/html": "<div>\n<style scoped>\n    .dataframe tbody tr th:only-of-type {\n        vertical-align: middle;\n    }\n\n    .dataframe tbody tr th {\n        vertical-align: top;\n    }\n\n    .dataframe thead th {\n        text-align: right;\n    }\n</style>\n<table border=\"1\" class=\"dataframe\">\n  <thead>\n    <tr style=\"text-align: right;\">\n      <th></th>\n      <th>ZIP Code</th>\n      <th>Count</th>\n    </tr>\n  </thead>\n  <tbody>\n    <tr>\n      <th>0</th>\n      <td>98052</td>\n      <td>69190</td>\n    </tr>\n    <tr>\n      <th>1</th>\n      <td>98033</td>\n      <td>45620</td>\n    </tr>\n    <tr>\n      <th>2</th>\n      <td>98115</td>\n      <td>43273</td>\n    </tr>\n    <tr>\n      <th>3</th>\n      <td>98004</td>\n      <td>42905</td>\n    </tr>\n    <tr>\n      <th>4</th>\n      <td>98006</td>\n      <td>41084</td>\n    </tr>\n    <tr>\n      <th>...</th>\n      <td>...</td>\n      <td>...</td>\n    </tr>\n    <tr>\n      <th>1645</th>\n      <td>76004</td>\n      <td>1</td>\n    </tr>\n    <tr>\n      <th>1646</th>\n      <td>76097</td>\n      <td>1</td>\n    </tr>\n    <tr>\n      <th>1647</th>\n      <td>75555</td>\n      <td>1</td>\n    </tr>\n    <tr>\n      <th>1648</th>\n      <td>77548</td>\n      <td>1</td>\n    </tr>\n    <tr>\n      <th>1649</th>\n      <td>79244</td>\n      <td>1</td>\n    </tr>\n  </tbody>\n</table>\n<p>6329 rows × 2 columns</p>\n</div>"
     },
     "execution_count": 47,
     "metadata": {},
     "output_type": "execute_result"
    }
   ],
   "source": [
    "all_car_count_df"
   ],
   "metadata": {
    "collapsed": false,
    "pycharm": {
     "name": "#%%\n"
    }
   }
  },
  {
   "cell_type": "code",
   "execution_count": 48,
   "outputs": [],
   "source": [
    "all_station_count_df = pd.concat([ev_station_count_wa,ev_station_count_ny,ev_station_count_tx],axis=0)"
   ],
   "metadata": {
    "collapsed": false,
    "pycharm": {
     "name": "#%%\n"
    }
   }
  },
  {
   "cell_type": "code",
   "execution_count": 49,
   "outputs": [],
   "source": [
    "all_population_data = pd.concat([us_zip_df_wa,us_zip_df_ny,us_zip_df_tx],axis=0)"
   ],
   "metadata": {
    "collapsed": false,
    "pycharm": {
     "name": "#%%\n"
    }
   }
  },
  {
   "cell_type": "code",
   "execution_count": 50,
   "outputs": [],
   "source": [
    "all_population_data = all_population_data.rename(columns={'zip':'ZIP Code'})"
   ],
   "metadata": {
    "collapsed": false,
    "pycharm": {
     "name": "#%%\n"
    }
   }
  },
  {
   "cell_type": "code",
   "execution_count": 51,
   "outputs": [
    {
     "data": {
      "text/plain": "    ZIP Code  Count\n0      98004     57\n1      98121     51\n2      98109     49\n3      98004     49\n4      99354     46\n..       ...    ...\n739    75207      1\n740    75672      1\n741    78504      1\n742    77802      1\n743    76825      1\n\n[2109 rows x 2 columns]",
      "text/html": "<div>\n<style scoped>\n    .dataframe tbody tr th:only-of-type {\n        vertical-align: middle;\n    }\n\n    .dataframe tbody tr th {\n        vertical-align: top;\n    }\n\n    .dataframe thead th {\n        text-align: right;\n    }\n</style>\n<table border=\"1\" class=\"dataframe\">\n  <thead>\n    <tr style=\"text-align: right;\">\n      <th></th>\n      <th>ZIP Code</th>\n      <th>Count</th>\n    </tr>\n  </thead>\n  <tbody>\n    <tr>\n      <th>0</th>\n      <td>98004</td>\n      <td>57</td>\n    </tr>\n    <tr>\n      <th>1</th>\n      <td>98121</td>\n      <td>51</td>\n    </tr>\n    <tr>\n      <th>2</th>\n      <td>98109</td>\n      <td>49</td>\n    </tr>\n    <tr>\n      <th>3</th>\n      <td>98004</td>\n      <td>49</td>\n    </tr>\n    <tr>\n      <th>4</th>\n      <td>99354</td>\n      <td>46</td>\n    </tr>\n    <tr>\n      <th>...</th>\n      <td>...</td>\n      <td>...</td>\n    </tr>\n    <tr>\n      <th>739</th>\n      <td>75207</td>\n      <td>1</td>\n    </tr>\n    <tr>\n      <th>740</th>\n      <td>75672</td>\n      <td>1</td>\n    </tr>\n    <tr>\n      <th>741</th>\n      <td>78504</td>\n      <td>1</td>\n    </tr>\n    <tr>\n      <th>742</th>\n      <td>77802</td>\n      <td>1</td>\n    </tr>\n    <tr>\n      <th>743</th>\n      <td>76825</td>\n      <td>1</td>\n    </tr>\n  </tbody>\n</table>\n<p>2109 rows × 2 columns</p>\n</div>"
     },
     "execution_count": 51,
     "metadata": {},
     "output_type": "execute_result"
    }
   ],
   "source": [
    "all_station_count_df"
   ],
   "metadata": {
    "collapsed": false,
    "pycharm": {
     "name": "#%%\n"
    }
   }
  },
  {
   "cell_type": "markdown",
   "source": [
    "The correlation between all_car_count and all_station_count"
   ],
   "metadata": {
    "collapsed": false,
    "pycharm": {
     "name": "#%% md\n"
    }
   }
  },
  {
   "cell_type": "code",
   "execution_count": 52,
   "outputs": [],
   "source": [
    "all_merge_data_car_station = merge_count_data(all_station_count_df,all_car_count_df,'Station Count','Car Count')"
   ],
   "metadata": {
    "collapsed": false,
    "pycharm": {
     "name": "#%%\n"
    }
   }
  },
  {
   "cell_type": "code",
   "execution_count": 53,
   "outputs": [
    {
     "data": {
      "text/plain": "     ZIP Code  Station Count  Car Count\n0       98004             57    42905.0\n1       98121             51    10804.0\n2       98109             49    23663.0\n5       98101             40        1.0\n12      98104             18    17446.0\n...       ...            ...        ...\n2121    76513              1     1070.0\n2122    75211              1      528.0\n2123    75207              1      329.0\n2125    78504              1        2.0\n2126    77802              1      467.0\n\n[1114 rows x 3 columns]",
      "text/html": "<div>\n<style scoped>\n    .dataframe tbody tr th:only-of-type {\n        vertical-align: middle;\n    }\n\n    .dataframe tbody tr th {\n        vertical-align: top;\n    }\n\n    .dataframe thead th {\n        text-align: right;\n    }\n</style>\n<table border=\"1\" class=\"dataframe\">\n  <thead>\n    <tr style=\"text-align: right;\">\n      <th></th>\n      <th>ZIP Code</th>\n      <th>Station Count</th>\n      <th>Car Count</th>\n    </tr>\n  </thead>\n  <tbody>\n    <tr>\n      <th>0</th>\n      <td>98004</td>\n      <td>57</td>\n      <td>42905.0</td>\n    </tr>\n    <tr>\n      <th>1</th>\n      <td>98121</td>\n      <td>51</td>\n      <td>10804.0</td>\n    </tr>\n    <tr>\n      <th>2</th>\n      <td>98109</td>\n      <td>49</td>\n      <td>23663.0</td>\n    </tr>\n    <tr>\n      <th>5</th>\n      <td>98101</td>\n      <td>40</td>\n      <td>1.0</td>\n    </tr>\n    <tr>\n      <th>12</th>\n      <td>98104</td>\n      <td>18</td>\n      <td>17446.0</td>\n    </tr>\n    <tr>\n      <th>...</th>\n      <td>...</td>\n      <td>...</td>\n      <td>...</td>\n    </tr>\n    <tr>\n      <th>2121</th>\n      <td>76513</td>\n      <td>1</td>\n      <td>1070.0</td>\n    </tr>\n    <tr>\n      <th>2122</th>\n      <td>75211</td>\n      <td>1</td>\n      <td>528.0</td>\n    </tr>\n    <tr>\n      <th>2123</th>\n      <td>75207</td>\n      <td>1</td>\n      <td>329.0</td>\n    </tr>\n    <tr>\n      <th>2125</th>\n      <td>78504</td>\n      <td>1</td>\n      <td>2.0</td>\n    </tr>\n    <tr>\n      <th>2126</th>\n      <td>77802</td>\n      <td>1</td>\n      <td>467.0</td>\n    </tr>\n  </tbody>\n</table>\n<p>1114 rows × 3 columns</p>\n</div>"
     },
     "execution_count": 53,
     "metadata": {},
     "output_type": "execute_result"
    }
   ],
   "source": [
    "all_merge_data_car_station"
   ],
   "metadata": {
    "collapsed": false,
    "pycharm": {
     "name": "#%%\n"
    }
   }
  },
  {
   "cell_type": "code",
   "execution_count": 54,
   "outputs": [
    {
     "data": {
      "text/plain": "<Figure size 432x288 with 1 Axes>",
      "image/png": "[encoded data removed]"
     },
     "metadata": {
      "needs_background": "light"
     },
     "output_type": "display_data"
    }
   ],
   "source": [
    "linear_model_main(all_merge_data_car_station,'Station Count','Car Count')"
   ],
   "metadata": {
    "collapsed": false,
    "pycharm": {
     "name": "#%%\n"
    }
   }
  },
  {
   "cell_type": "code",
   "execution_count": 55,
   "outputs": [
    {
     "data": {
      "text/plain": "<AxesSubplot:>"
     },
     "execution_count": 55,
     "metadata": {},
     "output_type": "execute_result"
    },
    {
     "data": {
      "text/plain": "<Figure size 432x288 with 2 Axes>",
      "image/png": "[encoded data removed]"
     },
     "metadata": {
      "needs_background": "light"
     },
     "output_type": "display_data"
    }
   ],
   "source": [
    "corr_all = all_merge_data_car_station[['Station Count','Car Count']].corr()\n",
    "sns.heatmap(corr_all, cmap ='Blues', square = True, annot = True)"
   ],
   "metadata": {
    "collapsed": false,
    "pycharm": {
     "name": "#%%\n"
    }
   }
  },
  {
   "cell_type": "markdown",
   "source": [
    "As can be seen from the figure, the correlation coefficient is 0.27, which is not correlated. Therefore, the total number of vehicles in the three states is not related to the number of corresponding charging points."
   ],
   "metadata": {
    "collapsed": false,
    "pycharm": {
     "name": "#%% md\n"
    }
   }
  },
  {
   "cell_type": "markdown",
   "source": [
    "The correlation between all_car_count and all_population_count"
   ],
   "metadata": {
    "collapsed": false,
    "pycharm": {
     "name": "#%% md\n"
    }
   }
  },
  {
   "cell_type": "code",
   "execution_count": 56,
   "outputs": [
    {
     "data": {
      "text/plain": "       ZIP Code  population\n32938     98001     34455.0\n32939     98002     33947.0\n32940     98003     49445.0\n32941     98004     37265.0\n32942     98005     21414.0\n...         ...         ...\n28344     79932     28893.0\n28345     79934     26360.0\n28346     79935     18546.0\n28347     79936    108668.0\n28348     79938     83326.0\n\n[4421 rows x 2 columns]",
      "text/html": "<div>\n<style scoped>\n    .dataframe tbody tr th:only-of-type {\n        vertical-align: middle;\n    }\n\n    .dataframe tbody tr th {\n        vertical-align: top;\n    }\n\n    .dataframe thead th {\n        text-align: right;\n    }\n</style>\n<table border=\"1\" class=\"dataframe\">\n  <thead>\n    <tr style=\"text-align: right;\">\n      <th></th>\n      <th>ZIP Code</th>\n      <th>population</th>\n    </tr>\n  </thead>\n  <tbody>\n    <tr>\n      <th>32938</th>\n      <td>98001</td>\n      <td>34455.0</td>\n    </tr>\n    <tr>\n      <th>32939</th>\n      <td>98002</td>\n      <td>33947.0</td>\n    </tr>\n    <tr>\n      <th>32940</th>\n      <td>98003</td>\n      <td>49445.0</td>\n    </tr>\n    <tr>\n      <th>32941</th>\n      <td>98004</td>\n      <td>37265.0</td>\n    </tr>\n    <tr>\n      <th>32942</th>\n      <td>98005</td>\n      <td>21414.0</td>\n    </tr>\n    <tr>\n      <th>...</th>\n      <td>...</td>\n      <td>...</td>\n    </tr>\n    <tr>\n      <th>28344</th>\n      <td>79932</td>\n      <td>28893.0</td>\n    </tr>\n    <tr>\n      <th>28345</th>\n      <td>79934</td>\n      <td>26360.0</td>\n    </tr>\n    <tr>\n      <th>28346</th>\n      <td>79935</td>\n      <td>18546.0</td>\n    </tr>\n    <tr>\n      <th>28347</th>\n      <td>79936</td>\n      <td>108668.0</td>\n    </tr>\n    <tr>\n      <th>28348</th>\n      <td>79938</td>\n      <td>83326.0</td>\n    </tr>\n  </tbody>\n</table>\n<p>4421 rows × 2 columns</p>\n</div>"
     },
     "execution_count": 56,
     "metadata": {},
     "output_type": "execute_result"
    }
   ],
   "source": [
    "all_population_data"
   ],
   "metadata": {
    "collapsed": false,
    "pycharm": {
     "name": "#%%\n"
    }
   }
  },
  {
   "cell_type": "code",
   "execution_count": 57,
   "outputs": [],
   "source": [
    "all_merge_data_car_pop = merge_count_data(all_population_data,all_car_count_df,'Population','Car Count')"
   ],
   "metadata": {
    "collapsed": false,
    "pycharm": {
     "name": "#%%\n"
    }
   }
  },
  {
   "cell_type": "code",
   "execution_count": 58,
   "outputs": [
    {
     "data": {
      "text/plain": "      ZIP Code  Population  Car Count\n7        98008     25650.0        1.0\n19       98026     38292.0        3.0\n20       98027     30240.0        1.0\n22       98029     29956.0        1.0\n26       98033     39802.0        9.0\n...        ...         ...        ...\n4013     78738     15090.0        1.0\n4019     78746     27671.0       14.0\n4023     78750     33860.0        1.0\n4028     78756      9450.0        1.0\n4413     79927     42221.0        1.0\n\n[1772 rows x 3 columns]",
      "text/html": "<div>\n<style scoped>\n    .dataframe tbody tr th:only-of-type {\n        vertical-align: middle;\n    }\n\n    .dataframe tbody tr th {\n        vertical-align: top;\n    }\n\n    .dataframe thead th {\n        text-align: right;\n    }\n</style>\n<table border=\"1\" class=\"dataframe\">\n  <thead>\n    <tr style=\"text-align: right;\">\n      <th></th>\n      <th>ZIP Code</th>\n      <th>Population</th>\n      <th>Car Count</th>\n    </tr>\n  </thead>\n  <tbody>\n    <tr>\n      <th>7</th>\n      <td>98008</td>\n      <td>25650.0</td>\n      <td>1.0</td>\n    </tr>\n    <tr>\n      <th>19</th>\n      <td>98026</td>\n      <td>38292.0</td>\n      <td>3.0</td>\n    </tr>\n    <tr>\n      <th>20</th>\n      <td>98027</td>\n      <td>30240.0</td>\n      <td>1.0</td>\n    </tr>\n    <tr>\n      <th>22</th>\n      <td>98029</td>\n      <td>29956.0</td>\n      <td>1.0</td>\n    </tr>\n    <tr>\n      <th>26</th>\n      <td>98033</td>\n      <td>39802.0</td>\n      <td>9.0</td>\n    </tr>\n    <tr>\n      <th>...</th>\n      <td>...</td>\n      <td>...</td>\n      <td>...</td>\n    </tr>\n    <tr>\n      <th>4013</th>\n      <td>78738</td>\n      <td>15090.0</td>\n      <td>1.0</td>\n    </tr>\n    <tr>\n      <th>4019</th>\n      <td>78746</td>\n      <td>27671.0</td>\n      <td>14.0</td>\n    </tr>\n    <tr>\n      <th>4023</th>\n      <td>78750</td>\n      <td>33860.0</td>\n      <td>1.0</td>\n    </tr>\n    <tr>\n      <th>4028</th>\n      <td>78756</td>\n      <td>9450.0</td>\n      <td>1.0</td>\n    </tr>\n    <tr>\n      <th>4413</th>\n      <td>79927</td>\n      <td>42221.0</td>\n      <td>1.0</td>\n    </tr>\n  </tbody>\n</table>\n<p>1772 rows × 3 columns</p>\n</div>"
     },
     "execution_count": 58,
     "metadata": {},
     "output_type": "execute_result"
    }
   ],
   "source": [
    "all_merge_data_car_pop"
   ],
   "metadata": {
    "collapsed": false,
    "pycharm": {
     "name": "#%%\n"
    }
   }
  },
  {
   "cell_type": "code",
   "execution_count": 59,
   "outputs": [
    {
     "data": {
      "text/plain": "<Figure size 432x288 with 1 Axes>",
      "image/png": "[encoded data removed]"
     },
     "metadata": {
      "needs_background": "light"
     },
     "output_type": "display_data"
    }
   ],
   "source": [
    "linear_model_main(all_merge_data_car_pop,'Population','Car Count')"
   ],
   "metadata": {
    "collapsed": false,
    "pycharm": {
     "name": "#%%\n"
    }
   }
  },
  {
   "cell_type": "code",
   "execution_count": 60,
   "outputs": [
    {
     "data": {
      "text/plain": "<AxesSubplot:>"
     },
     "execution_count": 60,
     "metadata": {},
     "output_type": "execute_result"
    },
    {
     "data": {
      "text/plain": "<Figure size 432x288 with 2 Axes>",
      "image/png": "[encoded data removed]"
     },
     "metadata": {
      "needs_background": "light"
     },
     "output_type": "display_data"
    }
   ],
   "source": [
    "corr_all = all_merge_data_car_pop[['Population','Car Count']].corr()\n",
    "sns.heatmap(corr_all, cmap ='Blues', square = True, annot = True)"
   ],
   "metadata": {
    "collapsed": false,
    "pycharm": {
     "name": "#%%\n"
    }
   }
  },
  {
   "cell_type": "markdown",
   "source": [
    "As can be seen from the figure, the correlation coefficient is 0.45, which is not correlated. Therefore, the total number of cars in the three states is weakly correlated with their corresponding population."
   ],
   "metadata": {
    "collapsed": false,
    "pycharm": {
     "name": "#%% md\n"
    }
   }
  },
  {
   "cell_type": "markdown",
   "source": [
    "New York State Correlation analysis"
   ],
   "metadata": {
    "collapsed": false,
    "pycharm": {
     "name": "#%% md\n"
    }
   }
  },
  {
   "cell_type": "code",
   "execution_count": 61,
   "outputs": [],
   "source": [
    "merge_data_clean_ny = merge_count_data(ev_station_count_ny,ev_car_count_ny,'Station Count','Car Count')"
   ],
   "metadata": {
    "collapsed": false,
    "pycharm": {
     "name": "#%%\n"
    }
   }
  },
  {
   "cell_type": "code",
   "execution_count": 62,
   "outputs": [
    {
     "data": {
      "text/plain": "<Figure size 432x288 with 1 Axes>",
      "image/png": "[encoded data removed]"
     },
     "metadata": {
      "needs_background": "light"
     },
     "output_type": "display_data"
    }
   ],
   "source": [
    "linear_model_main(merge_data_clean_ny,'Station Count','Car Count')"
   ],
   "metadata": {
    "collapsed": false,
    "pycharm": {
     "name": "#%%\n"
    }
   }
  },
  {
   "cell_type": "code",
   "execution_count": 63,
   "outputs": [
    {
     "data": {
      "text/plain": "<AxesSubplot:>"
     },
     "execution_count": 63,
     "metadata": {},
     "output_type": "execute_result"
    },
    {
     "data": {
      "text/plain": "<Figure size 432x288 with 2 Axes>",
      "image/png": "[encoded data removed]"
     },
     "metadata": {
      "needs_background": "light"
     },
     "output_type": "display_data"
    }
   ],
   "source": [
    "corr_ny = merge_data_clean_ny[['Station Count','Car Count']].corr()\n",
    "sns.heatmap(corr_ny, cmap ='Blues', square = True, annot = True)"
   ],
   "metadata": {
    "collapsed": false,
    "pycharm": {
     "name": "#%%\n"
    }
   }
  },
  {
   "cell_type": "markdown",
   "source": [],
   "metadata": {
    "collapsed": false,
    "pycharm": {
     "name": "#%% md\n"
    }
   }
  },
  {
   "cell_type": "markdown",
   "source": [
    "As can be seen from the figure, the correlation coefficient is 0.34, which is not correlated. Therefore, the number of cars in New York State is weakly correlated with the number of corresponding charging piles."
   ],
   "metadata": {
    "collapsed": false,
    "pycharm": {
     "name": "#%% md\n"
    }
   }
  },
  {
   "cell_type": "markdown",
   "source": [
    "Texas State Correlation Analysis"
   ],
   "metadata": {
    "collapsed": false,
    "pycharm": {
     "name": "#%% md\n"
    }
   }
  },
  {
   "cell_type": "code",
   "execution_count": 64,
   "outputs": [],
   "source": [
    "merge_data_clean_tx = merge_count_data(ev_station_count_tx,ev_car_count_tx,'Station Count','Car Count')"
   ],
   "metadata": {
    "collapsed": false,
    "pycharm": {
     "name": "#%%\n"
    }
   }
  },
  {
   "cell_type": "code",
   "execution_count": 66,
   "outputs": [
    {
     "data": {
      "text/plain": "<Figure size 432x288 with 1 Axes>",
      "image/png": "[encoded data removed]"
     },
     "metadata": {
      "needs_background": "light"
     },
     "output_type": "display_data"
    }
   ],
   "source": [
    "linear_model_main(merge_data_clean_tx,'Station Count','Car Count')"
   ],
   "metadata": {
    "collapsed": false,
    "pycharm": {
     "name": "#%%\n"
    }
   }
  },
  {
   "cell_type": "code",
   "execution_count": 67,
   "outputs": [
    {
     "data": {
      "text/plain": "<AxesSubplot:>"
     },
     "execution_count": 67,
     "metadata": {},
     "output_type": "execute_result"
    },
    {
     "data": {
      "text/plain": "<Figure size 432x288 with 2 Axes>",
      "image/png": "[encoded data removed]"
     },
     "metadata": {
      "needs_background": "light"
     },
     "output_type": "display_data"
    }
   ],
   "source": [
    "corr_tx = merge_data_clean_tx[['Station Count','Car Count']].corr()\n",
    "sns.heatmap(corr_tx, cmap ='Blues', square = True, annot = True)"
   ],
   "metadata": {
    "collapsed": false,
    "pycharm": {
     "name": "#%%\n"
    }
   }
  },
  {
   "cell_type": "markdown",
   "source": [
    "As can be seen from the figure, the correlation coefficient is 0.3, which is not correlated. Therefore, the number of cars in Texas State is weakly correlated with the number of corresponding charging piles."
   ],
   "metadata": {
    "collapsed": false,
    "pycharm": {
     "name": "#%% md\n"
    }
   }
  },
  {
   "cell_type": "markdown",
   "source": [
    "Washington State Correlation Analysis"
   ],
   "metadata": {
    "collapsed": false,
    "pycharm": {
     "name": "#%% md\n"
    }
   }
  },
  {
   "cell_type": "code",
   "execution_count": 68,
   "outputs": [],
   "source": [
    "merge_data_clean_wa = merge_count_data(ev_station_count_wa,ev_car_count_wa,'Station Count','Car Count')"
   ],
   "metadata": {
    "collapsed": false,
    "pycharm": {
     "name": "#%%\n"
    }
   }
  },
  {
   "cell_type": "code",
   "execution_count": 70,
   "outputs": [
    {
     "data": {
      "text/plain": "<Figure size 432x288 with 1 Axes>",
      "image/png": "[encoded data removed]"
     },
     "metadata": {
      "needs_background": "light"
     },
     "output_type": "display_data"
    }
   ],
   "source": [
    "linear_model_main(merge_data_clean_wa,'Station Count','Car Count')"
   ],
   "metadata": {
    "collapsed": false,
    "pycharm": {
     "name": "#%%\n"
    }
   }
  },
  {
   "cell_type": "code",
   "execution_count": 71,
   "outputs": [
    {
     "data": {
      "text/plain": "<AxesSubplot:>"
     },
     "execution_count": 71,
     "metadata": {},
     "output_type": "execute_result"
    },
    {
     "data": {
      "text/plain": "<Figure size 432x288 with 2 Axes>",
      "image/png": "[encoded data removed]"
     },
     "metadata": {
      "needs_background": "light"
     },
     "output_type": "display_data"
    }
   ],
   "source": [
    "corr_wa = merge_data_clean_wa[['Station Count','Car Count']].corr()\n",
    "sns.heatmap(corr_wa, cmap ='Blues', square = True, annot = True)"
   ],
   "metadata": {
    "collapsed": false,
    "pycharm": {
     "name": "#%%\n"
    }
   }
  },
  {
   "cell_type": "markdown",
   "source": [
    "As can be seen from the figure, the correlation coefficient is 0.35, which is not correlated. Therefore, the number of cars in Washington State is weakly correlated with the number of corresponding charging piles."
   ],
   "metadata": {
    "collapsed": false,
    "pycharm": {
     "name": "#%% md\n"
    }
   }
  },
  {
   "cell_type": "markdown",
   "source": [
    "# Further Analysis (cont.)"
   ],
   "metadata": {
    "collapsed": false,
    "pycharm": {
     "name": "#%% md\n"
    }
   }
  },
  {
   "cell_type": "markdown",
   "source": [
    "### What’s more, Mr Weible suggested, considering the fact that Battery Cars always need to charge in the range of only a few hundred kilometers, the decision of PHEV or BEV by the consumer may be influenced by the Charging Station around them. So we compare the total number of EV stations and PHEV rate of all EV vehicles in those regions by zip code."
   ],
   "metadata": {
    "collapsed": false
   }
  },
  {
   "cell_type": "code",
   "execution_count": 146,
   "outputs": [],
   "source": [
    "import statsmodels.api as sm\n",
    "us_zip_df = pd.read_csv('data/uszips.csv')\n",
    "us_zip_df = us_zip_df[['zip', 'state_id', 'population', 'density']]\n",
    "us_zip_df['area'] = us_zip_df['population'] / us_zip_df['density']\n",
    "us_zip_df = us_zip_df.rename(columns={'zip': 'ZIP Code'})\n",
    "us_zip_df_ny = us_zip_df[us_zip_df['state_id'] == 'NY']\n",
    "us_zip_df_wa = us_zip_df[us_zip_df['state_id'] == 'WA']\n",
    "us_zip_df_tx = us_zip_df[us_zip_df['state_id'] == 'TX']\n",
    "us_zip_df_wa = us_zip_df_wa[['ZIP Code', 'population', 'density', 'area']]\n",
    "us_zip_df_ny = us_zip_df_ny[['ZIP Code', 'population', 'density', 'area']]\n",
    "us_zip_df_tx = us_zip_df_tx[['ZIP Code', 'population', 'density', 'area']]\n",
    "us_zip_df_ny.fillna(0, inplace=True)\n",
    "us_zip_df_tx.fillna(0, inplace=True)\n",
    "us_zip_df_wa.fillna(0, inplace=True)"
   ],
   "metadata": {
    "collapsed": false,
    "pycharm": {
     "name": "#%%\n"
    }
   }
  },
  {
   "cell_type": "code",
   "execution_count": 175,
   "outputs": [],
   "source": [
    "def ev_car_phev_count_df(data: str) -> pd.DataFrame:\n",
    "    \"\"\" Calculate the number of car and PHEV rate in each zip code\n",
    "\n",
    "    :param data:state car registration data\n",
    "    :return:the car count and phev rate of each state\n",
    "    \"\"\"\n",
    "    data_count = data.loc[:,'ZIP Code'].value_counts().sort_index(axis=0)\n",
    "    phev_count = data[data['Technology'] == 'PHEV'].loc[:,'ZIP Code'].value_counts().sort_index(axis=0)\n",
    "    file_count_df = DataFrame(data_count)\n",
    "    file_count_df = file_count_df.rename(columns={'ZIP Code': 'Count'})\n",
    "    ev_car_count = file_count_df.rename_axis('ZIP Code').reset_index()\n",
    "    phev_count_df = DataFrame(phev_count)\n",
    "    phev_rate = phev_count_df.rename(columns={'ZIP Code': 'PHEV Count'})\n",
    "    phev_rate = phev_rate.rename_axis('ZIP Code').reset_index()\n",
    "    ev_car_count = pd.merge(ev_car_count, phev_rate, how='left', on='ZIP Code')\n",
    "    ev_car_count.fillna(0, inplace=True)\n",
    "    ev_car_count['PHEV Rate'] = ev_car_count['PHEV Count'] / ev_car_count['Count']\n",
    "    return ev_car_count"
   ],
   "metadata": {
    "collapsed": false,
    "pycharm": {
     "name": "#%%\n"
    }
   }
  },
  {
   "cell_type": "code",
   "execution_count": 195,
   "outputs": [],
   "source": [
    "def filter_car_station_data(ev_station_count, state_data, us_zip_df):\n",
    "    \"\"\" filter specific columns for the linear regression model\n",
    "\n",
    "    :param ev_station_count: the dataframe for ev station count by zip code\n",
    "    :param state_data: the dataframe for specific state registration data\n",
    "    :param us_zip_df: the dataframe for the state zip code data\n",
    "    :return: the dataframe for all the merged message\n",
    "    \"\"\"\n",
    "    ev_station_count = ev_station_count.rename(columns={'Count': 'Station Count'})\n",
    "    ev_car_count = ev_car_phev_count_df(state_data)\n",
    "    ev_car_station = pd.merge(ev_car_count, ev_station_count, how='left', on='ZIP Code')\n",
    "    ev_car_station.dropna(axis=0, how='any', inplace=True)\n",
    "    ev_car_station['ZIP Code'] = ev_car_station['ZIP Code'].astype('int64')\n",
    "\n",
    "    ev_car_station_pop = pd.merge(ev_car_station, us_zip_df, how='left', on='ZIP Code')\n",
    "    ev_car_station_pop.fillna(0, inplace=True)\n",
    "    ev_car_station_pop = ev_car_station_pop[ev_car_station_pop['Count'] > 10]\n",
    "    ev_car_station_pop = ev_car_station_pop[ev_car_station_pop['Station Count'] > 2]\n",
    "    ev_car_station_pop = ev_car_station_pop[ev_car_station_pop['population'] > 500]\n",
    "    ev_car_station_pop = ev_car_station_pop[['ZIP Code', 'Station Count', 'Count', 'PHEV Rate', 'population', 'area']]\n",
    "    return ev_car_station_pop"
   ],
   "metadata": {
    "collapsed": false,
    "pycharm": {
     "name": "#%%\n"
    }
   }
  },
  {
   "cell_type": "markdown",
   "source": [
    "## New York State"
   ],
   "metadata": {
    "collapsed": false
   }
  },
  {
   "cell_type": "code",
   "execution_count": 196,
   "outputs": [
    {
     "data": {
      "text/plain": "     ZIP Code  Station Count  Count  PHEV Rate  population        area\n0       10001           10.0   3815   0.360419     25026.0    1.615696\n1       10002            5.0   3546   0.448393     74363.0    2.129726\n2       10003           12.0   6541   0.307292     54671.0    1.480443\n4       10005            3.0   1242   0.233494      8664.0    0.188727\n5       10007            5.0  15492   0.554932      7566.0    0.414128\n..        ...            ...    ...        ...         ...         ...\n556     14830            4.0   3787   0.735939     19138.0  234.822086\n560     14845            5.0   3390   0.701770     20401.0  202.591857\n561     14850           24.0  27366   0.626398     64224.0  323.220936\n562     14853            3.0    413   0.276029      2663.0    0.996669\n565     14870            3.0   1822   0.620198     10202.0  166.972177\n\n[228 rows x 6 columns]",
      "text/html": "<div>\n<style scoped>\n    .dataframe tbody tr th:only-of-type {\n        vertical-align: middle;\n    }\n\n    .dataframe tbody tr th {\n        vertical-align: top;\n    }\n\n    .dataframe thead th {\n        text-align: right;\n    }\n</style>\n<table border=\"1\" class=\"dataframe\">\n  <thead>\n    <tr style=\"text-align: right;\">\n      <th></th>\n      <th>ZIP Code</th>\n      <th>Station Count</th>\n      <th>Count</th>\n      <th>PHEV Rate</th>\n      <th>population</th>\n      <th>area</th>\n    </tr>\n  </thead>\n  <tbody>\n    <tr>\n      <th>0</th>\n      <td>10001</td>\n      <td>10.0</td>\n      <td>3815</td>\n      <td>0.360419</td>\n      <td>25026.0</td>\n      <td>1.615696</td>\n    </tr>\n    <tr>\n      <th>1</th>\n      <td>10002</td>\n      <td>5.0</td>\n      <td>3546</td>\n      <td>0.448393</td>\n      <td>74363.0</td>\n      <td>2.129726</td>\n    </tr>\n    <tr>\n      <th>2</th>\n      <td>10003</td>\n      <td>12.0</td>\n      <td>6541</td>\n      <td>0.307292</td>\n      <td>54671.0</td>\n      <td>1.480443</td>\n    </tr>\n    <tr>\n      <th>4</th>\n      <td>10005</td>\n      <td>3.0</td>\n      <td>1242</td>\n      <td>0.233494</td>\n      <td>8664.0</td>\n      <td>0.188727</td>\n    </tr>\n    <tr>\n      <th>5</th>\n      <td>10007</td>\n      <td>5.0</td>\n      <td>15492</td>\n      <td>0.554932</td>\n      <td>7566.0</td>\n      <td>0.414128</td>\n    </tr>\n    <tr>\n      <th>...</th>\n      <td>...</td>\n      <td>...</td>\n      <td>...</td>\n      <td>...</td>\n      <td>...</td>\n      <td>...</td>\n    </tr>\n    <tr>\n      <th>556</th>\n      <td>14830</td>\n      <td>4.0</td>\n      <td>3787</td>\n      <td>0.735939</td>\n      <td>19138.0</td>\n      <td>234.822086</td>\n    </tr>\n    <tr>\n      <th>560</th>\n      <td>14845</td>\n      <td>5.0</td>\n      <td>3390</td>\n      <td>0.701770</td>\n      <td>20401.0</td>\n      <td>202.591857</td>\n    </tr>\n    <tr>\n      <th>561</th>\n      <td>14850</td>\n      <td>24.0</td>\n      <td>27366</td>\n      <td>0.626398</td>\n      <td>64224.0</td>\n      <td>323.220936</td>\n    </tr>\n    <tr>\n      <th>562</th>\n      <td>14853</td>\n      <td>3.0</td>\n      <td>413</td>\n      <td>0.276029</td>\n      <td>2663.0</td>\n      <td>0.996669</td>\n    </tr>\n    <tr>\n      <th>565</th>\n      <td>14870</td>\n      <td>3.0</td>\n      <td>1822</td>\n      <td>0.620198</td>\n      <td>10202.0</td>\n      <td>166.972177</td>\n    </tr>\n  </tbody>\n</table>\n<p>228 rows × 6 columns</p>\n</div>"
     },
     "execution_count": 196,
     "metadata": {},
     "output_type": "execute_result"
    }
   ],
   "source": [
    "ev_station_count_ny = ev_station_count_df(ev_station_data, 'NY')\n",
    "ev_car_station_pop_ny = filter_car_station_data(ev_station_count_ny, newyork_data, us_zip_df_ny)\n",
    "ev_car_station_pop_ny"
   ],
   "metadata": {
    "collapsed": false,
    "pycharm": {
     "name": "#%%\n"
    }
   }
  },
  {
   "cell_type": "code",
   "execution_count": 197,
   "outputs": [
    {
     "data": {
      "text/plain": "<Figure size 432x288 with 1 Axes>",
      "image/png": "[encoded data removed]"
     },
     "metadata": {
      "needs_background": "light"
     },
     "output_type": "display_data"
    },
    {
     "data": {
      "text/plain": "<AxesSubplot:>"
     },
     "execution_count": 197,
     "metadata": {},
     "output_type": "execute_result"
    },
    {
     "data": {
      "text/plain": "<Figure size 432x288 with 2 Axes>",
      "image/png": "[encoded data removed]"
     },
     "metadata": {
      "needs_background": "light"
     },
     "output_type": "display_data"
    }
   ],
   "source": [
    "linear_model_main(ev_car_station_pop_ny, 'Station Count', 'PHEV Rate')\n",
    "corr_all = ev_car_station_pop_ny[['Station Count', 'PHEV Rate']].corr()\n",
    "sns.heatmap(corr_all, cmap='Blues', square=True, annot=True)"
   ],
   "metadata": {
    "collapsed": false,
    "pycharm": {
     "name": "#%%\n"
    }
   }
  },
  {
   "cell_type": "markdown",
   "source": [
    "As the scatter plot and heatmap show, the correlation between them is really low. EV station is not an independent variable for PHEV rate.\n"
   ],
   "metadata": {
    "collapsed": false
   }
  },
  {
   "cell_type": "code",
   "execution_count": 198,
   "outputs": [
    {
     "name": "stderr",
     "output_type": "stream",
     "text": [
      "/Users/hyc/opt/anaconda3/lib/python3.9/site-packages/statsmodels/tsa/tsatools.py:142: FutureWarning: In a future version of pandas all arguments of concat except for the argument 'objs' will be keyword-only\n",
      "  x = pd.concat(x[::order], 1)\n"
     ]
    },
    {
     "data": {
      "text/plain": "<class 'statsmodels.iolib.summary.Summary'>\n\"\"\"\n                            OLS Regression Results                            \n==============================================================================\nDep. Variable:          Station Count   R-squared:                       0.074\nModel:                            OLS   Adj. R-squared:                  0.057\nMethod:                 Least Squares   F-statistic:                     4.460\nDate:                Fri, 06 May 2022   Prob (F-statistic):            0.00174\nTime:                        17:45:58   Log-Likelihood:                -720.98\nNo. Observations:                 228   AIC:                             1452.\nDf Residuals:                     223   BIC:                             1469.\nDf Model:                           4                                         \nCovariance Type:            nonrobust                                         \n==============================================================================\n                 coef    std err          t      P>|t|      [0.025      0.975]\n------------------------------------------------------------------------------\nconst          6.3192      1.575      4.013      0.000       3.216       9.422\nCount          0.0002   9.28e-05      2.533      0.012    5.22e-05       0.000\nPHEV Rate     -3.0173      2.492     -1.211      0.227      -7.928       1.893\npopulation  3.189e-05   2.16e-05      1.473      0.142   -1.08e-05    7.46e-05\narea           0.0058      0.004      1.443      0.151      -0.002       0.014\n==============================================================================\nOmnibus:                      160.074   Durbin-Watson:                   1.714\nProb(Omnibus):                  0.000   Jarque-Bera (JB):             1579.638\nSkew:                           2.700   Prob(JB):                         0.00\nKurtosis:                      14.710   Cond. No.                     2.49e+05\n==============================================================================\n\nNotes:\n[1] Standard Errors assume that the covariance matrix of the errors is correctly specified.\n[2] The condition number is large, 2.49e+05. This might indicate that there are\nstrong multicollinearity or other numerical problems.\n\"\"\"",
      "text/html": "<table class=\"simpletable\">\n<caption>OLS Regression Results</caption>\n<tr>\n  <th>Dep. Variable:</th>      <td>Station Count</td>  <th>  R-squared:         </th> <td>   0.074</td>\n</tr>\n<tr>\n  <th>Model:</th>                   <td>OLS</td>       <th>  Adj. R-squared:    </th> <td>   0.057</td>\n</tr>\n<tr>\n  <th>Method:</th>             <td>Least Squares</td>  <th>  F-statistic:       </th> <td>   4.460</td>\n</tr>\n<tr>\n  <th>Date:</th>             <td>Fri, 06 May 2022</td> <th>  Prob (F-statistic):</th>  <td>0.00174</td>\n</tr>\n<tr>\n  <th>Time:</th>                 <td>17:45:58</td>     <th>  Log-Likelihood:    </th> <td> -720.98</td>\n</tr>\n<tr>\n  <th>No. Observations:</th>      <td>   228</td>      <th>  AIC:               </th> <td>   1452.</td>\n</tr>\n<tr>\n  <th>Df Residuals:</th>          <td>   223</td>      <th>  BIC:               </th> <td>   1469.</td>\n</tr>\n<tr>\n  <th>Df Model:</th>              <td>     4</td>      <th>                     </th>     <td> </td>   \n</tr>\n<tr>\n  <th>Covariance Type:</th>      <td>nonrobust</td>    <th>                     </th>     <td> </td>   \n</tr>\n</table>\n<table class=\"simpletable\">\n<tr>\n       <td></td>         <th>coef</th>     <th>std err</th>      <th>t</th>      <th>P>|t|</th>  <th>[0.025</th>    <th>0.975]</th>  \n</tr>\n<tr>\n  <th>const</th>      <td>    6.3192</td> <td>    1.575</td> <td>    4.013</td> <td> 0.000</td> <td>    3.216</td> <td>    9.422</td>\n</tr>\n<tr>\n  <th>Count</th>      <td>    0.0002</td> <td> 9.28e-05</td> <td>    2.533</td> <td> 0.012</td> <td> 5.22e-05</td> <td>    0.000</td>\n</tr>\n<tr>\n  <th>PHEV Rate</th>  <td>   -3.0173</td> <td>    2.492</td> <td>   -1.211</td> <td> 0.227</td> <td>   -7.928</td> <td>    1.893</td>\n</tr>\n<tr>\n  <th>population</th> <td> 3.189e-05</td> <td> 2.16e-05</td> <td>    1.473</td> <td> 0.142</td> <td>-1.08e-05</td> <td> 7.46e-05</td>\n</tr>\n<tr>\n  <th>area</th>       <td>    0.0058</td> <td>    0.004</td> <td>    1.443</td> <td> 0.151</td> <td>   -0.002</td> <td>    0.014</td>\n</tr>\n</table>\n<table class=\"simpletable\">\n<tr>\n  <th>Omnibus:</th>       <td>160.074</td> <th>  Durbin-Watson:     </th> <td>   1.714</td>\n</tr>\n<tr>\n  <th>Prob(Omnibus):</th> <td> 0.000</td>  <th>  Jarque-Bera (JB):  </th> <td>1579.638</td>\n</tr>\n<tr>\n  <th>Skew:</th>          <td> 2.700</td>  <th>  Prob(JB):          </th> <td>    0.00</td>\n</tr>\n<tr>\n  <th>Kurtosis:</th>      <td>14.710</td>  <th>  Cond. No.          </th> <td>2.49e+05</td>\n</tr>\n</table><br/><br/>Notes:<br/>[1] Standard Errors assume that the covariance matrix of the errors is correctly specified.<br/>[2] The condition number is large, 2.49e+05. This might indicate that there are<br/>strong multicollinearity or other numerical problems."
     },
     "execution_count": 198,
     "metadata": {},
     "output_type": "execute_result"
    }
   ],
   "source": [
    "x = sm.add_constant(ev_car_station_pop_ny.iloc[:, 2:])\n",
    "model = sm.OLS(ev_car_station_pop_ny['Station Count'], x)\n",
    "result = model.fit()\n",
    "result.summary()"
   ],
   "metadata": {
    "collapsed": false,
    "pycharm": {
     "name": "#%%\n"
    }
   }
  },
  {
   "cell_type": "markdown",
   "source": [
    "#### We also take EV station as the dependent variable, Using Multiple Linear Regression in python, The R-squared is 0.074 and each P-value is below 0.1. The linear regression model also cannot best explain the number of EV stations in each region.\n"
   ],
   "metadata": {
    "collapsed": false
   }
  },
  {
   "cell_type": "markdown",
   "source": [
    "## Washington State"
   ],
   "metadata": {
    "collapsed": false
   }
  },
  {
   "cell_type": "code",
   "execution_count": 201,
   "outputs": [
    {
     "data": {
      "text/plain": "     ZIP Code  Station Count  Count  PHEV Rate  population         area\n0       98001            4.0   8708   0.396876     34455.0    48.263062\n1       98002            7.0   3560   0.421910     33947.0    18.554329\n3       98004           57.0  42905   0.170330     37265.0    18.829266\n4       98005           13.0  19306   0.183052     21414.0    19.005947\n6       98007            4.0  13932   0.183247     28147.0    11.188981\n7       98011           11.0  15550   0.256206     34201.0    18.271717\n13      98027            3.0  23236   0.244233     30240.0   148.090108\n15      98029            3.0  24224   0.157447     29956.0    26.348843\n17      98032            3.0   7059   0.303301     38478.0    43.929672\n18      98033           12.0  45620   0.181872     39802.0    23.836388\n19      98036            6.0  14265   0.258675     40784.0    24.839515\n21      98040            4.0  38679   0.202694     25820.0    16.531148\n25      98052           13.0  69190   0.173840     71940.0    52.472648\n26      98055            4.0   6042   0.311652     24077.0    11.552709\n27      98056            3.0  15559   0.275982     36625.0    19.619134\n28      98057            6.0   5308   0.375848     11534.0    15.952974\n31      98065            3.0  12024   0.272122     15896.0   182.293578\n32      98072           10.0  21113   0.184010     24865.0    46.589844\n33      98075            3.0  29653   0.135433     24435.0    24.954044\n35      98101           17.0   8660   0.193303     14380.0     1.368351\n36      98102            3.0  12808   0.230012     25887.0     3.296951\n37      98103            5.0  34064   0.222669     54194.0    11.873973\n38      98104           18.0  17446   0.333028     15155.0     2.448383\n39      98105            9.0  23503   0.276390     52290.0     9.938231\n40      98107            4.0  16487   0.215139     28025.0     5.627171\n41      98108            3.0   8653   0.234254     24034.0    19.107966\n42      98109           49.0  23663   0.142374     31011.0     5.010664\n49      98121           51.0  10804   0.210200     20534.0     1.148659\n50      98122            6.0  21026   0.283363     41152.0     6.050430\n51      98125            4.0  21643   0.250751     44030.0    14.051380\n53      98133            4.0  18826   0.283119     49476.0    18.461194\n54      98134            9.0   1493   0.187542       779.0     8.588754\n59      98166            9.0   9722   0.313927     21772.0    14.960489\n61      98188            9.0   4650   0.373118     25292.0    20.892120\n65      98201            7.0   5113   0.350479     30645.0    48.565769\n66      98203            3.0   8325   0.331291     35901.0    30.627026\n67      98204            3.0   4221   0.347311     44152.0    18.604416\n70      98223            4.0   6796   0.302972     46027.0   818.985765\n71      98225            6.0  16137   0.262069     51606.0    32.556936\n72      98226            6.0  13378   0.332112     45380.0   274.033816\n76      98250            3.0   7510   0.219840      8318.0   158.438095\n81      98271            3.0   4718   0.349089     28473.0   117.366035\n82      98273            6.0   4905   0.331295     31725.0   217.443454\n90      98331            3.0    221   0.588235      6228.0  2395.384615\n94      98362            4.0   4823   0.482687     24997.0   318.433121\n100     98372            3.0   4969   0.398269     26823.0    34.543464\n102     98374            3.0   7459   0.378603     44293.0    42.422182\n107     98402            5.0   1511   0.336201      6920.0     3.055457\n110     98405            4.0   4276   0.365529     23671.0    10.615750\n114     98409            6.0   3575   0.345455     27918.0    18.494866\n115     98421            3.0    159   0.830189      1346.0    16.846058\n123     98499            3.0   3652   0.522727     32174.0    22.906165\n124     98501           13.0  26536   0.408916     43584.0    90.404480\n126     98503            3.0   7885   0.376665     42119.0    28.693371\n129     98516            4.0   8582   0.357492     25332.0    74.659593\n139     98607            3.0  18288   0.271490     32897.0   123.348331\n151     98684            3.0   6566   0.370545     31805.0    18.347274\n154     98826            6.0   3408   0.261737      7624.0  2628.965517\n158     98902            3.0   2068   0.531915     46728.0    24.102749\n174     99224            4.0   3427   0.447038     22172.0   307.517337",
      "text/html": "<div>\n<style scoped>\n    .dataframe tbody tr th:only-of-type {\n        vertical-align: middle;\n    }\n\n    .dataframe tbody tr th {\n        vertical-align: top;\n    }\n\n    .dataframe thead th {\n        text-align: right;\n    }\n</style>\n<table border=\"1\" class=\"dataframe\">\n  <thead>\n    <tr style=\"text-align: right;\">\n      <th></th>\n      <th>ZIP Code</th>\n      <th>Station Count</th>\n      <th>Count</th>\n      <th>PHEV Rate</th>\n      <th>population</th>\n      <th>area</th>\n    </tr>\n  </thead>\n  <tbody>\n    <tr>\n      <th>0</th>\n      <td>98001</td>\n      <td>4.0</td>\n      <td>8708</td>\n      <td>0.396876</td>\n      <td>34455.0</td>\n      <td>48.263062</td>\n    </tr>\n    <tr>\n      <th>1</th>\n      <td>98002</td>\n      <td>7.0</td>\n      <td>3560</td>\n      <td>0.421910</td>\n      <td>33947.0</td>\n      <td>18.554329</td>\n    </tr>\n    <tr>\n      <th>3</th>\n      <td>98004</td>\n      <td>57.0</td>\n      <td>42905</td>\n      <td>0.170330</td>\n      <td>37265.0</td>\n      <td>18.829266</td>\n    </tr>\n    <tr>\n      <th>4</th>\n      <td>98005</td>\n      <td>13.0</td>\n      <td>19306</td>\n      <td>0.183052</td>\n      <td>21414.0</td>\n      <td>19.005947</td>\n    </tr>\n    <tr>\n      <th>6</th>\n      <td>98007</td>\n      <td>4.0</td>\n      <td>13932</td>\n      <td>0.183247</td>\n      <td>28147.0</td>\n      <td>11.188981</td>\n    </tr>\n    <tr>\n      <th>7</th>\n      <td>98011</td>\n      <td>11.0</td>\n      <td>15550</td>\n      <td>0.256206</td>\n      <td>34201.0</td>\n      <td>18.271717</td>\n    </tr>\n    <tr>\n      <th>13</th>\n      <td>98027</td>\n      <td>3.0</td>\n      <td>23236</td>\n      <td>0.244233</td>\n      <td>30240.0</td>\n      <td>148.090108</td>\n    </tr>\n    <tr>\n      <th>15</th>\n      <td>98029</td>\n      <td>3.0</td>\n      <td>24224</td>\n      <td>0.157447</td>\n      <td>29956.0</td>\n      <td>26.348843</td>\n    </tr>\n    <tr>\n      <th>17</th>\n      <td>98032</td>\n      <td>3.0</td>\n      <td>7059</td>\n      <td>0.303301</td>\n      <td>38478.0</td>\n      <td>43.929672</td>\n    </tr>\n    <tr>\n      <th>18</th>\n      <td>98033</td>\n      <td>12.0</td>\n      <td>45620</td>\n      <td>0.181872</td>\n      <td>39802.0</td>\n      <td>23.836388</td>\n    </tr>\n    <tr>\n      <th>19</th>\n      <td>98036</td>\n      <td>6.0</td>\n      <td>14265</td>\n      <td>0.258675</td>\n      <td>40784.0</td>\n      <td>24.839515</td>\n    </tr>\n    <tr>\n      <th>21</th>\n      <td>98040</td>\n      <td>4.0</td>\n      <td>38679</td>\n      <td>0.202694</td>\n      <td>25820.0</td>\n      <td>16.531148</td>\n    </tr>\n    <tr>\n      <th>25</th>\n      <td>98052</td>\n      <td>13.0</td>\n      <td>69190</td>\n      <td>0.173840</td>\n      <td>71940.0</td>\n      <td>52.472648</td>\n    </tr>\n    <tr>\n      <th>26</th>\n      <td>98055</td>\n      <td>4.0</td>\n      <td>6042</td>\n      <td>0.311652</td>\n      <td>24077.0</td>\n      <td>11.552709</td>\n    </tr>\n    <tr>\n      <th>27</th>\n      <td>98056</td>\n      <td>3.0</td>\n      <td>15559</td>\n      <td>0.275982</td>\n      <td>36625.0</td>\n      <td>19.619134</td>\n    </tr>\n    <tr>\n      <th>28</th>\n      <td>98057</td>\n      <td>6.0</td>\n      <td>5308</td>\n      <td>0.375848</td>\n      <td>11534.0</td>\n      <td>15.952974</td>\n    </tr>\n    <tr>\n      <th>31</th>\n      <td>98065</td>\n      <td>3.0</td>\n      <td>12024</td>\n      <td>0.272122</td>\n      <td>15896.0</td>\n      <td>182.293578</td>\n    </tr>\n    <tr>\n      <th>32</th>\n      <td>98072</td>\n      <td>10.0</td>\n      <td>21113</td>\n      <td>0.184010</td>\n      <td>24865.0</td>\n      <td>46.589844</td>\n    </tr>\n    <tr>\n      <th>33</th>\n      <td>98075</td>\n      <td>3.0</td>\n      <td>29653</td>\n      <td>0.135433</td>\n      <td>24435.0</td>\n      <td>24.954044</td>\n    </tr>\n    <tr>\n      <th>35</th>\n      <td>98101</td>\n      <td>17.0</td>\n      <td>8660</td>\n      <td>0.193303</td>\n      <td>14380.0</td>\n      <td>1.368351</td>\n    </tr>\n    <tr>\n      <th>36</th>\n      <td>98102</td>\n      <td>3.0</td>\n      <td>12808</td>\n      <td>0.230012</td>\n      <td>25887.0</td>\n      <td>3.296951</td>\n    </tr>\n    <tr>\n      <th>37</th>\n      <td>98103</td>\n      <td>5.0</td>\n      <td>34064</td>\n      <td>0.222669</td>\n      <td>54194.0</td>\n      <td>11.873973</td>\n    </tr>\n    <tr>\n      <th>38</th>\n      <td>98104</td>\n      <td>18.0</td>\n      <td>17446</td>\n      <td>0.333028</td>\n      <td>15155.0</td>\n      <td>2.448383</td>\n    </tr>\n    <tr>\n      <th>39</th>\n      <td>98105</td>\n      <td>9.0</td>\n      <td>23503</td>\n      <td>0.276390</td>\n      <td>52290.0</td>\n      <td>9.938231</td>\n    </tr>\n    <tr>\n      <th>40</th>\n      <td>98107</td>\n      <td>4.0</td>\n      <td>16487</td>\n      <td>0.215139</td>\n      <td>28025.0</td>\n      <td>5.627171</td>\n    </tr>\n    <tr>\n      <th>41</th>\n      <td>98108</td>\n      <td>3.0</td>\n      <td>8653</td>\n      <td>0.234254</td>\n      <td>24034.0</td>\n      <td>19.107966</td>\n    </tr>\n    <tr>\n      <th>42</th>\n      <td>98109</td>\n      <td>49.0</td>\n      <td>23663</td>\n      <td>0.142374</td>\n      <td>31011.0</td>\n      <td>5.010664</td>\n    </tr>\n    <tr>\n      <th>49</th>\n      <td>98121</td>\n      <td>51.0</td>\n      <td>10804</td>\n      <td>0.210200</td>\n      <td>20534.0</td>\n      <td>1.148659</td>\n    </tr>\n    <tr>\n      <th>50</th>\n      <td>98122</td>\n      <td>6.0</td>\n      <td>21026</td>\n      <td>0.283363</td>\n      <td>41152.0</td>\n      <td>6.050430</td>\n    </tr>\n    <tr>\n      <th>51</th>\n      <td>98125</td>\n      <td>4.0</td>\n      <td>21643</td>\n      <td>0.250751</td>\n      <td>44030.0</td>\n      <td>14.051380</td>\n    </tr>\n    <tr>\n      <th>53</th>\n      <td>98133</td>\n      <td>4.0</td>\n      <td>18826</td>\n      <td>0.283119</td>\n      <td>49476.0</td>\n      <td>18.461194</td>\n    </tr>\n    <tr>\n      <th>54</th>\n      <td>98134</td>\n      <td>9.0</td>\n      <td>1493</td>\n      <td>0.187542</td>\n      <td>779.0</td>\n      <td>8.588754</td>\n    </tr>\n    <tr>\n      <th>59</th>\n      <td>98166</td>\n      <td>9.0</td>\n      <td>9722</td>\n      <td>0.313927</td>\n      <td>21772.0</td>\n      <td>14.960489</td>\n    </tr>\n    <tr>\n      <th>61</th>\n      <td>98188</td>\n      <td>9.0</td>\n      <td>4650</td>\n      <td>0.373118</td>\n      <td>25292.0</td>\n      <td>20.892120</td>\n    </tr>\n    <tr>\n      <th>65</th>\n      <td>98201</td>\n      <td>7.0</td>\n      <td>5113</td>\n      <td>0.350479</td>\n      <td>30645.0</td>\n      <td>48.565769</td>\n    </tr>\n    <tr>\n      <th>66</th>\n      <td>98203</td>\n      <td>3.0</td>\n      <td>8325</td>\n      <td>0.331291</td>\n      <td>35901.0</td>\n      <td>30.627026</td>\n    </tr>\n    <tr>\n      <th>67</th>\n      <td>98204</td>\n      <td>3.0</td>\n      <td>4221</td>\n      <td>0.347311</td>\n      <td>44152.0</td>\n      <td>18.604416</td>\n    </tr>\n    <tr>\n      <th>70</th>\n      <td>98223</td>\n      <td>4.0</td>\n      <td>6796</td>\n      <td>0.302972</td>\n      <td>46027.0</td>\n      <td>818.985765</td>\n    </tr>\n    <tr>\n      <th>71</th>\n      <td>98225</td>\n      <td>6.0</td>\n      <td>16137</td>\n      <td>0.262069</td>\n      <td>51606.0</td>\n      <td>32.556936</td>\n    </tr>\n    <tr>\n      <th>72</th>\n      <td>98226</td>\n      <td>6.0</td>\n      <td>13378</td>\n      <td>0.332112</td>\n      <td>45380.0</td>\n      <td>274.033816</td>\n    </tr>\n    <tr>\n      <th>76</th>\n      <td>98250</td>\n      <td>3.0</td>\n      <td>7510</td>\n      <td>0.219840</td>\n      <td>8318.0</td>\n      <td>158.438095</td>\n    </tr>\n    <tr>\n      <th>81</th>\n      <td>98271</td>\n      <td>3.0</td>\n      <td>4718</td>\n      <td>0.349089</td>\n      <td>28473.0</td>\n      <td>117.366035</td>\n    </tr>\n    <tr>\n      <th>82</th>\n      <td>98273</td>\n      <td>6.0</td>\n      <td>4905</td>\n      <td>0.331295</td>\n      <td>31725.0</td>\n      <td>217.443454</td>\n    </tr>\n    <tr>\n      <th>90</th>\n      <td>98331</td>\n      <td>3.0</td>\n      <td>221</td>\n      <td>0.588235</td>\n      <td>6228.0</td>\n      <td>2395.384615</td>\n    </tr>\n    <tr>\n      <th>94</th>\n      <td>98362</td>\n      <td>4.0</td>\n      <td>4823</td>\n      <td>0.482687</td>\n      <td>24997.0</td>\n      <td>318.433121</td>\n    </tr>\n    <tr>\n      <th>100</th>\n      <td>98372</td>\n      <td>3.0</td>\n      <td>4969</td>\n      <td>0.398269</td>\n      <td>26823.0</td>\n      <td>34.543464</td>\n    </tr>\n    <tr>\n      <th>102</th>\n      <td>98374</td>\n      <td>3.0</td>\n      <td>7459</td>\n      <td>0.378603</td>\n      <td>44293.0</td>\n      <td>42.422182</td>\n    </tr>\n    <tr>\n      <th>107</th>\n      <td>98402</td>\n      <td>5.0</td>\n      <td>1511</td>\n      <td>0.336201</td>\n      <td>6920.0</td>\n      <td>3.055457</td>\n    </tr>\n    <tr>\n      <th>110</th>\n      <td>98405</td>\n      <td>4.0</td>\n      <td>4276</td>\n      <td>0.365529</td>\n      <td>23671.0</td>\n      <td>10.615750</td>\n    </tr>\n    <tr>\n      <th>114</th>\n      <td>98409</td>\n      <td>6.0</td>\n      <td>3575</td>\n      <td>0.345455</td>\n      <td>27918.0</td>\n      <td>18.494866</td>\n    </tr>\n    <tr>\n      <th>115</th>\n      <td>98421</td>\n      <td>3.0</td>\n      <td>159</td>\n      <td>0.830189</td>\n      <td>1346.0</td>\n      <td>16.846058</td>\n    </tr>\n    <tr>\n      <th>123</th>\n      <td>98499</td>\n      <td>3.0</td>\n      <td>3652</td>\n      <td>0.522727</td>\n      <td>32174.0</td>\n      <td>22.906165</td>\n    </tr>\n    <tr>\n      <th>124</th>\n      <td>98501</td>\n      <td>13.0</td>\n      <td>26536</td>\n      <td>0.408916</td>\n      <td>43584.0</td>\n      <td>90.404480</td>\n    </tr>\n    <tr>\n      <th>126</th>\n      <td>98503</td>\n      <td>3.0</td>\n      <td>7885</td>\n      <td>0.376665</td>\n      <td>42119.0</td>\n      <td>28.693371</td>\n    </tr>\n    <tr>\n      <th>129</th>\n      <td>98516</td>\n      <td>4.0</td>\n      <td>8582</td>\n      <td>0.357492</td>\n      <td>25332.0</td>\n      <td>74.659593</td>\n    </tr>\n    <tr>\n      <th>139</th>\n      <td>98607</td>\n      <td>3.0</td>\n      <td>18288</td>\n      <td>0.271490</td>\n      <td>32897.0</td>\n      <td>123.348331</td>\n    </tr>\n    <tr>\n      <th>151</th>\n      <td>98684</td>\n      <td>3.0</td>\n      <td>6566</td>\n      <td>0.370545</td>\n      <td>31805.0</td>\n      <td>18.347274</td>\n    </tr>\n    <tr>\n      <th>154</th>\n      <td>98826</td>\n      <td>6.0</td>\n      <td>3408</td>\n      <td>0.261737</td>\n      <td>7624.0</td>\n      <td>2628.965517</td>\n    </tr>\n    <tr>\n      <th>158</th>\n      <td>98902</td>\n      <td>3.0</td>\n      <td>2068</td>\n      <td>0.531915</td>\n      <td>46728.0</td>\n      <td>24.102749</td>\n    </tr>\n    <tr>\n      <th>174</th>\n      <td>99224</td>\n      <td>4.0</td>\n      <td>3427</td>\n      <td>0.447038</td>\n      <td>22172.0</td>\n      <td>307.517337</td>\n    </tr>\n  </tbody>\n</table>\n</div>"
     },
     "execution_count": 201,
     "metadata": {},
     "output_type": "execute_result"
    }
   ],
   "source": [
    "ev_station_count_wa = ev_station_count_df(ev_station_data, 'WA')\n",
    "ev_car_station_pop_wa = filter_car_station_data(ev_station_count_wa, washington_data, us_zip_df_wa)\n",
    "ev_car_station_pop_wa"
   ],
   "metadata": {
    "collapsed": false,
    "pycharm": {
     "name": "#%%\n"
    }
   }
  },
  {
   "cell_type": "code",
   "execution_count": 202,
   "outputs": [
    {
     "data": {
      "text/plain": "<Figure size 432x288 with 1 Axes>",
      "image/png": "[encoded data removed]"
     },
     "metadata": {
      "needs_background": "light"
     },
     "output_type": "display_data"
    },
    {
     "data": {
      "text/plain": "<AxesSubplot:>"
     },
     "execution_count": 202,
     "metadata": {},
     "output_type": "execute_result"
    },
    {
     "data": {
      "text/plain": "<Figure size 432x288 with 2 Axes>",
      "image/png": "[encoded data removed]"
     },
     "metadata": {
      "needs_background": "light"
     },
     "output_type": "display_data"
    }
   ],
   "source": [
    "linear_model_main(ev_car_station_pop_wa, 'Station Count', 'PHEV Rate')\n",
    "corr_all_wa = ev_car_station_pop_wa[['Station Count', 'PHEV Rate']].corr()\n",
    "sns.heatmap(corr_all_wa, cmap='Blues', square=True, annot=True)"
   ],
   "metadata": {
    "collapsed": false,
    "pycharm": {
     "name": "#%%\n"
    }
   }
  },
  {
   "cell_type": "code",
   "execution_count": 203,
   "outputs": [
    {
     "name": "stderr",
     "output_type": "stream",
     "text": [
      "/Users/hyc/opt/anaconda3/lib/python3.9/site-packages/statsmodels/tsa/tsatools.py:142: FutureWarning: In a future version of pandas all arguments of concat except for the argument 'objs' will be keyword-only\n",
      "  x = pd.concat(x[::order], 1)\n"
     ]
    },
    {
     "data": {
      "text/plain": "<class 'statsmodels.iolib.summary.Summary'>\n\"\"\"\n                            OLS Regression Results                            \n==============================================================================\nDep. Variable:          Station Count   R-squared:                       0.173\nModel:                            OLS   Adj. R-squared:                  0.113\nMethod:                 Least Squares   F-statistic:                     2.881\nDate:                Fri, 06 May 2022   Prob (F-statistic):             0.0308\nTime:                        17:47:57   Log-Likelihood:                -222.16\nNo. Observations:                  60   AIC:                             454.3\nDf Residuals:                      55   BIC:                             464.8\nDf Model:                           4                                         \nCovariance Type:            nonrobust                                         \n==============================================================================\n                 coef    std err          t      P>|t|      [0.025      0.975]\n------------------------------------------------------------------------------\nconst         14.1778      5.800      2.445      0.018       2.555      25.801\nCount          0.0003      0.000      2.006      0.050    2.32e-07       0.001\nPHEV Rate    -14.6152     13.629     -1.072      0.288     -41.928      12.697\npopulation    -0.0002      0.000     -1.544      0.128      -0.000    5.37e-05\narea          -0.0014      0.003     -0.462      0.646      -0.008       0.005\n==============================================================================\nOmnibus:                       58.773   Durbin-Watson:                   1.447\nProb(Omnibus):                  0.000   Jarque-Bera (JB):              293.671\nSkew:                           2.861   Prob(JB):                     1.70e-64\nKurtosis:                      12.204   Cond. No.                     4.03e+05\n==============================================================================\n\nNotes:\n[1] Standard Errors assume that the covariance matrix of the errors is correctly specified.\n[2] The condition number is large, 4.03e+05. This might indicate that there are\nstrong multicollinearity or other numerical problems.\n\"\"\"",
      "text/html": "<table class=\"simpletable\">\n<caption>OLS Regression Results</caption>\n<tr>\n  <th>Dep. Variable:</th>      <td>Station Count</td>  <th>  R-squared:         </th> <td>   0.173</td>\n</tr>\n<tr>\n  <th>Model:</th>                   <td>OLS</td>       <th>  Adj. R-squared:    </th> <td>   0.113</td>\n</tr>\n<tr>\n  <th>Method:</th>             <td>Least Squares</td>  <th>  F-statistic:       </th> <td>   2.881</td>\n</tr>\n<tr>\n  <th>Date:</th>             <td>Fri, 06 May 2022</td> <th>  Prob (F-statistic):</th>  <td>0.0308</td> \n</tr>\n<tr>\n  <th>Time:</th>                 <td>17:47:57</td>     <th>  Log-Likelihood:    </th> <td> -222.16</td>\n</tr>\n<tr>\n  <th>No. Observations:</th>      <td>    60</td>      <th>  AIC:               </th> <td>   454.3</td>\n</tr>\n<tr>\n  <th>Df Residuals:</th>          <td>    55</td>      <th>  BIC:               </th> <td>   464.8</td>\n</tr>\n<tr>\n  <th>Df Model:</th>              <td>     4</td>      <th>                     </th>     <td> </td>   \n</tr>\n<tr>\n  <th>Covariance Type:</th>      <td>nonrobust</td>    <th>                     </th>     <td> </td>   \n</tr>\n</table>\n<table class=\"simpletable\">\n<tr>\n       <td></td>         <th>coef</th>     <th>std err</th>      <th>t</th>      <th>P>|t|</th>  <th>[0.025</th>    <th>0.975]</th>  \n</tr>\n<tr>\n  <th>const</th>      <td>   14.1778</td> <td>    5.800</td> <td>    2.445</td> <td> 0.018</td> <td>    2.555</td> <td>   25.801</td>\n</tr>\n<tr>\n  <th>Count</th>      <td>    0.0003</td> <td>    0.000</td> <td>    2.006</td> <td> 0.050</td> <td> 2.32e-07</td> <td>    0.001</td>\n</tr>\n<tr>\n  <th>PHEV Rate</th>  <td>  -14.6152</td> <td>   13.629</td> <td>   -1.072</td> <td> 0.288</td> <td>  -41.928</td> <td>   12.697</td>\n</tr>\n<tr>\n  <th>population</th> <td>   -0.0002</td> <td>    0.000</td> <td>   -1.544</td> <td> 0.128</td> <td>   -0.000</td> <td> 5.37e-05</td>\n</tr>\n<tr>\n  <th>area</th>       <td>   -0.0014</td> <td>    0.003</td> <td>   -0.462</td> <td> 0.646</td> <td>   -0.008</td> <td>    0.005</td>\n</tr>\n</table>\n<table class=\"simpletable\">\n<tr>\n  <th>Omnibus:</th>       <td>58.773</td> <th>  Durbin-Watson:     </th> <td>   1.447</td>\n</tr>\n<tr>\n  <th>Prob(Omnibus):</th> <td> 0.000</td> <th>  Jarque-Bera (JB):  </th> <td> 293.671</td>\n</tr>\n<tr>\n  <th>Skew:</th>          <td> 2.861</td> <th>  Prob(JB):          </th> <td>1.70e-64</td>\n</tr>\n<tr>\n  <th>Kurtosis:</th>      <td>12.204</td> <th>  Cond. No.          </th> <td>4.03e+05</td>\n</tr>\n</table><br/><br/>Notes:<br/>[1] Standard Errors assume that the covariance matrix of the errors is correctly specified.<br/>[2] The condition number is large, 4.03e+05. This might indicate that there are<br/>strong multicollinearity or other numerical problems."
     },
     "execution_count": 203,
     "metadata": {},
     "output_type": "execute_result"
    }
   ],
   "source": [
    "x = sm.add_constant(ev_car_station_pop_wa.iloc[:, 2:])\n",
    "model = sm.OLS(ev_car_station_pop_wa['Station Count'], x)\n",
    "result = model.fit()\n",
    "result.summary()"
   ],
   "metadata": {
    "collapsed": false,
    "pycharm": {
     "name": "#%%\n"
    }
   }
  },
  {
   "cell_type": "markdown",
   "source": [
    "### In this way, we may assume that there is no or very small relationship between EV owner’s decision and Charging Station. EV consumers purchase specific cars for other reasons. In fact, Even the Battery Electric Vehicle, energy supports them to drive for hundreds of kilometers. So in the face of technology, the reality factor has been greatly mitigated."
   ],
   "metadata": {
    "collapsed": false,
    "pycharm": {
     "name": "#%% md\n"
    }
   }
  }
 ],
 "metadata": {
  "kernelspec": {
   "display_name": "Python 3",
   "language": "python",
   "name": "python3"
  },
  "language_info": {
   "codemirror_mode": {
    "name": "ipython",
    "version": 2
   },
   "file_extension": ".py",
   "mimetype": "text/x-python",
   "name": "python",
   "nbconvert_exporter": "python",
   "pygments_lexer": "ipython2",
   "version": "2.7.6"
  }
 },
 "nbformat": 4,
 "nbformat_minor": 0
}