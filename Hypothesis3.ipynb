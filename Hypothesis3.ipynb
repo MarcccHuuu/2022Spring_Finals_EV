{
 "cells": [
  {
   "cell_type": "markdown",
   "metadata": {
    "collapsed": true,
    "pycharm": {
     "name": "#%% md\n"
    }
   },
   "source": [
    "# Hypothesis3：\n",
    "# We expect there is a strong positive correlation between the number of electric and plug-in hybrid vehicles sold compared to the number of public charging stations in the same region."
   ]
  },
  {
   "cell_type": "markdown",
   "source": [
    "### In Hypothesis 3, after the analysis of the previous Hypothesis 2, we want to continue to explore what factors are related to the number of electric vehicles. We first think of the number of charging piles, because the density of charging piles determines the difficulty of charging electric vehicles in this area. Therefore, we think that the number of charging piles will affect the development of electric vehicles in a region. Therefore, we use univariate linear regression to analyze the linear relationship between these two variables."
   ],
   "metadata": {
    "collapsed": false,
    "pycharm": {
     "name": "#%% md\n"
    }
   }
  },
  {
   "cell_type": "code",
   "execution_count": 152,
   "outputs": [],
   "source": [
    "import pandas as pd\n",
    "from pandas import DataFrame\n",
    "import os.path\n",
    "import matplotlib.pyplot as plt\n",
    "from pylab import *\n",
    "from sklearn.linear_model import LinearRegression\n",
    "import numpy as np\n",
    "import seaborn as sns"
   ],
   "metadata": {
    "collapsed": false,
    "pycharm": {
     "name": "#%%\n"
    }
   }
  },
  {
   "cell_type": "markdown",
   "source": [
    "## US Population in Each Zip"
   ],
   "metadata": {
    "collapsed": false,
    "pycharm": {
     "name": "#%% md\n"
    }
   }
  },
  {
   "cell_type": "code",
   "execution_count": 153,
   "outputs": [],
   "source": [
    "us_zip_df = pd.read_csv('data/uszips.csv')"
   ],
   "metadata": {
    "collapsed": false,
    "pycharm": {
     "name": "#%%\n"
    }
   }
  },
  {
   "cell_type": "code",
   "execution_count": 154,
   "outputs": [],
   "source": [
    "us_zip_df = DataFrame(us_zip_df)"
   ],
   "metadata": {
    "collapsed": false,
    "pycharm": {
     "name": "#%%\n"
    }
   }
  },
  {
   "cell_type": "code",
   "execution_count": 155,
   "outputs": [],
   "source": [
    "us_zip_df = us_zip_df[['zip','state_id','population']]"
   ],
   "metadata": {
    "collapsed": false,
    "pycharm": {
     "name": "#%%\n"
    }
   }
  },
  {
   "cell_type": "markdown",
   "source": [
    "NY Population in Each Zip"
   ],
   "metadata": {
    "collapsed": false,
    "pycharm": {
     "name": "#%% md\n"
    }
   }
  },
  {
   "cell_type": "code",
   "execution_count": 156,
   "outputs": [],
   "source": [
    "us_zip_df_ny = us_zip_df[us_zip_df['state_id'] == 'NY']"
   ],
   "metadata": {
    "collapsed": false,
    "pycharm": {
     "name": "#%%\n"
    }
   }
  },
  {
   "cell_type": "code",
   "execution_count": 157,
   "outputs": [],
   "source": [
    "us_zip_df_ny = us_zip_df_ny[['zip','population']]"
   ],
   "metadata": {
    "collapsed": false,
    "pycharm": {
     "name": "#%%\n"
    }
   }
  },
  {
   "cell_type": "code",
   "execution_count": 158,
   "outputs": [],
   "source": [
    "us_zip_df_ny = us_zip_df_ny.rename(columns={'zip':'ZIP Code'})"
   ],
   "metadata": {
    "collapsed": false,
    "pycharm": {
     "name": "#%%\n"
    }
   }
  },
  {
   "cell_type": "markdown",
   "source": [
    "TX Population in Each Zip"
   ],
   "metadata": {
    "collapsed": false,
    "pycharm": {
     "name": "#%% md\n"
    }
   }
  },
  {
   "cell_type": "code",
   "source": [
    "us_zip_df_tx = us_zip_df[us_zip_df['state_id'] == 'TX']"
   ],
   "metadata": {
    "collapsed": false,
    "pycharm": {
     "name": "#%%\n"
    }
   },
   "execution_count": 159,
   "outputs": []
  },
  {
   "cell_type": "code",
   "execution_count": 160,
   "outputs": [],
   "source": [
    "us_zip_df_tx = us_zip_df_tx[['zip', 'population']]\n",
    "us_zip_df_tx = us_zip_df_tx.rename(columns={'zip':'ZIP Code'})"
   ],
   "metadata": {
    "collapsed": false,
    "pycharm": {
     "name": "#%%\n"
    }
   }
  },
  {
   "cell_type": "code",
   "execution_count": 161,
   "outputs": [],
   "source": [
    "us_zip_df_tx = us_zip_df_tx.fillna(0)"
   ],
   "metadata": {
    "collapsed": false,
    "pycharm": {
     "name": "#%%\n"
    }
   }
  },
  {
   "cell_type": "markdown",
   "source": [
    "WA Population in Each Zip"
   ],
   "metadata": {
    "collapsed": false,
    "pycharm": {
     "name": "#%% md\n"
    }
   }
  },
  {
   "cell_type": "code",
   "source": [
    "us_zip_df_wa = us_zip_df[us_zip_df['state_id'] == 'WA']"
   ],
   "metadata": {
    "collapsed": false,
    "pycharm": {
     "name": "#%%\n"
    }
   },
   "execution_count": 162,
   "outputs": []
  },
  {
   "cell_type": "code",
   "execution_count": 163,
   "outputs": [],
   "source": [
    "us_zip_df_wa = us_zip_df_wa[['zip', 'population']]\n",
    "us_zip_df_wa = us_zip_df_wa.rename(columns={'zip':'ZIP Code'})\n"
   ],
   "metadata": {
    "collapsed": false,
    "pycharm": {
     "name": "#%%\n"
    }
   }
  },
  {
   "cell_type": "code",
   "execution_count": 164,
   "outputs": [],
   "source": [
    "us_zip_df_wa = us_zip_df_wa.fillna(0)"
   ],
   "metadata": {
    "collapsed": false,
    "pycharm": {
     "name": "#%%\n"
    }
   }
  },
  {
   "cell_type": "markdown",
   "source": [
    "## Ev Station Count in Each Zip Code"
   ],
   "metadata": {
    "collapsed": false,
    "pycharm": {
     "name": "#%% md\n"
    }
   }
  },
  {
   "cell_type": "code",
   "source": [
    "ev_station_data = pd.read_csv('data/ev_stations_v1.csv')\n",
    "ev_station_data = DataFrame(ev_station_data)"
   ],
   "metadata": {
    "collapsed": false,
    "pycharm": {
     "name": "#%%\n"
    }
   },
   "execution_count": 165,
   "outputs": [
    {
     "name": "stderr",
     "output_type": "stream",
     "text": [
      "/Users/hyc/opt/anaconda3/lib/python3.9/site-packages/IPython/core/interactiveshell.py:3444: DtypeWarning: Columns (6,20) have mixed types.Specify dtype option on import or set low_memory=False.\n",
      "  exec(code_obj, self.user_global_ns, self.user_ns)\n"
     ]
    }
   ]
  },
  {
   "cell_type": "code",
   "execution_count": 166,
   "outputs": [
    {
     "data": {
      "text/plain": "  Fuel Type Code                       Station Name         Street Address  \\\n0           ELEC           LADWP - Truesdale Center     11797 Truesdale St   \n1           ELEC    LADWP - West LA District Office  1394 S Sepulveda Blvd   \n2           ELEC      Los Angeles Convention Center     1201 S Figueroa St   \n3           ELEC      LADWP - John Ferraro Building          111 N Hope St   \n4           ELEC         LADWP - Haynes Power Plant          6801 E 2nd St   \n5           ELEC       State Capitol Parking Garage           1303 10th St   \n6           ELEC  LADWP - Harbor Generating Station       161 N Island Ave   \n7           ELEC                LADWP - Sylmar West   13201 Sepulveda Blvd   \n8           ELEC          LADWP - EV Service Center         1630 N Main St   \n9           ELEC             LADWP - Fairfax Center     2311 S Fairfax Ave   \n\n    Intersection Directions         City State    ZIP  Plus4 Station Phone  \\\n0                       NaN   Sun Valley    CA  91352    NaN           NaN   \n1                       NaN  Los Angeles    CA  90024    NaN           NaN   \n2  West hall and South hall  Los Angeles    CA  90015    NaN  213-741-1151   \n3               Across Hope  Los Angeles    CA  90012    NaN           NaN   \n4                       NaN   Long Beach    CA  90803    NaN           NaN   \n5          At 12th and N St   Sacramento    CA  95814    NaN           NaN   \n6                   At B St   Wilmington    CA  90744    NaN           NaN   \n7                       NaN       Sylmar    CA  91342    NaN           NaN   \n8                       NaN  Los Angeles    CA  90012    NaN           NaN   \n9                       NaN  Los Angeles    CA  90016    NaN           NaN   \n\n  Status Code  ... EV Pricing (French) LPG Nozzle Types Hydrogen Pressures  \\\n0           E  ...                 NaN              NaN                NaN   \n1           E  ...                 NaN              NaN                NaN   \n2           E  ...                 NaN              NaN                NaN   \n3           E  ...                 NaN              NaN                NaN   \n4           E  ...                 NaN              NaN                NaN   \n5           E  ...                 NaN              NaN                NaN   \n6           E  ...                 NaN              NaN                NaN   \n7           E  ...                 NaN              NaN                NaN   \n8           E  ...                 NaN              NaN                NaN   \n9           E  ...                 NaN              NaN                NaN   \n\n  Hydrogen Standards  CNG Fill Type Code  CNG PSI  CNG Vehicle Class  \\\n0                NaN                 NaN      NaN                NaN   \n1                NaN                 NaN      NaN                NaN   \n2                NaN                 NaN      NaN                NaN   \n3                NaN                 NaN      NaN                NaN   \n4                NaN                 NaN      NaN                NaN   \n5                NaN                 NaN      NaN                NaN   \n6                NaN                 NaN      NaN                NaN   \n7                NaN                 NaN      NaN                NaN   \n8                NaN                 NaN      NaN                NaN   \n9                NaN                 NaN      NaN                NaN   \n\n   LNG Vehicle Class  EV On-Site Renewable Source  Restricted Access  \n0                NaN                          NaN                NaN  \n1                NaN                          NaN                NaN  \n2                NaN                          NaN                NaN  \n3                NaN                          NaN                NaN  \n4                NaN                          NaN                NaN  \n5                NaN                          NaN                NaN  \n6                NaN                          NaN                NaN  \n7                NaN                          NaN                NaN  \n8                NaN                          NaN                NaN  \n9                NaN                          NaN                NaN  \n\n[10 rows x 65 columns]",
      "text/html": "<div>\n<style scoped>\n    .dataframe tbody tr th:only-of-type {\n        vertical-align: middle;\n    }\n\n    .dataframe tbody tr th {\n        vertical-align: top;\n    }\n\n    .dataframe thead th {\n        text-align: right;\n    }\n</style>\n<table border=\"1\" class=\"dataframe\">\n  <thead>\n    <tr style=\"text-align: right;\">\n      <th></th>\n      <th>Fuel Type Code</th>\n      <th>Station Name</th>\n      <th>Street Address</th>\n      <th>Intersection Directions</th>\n      <th>City</th>\n      <th>State</th>\n      <th>ZIP</th>\n      <th>Plus4</th>\n      <th>Station Phone</th>\n      <th>Status Code</th>\n      <th>...</th>\n      <th>EV Pricing (French)</th>\n      <th>LPG Nozzle Types</th>\n      <th>Hydrogen Pressures</th>\n      <th>Hydrogen Standards</th>\n      <th>CNG Fill Type Code</th>\n      <th>CNG PSI</th>\n      <th>CNG Vehicle Class</th>\n      <th>LNG Vehicle Class</th>\n      <th>EV On-Site Renewable Source</th>\n      <th>Restricted Access</th>\n    </tr>\n  </thead>\n  <tbody>\n    <tr>\n      <th>0</th>\n      <td>ELEC</td>\n      <td>LADWP - Truesdale Center</td>\n      <td>11797 Truesdale St</td>\n      <td>NaN</td>\n      <td>Sun Valley</td>\n      <td>CA</td>\n      <td>91352</td>\n      <td>NaN</td>\n      <td>NaN</td>\n      <td>E</td>\n      <td>...</td>\n      <td>NaN</td>\n      <td>NaN</td>\n      <td>NaN</td>\n      <td>NaN</td>\n      <td>NaN</td>\n      <td>NaN</td>\n      <td>NaN</td>\n      <td>NaN</td>\n      <td>NaN</td>\n      <td>NaN</td>\n    </tr>\n    <tr>\n      <th>1</th>\n      <td>ELEC</td>\n      <td>LADWP - West LA District Office</td>\n      <td>1394 S Sepulveda Blvd</td>\n      <td>NaN</td>\n      <td>Los Angeles</td>\n      <td>CA</td>\n      <td>90024</td>\n      <td>NaN</td>\n      <td>NaN</td>\n      <td>E</td>\n      <td>...</td>\n      <td>NaN</td>\n      <td>NaN</td>\n      <td>NaN</td>\n      <td>NaN</td>\n      <td>NaN</td>\n      <td>NaN</td>\n      <td>NaN</td>\n      <td>NaN</td>\n      <td>NaN</td>\n      <td>NaN</td>\n    </tr>\n    <tr>\n      <th>2</th>\n      <td>ELEC</td>\n      <td>Los Angeles Convention Center</td>\n      <td>1201 S Figueroa St</td>\n      <td>West hall and South hall</td>\n      <td>Los Angeles</td>\n      <td>CA</td>\n      <td>90015</td>\n      <td>NaN</td>\n      <td>213-741-1151</td>\n      <td>E</td>\n      <td>...</td>\n      <td>NaN</td>\n      <td>NaN</td>\n      <td>NaN</td>\n      <td>NaN</td>\n      <td>NaN</td>\n      <td>NaN</td>\n      <td>NaN</td>\n      <td>NaN</td>\n      <td>NaN</td>\n      <td>NaN</td>\n    </tr>\n    <tr>\n      <th>3</th>\n      <td>ELEC</td>\n      <td>LADWP - John Ferraro Building</td>\n      <td>111 N Hope St</td>\n      <td>Across Hope</td>\n      <td>Los Angeles</td>\n      <td>CA</td>\n      <td>90012</td>\n      <td>NaN</td>\n      <td>NaN</td>\n      <td>E</td>\n      <td>...</td>\n      <td>NaN</td>\n      <td>NaN</td>\n      <td>NaN</td>\n      <td>NaN</td>\n      <td>NaN</td>\n      <td>NaN</td>\n      <td>NaN</td>\n      <td>NaN</td>\n      <td>NaN</td>\n      <td>NaN</td>\n    </tr>\n    <tr>\n      <th>4</th>\n      <td>ELEC</td>\n      <td>LADWP - Haynes Power Plant</td>\n      <td>6801 E 2nd St</td>\n      <td>NaN</td>\n      <td>Long Beach</td>\n      <td>CA</td>\n      <td>90803</td>\n      <td>NaN</td>\n      <td>NaN</td>\n      <td>E</td>\n      <td>...</td>\n      <td>NaN</td>\n      <td>NaN</td>\n      <td>NaN</td>\n      <td>NaN</td>\n      <td>NaN</td>\n      <td>NaN</td>\n      <td>NaN</td>\n      <td>NaN</td>\n      <td>NaN</td>\n      <td>NaN</td>\n    </tr>\n    <tr>\n      <th>5</th>\n      <td>ELEC</td>\n      <td>State Capitol Parking Garage</td>\n      <td>1303 10th St</td>\n      <td>At 12th and N St</td>\n      <td>Sacramento</td>\n      <td>CA</td>\n      <td>95814</td>\n      <td>NaN</td>\n      <td>NaN</td>\n      <td>E</td>\n      <td>...</td>\n      <td>NaN</td>\n      <td>NaN</td>\n      <td>NaN</td>\n      <td>NaN</td>\n      <td>NaN</td>\n      <td>NaN</td>\n      <td>NaN</td>\n      <td>NaN</td>\n      <td>NaN</td>\n      <td>NaN</td>\n    </tr>\n    <tr>\n      <th>6</th>\n      <td>ELEC</td>\n      <td>LADWP - Harbor Generating Station</td>\n      <td>161 N Island Ave</td>\n      <td>At B St</td>\n      <td>Wilmington</td>\n      <td>CA</td>\n      <td>90744</td>\n      <td>NaN</td>\n      <td>NaN</td>\n      <td>E</td>\n      <td>...</td>\n      <td>NaN</td>\n      <td>NaN</td>\n      <td>NaN</td>\n      <td>NaN</td>\n      <td>NaN</td>\n      <td>NaN</td>\n      <td>NaN</td>\n      <td>NaN</td>\n      <td>NaN</td>\n      <td>NaN</td>\n    </tr>\n    <tr>\n      <th>7</th>\n      <td>ELEC</td>\n      <td>LADWP - Sylmar West</td>\n      <td>13201 Sepulveda Blvd</td>\n      <td>NaN</td>\n      <td>Sylmar</td>\n      <td>CA</td>\n      <td>91342</td>\n      <td>NaN</td>\n      <td>NaN</td>\n      <td>E</td>\n      <td>...</td>\n      <td>NaN</td>\n      <td>NaN</td>\n      <td>NaN</td>\n      <td>NaN</td>\n      <td>NaN</td>\n      <td>NaN</td>\n      <td>NaN</td>\n      <td>NaN</td>\n      <td>NaN</td>\n      <td>NaN</td>\n    </tr>\n    <tr>\n      <th>8</th>\n      <td>ELEC</td>\n      <td>LADWP - EV Service Center</td>\n      <td>1630 N Main St</td>\n      <td>NaN</td>\n      <td>Los Angeles</td>\n      <td>CA</td>\n      <td>90012</td>\n      <td>NaN</td>\n      <td>NaN</td>\n      <td>E</td>\n      <td>...</td>\n      <td>NaN</td>\n      <td>NaN</td>\n      <td>NaN</td>\n      <td>NaN</td>\n      <td>NaN</td>\n      <td>NaN</td>\n      <td>NaN</td>\n      <td>NaN</td>\n      <td>NaN</td>\n      <td>NaN</td>\n    </tr>\n    <tr>\n      <th>9</th>\n      <td>ELEC</td>\n      <td>LADWP - Fairfax Center</td>\n      <td>2311 S Fairfax Ave</td>\n      <td>NaN</td>\n      <td>Los Angeles</td>\n      <td>CA</td>\n      <td>90016</td>\n      <td>NaN</td>\n      <td>NaN</td>\n      <td>E</td>\n      <td>...</td>\n      <td>NaN</td>\n      <td>NaN</td>\n      <td>NaN</td>\n      <td>NaN</td>\n      <td>NaN</td>\n      <td>NaN</td>\n      <td>NaN</td>\n      <td>NaN</td>\n      <td>NaN</td>\n      <td>NaN</td>\n    </tr>\n  </tbody>\n</table>\n<p>10 rows × 65 columns</p>\n</div>"
     },
     "execution_count": 166,
     "metadata": {},
     "output_type": "execute_result"
    }
   ],
   "source": [
    "ev_station_data.head(10)"
   ],
   "metadata": {
    "collapsed": false,
    "pycharm": {
     "name": "#%%\n"
    }
   }
  },
  {
   "cell_type": "code",
   "execution_count": 167,
   "outputs": [
    {
     "data": {
      "text/plain": "CA    14651\nNY     2977\nFL     2665\nTX     2319\nMA     2198\nWA     1775\nCO     1627\nGA     1588\nMD     1263\nPA     1166\nVA     1142\nNC     1124\nIL     1068\nMO     1053\nOR      992\nOH      976\nUT      908\nAZ      890\nMI      831\nNJ      749\nTN      683\nMN      583\nCT      533\nKS      494\nWI      479\nNV      458\nSC      391\nHI      386\nIN      354\nVT      331\nOK      314\nME      302\nDC      292\nIA      284\nAL      278\nRI      257\nKY      225\nNM      191\nNE      177\nNH      166\nAR      165\nLA      158\nID      138\nDE      133\nMS      115\nWV      111\nMT       80\nWY       70\nND       61\nSD       58\nAK       53\nPR        5\nON        2\nName: State, dtype: int64"
     },
     "execution_count": 167,
     "metadata": {},
     "output_type": "execute_result"
    }
   ],
   "source": [
    "ev_station_data.loc[:,'State'].value_counts()"
   ],
   "metadata": {
    "collapsed": false,
    "pycharm": {
     "name": "#%%\n"
    }
   }
  },
  {
   "cell_type": "code",
   "execution_count": 168,
   "outputs": [],
   "source": [
    "def ev_station_count_df(file,state):\n",
    "    \"\"\" Count the ev station of each data and return a dataframe\n",
    "\n",
    "    :param file: ev station file\n",
    "    :param state: string for three state\n",
    "    :return: the dataframe of the count of ev station of each state\n",
    "    \"\"\"\n",
    "    if state == 'All':\n",
    "        file_clean = file\n",
    "    else:\n",
    "        file_clean = file[file['State']==state]\n",
    "    file_count = file_clean.loc[:,'ZIP'].value_counts()\n",
    "    file_count_df = DataFrame(file_count)\n",
    "    file_count_df = file_count_df.rename_axis('ZIP Code').reset_index()\n",
    "    ev_station_count = file_count_df.rename(columns={'ZIP': 'Count'})\n",
    "    return ev_station_count"
   ],
   "metadata": {
    "collapsed": false,
    "pycharm": {
     "name": "#%%\n"
    }
   }
  },
  {
   "cell_type": "code",
   "execution_count": 169,
   "outputs": [
    {
     "data": {
      "text/plain": "      ZIP Code  Count\n0        94025    259\n1        95054    235\n2        92618    134\n3        94080    115\n4        94025    113\n...        ...    ...\n13576    72076      1\n13577    14530      1\n13578    22963      1\n13579    32433      1\n13580    29349      1\n\n[13581 rows x 2 columns]",
      "text/html": "<div>\n<style scoped>\n    .dataframe tbody tr th:only-of-type {\n        vertical-align: middle;\n    }\n\n    .dataframe tbody tr th {\n        vertical-align: top;\n    }\n\n    .dataframe thead th {\n        text-align: right;\n    }\n</style>\n<table border=\"1\" class=\"dataframe\">\n  <thead>\n    <tr style=\"text-align: right;\">\n      <th></th>\n      <th>ZIP Code</th>\n      <th>Count</th>\n    </tr>\n  </thead>\n  <tbody>\n    <tr>\n      <th>0</th>\n      <td>94025</td>\n      <td>259</td>\n    </tr>\n    <tr>\n      <th>1</th>\n      <td>95054</td>\n      <td>235</td>\n    </tr>\n    <tr>\n      <th>2</th>\n      <td>92618</td>\n      <td>134</td>\n    </tr>\n    <tr>\n      <th>3</th>\n      <td>94080</td>\n      <td>115</td>\n    </tr>\n    <tr>\n      <th>4</th>\n      <td>94025</td>\n      <td>113</td>\n    </tr>\n    <tr>\n      <th>...</th>\n      <td>...</td>\n      <td>...</td>\n    </tr>\n    <tr>\n      <th>13576</th>\n      <td>72076</td>\n      <td>1</td>\n    </tr>\n    <tr>\n      <th>13577</th>\n      <td>14530</td>\n      <td>1</td>\n    </tr>\n    <tr>\n      <th>13578</th>\n      <td>22963</td>\n      <td>1</td>\n    </tr>\n    <tr>\n      <th>13579</th>\n      <td>32433</td>\n      <td>1</td>\n    </tr>\n    <tr>\n      <th>13580</th>\n      <td>29349</td>\n      <td>1</td>\n    </tr>\n  </tbody>\n</table>\n<p>13581 rows × 2 columns</p>\n</div>"
     },
     "execution_count": 169,
     "metadata": {},
     "output_type": "execute_result"
    }
   ],
   "source": [
    "ev_station_count_df(ev_station_data,'All')"
   ],
   "metadata": {
    "collapsed": false,
    "pycharm": {
     "name": "#%%\n"
    }
   }
  },
  {
   "cell_type": "markdown",
   "source": [
    "New York State EV Station data"
   ],
   "metadata": {
    "collapsed": false,
    "pycharm": {
     "name": "#%% md\n"
    }
   }
  },
  {
   "cell_type": "code",
   "source": [
    "ev_station_count_df(ev_station_data,'NY')"
   ],
   "metadata": {
    "collapsed": false,
    "pycharm": {
     "name": "#%%\n"
    }
   },
   "execution_count": 170,
   "outputs": [
    {
     "data": {
      "text/plain": "    ZIP Code  Count\n0      12866     50\n1      14203     30\n2      14623     26\n3      14850     24\n4      12401     24\n..       ...    ...\n919    13339      1\n920    13669      1\n921    12043      1\n922    12165      1\n923    14009      1\n\n[924 rows x 2 columns]",
      "text/html": "<div>\n<style scoped>\n    .dataframe tbody tr th:only-of-type {\n        vertical-align: middle;\n    }\n\n    .dataframe tbody tr th {\n        vertical-align: top;\n    }\n\n    .dataframe thead th {\n        text-align: right;\n    }\n</style>\n<table border=\"1\" class=\"dataframe\">\n  <thead>\n    <tr style=\"text-align: right;\">\n      <th></th>\n      <th>ZIP Code</th>\n      <th>Count</th>\n    </tr>\n  </thead>\n  <tbody>\n    <tr>\n      <th>0</th>\n      <td>12866</td>\n      <td>50</td>\n    </tr>\n    <tr>\n      <th>1</th>\n      <td>14203</td>\n      <td>30</td>\n    </tr>\n    <tr>\n      <th>2</th>\n      <td>14623</td>\n      <td>26</td>\n    </tr>\n    <tr>\n      <th>3</th>\n      <td>14850</td>\n      <td>24</td>\n    </tr>\n    <tr>\n      <th>4</th>\n      <td>12401</td>\n      <td>24</td>\n    </tr>\n    <tr>\n      <th>...</th>\n      <td>...</td>\n      <td>...</td>\n    </tr>\n    <tr>\n      <th>919</th>\n      <td>13339</td>\n      <td>1</td>\n    </tr>\n    <tr>\n      <th>920</th>\n      <td>13669</td>\n      <td>1</td>\n    </tr>\n    <tr>\n      <th>921</th>\n      <td>12043</td>\n      <td>1</td>\n    </tr>\n    <tr>\n      <th>922</th>\n      <td>12165</td>\n      <td>1</td>\n    </tr>\n    <tr>\n      <th>923</th>\n      <td>14009</td>\n      <td>1</td>\n    </tr>\n  </tbody>\n</table>\n<p>924 rows × 2 columns</p>\n</div>"
     },
     "execution_count": 170,
     "metadata": {},
     "output_type": "execute_result"
    }
   ]
  },
  {
   "cell_type": "code",
   "execution_count": 171,
   "outputs": [],
   "source": [
    "ev_station_count_ny = ev_station_count_df(ev_station_data,'NY')"
   ],
   "metadata": {
    "collapsed": false,
    "pycharm": {
     "name": "#%%\n"
    }
   }
  },
  {
   "cell_type": "markdown",
   "source": [
    " Texas State EV Station data"
   ],
   "metadata": {
    "collapsed": false,
    "pycharm": {
     "name": "#%% md\n"
    }
   }
  },
  {
   "cell_type": "code",
   "source": [
    "ev_station_count_tx = ev_station_count_df(ev_station_data,'TX')"
   ],
   "metadata": {
    "collapsed": false,
    "pycharm": {
     "name": "#%%\n"
    }
   },
   "execution_count": 172,
   "outputs": []
  },
  {
   "cell_type": "code",
   "execution_count": 173,
   "outputs": [
    {
     "data": {
      "text/plain": "    ZIP Code  Count\n0      78701     43\n1      76155     34\n2      77002     27\n3      75201     26\n4      77004     26\n..       ...    ...\n739    75207      1\n740    75672      1\n741    78504      1\n742    77802      1\n743    76825      1\n\n[744 rows x 2 columns]",
      "text/html": "<div>\n<style scoped>\n    .dataframe tbody tr th:only-of-type {\n        vertical-align: middle;\n    }\n\n    .dataframe tbody tr th {\n        vertical-align: top;\n    }\n\n    .dataframe thead th {\n        text-align: right;\n    }\n</style>\n<table border=\"1\" class=\"dataframe\">\n  <thead>\n    <tr style=\"text-align: right;\">\n      <th></th>\n      <th>ZIP Code</th>\n      <th>Count</th>\n    </tr>\n  </thead>\n  <tbody>\n    <tr>\n      <th>0</th>\n      <td>78701</td>\n      <td>43</td>\n    </tr>\n    <tr>\n      <th>1</th>\n      <td>76155</td>\n      <td>34</td>\n    </tr>\n    <tr>\n      <th>2</th>\n      <td>77002</td>\n      <td>27</td>\n    </tr>\n    <tr>\n      <th>3</th>\n      <td>75201</td>\n      <td>26</td>\n    </tr>\n    <tr>\n      <th>4</th>\n      <td>77004</td>\n      <td>26</td>\n    </tr>\n    <tr>\n      <th>...</th>\n      <td>...</td>\n      <td>...</td>\n    </tr>\n    <tr>\n      <th>739</th>\n      <td>75207</td>\n      <td>1</td>\n    </tr>\n    <tr>\n      <th>740</th>\n      <td>75672</td>\n      <td>1</td>\n    </tr>\n    <tr>\n      <th>741</th>\n      <td>78504</td>\n      <td>1</td>\n    </tr>\n    <tr>\n      <th>742</th>\n      <td>77802</td>\n      <td>1</td>\n    </tr>\n    <tr>\n      <th>743</th>\n      <td>76825</td>\n      <td>1</td>\n    </tr>\n  </tbody>\n</table>\n<p>744 rows × 2 columns</p>\n</div>"
     },
     "execution_count": 173,
     "metadata": {},
     "output_type": "execute_result"
    }
   ],
   "source": [
    "ev_station_count_tx"
   ],
   "metadata": {
    "collapsed": false,
    "pycharm": {
     "name": "#%%\n"
    }
   }
  },
  {
   "cell_type": "markdown",
   "source": [
    "Washington State EV Station data"
   ],
   "metadata": {
    "collapsed": false,
    "pycharm": {
     "name": "#%% md\n"
    }
   }
  },
  {
   "cell_type": "code",
   "source": [
    "ev_station_count_wa = ev_station_count_df(ev_station_data,'WA')"
   ],
   "metadata": {
    "collapsed": false,
    "pycharm": {
     "name": "#%%\n"
    }
   },
   "execution_count": 174,
   "outputs": []
  },
  {
   "cell_type": "code",
   "execution_count": 175,
   "outputs": [
    {
     "data": {
      "text/plain": "    ZIP Code  Count\n0      98004     57\n1      98121     51\n2      98109     49\n3      98004     49\n4      99354     46\n..       ...    ...\n436    98642      1\n437    99403      1\n438    98037      1\n439    99204      1\n440    98022      1\n\n[441 rows x 2 columns]",
      "text/html": "<div>\n<style scoped>\n    .dataframe tbody tr th:only-of-type {\n        vertical-align: middle;\n    }\n\n    .dataframe tbody tr th {\n        vertical-align: top;\n    }\n\n    .dataframe thead th {\n        text-align: right;\n    }\n</style>\n<table border=\"1\" class=\"dataframe\">\n  <thead>\n    <tr style=\"text-align: right;\">\n      <th></th>\n      <th>ZIP Code</th>\n      <th>Count</th>\n    </tr>\n  </thead>\n  <tbody>\n    <tr>\n      <th>0</th>\n      <td>98004</td>\n      <td>57</td>\n    </tr>\n    <tr>\n      <th>1</th>\n      <td>98121</td>\n      <td>51</td>\n    </tr>\n    <tr>\n      <th>2</th>\n      <td>98109</td>\n      <td>49</td>\n    </tr>\n    <tr>\n      <th>3</th>\n      <td>98004</td>\n      <td>49</td>\n    </tr>\n    <tr>\n      <th>4</th>\n      <td>99354</td>\n      <td>46</td>\n    </tr>\n    <tr>\n      <th>...</th>\n      <td>...</td>\n      <td>...</td>\n    </tr>\n    <tr>\n      <th>436</th>\n      <td>98642</td>\n      <td>1</td>\n    </tr>\n    <tr>\n      <th>437</th>\n      <td>99403</td>\n      <td>1</td>\n    </tr>\n    <tr>\n      <th>438</th>\n      <td>98037</td>\n      <td>1</td>\n    </tr>\n    <tr>\n      <th>439</th>\n      <td>99204</td>\n      <td>1</td>\n    </tr>\n    <tr>\n      <th>440</th>\n      <td>98022</td>\n      <td>1</td>\n    </tr>\n  </tbody>\n</table>\n<p>441 rows × 2 columns</p>\n</div>"
     },
     "execution_count": 175,
     "metadata": {},
     "output_type": "execute_result"
    }
   ],
   "source": [
    "ev_station_count_wa"
   ],
   "metadata": {
    "collapsed": false,
    "pycharm": {
     "name": "#%%\n"
    }
   }
  },
  {
   "cell_type": "markdown",
   "source": [
    "## Ev Car Count in Each Zip Code"
   ],
   "metadata": {
    "collapsed": false,
    "pycharm": {
     "name": "#%% md\n"
    }
   }
  },
  {
   "cell_type": "code",
   "source": [
    "newyork_data = pd.read_csv('data/ny_ev_registrations_public.csv')\n",
    "texas_data = pd.read_csv('data/tx_ev_registrations_public.csv')\n",
    "washington_data = pd.read_csv('data/wa_ev_registrations_public.csv',low_memory = False)"
   ],
   "metadata": {
    "collapsed": false,
    "pycharm": {
     "name": "#%%\n"
    }
   },
   "execution_count": 176,
   "outputs": []
  },
  {
   "cell_type": "markdown",
   "source": [
    "Newyork State Car Count"
   ],
   "metadata": {
    "collapsed": false,
    "pycharm": {
     "name": "#%% md\n"
    }
   }
  },
  {
   "cell_type": "code",
   "source": [
    "def ev_car_count_df(file):\n",
    "    \"\"\" Calculate the number of car in each zip code\n",
    "\n",
    "    :param file:state car data\n",
    "    :return:the car count of each state\n",
    "    \"\"\"\n",
    "    file = DataFrame(file)\n",
    "    file_count = file.loc[:,'ZIP Code'].value_counts()\n",
    "    file_count_df = DataFrame(file_count)\n",
    "    file_count_df = file_count_df.rename(columns={'ZIP Code': 'Count'})\n",
    "    ev_car_count = file_count_df.rename_axis('ZIP Code').reset_index()\n",
    "    return ev_car_count"
   ],
   "metadata": {
    "collapsed": false,
    "pycharm": {
     "name": "#%%\n"
    }
   },
   "execution_count": 177,
   "outputs": []
  },
  {
   "cell_type": "code",
   "execution_count": 178,
   "outputs": [],
   "source": [
    "ev_car_count_ny = ev_car_count_df(newyork_data)"
   ],
   "metadata": {
    "collapsed": false,
    "pycharm": {
     "name": "#%%\n"
    }
   }
  },
  {
   "cell_type": "code",
   "execution_count": 179,
   "outputs": [
    {
     "data": {
      "text/plain": "      ZIP Code  Count\n0        11746  31256\n1        10583  31051\n2        14850  27366\n3        11743  21618\n4        11791  21534\n...        ...    ...\n3570     10654      1\n3571     16693      1\n3572      6068      1\n3573     40202      1\n3574      6243      1\n\n[3575 rows x 2 columns]",
      "text/html": "<div>\n<style scoped>\n    .dataframe tbody tr th:only-of-type {\n        vertical-align: middle;\n    }\n\n    .dataframe tbody tr th {\n        vertical-align: top;\n    }\n\n    .dataframe thead th {\n        text-align: right;\n    }\n</style>\n<table border=\"1\" class=\"dataframe\">\n  <thead>\n    <tr style=\"text-align: right;\">\n      <th></th>\n      <th>ZIP Code</th>\n      <th>Count</th>\n    </tr>\n  </thead>\n  <tbody>\n    <tr>\n      <th>0</th>\n      <td>11746</td>\n      <td>31256</td>\n    </tr>\n    <tr>\n      <th>1</th>\n      <td>10583</td>\n      <td>31051</td>\n    </tr>\n    <tr>\n      <th>2</th>\n      <td>14850</td>\n      <td>27366</td>\n    </tr>\n    <tr>\n      <th>3</th>\n      <td>11743</td>\n      <td>21618</td>\n    </tr>\n    <tr>\n      <th>4</th>\n      <td>11791</td>\n      <td>21534</td>\n    </tr>\n    <tr>\n      <th>...</th>\n      <td>...</td>\n      <td>...</td>\n    </tr>\n    <tr>\n      <th>3570</th>\n      <td>10654</td>\n      <td>1</td>\n    </tr>\n    <tr>\n      <th>3571</th>\n      <td>16693</td>\n      <td>1</td>\n    </tr>\n    <tr>\n      <th>3572</th>\n      <td>6068</td>\n      <td>1</td>\n    </tr>\n    <tr>\n      <th>3573</th>\n      <td>40202</td>\n      <td>1</td>\n    </tr>\n    <tr>\n      <th>3574</th>\n      <td>6243</td>\n      <td>1</td>\n    </tr>\n  </tbody>\n</table>\n<p>3575 rows × 2 columns</p>\n</div>"
     },
     "execution_count": 179,
     "metadata": {},
     "output_type": "execute_result"
    }
   ],
   "source": [
    "ev_car_count_ny"
   ],
   "metadata": {
    "collapsed": false,
    "pycharm": {
     "name": "#%%\n"
    }
   }
  },
  {
   "cell_type": "markdown",
   "source": [
    "Texas State Car Count"
   ],
   "metadata": {
    "collapsed": false,
    "pycharm": {
     "name": "#%% md\n"
    }
   }
  },
  {
   "cell_type": "code",
   "source": [
    "ev_car_count_df(texas_data)"
   ],
   "metadata": {
    "collapsed": false,
    "pycharm": {
     "name": "#%%\n"
    }
   },
   "execution_count": 180,
   "outputs": [
    {
     "data": {
      "text/plain": "     ZIP Code  Count\n0       75035  12107\n1       77479  11976\n2       78746  10033\n3       78613  10013\n4       78704   9262\n...       ...    ...\n1645    76004      1\n1646    76097      1\n1647    75555      1\n1648    77548      1\n1649    79244      1\n\n[1650 rows x 2 columns]",
      "text/html": "<div>\n<style scoped>\n    .dataframe tbody tr th:only-of-type {\n        vertical-align: middle;\n    }\n\n    .dataframe tbody tr th {\n        vertical-align: top;\n    }\n\n    .dataframe thead th {\n        text-align: right;\n    }\n</style>\n<table border=\"1\" class=\"dataframe\">\n  <thead>\n    <tr style=\"text-align: right;\">\n      <th></th>\n      <th>ZIP Code</th>\n      <th>Count</th>\n    </tr>\n  </thead>\n  <tbody>\n    <tr>\n      <th>0</th>\n      <td>75035</td>\n      <td>12107</td>\n    </tr>\n    <tr>\n      <th>1</th>\n      <td>77479</td>\n      <td>11976</td>\n    </tr>\n    <tr>\n      <th>2</th>\n      <td>78746</td>\n      <td>10033</td>\n    </tr>\n    <tr>\n      <th>3</th>\n      <td>78613</td>\n      <td>10013</td>\n    </tr>\n    <tr>\n      <th>4</th>\n      <td>78704</td>\n      <td>9262</td>\n    </tr>\n    <tr>\n      <th>...</th>\n      <td>...</td>\n      <td>...</td>\n    </tr>\n    <tr>\n      <th>1645</th>\n      <td>76004</td>\n      <td>1</td>\n    </tr>\n    <tr>\n      <th>1646</th>\n      <td>76097</td>\n      <td>1</td>\n    </tr>\n    <tr>\n      <th>1647</th>\n      <td>75555</td>\n      <td>1</td>\n    </tr>\n    <tr>\n      <th>1648</th>\n      <td>77548</td>\n      <td>1</td>\n    </tr>\n    <tr>\n      <th>1649</th>\n      <td>79244</td>\n      <td>1</td>\n    </tr>\n  </tbody>\n</table>\n<p>1650 rows × 2 columns</p>\n</div>"
     },
     "execution_count": 180,
     "metadata": {},
     "output_type": "execute_result"
    }
   ]
  },
  {
   "cell_type": "code",
   "execution_count": 181,
   "outputs": [],
   "source": [
    "ev_car_count_tx = ev_car_count_df(texas_data)"
   ],
   "metadata": {
    "collapsed": false,
    "pycharm": {
     "name": "#%%\n"
    }
   }
  },
  {
   "cell_type": "markdown",
   "source": [
    "Washington State Car Count"
   ],
   "metadata": {
    "collapsed": false,
    "pycharm": {
     "name": "#%% md\n"
    }
   }
  },
  {
   "cell_type": "code",
   "source": [
    "ev_car_count_df(washington_data)"
   ],
   "metadata": {
    "collapsed": false,
    "pycharm": {
     "name": "#%%\n"
    }
   },
   "execution_count": 182,
   "outputs": [
    {
     "data": {
      "text/plain": "     ZIP Code  Count\n0       98052  69190\n1       98033  45620\n2       98115  43273\n3       98004  42905\n4       98006  41084\n...       ...    ...\n1099    20009      1\n1100    23801      1\n1101    21061      1\n1102    97266      1\n1103    92104      1\n\n[1104 rows x 2 columns]",
      "text/html": "<div>\n<style scoped>\n    .dataframe tbody tr th:only-of-type {\n        vertical-align: middle;\n    }\n\n    .dataframe tbody tr th {\n        vertical-align: top;\n    }\n\n    .dataframe thead th {\n        text-align: right;\n    }\n</style>\n<table border=\"1\" class=\"dataframe\">\n  <thead>\n    <tr style=\"text-align: right;\">\n      <th></th>\n      <th>ZIP Code</th>\n      <th>Count</th>\n    </tr>\n  </thead>\n  <tbody>\n    <tr>\n      <th>0</th>\n      <td>98052</td>\n      <td>69190</td>\n    </tr>\n    <tr>\n      <th>1</th>\n      <td>98033</td>\n      <td>45620</td>\n    </tr>\n    <tr>\n      <th>2</th>\n      <td>98115</td>\n      <td>43273</td>\n    </tr>\n    <tr>\n      <th>3</th>\n      <td>98004</td>\n      <td>42905</td>\n    </tr>\n    <tr>\n      <th>4</th>\n      <td>98006</td>\n      <td>41084</td>\n    </tr>\n    <tr>\n      <th>...</th>\n      <td>...</td>\n      <td>...</td>\n    </tr>\n    <tr>\n      <th>1099</th>\n      <td>20009</td>\n      <td>1</td>\n    </tr>\n    <tr>\n      <th>1100</th>\n      <td>23801</td>\n      <td>1</td>\n    </tr>\n    <tr>\n      <th>1101</th>\n      <td>21061</td>\n      <td>1</td>\n    </tr>\n    <tr>\n      <th>1102</th>\n      <td>97266</td>\n      <td>1</td>\n    </tr>\n    <tr>\n      <th>1103</th>\n      <td>92104</td>\n      <td>1</td>\n    </tr>\n  </tbody>\n</table>\n<p>1104 rows × 2 columns</p>\n</div>"
     },
     "execution_count": 182,
     "metadata": {},
     "output_type": "execute_result"
    }
   ]
  },
  {
   "cell_type": "code",
   "execution_count": 183,
   "outputs": [],
   "source": [
    "ev_car_count_wa = ev_car_count_df(washington_data)"
   ],
   "metadata": {
    "collapsed": false,
    "pycharm": {
     "name": "#%%\n"
    }
   }
  },
  {
   "cell_type": "markdown",
   "source": [
    "## Descriptive Statistics of car_count and ev_station count"
   ],
   "metadata": {
    "collapsed": false,
    "pycharm": {
     "name": "#%% md\n"
    }
   }
  },
  {
   "cell_type": "markdown",
   "source": [
    "Descriptive Statistics of Car Count"
   ],
   "metadata": {
    "collapsed": false,
    "pycharm": {
     "name": "#%% md\n"
    }
   }
  },
  {
   "cell_type": "code",
   "source": [
    "ev_car_count_ny_discribe = ev_car_count_ny[['Count']].describe()"
   ],
   "metadata": {
    "collapsed": false,
    "pycharm": {
     "name": "#%%\n"
    }
   },
   "execution_count": 184,
   "outputs": []
  },
  {
   "cell_type": "code",
   "execution_count": 185,
   "outputs": [],
   "source": [
    "ev_car_count_ny_discribe = ev_car_count_ny_discribe.rename(columns = {'Count':'NY_Car_Count'})"
   ],
   "metadata": {
    "collapsed": false,
    "pycharm": {
     "name": "#%%\n"
    }
   }
  },
  {
   "cell_type": "code",
   "execution_count": 186,
   "outputs": [
    {
     "data": {
      "text/plain": "       NY_Car_Count\ncount   3575.000000\nmean     814.066573\nstd     2203.457525\nmin        1.000000\n25%        1.000000\n50%       19.000000\n75%      409.000000\nmax    31256.000000",
      "text/html": "<div>\n<style scoped>\n    .dataframe tbody tr th:only-of-type {\n        vertical-align: middle;\n    }\n\n    .dataframe tbody tr th {\n        vertical-align: top;\n    }\n\n    .dataframe thead th {\n        text-align: right;\n    }\n</style>\n<table border=\"1\" class=\"dataframe\">\n  <thead>\n    <tr style=\"text-align: right;\">\n      <th></th>\n      <th>NY_Car_Count</th>\n    </tr>\n  </thead>\n  <tbody>\n    <tr>\n      <th>count</th>\n      <td>3575.000000</td>\n    </tr>\n    <tr>\n      <th>mean</th>\n      <td>814.066573</td>\n    </tr>\n    <tr>\n      <th>std</th>\n      <td>2203.457525</td>\n    </tr>\n    <tr>\n      <th>min</th>\n      <td>1.000000</td>\n    </tr>\n    <tr>\n      <th>25%</th>\n      <td>1.000000</td>\n    </tr>\n    <tr>\n      <th>50%</th>\n      <td>19.000000</td>\n    </tr>\n    <tr>\n      <th>75%</th>\n      <td>409.000000</td>\n    </tr>\n    <tr>\n      <th>max</th>\n      <td>31256.000000</td>\n    </tr>\n  </tbody>\n</table>\n</div>"
     },
     "execution_count": 186,
     "metadata": {},
     "output_type": "execute_result"
    }
   ],
   "source": [
    "ev_car_count_ny_discribe"
   ],
   "metadata": {
    "collapsed": false,
    "pycharm": {
     "name": "#%%\n"
    }
   }
  },
  {
   "cell_type": "code",
   "execution_count": 187,
   "outputs": [
    {
     "data": {
      "text/plain": "       TX_Car_Count\ncount   1650.000000\nmean     626.183030\nstd     1328.413634\nmin        1.000000\n25%       18.000000\n50%       92.000000\n75%      508.500000\nmax    12107.000000",
      "text/html": "<div>\n<style scoped>\n    .dataframe tbody tr th:only-of-type {\n        vertical-align: middle;\n    }\n\n    .dataframe tbody tr th {\n        vertical-align: top;\n    }\n\n    .dataframe thead th {\n        text-align: right;\n    }\n</style>\n<table border=\"1\" class=\"dataframe\">\n  <thead>\n    <tr style=\"text-align: right;\">\n      <th></th>\n      <th>TX_Car_Count</th>\n    </tr>\n  </thead>\n  <tbody>\n    <tr>\n      <th>count</th>\n      <td>1650.000000</td>\n    </tr>\n    <tr>\n      <th>mean</th>\n      <td>626.183030</td>\n    </tr>\n    <tr>\n      <th>std</th>\n      <td>1328.413634</td>\n    </tr>\n    <tr>\n      <th>min</th>\n      <td>1.000000</td>\n    </tr>\n    <tr>\n      <th>25%</th>\n      <td>18.000000</td>\n    </tr>\n    <tr>\n      <th>50%</th>\n      <td>92.000000</td>\n    </tr>\n    <tr>\n      <th>75%</th>\n      <td>508.500000</td>\n    </tr>\n    <tr>\n      <th>max</th>\n      <td>12107.000000</td>\n    </tr>\n  </tbody>\n</table>\n</div>"
     },
     "execution_count": 187,
     "metadata": {},
     "output_type": "execute_result"
    }
   ],
   "source": [
    "ev_car_count_tx_discribe = ev_car_count_tx[['Count']].describe()\n",
    "ev_car_count_tx_discribe = ev_car_count_tx_discribe.rename(columns={'Count': 'TX_Car_Count'})\n",
    "ev_car_count_tx_discribe"
   ],
   "metadata": {
    "collapsed": false,
    "pycharm": {
     "name": "#%%\n"
    }
   }
  },
  {
   "cell_type": "code",
   "execution_count": 188,
   "outputs": [
    {
     "data": {
      "text/plain": "       WA_Car_Count\ncount   1104.000000\nmean    2142.063406\nstd     5904.039509\nmin        1.000000\n25%        4.000000\n50%       18.000000\n75%      871.000000\nmax    69190.000000",
      "text/html": "<div>\n<style scoped>\n    .dataframe tbody tr th:only-of-type {\n        vertical-align: middle;\n    }\n\n    .dataframe tbody tr th {\n        vertical-align: top;\n    }\n\n    .dataframe thead th {\n        text-align: right;\n    }\n</style>\n<table border=\"1\" class=\"dataframe\">\n  <thead>\n    <tr style=\"text-align: right;\">\n      <th></th>\n      <th>WA_Car_Count</th>\n    </tr>\n  </thead>\n  <tbody>\n    <tr>\n      <th>count</th>\n      <td>1104.000000</td>\n    </tr>\n    <tr>\n      <th>mean</th>\n      <td>2142.063406</td>\n    </tr>\n    <tr>\n      <th>std</th>\n      <td>5904.039509</td>\n    </tr>\n    <tr>\n      <th>min</th>\n      <td>1.000000</td>\n    </tr>\n    <tr>\n      <th>25%</th>\n      <td>4.000000</td>\n    </tr>\n    <tr>\n      <th>50%</th>\n      <td>18.000000</td>\n    </tr>\n    <tr>\n      <th>75%</th>\n      <td>871.000000</td>\n    </tr>\n    <tr>\n      <th>max</th>\n      <td>69190.000000</td>\n    </tr>\n  </tbody>\n</table>\n</div>"
     },
     "execution_count": 188,
     "metadata": {},
     "output_type": "execute_result"
    }
   ],
   "source": [
    "ev_car_count_wa_discribe = ev_car_count_wa[['Count']].describe()\n",
    "ev_car_count_wa_discribe = ev_car_count_wa_discribe.rename(columns={'Count': 'WA_Car_Count'})\n",
    "ev_car_count_wa_discribe"
   ],
   "metadata": {
    "collapsed": false,
    "pycharm": {
     "name": "#%%\n"
    }
   }
  },
  {
   "cell_type": "code",
   "execution_count": 189,
   "outputs": [],
   "source": [
    "all_state_car_count_df = pd.concat([ev_car_count_ny_discribe,ev_car_count_tx_discribe,ev_car_count_wa_discribe],axis=1)"
   ],
   "metadata": {
    "collapsed": false,
    "pycharm": {
     "name": "#%%\n"
    }
   }
  },
  {
   "cell_type": "code",
   "execution_count": 190,
   "outputs": [
    {
     "data": {
      "text/plain": "       NY_Car_Count  TX_Car_Count  WA_Car_Count\ncount   3575.000000   1650.000000   1104.000000\nmean     814.066573    626.183030   2142.063406\nstd     2203.457525   1328.413634   5904.039509\nmin        1.000000      1.000000      1.000000\n25%        1.000000     18.000000      4.000000\n50%       19.000000     92.000000     18.000000\n75%      409.000000    508.500000    871.000000\nmax    31256.000000  12107.000000  69190.000000",
      "text/html": "<div>\n<style scoped>\n    .dataframe tbody tr th:only-of-type {\n        vertical-align: middle;\n    }\n\n    .dataframe tbody tr th {\n        vertical-align: top;\n    }\n\n    .dataframe thead th {\n        text-align: right;\n    }\n</style>\n<table border=\"1\" class=\"dataframe\">\n  <thead>\n    <tr style=\"text-align: right;\">\n      <th></th>\n      <th>NY_Car_Count</th>\n      <th>TX_Car_Count</th>\n      <th>WA_Car_Count</th>\n    </tr>\n  </thead>\n  <tbody>\n    <tr>\n      <th>count</th>\n      <td>3575.000000</td>\n      <td>1650.000000</td>\n      <td>1104.000000</td>\n    </tr>\n    <tr>\n      <th>mean</th>\n      <td>814.066573</td>\n      <td>626.183030</td>\n      <td>2142.063406</td>\n    </tr>\n    <tr>\n      <th>std</th>\n      <td>2203.457525</td>\n      <td>1328.413634</td>\n      <td>5904.039509</td>\n    </tr>\n    <tr>\n      <th>min</th>\n      <td>1.000000</td>\n      <td>1.000000</td>\n      <td>1.000000</td>\n    </tr>\n    <tr>\n      <th>25%</th>\n      <td>1.000000</td>\n      <td>18.000000</td>\n      <td>4.000000</td>\n    </tr>\n    <tr>\n      <th>50%</th>\n      <td>19.000000</td>\n      <td>92.000000</td>\n      <td>18.000000</td>\n    </tr>\n    <tr>\n      <th>75%</th>\n      <td>409.000000</td>\n      <td>508.500000</td>\n      <td>871.000000</td>\n    </tr>\n    <tr>\n      <th>max</th>\n      <td>31256.000000</td>\n      <td>12107.000000</td>\n      <td>69190.000000</td>\n    </tr>\n  </tbody>\n</table>\n</div>"
     },
     "execution_count": 190,
     "metadata": {},
     "output_type": "execute_result"
    }
   ],
   "source": [
    "all_state_car_count_df"
   ],
   "metadata": {
    "collapsed": false,
    "pycharm": {
     "name": "#%%\n"
    }
   }
  },
  {
   "cell_type": "markdown",
   "source": [
    "After the descriptive statistics calculation of electric vehicles in each state, we found that the largest average is Washington State, indicating that in each zip code, Washington State has a higher number of electric vehicles, but also in the calculation of the standard deviation, Washington State The degree of data dispersion is also the highest, which also shows that although the average value of Washington is high, the data is too scattered and the range of change is large."
   ],
   "metadata": {
    "collapsed": false,
    "pycharm": {
     "name": "#%% md\n"
    }
   }
  },
  {
   "cell_type": "markdown",
   "source": [
    "Descriptive Statistics of Station Count"
   ],
   "metadata": {
    "collapsed": false,
    "pycharm": {
     "name": "#%% md\n"
    }
   }
  },
  {
   "cell_type": "code",
   "source": [
    "ev_station_count_ny_discribe = ev_station_count_ny[['Count']].describe()\n",
    "ev_station_count_ny_discribe = ev_station_count_ny_discribe.rename(columns={'Count': 'NY_Station_Count'})\n",
    "ev_station_count_ny_discribe"
   ],
   "metadata": {
    "collapsed": false,
    "pycharm": {
     "name": "#%%\n"
    }
   },
   "execution_count": 191,
   "outputs": [
    {
     "data": {
      "text/plain": "       NY_Station_Count\ncount        924.000000\nmean           3.221861\nstd            4.196103\nmin            1.000000\n25%            1.000000\n50%            2.000000\n75%            4.000000\nmax           50.000000",
      "text/html": "<div>\n<style scoped>\n    .dataframe tbody tr th:only-of-type {\n        vertical-align: middle;\n    }\n\n    .dataframe tbody tr th {\n        vertical-align: top;\n    }\n\n    .dataframe thead th {\n        text-align: right;\n    }\n</style>\n<table border=\"1\" class=\"dataframe\">\n  <thead>\n    <tr style=\"text-align: right;\">\n      <th></th>\n      <th>NY_Station_Count</th>\n    </tr>\n  </thead>\n  <tbody>\n    <tr>\n      <th>count</th>\n      <td>924.000000</td>\n    </tr>\n    <tr>\n      <th>mean</th>\n      <td>3.221861</td>\n    </tr>\n    <tr>\n      <th>std</th>\n      <td>4.196103</td>\n    </tr>\n    <tr>\n      <th>min</th>\n      <td>1.000000</td>\n    </tr>\n    <tr>\n      <th>25%</th>\n      <td>1.000000</td>\n    </tr>\n    <tr>\n      <th>50%</th>\n      <td>2.000000</td>\n    </tr>\n    <tr>\n      <th>75%</th>\n      <td>4.000000</td>\n    </tr>\n    <tr>\n      <th>max</th>\n      <td>50.000000</td>\n    </tr>\n  </tbody>\n</table>\n</div>"
     },
     "execution_count": 191,
     "metadata": {},
     "output_type": "execute_result"
    }
   ]
  },
  {
   "cell_type": "code",
   "execution_count": 192,
   "outputs": [
    {
     "data": {
      "text/plain": "       TX_Station_Count\ncount        744.000000\nmean           3.116935\nstd            3.998456\nmin            1.000000\n25%            1.000000\n50%            2.000000\n75%            3.000000\nmax           43.000000",
      "text/html": "<div>\n<style scoped>\n    .dataframe tbody tr th:only-of-type {\n        vertical-align: middle;\n    }\n\n    .dataframe tbody tr th {\n        vertical-align: top;\n    }\n\n    .dataframe thead th {\n        text-align: right;\n    }\n</style>\n<table border=\"1\" class=\"dataframe\">\n  <thead>\n    <tr style=\"text-align: right;\">\n      <th></th>\n      <th>TX_Station_Count</th>\n    </tr>\n  </thead>\n  <tbody>\n    <tr>\n      <th>count</th>\n      <td>744.000000</td>\n    </tr>\n    <tr>\n      <th>mean</th>\n      <td>3.116935</td>\n    </tr>\n    <tr>\n      <th>std</th>\n      <td>3.998456</td>\n    </tr>\n    <tr>\n      <th>min</th>\n      <td>1.000000</td>\n    </tr>\n    <tr>\n      <th>25%</th>\n      <td>1.000000</td>\n    </tr>\n    <tr>\n      <th>50%</th>\n      <td>2.000000</td>\n    </tr>\n    <tr>\n      <th>75%</th>\n      <td>3.000000</td>\n    </tr>\n    <tr>\n      <th>max</th>\n      <td>43.000000</td>\n    </tr>\n  </tbody>\n</table>\n</div>"
     },
     "execution_count": 192,
     "metadata": {},
     "output_type": "execute_result"
    }
   ],
   "source": [
    "ev_station_count_tx_discribe = ev_station_count_tx[['Count']].describe()\n",
    "ev_station_count_tx_discribe = ev_station_count_tx_discribe.rename(columns={'Count': 'TX_Station_Count'})\n",
    "ev_station_count_tx_discribe"
   ],
   "metadata": {
    "collapsed": false,
    "pycharm": {
     "name": "#%%\n"
    }
   }
  },
  {
   "cell_type": "code",
   "execution_count": 193,
   "outputs": [
    {
     "data": {
      "text/plain": "       WA_Station_Count\ncount        441.000000\nmean           4.024943\nstd            6.619998\nmin            1.000000\n25%            1.000000\n50%            2.000000\n75%            4.000000\nmax           57.000000",
      "text/html": "<div>\n<style scoped>\n    .dataframe tbody tr th:only-of-type {\n        vertical-align: middle;\n    }\n\n    .dataframe tbody tr th {\n        vertical-align: top;\n    }\n\n    .dataframe thead th {\n        text-align: right;\n    }\n</style>\n<table border=\"1\" class=\"dataframe\">\n  <thead>\n    <tr style=\"text-align: right;\">\n      <th></th>\n      <th>WA_Station_Count</th>\n    </tr>\n  </thead>\n  <tbody>\n    <tr>\n      <th>count</th>\n      <td>441.000000</td>\n    </tr>\n    <tr>\n      <th>mean</th>\n      <td>4.024943</td>\n    </tr>\n    <tr>\n      <th>std</th>\n      <td>6.619998</td>\n    </tr>\n    <tr>\n      <th>min</th>\n      <td>1.000000</td>\n    </tr>\n    <tr>\n      <th>25%</th>\n      <td>1.000000</td>\n    </tr>\n    <tr>\n      <th>50%</th>\n      <td>2.000000</td>\n    </tr>\n    <tr>\n      <th>75%</th>\n      <td>4.000000</td>\n    </tr>\n    <tr>\n      <th>max</th>\n      <td>57.000000</td>\n    </tr>\n  </tbody>\n</table>\n</div>"
     },
     "execution_count": 193,
     "metadata": {},
     "output_type": "execute_result"
    }
   ],
   "source": [
    "ev_station_count_wa_discribe = ev_station_count_wa[['Count']].describe()\n",
    "ev_station_count_wa_discribe = ev_station_count_wa_discribe.rename(columns={'Count': 'WA_Station_Count'})\n",
    "ev_station_count_wa_discribe"
   ],
   "metadata": {
    "collapsed": false,
    "pycharm": {
     "name": "#%%\n"
    }
   }
  },
  {
   "cell_type": "code",
   "execution_count": 194,
   "outputs": [
    {
     "data": {
      "text/plain": "       NY_Station_Count  TX_Station_Count  WA_Station_Count\ncount        924.000000        744.000000        441.000000\nmean           3.221861          3.116935          4.024943\nstd            4.196103          3.998456          6.619998\nmin            1.000000          1.000000          1.000000\n25%            1.000000          1.000000          1.000000\n50%            2.000000          2.000000          2.000000\n75%            4.000000          3.000000          4.000000\nmax           50.000000         43.000000         57.000000",
      "text/html": "<div>\n<style scoped>\n    .dataframe tbody tr th:only-of-type {\n        vertical-align: middle;\n    }\n\n    .dataframe tbody tr th {\n        vertical-align: top;\n    }\n\n    .dataframe thead th {\n        text-align: right;\n    }\n</style>\n<table border=\"1\" class=\"dataframe\">\n  <thead>\n    <tr style=\"text-align: right;\">\n      <th></th>\n      <th>NY_Station_Count</th>\n      <th>TX_Station_Count</th>\n      <th>WA_Station_Count</th>\n    </tr>\n  </thead>\n  <tbody>\n    <tr>\n      <th>count</th>\n      <td>924.000000</td>\n      <td>744.000000</td>\n      <td>441.000000</td>\n    </tr>\n    <tr>\n      <th>mean</th>\n      <td>3.221861</td>\n      <td>3.116935</td>\n      <td>4.024943</td>\n    </tr>\n    <tr>\n      <th>std</th>\n      <td>4.196103</td>\n      <td>3.998456</td>\n      <td>6.619998</td>\n    </tr>\n    <tr>\n      <th>min</th>\n      <td>1.000000</td>\n      <td>1.000000</td>\n      <td>1.000000</td>\n    </tr>\n    <tr>\n      <th>25%</th>\n      <td>1.000000</td>\n      <td>1.000000</td>\n      <td>1.000000</td>\n    </tr>\n    <tr>\n      <th>50%</th>\n      <td>2.000000</td>\n      <td>2.000000</td>\n      <td>2.000000</td>\n    </tr>\n    <tr>\n      <th>75%</th>\n      <td>4.000000</td>\n      <td>3.000000</td>\n      <td>4.000000</td>\n    </tr>\n    <tr>\n      <th>max</th>\n      <td>50.000000</td>\n      <td>43.000000</td>\n      <td>57.000000</td>\n    </tr>\n  </tbody>\n</table>\n</div>"
     },
     "execution_count": 194,
     "metadata": {},
     "output_type": "execute_result"
    }
   ],
   "source": [
    "all_state_station_count_df = pd.concat([ev_station_count_ny_discribe, ev_station_count_tx_discribe, ev_station_count_wa_discribe],axis=1)\n",
    "all_state_station_count_df"
   ],
   "metadata": {
    "collapsed": false,
    "pycharm": {
     "name": "#%%\n"
    }
   }
  },
  {
   "cell_type": "markdown",
   "source": [
    "Descriptive Statistics of Station Count"
   ],
   "metadata": {
    "collapsed": false,
    "pycharm": {
     "name": "#%% md\n"
    }
   }
  },
  {
   "cell_type": "code",
   "source": [],
   "metadata": {
    "collapsed": false,
    "pycharm": {
     "name": "#%%\n"
    }
   },
   "execution_count": 194,
   "outputs": []
  },
  {
   "cell_type": "markdown",
   "source": [
    "Correlation analysis"
   ],
   "metadata": {
    "collapsed": false,
    "pycharm": {
     "name": "#%% md\n"
    }
   }
  },
  {
   "cell_type": "markdown",
   "source": [
    "All Three State Correlation Analysis"
   ],
   "metadata": {
    "collapsed": false,
    "pycharm": {
     "name": "#%% md\n"
    }
   }
  },
  {
   "cell_type": "code",
   "execution_count": 195,
   "outputs": [],
   "source": [
    "def merge_count_data(x_data, y_data, x_col_name, y_col_name):\n",
    "    \"\"\" Merge car_count_data and station_count_file\n",
    "\n",
    "    :param x_data: dataframe of x (count in each zip code)\n",
    "    :param y_data: dataframe of y (count in each zip code)\n",
    "    :param x_col_name: the column name in the dataframe x\n",
    "    :param y_col_name: the column name in the dataframe y\n",
    "    :return: a dataframe of the merging result\n",
    "    \"\"\"\n",
    "    merge_data = pd.merge(x_data, y_data, how='left', on='ZIP Code')\n",
    "    x_colume= merge_data.iloc[:,[1]]\n",
    "    y_colume= merge_data.iloc[:,[2]]\n",
    "    x_list= x_colume.columns.values.tolist()\n",
    "    y_list= y_colume.columns.values.tolist()\n",
    "    merge_data = merge_data.rename(columns={x_list[0]: x_col_name, y_list[0]: y_col_name})\n",
    "    merge_data = merge_data.fillna(0)\n",
    "    #ny_merge_data = ny_merge_data[['Station Count', 'Car Count']]\n",
    "    merge_data_clean = merge_data.drop(merge_data[merge_data[y_col_name] == 0].index)\n",
    "    return merge_data_clean"
   ],
   "metadata": {
    "collapsed": false,
    "pycharm": {
     "name": "#%%\n"
    }
   }
  },
  {
   "cell_type": "code",
   "execution_count": 196,
   "outputs": [],
   "source": [
    "def linear_model_main(data, x_str, y_str):\n",
    "    \"\"\" Show the linear regression plot of the relation of car_count and station_count in each zip code.\n",
    "\n",
    "    :param data: a dataframe of the merging file (car_count and ev-station_count)\n",
    "    :param x_str: the column name of x\n",
    "    :param y_str: the column name of y\n",
    "    :return: the linear regression plot\n",
    "    \"\"\"\n",
    "    x = data[[x_str]]\n",
    "    y = data[[y_str]]\n",
    "    x = x.values.reshape(-1, 1)\n",
    "    y = y.values.reshape(-1, 1)\n",
    "    model = LinearRegression()\n",
    "    model.fit(x, y)\n",
    "    plt.scatter(data[x_str],data[y_str])\n",
    "    y_train = model.predict(x)\n",
    "    plt.plot(x,y_train,color = 'red',label = 'line')\n",
    "    plt.ylabel(y_str)\n",
    "    plt.xlabel(x_str)\n",
    "    plt.show()"
   ],
   "metadata": {
    "collapsed": false,
    "pycharm": {
     "name": "#%%\n"
    }
   }
  },
  {
   "cell_type": "code",
   "execution_count": 197,
   "outputs": [],
   "source": [
    "all_car_count_df = pd.concat([ev_car_count_wa,ev_car_count_ny,ev_car_count_tx],axis=0)"
   ],
   "metadata": {
    "collapsed": false,
    "pycharm": {
     "name": "#%%\n"
    }
   }
  },
  {
   "cell_type": "code",
   "execution_count": 198,
   "outputs": [
    {
     "data": {
      "text/plain": "     ZIP Code  Count\n0       98052  69190\n1       98033  45620\n2       98115  43273\n3       98004  42905\n4       98006  41084\n...       ...    ...\n1645    76004      1\n1646    76097      1\n1647    75555      1\n1648    77548      1\n1649    79244      1\n\n[6329 rows x 2 columns]",
      "text/html": "<div>\n<style scoped>\n    .dataframe tbody tr th:only-of-type {\n        vertical-align: middle;\n    }\n\n    .dataframe tbody tr th {\n        vertical-align: top;\n    }\n\n    .dataframe thead th {\n        text-align: right;\n    }\n</style>\n<table border=\"1\" class=\"dataframe\">\n  <thead>\n    <tr style=\"text-align: right;\">\n      <th></th>\n      <th>ZIP Code</th>\n      <th>Count</th>\n    </tr>\n  </thead>\n  <tbody>\n    <tr>\n      <th>0</th>\n      <td>98052</td>\n      <td>69190</td>\n    </tr>\n    <tr>\n      <th>1</th>\n      <td>98033</td>\n      <td>45620</td>\n    </tr>\n    <tr>\n      <th>2</th>\n      <td>98115</td>\n      <td>43273</td>\n    </tr>\n    <tr>\n      <th>3</th>\n      <td>98004</td>\n      <td>42905</td>\n    </tr>\n    <tr>\n      <th>4</th>\n      <td>98006</td>\n      <td>41084</td>\n    </tr>\n    <tr>\n      <th>...</th>\n      <td>...</td>\n      <td>...</td>\n    </tr>\n    <tr>\n      <th>1645</th>\n      <td>76004</td>\n      <td>1</td>\n    </tr>\n    <tr>\n      <th>1646</th>\n      <td>76097</td>\n      <td>1</td>\n    </tr>\n    <tr>\n      <th>1647</th>\n      <td>75555</td>\n      <td>1</td>\n    </tr>\n    <tr>\n      <th>1648</th>\n      <td>77548</td>\n      <td>1</td>\n    </tr>\n    <tr>\n      <th>1649</th>\n      <td>79244</td>\n      <td>1</td>\n    </tr>\n  </tbody>\n</table>\n<p>6329 rows × 2 columns</p>\n</div>"
     },
     "execution_count": 198,
     "metadata": {},
     "output_type": "execute_result"
    }
   ],
   "source": [
    "all_car_count_df"
   ],
   "metadata": {
    "collapsed": false,
    "pycharm": {
     "name": "#%%\n"
    }
   }
  },
  {
   "cell_type": "code",
   "execution_count": 199,
   "outputs": [],
   "source": [
    "all_station_count_df = pd.concat([ev_station_count_wa,ev_station_count_ny,ev_station_count_tx],axis=0)"
   ],
   "metadata": {
    "collapsed": false,
    "pycharm": {
     "name": "#%%\n"
    }
   }
  },
  {
   "cell_type": "code",
   "execution_count": 200,
   "outputs": [],
   "source": [
    "all_population_data = pd.concat([us_zip_df_wa,us_zip_df_ny,us_zip_df_tx],axis=0)"
   ],
   "metadata": {
    "collapsed": false,
    "pycharm": {
     "name": "#%%\n"
    }
   }
  },
  {
   "cell_type": "code",
   "execution_count": 201,
   "outputs": [],
   "source": [
    "all_population_data = all_population_data.rename(columns={'zip':'ZIP Code'})"
   ],
   "metadata": {
    "collapsed": false,
    "pycharm": {
     "name": "#%%\n"
    }
   }
  },
  {
   "cell_type": "code",
   "execution_count": 202,
   "outputs": [
    {
     "data": {
      "text/plain": "    ZIP Code  Count\n0      98004     57\n1      98121     51\n2      98109     49\n3      98004     49\n4      99354     46\n..       ...    ...\n739    75207      1\n740    75672      1\n741    78504      1\n742    77802      1\n743    76825      1\n\n[2109 rows x 2 columns]",
      "text/html": "<div>\n<style scoped>\n    .dataframe tbody tr th:only-of-type {\n        vertical-align: middle;\n    }\n\n    .dataframe tbody tr th {\n        vertical-align: top;\n    }\n\n    .dataframe thead th {\n        text-align: right;\n    }\n</style>\n<table border=\"1\" class=\"dataframe\">\n  <thead>\n    <tr style=\"text-align: right;\">\n      <th></th>\n      <th>ZIP Code</th>\n      <th>Count</th>\n    </tr>\n  </thead>\n  <tbody>\n    <tr>\n      <th>0</th>\n      <td>98004</td>\n      <td>57</td>\n    </tr>\n    <tr>\n      <th>1</th>\n      <td>98121</td>\n      <td>51</td>\n    </tr>\n    <tr>\n      <th>2</th>\n      <td>98109</td>\n      <td>49</td>\n    </tr>\n    <tr>\n      <th>3</th>\n      <td>98004</td>\n      <td>49</td>\n    </tr>\n    <tr>\n      <th>4</th>\n      <td>99354</td>\n      <td>46</td>\n    </tr>\n    <tr>\n      <th>...</th>\n      <td>...</td>\n      <td>...</td>\n    </tr>\n    <tr>\n      <th>739</th>\n      <td>75207</td>\n      <td>1</td>\n    </tr>\n    <tr>\n      <th>740</th>\n      <td>75672</td>\n      <td>1</td>\n    </tr>\n    <tr>\n      <th>741</th>\n      <td>78504</td>\n      <td>1</td>\n    </tr>\n    <tr>\n      <th>742</th>\n      <td>77802</td>\n      <td>1</td>\n    </tr>\n    <tr>\n      <th>743</th>\n      <td>76825</td>\n      <td>1</td>\n    </tr>\n  </tbody>\n</table>\n<p>2109 rows × 2 columns</p>\n</div>"
     },
     "execution_count": 202,
     "metadata": {},
     "output_type": "execute_result"
    }
   ],
   "source": [
    "all_station_count_df"
   ],
   "metadata": {
    "collapsed": false,
    "pycharm": {
     "name": "#%%\n"
    }
   }
  },
  {
   "cell_type": "markdown",
   "source": [
    "The correlation between all_car_count and all_station_count"
   ],
   "metadata": {
    "collapsed": false,
    "pycharm": {
     "name": "#%% md\n"
    }
   }
  },
  {
   "cell_type": "code",
   "execution_count": 203,
   "outputs": [],
   "source": [
    "all_merge_data_car_station = merge_count_data(all_station_count_df,all_car_count_df,'Station Count','Car Count')"
   ],
   "metadata": {
    "collapsed": false,
    "pycharm": {
     "name": "#%%\n"
    }
   }
  },
  {
   "cell_type": "code",
   "execution_count": 204,
   "outputs": [
    {
     "data": {
      "text/plain": "     ZIP Code  Station Count  Car Count\n0       98004             57    42905.0\n1       98121             51    10804.0\n2       98109             49    23663.0\n5       98101             40        1.0\n12      98104             18    17446.0\n...       ...            ...        ...\n2121    76513              1     1070.0\n2122    75211              1      528.0\n2123    75207              1      329.0\n2125    78504              1        2.0\n2126    77802              1      467.0\n\n[1114 rows x 3 columns]",
      "text/html": "<div>\n<style scoped>\n    .dataframe tbody tr th:only-of-type {\n        vertical-align: middle;\n    }\n\n    .dataframe tbody tr th {\n        vertical-align: top;\n    }\n\n    .dataframe thead th {\n        text-align: right;\n    }\n</style>\n<table border=\"1\" class=\"dataframe\">\n  <thead>\n    <tr style=\"text-align: right;\">\n      <th></th>\n      <th>ZIP Code</th>\n      <th>Station Count</th>\n      <th>Car Count</th>\n    </tr>\n  </thead>\n  <tbody>\n    <tr>\n      <th>0</th>\n      <td>98004</td>\n      <td>57</td>\n      <td>42905.0</td>\n    </tr>\n    <tr>\n      <th>1</th>\n      <td>98121</td>\n      <td>51</td>\n      <td>10804.0</td>\n    </tr>\n    <tr>\n      <th>2</th>\n      <td>98109</td>\n      <td>49</td>\n      <td>23663.0</td>\n    </tr>\n    <tr>\n      <th>5</th>\n      <td>98101</td>\n      <td>40</td>\n      <td>1.0</td>\n    </tr>\n    <tr>\n      <th>12</th>\n      <td>98104</td>\n      <td>18</td>\n      <td>17446.0</td>\n    </tr>\n    <tr>\n      <th>...</th>\n      <td>...</td>\n      <td>...</td>\n      <td>...</td>\n    </tr>\n    <tr>\n      <th>2121</th>\n      <td>76513</td>\n      <td>1</td>\n      <td>1070.0</td>\n    </tr>\n    <tr>\n      <th>2122</th>\n      <td>75211</td>\n      <td>1</td>\n      <td>528.0</td>\n    </tr>\n    <tr>\n      <th>2123</th>\n      <td>75207</td>\n      <td>1</td>\n      <td>329.0</td>\n    </tr>\n    <tr>\n      <th>2125</th>\n      <td>78504</td>\n      <td>1</td>\n      <td>2.0</td>\n    </tr>\n    <tr>\n      <th>2126</th>\n      <td>77802</td>\n      <td>1</td>\n      <td>467.0</td>\n    </tr>\n  </tbody>\n</table>\n<p>1114 rows × 3 columns</p>\n</div>"
     },
     "execution_count": 204,
     "metadata": {},
     "output_type": "execute_result"
    }
   ],
   "source": [
    "all_merge_data_car_station"
   ],
   "metadata": {
    "collapsed": false,
    "pycharm": {
     "name": "#%%\n"
    }
   }
  },
  {
   "cell_type": "code",
   "execution_count": 205,
   "outputs": [],
   "source": [
    "linear_model_main(all_merge_data_car_station,'Station Count','Car Count')"
   ],
   "metadata": {
    "collapsed": false,
    "pycharm": {
     "name": "#%%\n"
    }
   }
  },
  {
   "cell_type": "code",
   "execution_count": 206,
   "outputs": [
    {
     "data": {
      "text/plain": "<AxesSubplot:>"
     },
     "execution_count": 206,
     "metadata": {},
     "output_type": "execute_result"
    }
   ],
   "source": [
    "corr_all = all_merge_data_car_station[['Station Count','Car Count']].corr()\n",
    "sns.heatmap(corr_all, cmap ='Blues', square = True, annot = True)"
   ],
   "metadata": {
    "collapsed": false,
    "pycharm": {
     "name": "#%%\n"
    }
   }
  },
  {
   "cell_type": "markdown",
   "source": [
    "The correlation between all_car_count and all_population_count"
   ],
   "metadata": {
    "collapsed": false,
    "pycharm": {
     "name": "#%% md\n"
    }
   }
  },
  {
   "cell_type": "code",
   "execution_count": 136,
   "outputs": [
    {
     "data": {
      "text/plain": "       ZIP Code  population\n32938     98001     34455.0\n32939     98002     33947.0\n32940     98003     49445.0\n32941     98004     37265.0\n32942     98005     21414.0\n...         ...         ...\n28344     79932     28893.0\n28345     79934     26360.0\n28346     79935     18546.0\n28347     79936    108668.0\n28348     79938     83326.0\n\n[4421 rows x 2 columns]",
      "text/html": "<div>\n<style scoped>\n    .dataframe tbody tr th:only-of-type {\n        vertical-align: middle;\n    }\n\n    .dataframe tbody tr th {\n        vertical-align: top;\n    }\n\n    .dataframe thead th {\n        text-align: right;\n    }\n</style>\n<table border=\"1\" class=\"dataframe\">\n  <thead>\n    <tr style=\"text-align: right;\">\n      <th></th>\n      <th>ZIP Code</th>\n      <th>population</th>\n    </tr>\n  </thead>\n  <tbody>\n    <tr>\n      <th>32938</th>\n      <td>98001</td>\n      <td>34455.0</td>\n    </tr>\n    <tr>\n      <th>32939</th>\n      <td>98002</td>\n      <td>33947.0</td>\n    </tr>\n    <tr>\n      <th>32940</th>\n      <td>98003</td>\n      <td>49445.0</td>\n    </tr>\n    <tr>\n      <th>32941</th>\n      <td>98004</td>\n      <td>37265.0</td>\n    </tr>\n    <tr>\n      <th>32942</th>\n      <td>98005</td>\n      <td>21414.0</td>\n    </tr>\n    <tr>\n      <th>...</th>\n      <td>...</td>\n      <td>...</td>\n    </tr>\n    <tr>\n      <th>28344</th>\n      <td>79932</td>\n      <td>28893.0</td>\n    </tr>\n    <tr>\n      <th>28345</th>\n      <td>79934</td>\n      <td>26360.0</td>\n    </tr>\n    <tr>\n      <th>28346</th>\n      <td>79935</td>\n      <td>18546.0</td>\n    </tr>\n    <tr>\n      <th>28347</th>\n      <td>79936</td>\n      <td>108668.0</td>\n    </tr>\n    <tr>\n      <th>28348</th>\n      <td>79938</td>\n      <td>83326.0</td>\n    </tr>\n  </tbody>\n</table>\n<p>4421 rows × 2 columns</p>\n</div>"
     },
     "execution_count": 136,
     "metadata": {},
     "output_type": "execute_result"
    }
   ],
   "source": [
    "all_population_data"
   ],
   "metadata": {
    "collapsed": false,
    "pycharm": {
     "name": "#%%\n"
    }
   }
  },
  {
   "cell_type": "code",
   "execution_count": 137,
   "outputs": [],
   "source": [
    "all_merge_data_car_pop = merge_count_data(all_population_data,all_car_count_df,'Population','Car Count')"
   ],
   "metadata": {
    "collapsed": false,
    "pycharm": {
     "name": "#%%\n"
    }
   }
  },
  {
   "cell_type": "code",
   "execution_count": 138,
   "outputs": [
    {
     "data": {
      "text/plain": "      ZIP Code  Population  Car Count\n7        98008     25650.0        1.0\n19       98026     38292.0        3.0\n20       98027     30240.0        1.0\n22       98029     29956.0        1.0\n26       98033     39802.0        9.0\n...        ...         ...        ...\n4013     78738     15090.0        1.0\n4019     78746     27671.0       14.0\n4023     78750     33860.0        1.0\n4028     78756      9450.0        1.0\n4413     79927     42221.0        1.0\n\n[1772 rows x 3 columns]",
      "text/html": "<div>\n<style scoped>\n    .dataframe tbody tr th:only-of-type {\n        vertical-align: middle;\n    }\n\n    .dataframe tbody tr th {\n        vertical-align: top;\n    }\n\n    .dataframe thead th {\n        text-align: right;\n    }\n</style>\n<table border=\"1\" class=\"dataframe\">\n  <thead>\n    <tr style=\"text-align: right;\">\n      <th></th>\n      <th>ZIP Code</th>\n      <th>Population</th>\n      <th>Car Count</th>\n    </tr>\n  </thead>\n  <tbody>\n    <tr>\n      <th>7</th>\n      <td>98008</td>\n      <td>25650.0</td>\n      <td>1.0</td>\n    </tr>\n    <tr>\n      <th>19</th>\n      <td>98026</td>\n      <td>38292.0</td>\n      <td>3.0</td>\n    </tr>\n    <tr>\n      <th>20</th>\n      <td>98027</td>\n      <td>30240.0</td>\n      <td>1.0</td>\n    </tr>\n    <tr>\n      <th>22</th>\n      <td>98029</td>\n      <td>29956.0</td>\n      <td>1.0</td>\n    </tr>\n    <tr>\n      <th>26</th>\n      <td>98033</td>\n      <td>39802.0</td>\n      <td>9.0</td>\n    </tr>\n    <tr>\n      <th>...</th>\n      <td>...</td>\n      <td>...</td>\n      <td>...</td>\n    </tr>\n    <tr>\n      <th>4013</th>\n      <td>78738</td>\n      <td>15090.0</td>\n      <td>1.0</td>\n    </tr>\n    <tr>\n      <th>4019</th>\n      <td>78746</td>\n      <td>27671.0</td>\n      <td>14.0</td>\n    </tr>\n    <tr>\n      <th>4023</th>\n      <td>78750</td>\n      <td>33860.0</td>\n      <td>1.0</td>\n    </tr>\n    <tr>\n      <th>4028</th>\n      <td>78756</td>\n      <td>9450.0</td>\n      <td>1.0</td>\n    </tr>\n    <tr>\n      <th>4413</th>\n      <td>79927</td>\n      <td>42221.0</td>\n      <td>1.0</td>\n    </tr>\n  </tbody>\n</table>\n<p>1772 rows × 3 columns</p>\n</div>"
     },
     "execution_count": 138,
     "metadata": {},
     "output_type": "execute_result"
    }
   ],
   "source": [
    "all_merge_data_car_pop"
   ],
   "metadata": {
    "collapsed": false,
    "pycharm": {
     "name": "#%%\n"
    }
   }
  },
  {
   "cell_type": "code",
   "execution_count": 139,
   "outputs": [],
   "source": [
    "linear_model_main(all_merge_data_car_pop,'Population','Car Count')"
   ],
   "metadata": {
    "collapsed": false,
    "pycharm": {
     "name": "#%%\n"
    }
   }
  },
  {
   "cell_type": "code",
   "execution_count": 140,
   "outputs": [
    {
     "data": {
      "text/plain": "<AxesSubplot:>"
     },
     "execution_count": 140,
     "metadata": {},
     "output_type": "execute_result"
    }
   ],
   "source": [
    "corr_all = all_merge_data_car_pop[['Population','Car Count']].corr()\n",
    "sns.heatmap(corr_all, cmap ='Blues', square = True, annot = True)"
   ],
   "metadata": {
    "collapsed": false,
    "pycharm": {
     "name": "#%%\n"
    }
   }
  },
  {
   "cell_type": "markdown",
   "source": [
    "New York State Correlation analysis"
   ],
   "metadata": {
    "collapsed": false,
    "pycharm": {
     "name": "#%% md\n"
    }
   }
  },
  {
   "cell_type": "code",
   "execution_count": 141,
   "outputs": [],
   "source": [
    "merge_data_clean_ny = merge_count_data(ev_station_count_ny,ev_car_count_ny,'Station Count','Car Count')"
   ],
   "metadata": {
    "collapsed": false,
    "pycharm": {
     "name": "#%%\n"
    }
   }
  },
  {
   "cell_type": "code",
   "execution_count": 142,
   "outputs": [],
   "source": [
    "linear_model_main(merge_data_clean_ny,'Station Count','Car Count')"
   ],
   "metadata": {
    "collapsed": false,
    "pycharm": {
     "name": "#%%\n"
    }
   }
  },
  {
   "cell_type": "code",
   "execution_count": 143,
   "outputs": [
    {
     "data": {
      "text/plain": "<AxesSubplot:>"
     },
     "execution_count": 143,
     "metadata": {},
     "output_type": "execute_result"
    }
   ],
   "source": [
    "corr_ny = merge_data_clean_ny[['Station Count','Car Count']].corr()\n",
    "sns.heatmap(corr_ny, cmap ='Blues', square = True, annot = True)"
   ],
   "metadata": {
    "collapsed": false,
    "pycharm": {
     "name": "#%%\n"
    }
   }
  },
  {
   "cell_type": "markdown",
   "source": [
    "Texas State Correlation Analysis"
   ],
   "metadata": {
    "collapsed": false,
    "pycharm": {
     "name": "#%% md\n"
    }
   }
  },
  {
   "cell_type": "code",
   "execution_count": 144,
   "outputs": [],
   "source": [
    "merge_data_clean_tx = merge_count_data(ev_station_count_tx,ev_car_count_tx,'Station Count','Car Count')"
   ],
   "metadata": {
    "collapsed": false,
    "pycharm": {
     "name": "#%%\n"
    }
   }
  },
  {
   "cell_type": "code",
   "execution_count": 145,
   "outputs": [
    {
     "data": {
      "text/plain": "276"
     },
     "execution_count": 145,
     "metadata": {},
     "output_type": "execute_result"
    }
   ],
   "source": [
    "len(merge_data_clean_tx)"
   ],
   "metadata": {
    "collapsed": false,
    "pycharm": {
     "name": "#%%\n"
    }
   }
  },
  {
   "cell_type": "code",
   "execution_count": 146,
   "outputs": [],
   "source": [
    "linear_model_main(merge_data_clean_tx,'Station Count','Car Count')"
   ],
   "metadata": {
    "collapsed": false,
    "pycharm": {
     "name": "#%%\n"
    }
   }
  },
  {
   "cell_type": "code",
   "execution_count": 147,
   "outputs": [
    {
     "data": {
      "text/plain": "<AxesSubplot:>"
     },
     "execution_count": 147,
     "metadata": {},
     "output_type": "execute_result"
    }
   ],
   "source": [
    "corr_tx = merge_data_clean_tx[['Station Count','Car Count']].corr()\n",
    "sns.heatmap(corr_tx, cmap ='Blues', square = True, annot = True)"
   ],
   "metadata": {
    "collapsed": false,
    "pycharm": {
     "name": "#%%\n"
    }
   }
  },
  {
   "cell_type": "markdown",
   "source": [
    "Washington State Correlation Analysis"
   ],
   "metadata": {
    "collapsed": false,
    "pycharm": {
     "name": "#%% md\n"
    }
   }
  },
  {
   "cell_type": "code",
   "execution_count": 148,
   "outputs": [],
   "source": [
    "merge_data_clean_wa = merge_count_data(ev_station_count_wa,ev_car_count_wa,'Station Count','Car Count')"
   ],
   "metadata": {
    "collapsed": false,
    "pycharm": {
     "name": "#%%\n"
    }
   }
  },
  {
   "cell_type": "code",
   "execution_count": 149,
   "outputs": [
    {
     "data": {
      "text/plain": "181"
     },
     "execution_count": 149,
     "metadata": {},
     "output_type": "execute_result"
    }
   ],
   "source": [
    "len(merge_data_clean_wa)"
   ],
   "metadata": {
    "collapsed": false,
    "pycharm": {
     "name": "#%%\n"
    }
   }
  },
  {
   "cell_type": "code",
   "execution_count": 150,
   "outputs": [],
   "source": [
    "linear_model_main(merge_data_clean_wa,'Station Count','Car Count')"
   ],
   "metadata": {
    "collapsed": false,
    "pycharm": {
     "name": "#%%\n"
    }
   }
  },
  {
   "cell_type": "code",
   "execution_count": 151,
   "outputs": [
    {
     "data": {
      "text/plain": "<AxesSubplot:>"
     },
     "execution_count": 151,
     "metadata": {},
     "output_type": "execute_result"
    }
   ],
   "source": [
    "corr_wa = merge_data_clean_wa[['Station Count','Car Count']].corr()\n",
    "sns.heatmap(corr_wa, cmap ='Blues', square = True, annot = True)"
   ],
   "metadata": {
    "collapsed": false,
    "pycharm": {
     "name": "#%%\n"
    }
   }
  },
  {
   "cell_type": "markdown",
   "source": [
    "The correlation between car_count and population_count"
   ],
   "metadata": {
    "collapsed": false,
    "pycharm": {
     "name": "#%% md\n"
    }
   }
  },
  {
   "cell_type": "markdown",
   "source": [
    "New York State Correlation Analysis"
   ],
   "metadata": {
    "collapsed": false,
    "pycharm": {
     "name": "#%% md\n"
    }
   }
  },
  {
   "cell_type": "code",
   "execution_count": 77,
   "outputs": [],
   "source": [
    "merge_data_car_pop_ny = merge_count_data(us_zip_df_ny,ev_car_count_ny,'Population','Car Count')"
   ],
   "metadata": {
    "collapsed": false,
    "pycharm": {
     "name": "#%%\n"
    }
   }
  },
  {
   "cell_type": "code",
   "execution_count": 78,
   "outputs": [],
   "source": [
    "linear_model_main(merge_data_car_pop_ny,'Population','Car Count')"
   ],
   "metadata": {
    "collapsed": false,
    "pycharm": {
     "name": "#%%\n"
    }
   }
  },
  {
   "cell_type": "code",
   "execution_count": 79,
   "outputs": [
    {
     "data": {
      "text/plain": "<AxesSubplot:>"
     },
     "execution_count": 79,
     "metadata": {},
     "output_type": "execute_result"
    }
   ],
   "source": [
    "corr_ny = merge_data_car_pop_ny[['Population','Car Count']].corr()\n",
    "sns.heatmap(corr_ny, cmap ='Blues', square = True, annot = True)"
   ],
   "metadata": {
    "collapsed": false,
    "pycharm": {
     "name": "#%%\n"
    }
   }
  },
  {
   "cell_type": "markdown",
   "source": [
    "Texas State Correlation Analysis"
   ],
   "metadata": {
    "collapsed": false,
    "pycharm": {
     "name": "#%% md\n"
    }
   }
  },
  {
   "cell_type": "code",
   "execution_count": 523,
   "outputs": [],
   "source": [
    "# merge_data_car_pop_tx = merge_count_data(us_zip_df_tx, ev_car_count_tx, 'Population', 'Car Count')\n",
    "# linear_model_main(merge_data_car_pop_tx, 'Population', 'Car Count')"
   ],
   "metadata": {
    "collapsed": false,
    "pycharm": {
     "name": "#%%\n"
    }
   }
  },
  {
   "cell_type": "markdown",
   "source": [
    "Washington State Correlation Analysis"
   ],
   "metadata": {
    "collapsed": false,
    "pycharm": {
     "name": "#%% md\n"
    }
   }
  },
  {
   "cell_type": "code",
   "execution_count": 524,
   "outputs": [],
   "source": [
    "# merge_data_car_pop_wa = merge_count_data(us_zip_df_wa, ev_car_count_wa, 'Population', 'Car Count')\n",
    "# linear_model_main(merge_data_car_pop_wa, 'Population', 'Car Count')"
   ],
   "metadata": {
    "collapsed": false,
    "pycharm": {
     "name": "#%%\n"
    }
   }
  }
 ],
 "metadata": {
  "kernelspec": {
   "display_name": "Python 3",
   "language": "python",
   "name": "python3"
  },
  "language_info": {
   "codemirror_mode": {
    "name": "ipython",
    "version": 2
   },
   "file_extension": ".py",
   "mimetype": "text/x-python",
   "name": "python",
   "nbconvert_exporter": "python",
   "pygments_lexer": "ipython2",
   "version": "2.7.6"
  }
 },
 "nbformat": 4,
 "nbformat_minor": 0
}