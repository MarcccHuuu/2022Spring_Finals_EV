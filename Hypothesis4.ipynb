{
 "cells": [
  {
   "cell_type": "code",
   "execution_count": 1,
   "metadata": {
    "collapsed": true
   },
   "outputs": [],
   "source": [
    "import pandas as pd\n",
    "from pandas import DataFrame\n",
    "import os.path\n",
    "import matplotlib.pyplot as plt\n",
    "from pylab import *\n",
    "from sklearn.linear_model import LinearRegression\n",
    "import numpy as np\n",
    "import seaborn as sns"
   ]
  },
  {
   "cell_type": "code",
   "execution_count": 16,
   "outputs": [],
   "source": [
    "us_zip_df = pd.read_csv('data/uszips.csv')\n",
    "us_zip_df = DataFrame(us_zip_df)\n",
    "us_zip_df = us_zip_df[['zip', 'state_id', 'population']]"
   ],
   "metadata": {
    "collapsed": false,
    "pycharm": {
     "name": "#%%\n"
    }
   }
  },
  {
   "cell_type": "code",
   "execution_count": 17,
   "outputs": [],
   "source": [
    "us_zip_df = pd.read_csv('data/uszips.csv')\n",
    "us_zip_df = DataFrame(us_zip_df)\n",
    "us_zip_df = us_zip_df[['zip', 'state_id', 'population', 'density']]\n",
    "\n",
    "us_zip_df_ny = us_zip_df[us_zip_df['state_id'] == 'NY']\n",
    "us_zip_df_ny = us_zip_df_ny[['zip', 'population', 'density']]\n",
    "us_zip_df_ny = us_zip_df_ny.rename(columns={'zip': 'ZIP Code'})\n",
    "\n",
    "us_zip_df_tx = us_zip_df[us_zip_df['state_id'] == 'TX']\n",
    "us_zip_df_tx = us_zip_df_tx[['zip', 'population']]\n",
    "us_zip_df_tx = us_zip_df_tx.rename(columns={'zip': 'ZIP Code'})\n",
    "us_zip_df_tx = us_zip_df_tx.fillna(0, inplace=True)\n",
    "\n",
    "us_zip_df_wa = us_zip_df[us_zip_df['state_id'] == 'WA']\n",
    "us_zip_df_wa = us_zip_df_wa[['zip', 'population']]\n",
    "us_zip_df_wa = us_zip_df_wa.rename(columns={'zip': 'ZIP Code'})\n",
    "\n",
    "us_zip_df_wa = us_zip_df_wa.fillna(0, inplace=True)"
   ],
   "metadata": {
    "collapsed": false,
    "pycharm": {
     "name": "#%%\n"
    }
   }
  },
  {
   "cell_type": "code",
   "execution_count": 18,
   "outputs": [
    {
     "data": {
      "text/plain": "      ZIP Code  population  density        area\n1839      6390        61.0      5.8   10.517241\n2583     10001     25026.0  15489.3    1.615696\n2584     10002     74363.0  34916.7    2.129726\n2585     10003     54671.0  36928.8    1.480443\n2586     10004      3310.0   2805.2    1.179952\n...        ...         ...      ...         ...\n4403     14898      1772.0     11.2  158.214286\n4404     14901     15581.0    181.2   85.987859\n4405     14903      7186.0    128.2   56.053042\n4406     14904     15109.0    904.6   16.702410\n4407     14905      8330.0    866.8    9.610060\n\n[1826 rows x 4 columns]",
      "text/html": "<div>\n<style scoped>\n    .dataframe tbody tr th:only-of-type {\n        vertical-align: middle;\n    }\n\n    .dataframe tbody tr th {\n        vertical-align: top;\n    }\n\n    .dataframe thead th {\n        text-align: right;\n    }\n</style>\n<table border=\"1\" class=\"dataframe\">\n  <thead>\n    <tr style=\"text-align: right;\">\n      <th></th>\n      <th>ZIP Code</th>\n      <th>population</th>\n      <th>density</th>\n      <th>area</th>\n    </tr>\n  </thead>\n  <tbody>\n    <tr>\n      <th>1839</th>\n      <td>6390</td>\n      <td>61.0</td>\n      <td>5.8</td>\n      <td>10.517241</td>\n    </tr>\n    <tr>\n      <th>2583</th>\n      <td>10001</td>\n      <td>25026.0</td>\n      <td>15489.3</td>\n      <td>1.615696</td>\n    </tr>\n    <tr>\n      <th>2584</th>\n      <td>10002</td>\n      <td>74363.0</td>\n      <td>34916.7</td>\n      <td>2.129726</td>\n    </tr>\n    <tr>\n      <th>2585</th>\n      <td>10003</td>\n      <td>54671.0</td>\n      <td>36928.8</td>\n      <td>1.480443</td>\n    </tr>\n    <tr>\n      <th>2586</th>\n      <td>10004</td>\n      <td>3310.0</td>\n      <td>2805.2</td>\n      <td>1.179952</td>\n    </tr>\n    <tr>\n      <th>...</th>\n      <td>...</td>\n      <td>...</td>\n      <td>...</td>\n      <td>...</td>\n    </tr>\n    <tr>\n      <th>4403</th>\n      <td>14898</td>\n      <td>1772.0</td>\n      <td>11.2</td>\n      <td>158.214286</td>\n    </tr>\n    <tr>\n      <th>4404</th>\n      <td>14901</td>\n      <td>15581.0</td>\n      <td>181.2</td>\n      <td>85.987859</td>\n    </tr>\n    <tr>\n      <th>4405</th>\n      <td>14903</td>\n      <td>7186.0</td>\n      <td>128.2</td>\n      <td>56.053042</td>\n    </tr>\n    <tr>\n      <th>4406</th>\n      <td>14904</td>\n      <td>15109.0</td>\n      <td>904.6</td>\n      <td>16.702410</td>\n    </tr>\n    <tr>\n      <th>4407</th>\n      <td>14905</td>\n      <td>8330.0</td>\n      <td>866.8</td>\n      <td>9.610060</td>\n    </tr>\n  </tbody>\n</table>\n<p>1826 rows × 4 columns</p>\n</div>"
     },
     "execution_count": 18,
     "metadata": {},
     "output_type": "execute_result"
    }
   ],
   "source": [
    "us_zip_df_ny['area'] = us_zip_df_ny['population'] / us_zip_df['density']\n",
    "us_zip_df_ny"
   ],
   "metadata": {
    "collapsed": false,
    "pycharm": {
     "name": "#%%\n"
    }
   }
  },
  {
   "cell_type": "code",
   "execution_count": 19,
   "outputs": [
    {
     "name": "stderr",
     "output_type": "stream",
     "text": [
      "/Users/hyc/opt/anaconda3/lib/python3.9/site-packages/IPython/core/interactiveshell.py:3444: DtypeWarning: Columns (6,20) have mixed types.Specify dtype option on import or set low_memory=False.\n",
      "  exec(code_obj, self.user_global_ns, self.user_ns)\n"
     ]
    }
   ],
   "source": [
    "ev_station_data = pd.read_csv('data/ev_stations_v1.csv')\n",
    "ev_station_data = DataFrame(ev_station_data)"
   ],
   "metadata": {
    "collapsed": false,
    "pycharm": {
     "name": "#%%\n"
    }
   }
  },
  {
   "cell_type": "code",
   "execution_count": 20,
   "outputs": [
    {
     "data": {
      "text/plain": "  Fuel Type Code                       Station Name         Street Address  \\\n0           ELEC           LADWP - Truesdale Center     11797 Truesdale St   \n1           ELEC    LADWP - West LA District Office  1394 S Sepulveda Blvd   \n2           ELEC      Los Angeles Convention Center     1201 S Figueroa St   \n3           ELEC      LADWP - John Ferraro Building          111 N Hope St   \n4           ELEC         LADWP - Haynes Power Plant          6801 E 2nd St   \n5           ELEC       State Capitol Parking Garage           1303 10th St   \n6           ELEC  LADWP - Harbor Generating Station       161 N Island Ave   \n7           ELEC                LADWP - Sylmar West   13201 Sepulveda Blvd   \n8           ELEC          LADWP - EV Service Center         1630 N Main St   \n9           ELEC             LADWP - Fairfax Center     2311 S Fairfax Ave   \n\n    Intersection Directions         City State    ZIP  Plus4 Station Phone  \\\n0                       NaN   Sun Valley    CA  91352    NaN           NaN   \n1                       NaN  Los Angeles    CA  90024    NaN           NaN   \n2  West hall and South hall  Los Angeles    CA  90015    NaN  213-741-1151   \n3               Across Hope  Los Angeles    CA  90012    NaN           NaN   \n4                       NaN   Long Beach    CA  90803    NaN           NaN   \n5          At 12th and N St   Sacramento    CA  95814    NaN           NaN   \n6                   At B St   Wilmington    CA  90744    NaN           NaN   \n7                       NaN       Sylmar    CA  91342    NaN           NaN   \n8                       NaN  Los Angeles    CA  90012    NaN           NaN   \n9                       NaN  Los Angeles    CA  90016    NaN           NaN   \n\n  Status Code  ... EV Pricing (French) LPG Nozzle Types Hydrogen Pressures  \\\n0           E  ...                 NaN              NaN                NaN   \n1           E  ...                 NaN              NaN                NaN   \n2           E  ...                 NaN              NaN                NaN   \n3           E  ...                 NaN              NaN                NaN   \n4           E  ...                 NaN              NaN                NaN   \n5           E  ...                 NaN              NaN                NaN   \n6           E  ...                 NaN              NaN                NaN   \n7           E  ...                 NaN              NaN                NaN   \n8           E  ...                 NaN              NaN                NaN   \n9           E  ...                 NaN              NaN                NaN   \n\n  Hydrogen Standards  CNG Fill Type Code  CNG PSI  CNG Vehicle Class  \\\n0                NaN                 NaN      NaN                NaN   \n1                NaN                 NaN      NaN                NaN   \n2                NaN                 NaN      NaN                NaN   \n3                NaN                 NaN      NaN                NaN   \n4                NaN                 NaN      NaN                NaN   \n5                NaN                 NaN      NaN                NaN   \n6                NaN                 NaN      NaN                NaN   \n7                NaN                 NaN      NaN                NaN   \n8                NaN                 NaN      NaN                NaN   \n9                NaN                 NaN      NaN                NaN   \n\n   LNG Vehicle Class  EV On-Site Renewable Source  Restricted Access  \n0                NaN                          NaN                NaN  \n1                NaN                          NaN                NaN  \n2                NaN                          NaN                NaN  \n3                NaN                          NaN                NaN  \n4                NaN                          NaN                NaN  \n5                NaN                          NaN                NaN  \n6                NaN                          NaN                NaN  \n7                NaN                          NaN                NaN  \n8                NaN                          NaN                NaN  \n9                NaN                          NaN                NaN  \n\n[10 rows x 65 columns]",
      "text/html": "<div>\n<style scoped>\n    .dataframe tbody tr th:only-of-type {\n        vertical-align: middle;\n    }\n\n    .dataframe tbody tr th {\n        vertical-align: top;\n    }\n\n    .dataframe thead th {\n        text-align: right;\n    }\n</style>\n<table border=\"1\" class=\"dataframe\">\n  <thead>\n    <tr style=\"text-align: right;\">\n      <th></th>\n      <th>Fuel Type Code</th>\n      <th>Station Name</th>\n      <th>Street Address</th>\n      <th>Intersection Directions</th>\n      <th>City</th>\n      <th>State</th>\n      <th>ZIP</th>\n      <th>Plus4</th>\n      <th>Station Phone</th>\n      <th>Status Code</th>\n      <th>...</th>\n      <th>EV Pricing (French)</th>\n      <th>LPG Nozzle Types</th>\n      <th>Hydrogen Pressures</th>\n      <th>Hydrogen Standards</th>\n      <th>CNG Fill Type Code</th>\n      <th>CNG PSI</th>\n      <th>CNG Vehicle Class</th>\n      <th>LNG Vehicle Class</th>\n      <th>EV On-Site Renewable Source</th>\n      <th>Restricted Access</th>\n    </tr>\n  </thead>\n  <tbody>\n    <tr>\n      <th>0</th>\n      <td>ELEC</td>\n      <td>LADWP - Truesdale Center</td>\n      <td>11797 Truesdale St</td>\n      <td>NaN</td>\n      <td>Sun Valley</td>\n      <td>CA</td>\n      <td>91352</td>\n      <td>NaN</td>\n      <td>NaN</td>\n      <td>E</td>\n      <td>...</td>\n      <td>NaN</td>\n      <td>NaN</td>\n      <td>NaN</td>\n      <td>NaN</td>\n      <td>NaN</td>\n      <td>NaN</td>\n      <td>NaN</td>\n      <td>NaN</td>\n      <td>NaN</td>\n      <td>NaN</td>\n    </tr>\n    <tr>\n      <th>1</th>\n      <td>ELEC</td>\n      <td>LADWP - West LA District Office</td>\n      <td>1394 S Sepulveda Blvd</td>\n      <td>NaN</td>\n      <td>Los Angeles</td>\n      <td>CA</td>\n      <td>90024</td>\n      <td>NaN</td>\n      <td>NaN</td>\n      <td>E</td>\n      <td>...</td>\n      <td>NaN</td>\n      <td>NaN</td>\n      <td>NaN</td>\n      <td>NaN</td>\n      <td>NaN</td>\n      <td>NaN</td>\n      <td>NaN</td>\n      <td>NaN</td>\n      <td>NaN</td>\n      <td>NaN</td>\n    </tr>\n    <tr>\n      <th>2</th>\n      <td>ELEC</td>\n      <td>Los Angeles Convention Center</td>\n      <td>1201 S Figueroa St</td>\n      <td>West hall and South hall</td>\n      <td>Los Angeles</td>\n      <td>CA</td>\n      <td>90015</td>\n      <td>NaN</td>\n      <td>213-741-1151</td>\n      <td>E</td>\n      <td>...</td>\n      <td>NaN</td>\n      <td>NaN</td>\n      <td>NaN</td>\n      <td>NaN</td>\n      <td>NaN</td>\n      <td>NaN</td>\n      <td>NaN</td>\n      <td>NaN</td>\n      <td>NaN</td>\n      <td>NaN</td>\n    </tr>\n    <tr>\n      <th>3</th>\n      <td>ELEC</td>\n      <td>LADWP - John Ferraro Building</td>\n      <td>111 N Hope St</td>\n      <td>Across Hope</td>\n      <td>Los Angeles</td>\n      <td>CA</td>\n      <td>90012</td>\n      <td>NaN</td>\n      <td>NaN</td>\n      <td>E</td>\n      <td>...</td>\n      <td>NaN</td>\n      <td>NaN</td>\n      <td>NaN</td>\n      <td>NaN</td>\n      <td>NaN</td>\n      <td>NaN</td>\n      <td>NaN</td>\n      <td>NaN</td>\n      <td>NaN</td>\n      <td>NaN</td>\n    </tr>\n    <tr>\n      <th>4</th>\n      <td>ELEC</td>\n      <td>LADWP - Haynes Power Plant</td>\n      <td>6801 E 2nd St</td>\n      <td>NaN</td>\n      <td>Long Beach</td>\n      <td>CA</td>\n      <td>90803</td>\n      <td>NaN</td>\n      <td>NaN</td>\n      <td>E</td>\n      <td>...</td>\n      <td>NaN</td>\n      <td>NaN</td>\n      <td>NaN</td>\n      <td>NaN</td>\n      <td>NaN</td>\n      <td>NaN</td>\n      <td>NaN</td>\n      <td>NaN</td>\n      <td>NaN</td>\n      <td>NaN</td>\n    </tr>\n    <tr>\n      <th>5</th>\n      <td>ELEC</td>\n      <td>State Capitol Parking Garage</td>\n      <td>1303 10th St</td>\n      <td>At 12th and N St</td>\n      <td>Sacramento</td>\n      <td>CA</td>\n      <td>95814</td>\n      <td>NaN</td>\n      <td>NaN</td>\n      <td>E</td>\n      <td>...</td>\n      <td>NaN</td>\n      <td>NaN</td>\n      <td>NaN</td>\n      <td>NaN</td>\n      <td>NaN</td>\n      <td>NaN</td>\n      <td>NaN</td>\n      <td>NaN</td>\n      <td>NaN</td>\n      <td>NaN</td>\n    </tr>\n    <tr>\n      <th>6</th>\n      <td>ELEC</td>\n      <td>LADWP - Harbor Generating Station</td>\n      <td>161 N Island Ave</td>\n      <td>At B St</td>\n      <td>Wilmington</td>\n      <td>CA</td>\n      <td>90744</td>\n      <td>NaN</td>\n      <td>NaN</td>\n      <td>E</td>\n      <td>...</td>\n      <td>NaN</td>\n      <td>NaN</td>\n      <td>NaN</td>\n      <td>NaN</td>\n      <td>NaN</td>\n      <td>NaN</td>\n      <td>NaN</td>\n      <td>NaN</td>\n      <td>NaN</td>\n      <td>NaN</td>\n    </tr>\n    <tr>\n      <th>7</th>\n      <td>ELEC</td>\n      <td>LADWP - Sylmar West</td>\n      <td>13201 Sepulveda Blvd</td>\n      <td>NaN</td>\n      <td>Sylmar</td>\n      <td>CA</td>\n      <td>91342</td>\n      <td>NaN</td>\n      <td>NaN</td>\n      <td>E</td>\n      <td>...</td>\n      <td>NaN</td>\n      <td>NaN</td>\n      <td>NaN</td>\n      <td>NaN</td>\n      <td>NaN</td>\n      <td>NaN</td>\n      <td>NaN</td>\n      <td>NaN</td>\n      <td>NaN</td>\n      <td>NaN</td>\n    </tr>\n    <tr>\n      <th>8</th>\n      <td>ELEC</td>\n      <td>LADWP - EV Service Center</td>\n      <td>1630 N Main St</td>\n      <td>NaN</td>\n      <td>Los Angeles</td>\n      <td>CA</td>\n      <td>90012</td>\n      <td>NaN</td>\n      <td>NaN</td>\n      <td>E</td>\n      <td>...</td>\n      <td>NaN</td>\n      <td>NaN</td>\n      <td>NaN</td>\n      <td>NaN</td>\n      <td>NaN</td>\n      <td>NaN</td>\n      <td>NaN</td>\n      <td>NaN</td>\n      <td>NaN</td>\n      <td>NaN</td>\n    </tr>\n    <tr>\n      <th>9</th>\n      <td>ELEC</td>\n      <td>LADWP - Fairfax Center</td>\n      <td>2311 S Fairfax Ave</td>\n      <td>NaN</td>\n      <td>Los Angeles</td>\n      <td>CA</td>\n      <td>90016</td>\n      <td>NaN</td>\n      <td>NaN</td>\n      <td>E</td>\n      <td>...</td>\n      <td>NaN</td>\n      <td>NaN</td>\n      <td>NaN</td>\n      <td>NaN</td>\n      <td>NaN</td>\n      <td>NaN</td>\n      <td>NaN</td>\n      <td>NaN</td>\n      <td>NaN</td>\n      <td>NaN</td>\n    </tr>\n  </tbody>\n</table>\n<p>10 rows × 65 columns</p>\n</div>"
     },
     "execution_count": 20,
     "metadata": {},
     "output_type": "execute_result"
    }
   ],
   "source": [
    "# ev_station_data = ev_station_data[ev_station_data['Access Code'] == 'private']\n",
    "ev_station_data.head(10)"
   ],
   "metadata": {
    "collapsed": false,
    "pycharm": {
     "name": "#%%\n"
    }
   }
  },
  {
   "cell_type": "code",
   "execution_count": 21,
   "outputs": [],
   "source": [
    "def ev_station_count_df(file,state):\n",
    "    \"\"\" Count the ev station of each data and return a dataframe\n",
    "\n",
    "    :param file: ev station file\n",
    "    :param state: string for three state\n",
    "    :return: the dataframe of the count of ev station of each state\n",
    "    \"\"\"\n",
    "    if state == 'All':\n",
    "        file_clean = file\n",
    "    else:\n",
    "        file_clean = file[file['State']==state]\n",
    "    file_count = file_clean.loc[:,'ZIP'].value_counts()\n",
    "    file_count_df = DataFrame(file_count)\n",
    "    file_count_df = file_count_df.rename_axis('ZIP Code').reset_index()\n",
    "    ev_station_count = file_count_df.rename(columns={'ZIP': 'Station Count'})\n",
    "    return ev_station_count"
   ],
   "metadata": {
    "collapsed": false,
    "pycharm": {
     "name": "#%%\n"
    }
   }
  },
  {
   "cell_type": "code",
   "execution_count": 22,
   "outputs": [
    {
     "data": {
      "text/plain": "      ZIP Code  Station Count\n0        94025            259\n1        95054            235\n2        92618            134\n3        94080            115\n4        94025            113\n...        ...            ...\n13576    72076              1\n13577    14530              1\n13578    22963              1\n13579    32433              1\n13580    29349              1\n\n[13581 rows x 2 columns]",
      "text/html": "<div>\n<style scoped>\n    .dataframe tbody tr th:only-of-type {\n        vertical-align: middle;\n    }\n\n    .dataframe tbody tr th {\n        vertical-align: top;\n    }\n\n    .dataframe thead th {\n        text-align: right;\n    }\n</style>\n<table border=\"1\" class=\"dataframe\">\n  <thead>\n    <tr style=\"text-align: right;\">\n      <th></th>\n      <th>ZIP Code</th>\n      <th>Station Count</th>\n    </tr>\n  </thead>\n  <tbody>\n    <tr>\n      <th>0</th>\n      <td>94025</td>\n      <td>259</td>\n    </tr>\n    <tr>\n      <th>1</th>\n      <td>95054</td>\n      <td>235</td>\n    </tr>\n    <tr>\n      <th>2</th>\n      <td>92618</td>\n      <td>134</td>\n    </tr>\n    <tr>\n      <th>3</th>\n      <td>94080</td>\n      <td>115</td>\n    </tr>\n    <tr>\n      <th>4</th>\n      <td>94025</td>\n      <td>113</td>\n    </tr>\n    <tr>\n      <th>...</th>\n      <td>...</td>\n      <td>...</td>\n    </tr>\n    <tr>\n      <th>13576</th>\n      <td>72076</td>\n      <td>1</td>\n    </tr>\n    <tr>\n      <th>13577</th>\n      <td>14530</td>\n      <td>1</td>\n    </tr>\n    <tr>\n      <th>13578</th>\n      <td>22963</td>\n      <td>1</td>\n    </tr>\n    <tr>\n      <th>13579</th>\n      <td>32433</td>\n      <td>1</td>\n    </tr>\n    <tr>\n      <th>13580</th>\n      <td>29349</td>\n      <td>1</td>\n    </tr>\n  </tbody>\n</table>\n<p>13581 rows × 2 columns</p>\n</div>"
     },
     "execution_count": 22,
     "metadata": {},
     "output_type": "execute_result"
    }
   ],
   "source": [
    "ev_station_count_df(ev_station_data,'All')"
   ],
   "metadata": {
    "collapsed": false,
    "pycharm": {
     "name": "#%%\n"
    }
   }
  },
  {
   "cell_type": "code",
   "execution_count": 23,
   "outputs": [
    {
     "data": {
      "text/plain": "    ZIP Code  Station Count\n0      12866             50\n1      14203             30\n2      14623             26\n3      14850             24\n4      12401             24\n..       ...            ...\n919    13339              1\n920    13669              1\n921    12043              1\n922    12165              1\n923    14009              1\n\n[924 rows x 2 columns]",
      "text/html": "<div>\n<style scoped>\n    .dataframe tbody tr th:only-of-type {\n        vertical-align: middle;\n    }\n\n    .dataframe tbody tr th {\n        vertical-align: top;\n    }\n\n    .dataframe thead th {\n        text-align: right;\n    }\n</style>\n<table border=\"1\" class=\"dataframe\">\n  <thead>\n    <tr style=\"text-align: right;\">\n      <th></th>\n      <th>ZIP Code</th>\n      <th>Station Count</th>\n    </tr>\n  </thead>\n  <tbody>\n    <tr>\n      <th>0</th>\n      <td>12866</td>\n      <td>50</td>\n    </tr>\n    <tr>\n      <th>1</th>\n      <td>14203</td>\n      <td>30</td>\n    </tr>\n    <tr>\n      <th>2</th>\n      <td>14623</td>\n      <td>26</td>\n    </tr>\n    <tr>\n      <th>3</th>\n      <td>14850</td>\n      <td>24</td>\n    </tr>\n    <tr>\n      <th>4</th>\n      <td>12401</td>\n      <td>24</td>\n    </tr>\n    <tr>\n      <th>...</th>\n      <td>...</td>\n      <td>...</td>\n    </tr>\n    <tr>\n      <th>919</th>\n      <td>13339</td>\n      <td>1</td>\n    </tr>\n    <tr>\n      <th>920</th>\n      <td>13669</td>\n      <td>1</td>\n    </tr>\n    <tr>\n      <th>921</th>\n      <td>12043</td>\n      <td>1</td>\n    </tr>\n    <tr>\n      <th>922</th>\n      <td>12165</td>\n      <td>1</td>\n    </tr>\n    <tr>\n      <th>923</th>\n      <td>14009</td>\n      <td>1</td>\n    </tr>\n  </tbody>\n</table>\n<p>924 rows × 2 columns</p>\n</div>"
     },
     "execution_count": 23,
     "metadata": {},
     "output_type": "execute_result"
    }
   ],
   "source": [
    "ev_station_count_df(ev_station_data,'NY')"
   ],
   "metadata": {
    "collapsed": false,
    "pycharm": {
     "name": "#%%\n"
    }
   }
  },
  {
   "cell_type": "code",
   "execution_count": 24,
   "outputs": [],
   "source": [
    "newyork_data = pd.read_csv('data/ny_ev_registrations_public.csv')"
   ],
   "metadata": {
    "collapsed": false,
    "pycharm": {
     "name": "#%%\n"
    }
   }
  },
  {
   "cell_type": "code",
   "execution_count": 31,
   "outputs": [],
   "source": [
    "def ev_car_count_df(file):\n",
    "    \"\"\" Calculate the number of car in each zip code\n",
    "\n",
    "    :param file:state car data\n",
    "    :return:the car count of each state\n",
    "    \"\"\"\n",
    "    file = DataFrame(file)\n",
    "    file_count = file.loc[:,'ZIP Code'].value_counts().sort_index(axis=0)\n",
    "    phev_count = file[file['Technology'] == 'PHEV'].loc[:,'ZIP Code'].value_counts().sort_index(axis=0)\n",
    "    file_count_df = DataFrame(file_count)\n",
    "    file_count_df = file_count_df.rename(columns={'ZIP Code': 'Count'})\n",
    "    print(file_count_df)\n",
    "    ev_car_count = file_count_df.rename_axis('ZIP Code').reset_index()\n",
    "    phev_count_df = DataFrame(phev_count)\n",
    "    phev_rate = phev_count_df.rename(columns={'ZIP Code': 'PHEV Count'})\n",
    "    phev_rate = phev_rate.rename_axis('ZIP Code').reset_index()\n",
    "    ev_car_count = pd.merge(ev_car_count, phev_rate, how='left', on='ZIP Code')\n",
    "    ev_car_count.fillna(0, inplace=True)\n",
    "    ev_car_count['PHEV Rate'] = ev_car_count['PHEV Count'] / ev_car_count['Count']\n",
    "    return ev_car_count"
   ],
   "metadata": {
    "collapsed": false,
    "pycharm": {
     "name": "#%%\n"
    }
   }
  },
  {
   "cell_type": "code",
   "execution_count": 32,
   "outputs": [
    {
     "name": "stdout",
     "output_type": "stream",
     "text": [
      "       Count\n",
      "646        8\n",
      "907        5\n",
      "1026       1\n",
      "1035       7\n",
      "1069       1\n",
      "...      ...\n",
      "98407     39\n",
      "98516      5\n",
      "99703     10\n",
      "99801      1\n",
      "99999    123\n",
      "\n",
      "[3575 rows x 1 columns]\n"
     ]
    },
    {
     "data": {
      "text/plain": "      ZIP Code  Count  PHEV Count  PHEV Rate\n0          646      8         0.0   0.000000\n1          907      5         5.0   1.000000\n2         1026      1         1.0   1.000000\n3         1035      7         0.0   0.000000\n4         1069      1         1.0   1.000000\n...        ...    ...         ...        ...\n3570     98407     39         0.0   0.000000\n3571     98516      5         0.0   0.000000\n3572     99703     10        10.0   1.000000\n3573     99801      1         1.0   1.000000\n3574     99999    123        58.0   0.471545\n\n[3575 rows x 4 columns]",
      "text/html": "<div>\n<style scoped>\n    .dataframe tbody tr th:only-of-type {\n        vertical-align: middle;\n    }\n\n    .dataframe tbody tr th {\n        vertical-align: top;\n    }\n\n    .dataframe thead th {\n        text-align: right;\n    }\n</style>\n<table border=\"1\" class=\"dataframe\">\n  <thead>\n    <tr style=\"text-align: right;\">\n      <th></th>\n      <th>ZIP Code</th>\n      <th>Count</th>\n      <th>PHEV Count</th>\n      <th>PHEV Rate</th>\n    </tr>\n  </thead>\n  <tbody>\n    <tr>\n      <th>0</th>\n      <td>646</td>\n      <td>8</td>\n      <td>0.0</td>\n      <td>0.000000</td>\n    </tr>\n    <tr>\n      <th>1</th>\n      <td>907</td>\n      <td>5</td>\n      <td>5.0</td>\n      <td>1.000000</td>\n    </tr>\n    <tr>\n      <th>2</th>\n      <td>1026</td>\n      <td>1</td>\n      <td>1.0</td>\n      <td>1.000000</td>\n    </tr>\n    <tr>\n      <th>3</th>\n      <td>1035</td>\n      <td>7</td>\n      <td>0.0</td>\n      <td>0.000000</td>\n    </tr>\n    <tr>\n      <th>4</th>\n      <td>1069</td>\n      <td>1</td>\n      <td>1.0</td>\n      <td>1.000000</td>\n    </tr>\n    <tr>\n      <th>...</th>\n      <td>...</td>\n      <td>...</td>\n      <td>...</td>\n      <td>...</td>\n    </tr>\n    <tr>\n      <th>3570</th>\n      <td>98407</td>\n      <td>39</td>\n      <td>0.0</td>\n      <td>0.000000</td>\n    </tr>\n    <tr>\n      <th>3571</th>\n      <td>98516</td>\n      <td>5</td>\n      <td>0.0</td>\n      <td>0.000000</td>\n    </tr>\n    <tr>\n      <th>3572</th>\n      <td>99703</td>\n      <td>10</td>\n      <td>10.0</td>\n      <td>1.000000</td>\n    </tr>\n    <tr>\n      <th>3573</th>\n      <td>99801</td>\n      <td>1</td>\n      <td>1.0</td>\n      <td>1.000000</td>\n    </tr>\n    <tr>\n      <th>3574</th>\n      <td>99999</td>\n      <td>123</td>\n      <td>58.0</td>\n      <td>0.471545</td>\n    </tr>\n  </tbody>\n</table>\n<p>3575 rows × 4 columns</p>\n</div>"
     },
     "execution_count": 32,
     "metadata": {},
     "output_type": "execute_result"
    }
   ],
   "source": [
    "ev_car_count_ny = ev_car_count_df(newyork_data)\n",
    "ev_car_count_ny"
   ],
   "metadata": {
    "collapsed": false,
    "pycharm": {
     "name": "#%%\n"
    }
   }
  },
  {
   "cell_type": "code",
   "execution_count": 33,
   "outputs": [
    {
     "name": "stdout",
     "output_type": "stream",
     "text": [
      "      ZIP Code  population  density        area\n",
      "1839      6390        61.0      5.8   10.517241\n",
      "2583     10001     25026.0  15489.3    1.615696\n",
      "2584     10002     74363.0  34916.7    2.129726\n",
      "2585     10003     54671.0  36928.8    1.480443\n",
      "2586     10004      3310.0   2805.2    1.179952\n",
      "...        ...         ...      ...         ...\n",
      "4403     14898      1772.0     11.2  158.214286\n",
      "4404     14901     15581.0    181.2   85.987859\n",
      "4405     14903      7186.0    128.2   56.053042\n",
      "4406     14904     15109.0    904.6   16.702410\n",
      "4407     14905      8330.0    866.8    9.610060\n",
      "\n",
      "[1826 rows x 4 columns]\n"
     ]
    },
    {
     "data": {
      "text/plain": "      ZIP Code  Station Count  Count  PHEV Rate  population        area\n601      10001           10.0   3815   0.360419     25026.0    1.615696\n602      10002            5.0   3546   0.448393     74363.0    2.129726\n603      10003           12.0   6541   0.307292     54671.0    1.480443\n605      10005            3.0   1242   0.233494      8664.0    0.188727\n607      10007            5.0  15492   0.554932      7566.0    0.414128\n...        ...            ...    ...        ...         ...         ...\n2406     14830            4.0   3787   0.735939     19138.0  234.822086\n2414     14845            5.0   3390   0.701770     20401.0  202.591857\n2416     14850           24.0  27366   0.626398     64224.0  323.220936\n2419     14853            3.0    413   0.276029      2663.0    0.996669\n2429     14870            3.0   1822   0.620198     10202.0  166.972177\n\n[228 rows x 6 columns]",
      "text/html": "<div>\n<style scoped>\n    .dataframe tbody tr th:only-of-type {\n        vertical-align: middle;\n    }\n\n    .dataframe tbody tr th {\n        vertical-align: top;\n    }\n\n    .dataframe thead th {\n        text-align: right;\n    }\n</style>\n<table border=\"1\" class=\"dataframe\">\n  <thead>\n    <tr style=\"text-align: right;\">\n      <th></th>\n      <th>ZIP Code</th>\n      <th>Station Count</th>\n      <th>Count</th>\n      <th>PHEV Rate</th>\n      <th>population</th>\n      <th>area</th>\n    </tr>\n  </thead>\n  <tbody>\n    <tr>\n      <th>601</th>\n      <td>10001</td>\n      <td>10.0</td>\n      <td>3815</td>\n      <td>0.360419</td>\n      <td>25026.0</td>\n      <td>1.615696</td>\n    </tr>\n    <tr>\n      <th>602</th>\n      <td>10002</td>\n      <td>5.0</td>\n      <td>3546</td>\n      <td>0.448393</td>\n      <td>74363.0</td>\n      <td>2.129726</td>\n    </tr>\n    <tr>\n      <th>603</th>\n      <td>10003</td>\n      <td>12.0</td>\n      <td>6541</td>\n      <td>0.307292</td>\n      <td>54671.0</td>\n      <td>1.480443</td>\n    </tr>\n    <tr>\n      <th>605</th>\n      <td>10005</td>\n      <td>3.0</td>\n      <td>1242</td>\n      <td>0.233494</td>\n      <td>8664.0</td>\n      <td>0.188727</td>\n    </tr>\n    <tr>\n      <th>607</th>\n      <td>10007</td>\n      <td>5.0</td>\n      <td>15492</td>\n      <td>0.554932</td>\n      <td>7566.0</td>\n      <td>0.414128</td>\n    </tr>\n    <tr>\n      <th>...</th>\n      <td>...</td>\n      <td>...</td>\n      <td>...</td>\n      <td>...</td>\n      <td>...</td>\n      <td>...</td>\n    </tr>\n    <tr>\n      <th>2406</th>\n      <td>14830</td>\n      <td>4.0</td>\n      <td>3787</td>\n      <td>0.735939</td>\n      <td>19138.0</td>\n      <td>234.822086</td>\n    </tr>\n    <tr>\n      <th>2414</th>\n      <td>14845</td>\n      <td>5.0</td>\n      <td>3390</td>\n      <td>0.701770</td>\n      <td>20401.0</td>\n      <td>202.591857</td>\n    </tr>\n    <tr>\n      <th>2416</th>\n      <td>14850</td>\n      <td>24.0</td>\n      <td>27366</td>\n      <td>0.626398</td>\n      <td>64224.0</td>\n      <td>323.220936</td>\n    </tr>\n    <tr>\n      <th>2419</th>\n      <td>14853</td>\n      <td>3.0</td>\n      <td>413</td>\n      <td>0.276029</td>\n      <td>2663.0</td>\n      <td>0.996669</td>\n    </tr>\n    <tr>\n      <th>2429</th>\n      <td>14870</td>\n      <td>3.0</td>\n      <td>1822</td>\n      <td>0.620198</td>\n      <td>10202.0</td>\n      <td>166.972177</td>\n    </tr>\n  </tbody>\n</table>\n<p>228 rows × 6 columns</p>\n</div>"
     },
     "execution_count": 33,
     "metadata": {},
     "output_type": "execute_result"
    }
   ],
   "source": [
    "ev_car_station_ny = pd.merge(ev_car_count_ny, ev_station_count_df(ev_station_data, 'NY'), how='left', on='ZIP Code')\n",
    "\n",
    "print(us_zip_df_ny)\n",
    "ev_car_station_pop_ny = pd.merge(ev_car_station_ny, us_zip_df_ny, how='left', on='ZIP Code')\n",
    "ev_car_station_pop_ny.fillna(0, inplace=True)\n",
    "ev_car_station_pop_ny = ev_car_station_pop_ny[ev_car_station_pop_ny['Count'] > 10]\n",
    "ev_car_station_pop_ny = ev_car_station_pop_ny[ev_car_station_pop_ny['Station Count'] > 2]\n",
    "ev_car_station_pop_ny = ev_car_station_pop_ny[ev_car_station_pop_ny['population'] > 500]\n",
    "ev_car_station_pop_ny = ev_car_station_pop_ny[['ZIP Code', 'Station Count', 'Count', 'PHEV Rate', 'population', 'area']]\n",
    "ev_car_station_pop_ny"
   ],
   "metadata": {
    "collapsed": false,
    "pycharm": {
     "name": "#%%\n"
    }
   }
  },
  {
   "cell_type": "code",
   "execution_count": 34,
   "outputs": [],
   "source": [
    "def linear_model_main(data, x_str, y_str):\n",
    "    \"\"\" Show the linear regression plot of the relation of car_count and station_count in each zip code.\n",
    "\n",
    "    :param data: a dataframe of the merging file (car_count and ev-station_count)\n",
    "    :param x_str: the column name of x\n",
    "    :param y_str: the column name of y\n",
    "    :return: the linear regression plot\n",
    "    \"\"\"\n",
    "    x = data[[x_str]]\n",
    "    y = data[[y_str]]\n",
    "    x = x.values.reshape(-1, 1)\n",
    "    y = y.values.reshape(-1, 1)\n",
    "    model = LinearRegression()\n",
    "    model.fit(x, y)\n",
    "    plt.scatter(data[x_str],data[y_str])\n",
    "    y_train = model.predict(x)\n",
    "    plt.plot(x,y_train,color = 'red',label = 'line')\n",
    "    plt.ylabel(y_str)\n",
    "    plt.xlabel(x_str)\n",
    "    plt.show()"
   ],
   "metadata": {
    "collapsed": false,
    "pycharm": {
     "name": "#%%\n"
    }
   }
  },
  {
   "cell_type": "code",
   "execution_count": 36,
   "outputs": [
    {
     "data": {
      "text/plain": "<Figure size 432x288 with 1 Axes>",
      "image/png": "[encoded data removed]"
     },
     "metadata": {
      "needs_background": "light"
     },
     "output_type": "display_data"
    },
    {
     "data": {
      "text/plain": "<AxesSubplot:>"
     },
     "execution_count": 36,
     "metadata": {},
     "output_type": "execute_result"
    },
    {
     "data": {
      "text/plain": "<Figure size 432x288 with 2 Axes>",
      "image/png": "[encoded data removed]"
     },
     "metadata": {
      "needs_background": "light"
     },
     "output_type": "display_data"
    }
   ],
   "source": [
    "%matplotlib inline\n",
    "linear_model_main(ev_car_station_pop_ny, 'Station Count', 'PHEV Rate')\n",
    "corr_all = ev_car_station_pop_ny[['Station Count', 'PHEV Rate']].corr()\n",
    "sns.heatmap(corr_all, cmap='Blues', square=True, annot=True)"
   ],
   "metadata": {
    "collapsed": false,
    "pycharm": {
     "name": "#%%\n"
    }
   }
  },
  {
   "cell_type": "code",
   "execution_count": 39,
   "outputs": [
    {
     "name": "stderr",
     "output_type": "stream",
     "text": [
      "/Users/hyc/opt/anaconda3/lib/python3.9/site-packages/statsmodels/tsa/tsatools.py:142: FutureWarning: In a future version of pandas all arguments of concat except for the argument 'objs' will be keyword-only\n",
      "  x = pd.concat(x[::order], 1)\n"
     ]
    },
    {
     "ename": "AttributeError",
     "evalue": "module 'statsmodels.formula.api' has no attribute 'OLS'",
     "output_type": "error",
     "traceback": [
      "\u001B[0;31m---------------------------------------------------------------------------\u001B[0m",
      "\u001B[0;31mAttributeError\u001B[0m                            Traceback (most recent call last)",
      "\u001B[0;32m/var/folders/85/4z1nq0z55ndgfgy_zyhybmdh0000gn/T/ipykernel_7138/818137405.py\u001B[0m in \u001B[0;36m<module>\u001B[0;34m\u001B[0m\n\u001B[1;32m      2\u001B[0m \u001B[0;32mimport\u001B[0m \u001B[0mstatsmodels\u001B[0m\u001B[0;34m.\u001B[0m\u001B[0mformula\u001B[0m\u001B[0;34m.\u001B[0m\u001B[0mapi\u001B[0m \u001B[0;32mas\u001B[0m \u001B[0msmf\u001B[0m\u001B[0;34m\u001B[0m\u001B[0;34m\u001B[0m\u001B[0m\n\u001B[1;32m      3\u001B[0m \u001B[0mx\u001B[0m \u001B[0;34m=\u001B[0m \u001B[0msm\u001B[0m\u001B[0;34m.\u001B[0m\u001B[0madd_constant\u001B[0m\u001B[0;34m(\u001B[0m\u001B[0mev_car_station_pop_ny\u001B[0m\u001B[0;34m.\u001B[0m\u001B[0miloc\u001B[0m\u001B[0;34m[\u001B[0m\u001B[0;34m:\u001B[0m\u001B[0;34m,\u001B[0m \u001B[0;36m2\u001B[0m\u001B[0;34m:\u001B[0m\u001B[0;34m]\u001B[0m\u001B[0;34m)\u001B[0m\u001B[0;34m\u001B[0m\u001B[0;34m\u001B[0m\u001B[0m\n\u001B[0;32m----> 4\u001B[0;31m \u001B[0mmodel\u001B[0m \u001B[0;34m=\u001B[0m \u001B[0msmf\u001B[0m\u001B[0;34m.\u001B[0m\u001B[0mOLS\u001B[0m\u001B[0;34m(\u001B[0m\u001B[0mev_car_station_pop_ny\u001B[0m\u001B[0;34m[\u001B[0m\u001B[0;34m'Station Count'\u001B[0m\u001B[0;34m]\u001B[0m\u001B[0;34m,\u001B[0m \u001B[0mx\u001B[0m\u001B[0;34m)\u001B[0m\u001B[0;34m\u001B[0m\u001B[0;34m\u001B[0m\u001B[0m\n\u001B[0m\u001B[1;32m      5\u001B[0m \u001B[0mresult\u001B[0m \u001B[0;34m=\u001B[0m \u001B[0mmodel\u001B[0m\u001B[0;34m.\u001B[0m\u001B[0mfit\u001B[0m\u001B[0;34m(\u001B[0m\u001B[0;34m)\u001B[0m\u001B[0;34m\u001B[0m\u001B[0;34m\u001B[0m\u001B[0m\n\u001B[1;32m      6\u001B[0m \u001B[0mresult\u001B[0m\u001B[0;34m.\u001B[0m\u001B[0msummary\u001B[0m\u001B[0;34m(\u001B[0m\u001B[0;34m)\u001B[0m\u001B[0;34m\u001B[0m\u001B[0;34m\u001B[0m\u001B[0m\n",
      "\u001B[0;31mAttributeError\u001B[0m: module 'statsmodels.formula.api' has no attribute 'OLS'"
     ]
    }
   ],
   "source": [
    "import statsmodels.api as sm\n",
    "import statsmodels.formula.api as smf\n",
    "x = sm.add_constant(ev_car_station_pop_ny.iloc[:, 2:])\n",
    "model = sm.OLS(ev_car_station_pop_ny['Station Count'], x)\n",
    "#model = smf.OLS(\"ev_car_station_pop_ny['Station Count'] ～ ev_car_station_pop_ny.iloc[:, 2:]\", data=)\n",
    "result = model.fit()\n",
    "result.summary()"
   ],
   "metadata": {
    "collapsed": false,
    "pycharm": {
     "name": "#%%\n"
    }
   }
  },
  {
   "cell_type": "code",
   "execution_count": 38,
   "outputs": [
    {
     "name": "stderr",
     "output_type": "stream",
     "text": [
      "/Users/hyc/opt/anaconda3/lib/python3.9/site-packages/statsmodels/tsa/tsatools.py:142: FutureWarning: In a future version of pandas all arguments of concat except for the argument 'objs' will be keyword-only\n",
      "  x = pd.concat(x[::order], 1)\n",
      "/Users/hyc/opt/anaconda3/lib/python3.9/site-packages/statsmodels/tsa/tsatools.py:142: FutureWarning: In a future version of pandas all arguments of concat except for the argument 'objs' will be keyword-only\n",
      "  x = pd.concat(x[::order], 1)\n",
      "/Users/hyc/opt/anaconda3/lib/python3.9/site-packages/statsmodels/tsa/tsatools.py:142: FutureWarning: In a future version of pandas all arguments of concat except for the argument 'objs' will be keyword-only\n",
      "  x = pd.concat(x[::order], 1)\n",
      "/Users/hyc/opt/anaconda3/lib/python3.9/site-packages/statsmodels/tsa/tsatools.py:142: FutureWarning: In a future version of pandas all arguments of concat except for the argument 'objs' will be keyword-only\n",
      "  x = pd.concat(x[::order], 1)\n"
     ]
    },
    {
     "data": {
      "text/plain": "<class 'statsmodels.iolib.summary.Summary'>\n\"\"\"\n                            OLS Regression Results                            \n==============================================================================\nDep. Variable:          Station Count   R-squared:                       0.052\nModel:                            OLS   Adj. R-squared:                  0.048\nMethod:                 Least Squares   F-statistic:                     12.52\nDate:                Tue, 03 May 2022   Prob (F-statistic):           0.000489\nTime:                        00:48:45   Log-Likelihood:                -723.61\nNo. Observations:                 228   AIC:                             1451.\nDf Residuals:                     226   BIC:                             1458.\nDf Model:                           1                                         \nCovariance Type:            nonrobust                                         \n==============================================================================\n                 coef    std err          t      P>|t|      [0.025      0.975]\n------------------------------------------------------------------------------\nconst          5.5877      0.555     10.065      0.000       4.494       6.682\nCount          0.0003   8.48e-05      3.538      0.000       0.000       0.000\n==============================================================================\nOmnibus:                      157.955   Durbin-Watson:                   1.735\nProb(Omnibus):                  0.000   Jarque-Bera (JB):             1494.339\nSkew:                           2.670   Prob(JB):                         0.00\nKurtosis:                      14.348   Cond. No.                     9.45e+03\n==============================================================================\n\nNotes:\n[1] Standard Errors assume that the covariance matrix of the errors is correctly specified.\n[2] The condition number is large, 9.45e+03. This might indicate that there are\nstrong multicollinearity or other numerical problems.\n\"\"\"",
      "text/html": "<table class=\"simpletable\">\n<caption>OLS Regression Results</caption>\n<tr>\n  <th>Dep. Variable:</th>      <td>Station Count</td>  <th>  R-squared:         </th> <td>   0.052</td>\n</tr>\n<tr>\n  <th>Model:</th>                   <td>OLS</td>       <th>  Adj. R-squared:    </th> <td>   0.048</td>\n</tr>\n<tr>\n  <th>Method:</th>             <td>Least Squares</td>  <th>  F-statistic:       </th> <td>   12.52</td>\n</tr>\n<tr>\n  <th>Date:</th>             <td>Tue, 03 May 2022</td> <th>  Prob (F-statistic):</th> <td>0.000489</td>\n</tr>\n<tr>\n  <th>Time:</th>                 <td>00:48:45</td>     <th>  Log-Likelihood:    </th> <td> -723.61</td>\n</tr>\n<tr>\n  <th>No. Observations:</th>      <td>   228</td>      <th>  AIC:               </th> <td>   1451.</td>\n</tr>\n<tr>\n  <th>Df Residuals:</th>          <td>   226</td>      <th>  BIC:               </th> <td>   1458.</td>\n</tr>\n<tr>\n  <th>Df Model:</th>              <td>     1</td>      <th>                     </th>     <td> </td>   \n</tr>\n<tr>\n  <th>Covariance Type:</th>      <td>nonrobust</td>    <th>                     </th>     <td> </td>   \n</tr>\n</table>\n<table class=\"simpletable\">\n<tr>\n    <td></td>       <th>coef</th>     <th>std err</th>      <th>t</th>      <th>P>|t|</th>  <th>[0.025</th>    <th>0.975]</th>  \n</tr>\n<tr>\n  <th>const</th> <td>    5.5877</td> <td>    0.555</td> <td>   10.065</td> <td> 0.000</td> <td>    4.494</td> <td>    6.682</td>\n</tr>\n<tr>\n  <th>Count</th> <td>    0.0003</td> <td> 8.48e-05</td> <td>    3.538</td> <td> 0.000</td> <td>    0.000</td> <td>    0.000</td>\n</tr>\n</table>\n<table class=\"simpletable\">\n<tr>\n  <th>Omnibus:</th>       <td>157.955</td> <th>  Durbin-Watson:     </th> <td>   1.735</td>\n</tr>\n<tr>\n  <th>Prob(Omnibus):</th> <td> 0.000</td>  <th>  Jarque-Bera (JB):  </th> <td>1494.339</td>\n</tr>\n<tr>\n  <th>Skew:</th>          <td> 2.670</td>  <th>  Prob(JB):          </th> <td>    0.00</td>\n</tr>\n<tr>\n  <th>Kurtosis:</th>      <td>14.348</td>  <th>  Cond. No.          </th> <td>9.45e+03</td>\n</tr>\n</table><br/><br/>Notes:<br/>[1] Standard Errors assume that the covariance matrix of the errors is correctly specified.<br/>[2] The condition number is large, 9.45e+03. This might indicate that there are<br/>strong multicollinearity or other numerical problems."
     },
     "execution_count": 38,
     "metadata": {},
     "output_type": "execute_result"
    }
   ],
   "source": [
    "cols = ev_car_station_pop_ny.iloc[:, 2:].columns.values.tolist()\n",
    "for i in range(len(cols)):\n",
    "    x = sm.add_constant(ev_car_station_pop_ny[cols])\n",
    "    model = sm.OLS(ev_car_station_pop_ny['Station Count'], x)\n",
    "    result = model.fit()\n",
    "    pvalues = result.pvalues\n",
    "    pvalues.drop('const', inplace=True)\n",
    "    pmax = max(pvalues)\n",
    "    if pmax > 0.1:\n",
    "        ind = pvalues.idxmax()\n",
    "        cols.remove(ind)\n",
    "    else:\n",
    "        result.summary()\n",
    "result.summary()"
   ],
   "metadata": {
    "collapsed": false,
    "pycharm": {
     "name": "#%%\n"
    }
   }
  },
  {
   "cell_type": "code",
   "execution_count": null,
   "outputs": [],
   "source": [
    "ev_car_station_pop_ny.iloc[:, 2:]"
   ],
   "metadata": {
    "collapsed": false,
    "pycharm": {
     "name": "#%%\n"
    }
   }
  },
  {
   "cell_type": "code",
   "execution_count": 29,
   "outputs": [],
   "source": [],
   "metadata": {
    "collapsed": false,
    "pycharm": {
     "name": "#%%\n"
    }
   }
  },
  {
   "cell_type": "code",
   "execution_count": null,
   "outputs": [],
   "source": [],
   "metadata": {
    "collapsed": false,
    "pycharm": {
     "name": "#%%\n"
    }
   }
  }
 ],
 "metadata": {
  "kernelspec": {
   "display_name": "Python 3",
   "language": "python",
   "name": "python3"
  },
  "language_info": {
   "codemirror_mode": {
    "name": "ipython",
    "version": 2
   },
   "file_extension": ".py",
   "mimetype": "text/x-python",
   "name": "python",
   "nbconvert_exporter": "python",
   "pygments_lexer": "ipython2",
   "version": "2.7.6"
  }
 },
 "nbformat": 4,
 "nbformat_minor": 0
}