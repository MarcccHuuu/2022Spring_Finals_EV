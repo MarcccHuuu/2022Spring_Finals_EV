{
 "cells": [
  {
   "cell_type": "code",
   "execution_count": 1,
   "metadata": {
    "collapsed": true
   },
   "outputs": [],
   "source": [
    "import os.path\n",
    "\n",
    "import pandas\n",
    "import pandas as pd"
   ]
  },
  {
   "cell_type": "code",
   "execution_count": 3,
   "outputs": [],
   "source": [
    "wa_ev_df = pd.read_csv('data/Washington_EV_Population_Data.csv')"
   ],
   "metadata": {
    "collapsed": false,
    "pycharm": {
     "name": "#%%\n"
    }
   }
  },
  {
   "cell_type": "code",
   "execution_count": 4,
   "outputs": [
    {
     "data": {
      "text/plain": "91933"
     },
     "execution_count": 4,
     "metadata": {},
     "output_type": "execute_result"
    }
   ],
   "source": [
    "len(wa_ev_df)"
   ],
   "metadata": {
    "collapsed": false,
    "pycharm": {
     "name": "#%%\n"
    }
   }
  },
  {
   "cell_type": "code",
   "execution_count": 5,
   "outputs": [],
   "source": [
    "### Data Pre-processing and Cleaning"
   ],
   "metadata": {
    "collapsed": false,
    "pycharm": {
     "name": "#%%\n"
    }
   }
  },
  {
   "cell_type": "code",
   "execution_count": 6,
   "outputs": [],
   "source": [
    "def download_file(file_name: str): # wa_ev_registrations_public\n",
    "    if not os.path.exists('data/{}.csv'.format(file_name)):\n",
    "        import requests\n",
    "        url = \"https://www.atlasevhub.com/public/dmv/{}.csv\".format(file_name)\n",
    "        file = requests.get(url)\n",
    "        print(file)\n",
    "        with open('data/{}.csv'.format(file_name), 'wb') as text:\n",
    "            text.write(file.content)\n",
    "\n",
    "download_file('wa_ev_registrations_public')"
   ],
   "metadata": {
    "collapsed": false,
    "pycharm": {
     "name": "#%%\n"
    }
   }
  },
  {
   "cell_type": "code",
   "execution_count": 18,
   "outputs": [
    {
     "name": "stderr",
     "output_type": "stream",
     "text": [
      "/Users/hyc/opt/anaconda3/lib/python3.9/site-packages/IPython/core/interactiveshell.py:3444: DtypeWarning: Columns (1,8) have mixed types.Specify dtype option on import or set low_memory=False.\n",
      "  exec(code_obj, self.user_global_ns, self.user_ns)\n"
     ]
    },
    {
     "name": "stdout",
     "output_type": "stream",
     "text": [
      "Vehicle ID                      object\n",
      "ZIP Code                        object\n",
      "Registration Valid Date         object\n",
      "VIN Prefix                      object\n",
      "VIN Model Year                  object\n",
      "DMV ID                           int64\n",
      "DMV ID Complete                 object\n",
      "DMV Snapshot                    object\n",
      "Registration Expiration Date    object\n",
      "State Abbreviation              object\n",
      "Geography                       object\n",
      "Vehicle Name                    object\n",
      "Technology                      object\n",
      "dtype: object\n",
      "Vehicle ID                              object\n",
      "ZIP Code                                object\n",
      "Registration Valid Date                 object\n",
      "VIN Prefix                              object\n",
      "VIN Model Year                          object\n",
      "DMV ID                                   int64\n",
      "DMV ID Complete                         object\n",
      "DMV Snapshot                            object\n",
      "Registration Expiration Date            object\n",
      "State Abbreviation                      object\n",
      "Geography                               object\n",
      "Vehicle Name                            object\n",
      "Technology                              object\n",
      "Valid Datetime                  datetime64[ns]\n",
      "dtype: object\n"
     ]
    }
   ],
   "source": [
    "wa_df = pd.read_csv('data/wa_ev_registrations_public.csv') # , nrows=20000\n",
    "print(wa_df.dtypes)\n",
    "wa_df['Valid Datetime'] = pd.to_datetime(wa_df['Registration Valid Date'])\n",
    "print(wa_df.dtypes)"
   ],
   "metadata": {
    "collapsed": false,
    "pycharm": {
     "name": "#%%\n"
    }
   }
  },
  {
   "cell_type": "code",
   "execution_count": 19,
   "outputs": [
    {
     "data": {
      "text/plain": "(Timestamp('2010-01-06 00:00:00'), Timestamp('2022-03-16 00:00:00'))"
     },
     "execution_count": 19,
     "metadata": {},
     "output_type": "execute_result"
    }
   ],
   "source": [
    "# show the earliest and latest registration date, which also represents the data capture time period\n",
    "min(wa_df['Valid Datetime']), max(wa_df['Valid Datetime'])"
   ],
   "metadata": {
    "collapsed": false,
    "pycharm": {
     "name": "#%%\n"
    }
   }
  },
  {
   "cell_type": "code",
   "execution_count": 25,
   "outputs": [
    {
     "name": "stdout",
     "output_type": "stream",
     "text": [
      "    Valid Month  Vehicles Total Number  BEV Number  PHEV Number\n",
      "0       2010-01                      1           1            0\n",
      "1       2010-02                      5           5            0\n",
      "2       2010-03                     13          13            0\n",
      "3       2010-04                      9           9            0\n",
      "4       2010-05                      7           7            0\n",
      "..          ...                    ...         ...          ...\n",
      "138     2021-11                  81787       60258        21529\n",
      "139     2021-12                  83621       61811        21810\n",
      "140     2022-01                  84762       62758        22004\n",
      "141     2022-02                  84762       62758        22004\n",
      "142     2022-03                  88903       66305        22598\n",
      "\n",
      "[143 rows x 4 columns]\n"
     ]
    }
   ],
   "source": [
    "\n",
    "wa_df['Valid Month'] = wa_df['Registration Valid Date'].str[:-3]\n",
    "wa_df['Valid Quarter'] = pd.PeriodIndex(wa_df['Valid Datetime'], freq='Q')\n",
    "wa_df['Valid Year'] = wa_df['Registration Valid Date'].str[:4]\n",
    "# count the Dynamic Type(Technology) for BEV/PHEV\n",
    "wa_df['Dynamic Type'] = wa_df['Technology'].apply(lambda x: 1 if x == 'BEV' else 0)\n",
    "wa_df_month = wa_df.groupby(['Valid Month'])\\\n",
    "    .agg({'Vehicle ID': 'count', 'Dynamic Type': 'sum'}).reset_index()\\\n",
    "    .rename(columns={'Vehicle ID': 'Vehicles Total Number', 'Dynamic Type': 'BEV Number'})\n",
    "\n",
    "wa_df_month['PHEV Number'] = wa_df_month['Vehicles Total Number'] - wa_df_month['BEV Number']\n",
    "print(wa_df_month)\n"
   ],
   "metadata": {
    "collapsed": false,
    "pycharm": {
     "name": "#%%\n"
    }
   }
  },
  {
   "cell_type": "markdown",
   "source": [],
   "metadata": {
    "collapsed": false
   }
  },
  {
   "cell_type": "code",
   "execution_count": 30,
   "outputs": [
    {
     "data": {
      "text/plain": "<Figure size 432x288 with 1 Axes>",
      "image/png": "[encoded data removed]"
     },
     "metadata": {
      "needs_background": "light"
     },
     "output_type": "display_data"
    },
    {
     "data": {
      "text/plain": "<Figure size 432x288 with 1 Axes>",
      "image/png": "[encoded data removed]"
     },
     "metadata": {
      "needs_background": "light"
     },
     "output_type": "display_data"
    }
   ],
   "source": [
    "wa_df_month.plot(x='Valid Month', y={'PHEV Number', 'BEV Number'}, kind='line')\n",
    "import matplotlib.pyplot as plt\n",
    "wa_df_month[wa_df_month['Valid Month'].str.startswith('202')].plot(x='Valid Month', y={'PHEV Number', 'BEV Number'}, kind='line')\n",
    "plt.show()"
   ],
   "metadata": {
    "collapsed": false,
    "pycharm": {
     "name": "#%%\n"
    }
   }
  },
  {
   "cell_type": "code",
   "execution_count": null,
   "outputs": [],
   "source": [],
   "metadata": {
    "collapsed": false,
    "pycharm": {
     "name": "#%%\n"
    }
   }
  }
 ],
 "metadata": {
  "kernelspec": {
   "display_name": "Python 3",
   "language": "python",
   "name": "python3"
  },
  "language_info": {
   "codemirror_mode": {
    "name": "ipython",
    "version": 2
   },
   "file_extension": ".py",
   "mimetype": "text/x-python",
   "name": "python",
   "nbconvert_exporter": "python",
   "pygments_lexer": "ipython2",
   "version": "2.7.6"
  }
 },
 "nbformat": 4,
 "nbformat_minor": 0
}